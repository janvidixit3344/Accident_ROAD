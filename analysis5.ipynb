{
 "cells": [
  {
   "cell_type": "code",
   "execution_count": 1,
   "metadata": {},
   "outputs": [],
   "source": [
    "import pandas as pd\n",
    "import numpy as np\n",
    "import seaborn as sns\n",
    "import plotly.express as px\n",
    "import plotly.graph_objects as go\n",
    "import matplotlib.pyplot as plt"
   ]
  },
  {
   "cell_type": "code",
   "execution_count": 2,
   "metadata": {},
   "outputs": [
    {
     "data": {
      "text/html": [
       "<div>\n",
       "<style scoped>\n",
       "    .dataframe tbody tr th:only-of-type {\n",
       "        vertical-align: middle;\n",
       "    }\n",
       "\n",
       "    .dataframe tbody tr th {\n",
       "        vertical-align: top;\n",
       "    }\n",
       "\n",
       "    .dataframe thead th {\n",
       "        text-align: right;\n",
       "    }\n",
       "</style>\n",
       "<table border=\"1\" class=\"dataframe\">\n",
       "  <thead>\n",
       "    <tr style=\"text-align: right;\">\n",
       "      <th></th>\n",
       "      <th>STATE/UT</th>\n",
       "      <th>YEAR</th>\n",
       "      <th>0-3 hrs. (Night)</th>\n",
       "      <th>3-6 hrs. (Night)</th>\n",
       "      <th>6-9 hrs (Day)</th>\n",
       "      <th>9-12 hrs (Day)</th>\n",
       "      <th>12-15 hrs (Day)</th>\n",
       "      <th>15-18 hrs (Day)</th>\n",
       "      <th>18-21 hrs (Night)</th>\n",
       "      <th>21-24 hrs (Night)</th>\n",
       "      <th>Total</th>\n",
       "    </tr>\n",
       "  </thead>\n",
       "  <tbody>\n",
       "    <tr>\n",
       "      <th>0</th>\n",
       "      <td>A &amp; N Islands</td>\n",
       "      <td>2001</td>\n",
       "      <td>2</td>\n",
       "      <td>6</td>\n",
       "      <td>29</td>\n",
       "      <td>40</td>\n",
       "      <td>39</td>\n",
       "      <td>40</td>\n",
       "      <td>18</td>\n",
       "      <td>7</td>\n",
       "      <td>181</td>\n",
       "    </tr>\n",
       "    <tr>\n",
       "      <th>1</th>\n",
       "      <td>A &amp; N Islands</td>\n",
       "      <td>2002</td>\n",
       "      <td>2</td>\n",
       "      <td>6</td>\n",
       "      <td>22</td>\n",
       "      <td>41</td>\n",
       "      <td>33</td>\n",
       "      <td>33</td>\n",
       "      <td>23</td>\n",
       "      <td>8</td>\n",
       "      <td>168</td>\n",
       "    </tr>\n",
       "    <tr>\n",
       "      <th>2</th>\n",
       "      <td>A &amp; N Islands</td>\n",
       "      <td>2003</td>\n",
       "      <td>2</td>\n",
       "      <td>8</td>\n",
       "      <td>31</td>\n",
       "      <td>35</td>\n",
       "      <td>28</td>\n",
       "      <td>36</td>\n",
       "      <td>25</td>\n",
       "      <td>15</td>\n",
       "      <td>180</td>\n",
       "    </tr>\n",
       "    <tr>\n",
       "      <th>3</th>\n",
       "      <td>A &amp; N Islands</td>\n",
       "      <td>2004</td>\n",
       "      <td>2</td>\n",
       "      <td>5</td>\n",
       "      <td>29</td>\n",
       "      <td>42</td>\n",
       "      <td>43</td>\n",
       "      <td>43</td>\n",
       "      <td>37</td>\n",
       "      <td>14</td>\n",
       "      <td>215</td>\n",
       "    </tr>\n",
       "    <tr>\n",
       "      <th>4</th>\n",
       "      <td>A &amp; N Islands</td>\n",
       "      <td>2005</td>\n",
       "      <td>0</td>\n",
       "      <td>8</td>\n",
       "      <td>27</td>\n",
       "      <td>28</td>\n",
       "      <td>38</td>\n",
       "      <td>42</td>\n",
       "      <td>50</td>\n",
       "      <td>13</td>\n",
       "      <td>206</td>\n",
       "    </tr>\n",
       "    <tr>\n",
       "      <th>...</th>\n",
       "      <td>...</td>\n",
       "      <td>...</td>\n",
       "      <td>...</td>\n",
       "      <td>...</td>\n",
       "      <td>...</td>\n",
       "      <td>...</td>\n",
       "      <td>...</td>\n",
       "      <td>...</td>\n",
       "      <td>...</td>\n",
       "      <td>...</td>\n",
       "      <td>...</td>\n",
       "    </tr>\n",
       "    <tr>\n",
       "      <th>485</th>\n",
       "      <td>West Bengal</td>\n",
       "      <td>2010</td>\n",
       "      <td>1241</td>\n",
       "      <td>1397</td>\n",
       "      <td>1721</td>\n",
       "      <td>2508</td>\n",
       "      <td>2272</td>\n",
       "      <td>2296</td>\n",
       "      <td>1831</td>\n",
       "      <td>1459</td>\n",
       "      <td>14725</td>\n",
       "    </tr>\n",
       "    <tr>\n",
       "      <th>486</th>\n",
       "      <td>West Bengal</td>\n",
       "      <td>2011</td>\n",
       "      <td>1200</td>\n",
       "      <td>1493</td>\n",
       "      <td>1687</td>\n",
       "      <td>2553</td>\n",
       "      <td>2182</td>\n",
       "      <td>2196</td>\n",
       "      <td>1812</td>\n",
       "      <td>1345</td>\n",
       "      <td>14468</td>\n",
       "    </tr>\n",
       "    <tr>\n",
       "      <th>487</th>\n",
       "      <td>West Bengal</td>\n",
       "      <td>2012</td>\n",
       "      <td>1346</td>\n",
       "      <td>1511</td>\n",
       "      <td>1837</td>\n",
       "      <td>2831</td>\n",
       "      <td>2328</td>\n",
       "      <td>2268</td>\n",
       "      <td>1966</td>\n",
       "      <td>1521</td>\n",
       "      <td>15608</td>\n",
       "    </tr>\n",
       "    <tr>\n",
       "      <th>488</th>\n",
       "      <td>West Bengal</td>\n",
       "      <td>2013</td>\n",
       "      <td>1442</td>\n",
       "      <td>1911</td>\n",
       "      <td>2136</td>\n",
       "      <td>2900</td>\n",
       "      <td>2246</td>\n",
       "      <td>2366</td>\n",
       "      <td>2137</td>\n",
       "      <td>1411</td>\n",
       "      <td>16549</td>\n",
       "    </tr>\n",
       "    <tr>\n",
       "      <th>489</th>\n",
       "      <td>West Bengal</td>\n",
       "      <td>2014</td>\n",
       "      <td>1455</td>\n",
       "      <td>1634</td>\n",
       "      <td>2022</td>\n",
       "      <td>2998</td>\n",
       "      <td>2570</td>\n",
       "      <td>2458</td>\n",
       "      <td>2132</td>\n",
       "      <td>1836</td>\n",
       "      <td>17105</td>\n",
       "    </tr>\n",
       "  </tbody>\n",
       "</table>\n",
       "<p>490 rows × 11 columns</p>\n",
       "</div>"
      ],
      "text/plain": [
       "          STATE/UT  YEAR  0-3 hrs. (Night)  3-6 hrs. (Night)  6-9 hrs (Day)  \\\n",
       "0    A & N Islands  2001                 2                 6             29   \n",
       "1    A & N Islands  2002                 2                 6             22   \n",
       "2    A & N Islands  2003                 2                 8             31   \n",
       "3    A & N Islands  2004                 2                 5             29   \n",
       "4    A & N Islands  2005                 0                 8             27   \n",
       "..             ...   ...               ...               ...            ...   \n",
       "485    West Bengal  2010              1241              1397           1721   \n",
       "486    West Bengal  2011              1200              1493           1687   \n",
       "487    West Bengal  2012              1346              1511           1837   \n",
       "488    West Bengal  2013              1442              1911           2136   \n",
       "489    West Bengal  2014              1455              1634           2022   \n",
       "\n",
       "     9-12 hrs (Day)  12-15 hrs (Day)  15-18 hrs (Day)  18-21 hrs (Night)  \\\n",
       "0                40               39               40                 18   \n",
       "1                41               33               33                 23   \n",
       "2                35               28               36                 25   \n",
       "3                42               43               43                 37   \n",
       "4                28               38               42                 50   \n",
       "..              ...              ...              ...                ...   \n",
       "485            2508             2272             2296               1831   \n",
       "486            2553             2182             2196               1812   \n",
       "487            2831             2328             2268               1966   \n",
       "488            2900             2246             2366               2137   \n",
       "489            2998             2570             2458               2132   \n",
       "\n",
       "     21-24 hrs (Night)  Total  \n",
       "0                    7    181  \n",
       "1                    8    168  \n",
       "2                   15    180  \n",
       "3                   14    215  \n",
       "4                   13    206  \n",
       "..                 ...    ...  \n",
       "485               1459  14725  \n",
       "486               1345  14468  \n",
       "487               1521  15608  \n",
       "488               1411  16549  \n",
       "489               1836  17105  \n",
       "\n",
       "[490 rows x 11 columns]"
      ]
     },
     "execution_count": 2,
     "metadata": {},
     "output_type": "execute_result"
    }
   ],
   "source": [
    "time_wise = pd.read_csv('Dataset/only_road_accidents_data3.csv')\n",
    "time_wise"
   ]
  },
  {
   "cell_type": "code",
   "execution_count": 3,
   "metadata": {},
   "outputs": [
    {
     "data": {
      "text/plain": [
       "STATE/UT             0\n",
       "YEAR                 0\n",
       "0-3 hrs. (Night)     0\n",
       "3-6 hrs. (Night)     0\n",
       "6-9 hrs (Day)        0\n",
       "9-12 hrs (Day)       0\n",
       "12-15 hrs (Day)      0\n",
       "15-18 hrs (Day)      0\n",
       "18-21 hrs (Night)    0\n",
       "21-24 hrs (Night)    0\n",
       "Total                0\n",
       "dtype: int64"
      ]
     },
     "execution_count": 3,
     "metadata": {},
     "output_type": "execute_result"
    }
   ],
   "source": [
    "time_wise.isnull().sum()"
   ]
  },
  {
   "cell_type": "code",
   "execution_count": 4,
   "metadata": {},
   "outputs": [
    {
     "data": {
      "text/plain": [
       "['STATE/UT',\n",
       " 'YEAR',\n",
       " '0-3 hrs. (Night)',\n",
       " '3-6 hrs. (Night)',\n",
       " '6-9 hrs (Day)',\n",
       " '9-12 hrs (Day)',\n",
       " '12-15 hrs (Day)',\n",
       " '15-18 hrs (Day)',\n",
       " '18-21 hrs (Night)',\n",
       " '21-24 hrs (Night)',\n",
       " 'Total']"
      ]
     },
     "execution_count": 4,
     "metadata": {},
     "output_type": "execute_result"
    }
   ],
   "source": [
    "time_wise.columns.tolist()"
   ]
  },
  {
   "cell_type": "code",
   "execution_count": 5,
   "metadata": {},
   "outputs": [],
   "source": [
    "time_wise.rename(columns={\n",
    "    '0-3 hrs. (Night)':'MIDNIGHT',\n",
    "    '3-6 hrs. (Night)':'DAWN',\n",
    "    '6-9 hrs (Day)':'MORNING',\n",
    "    '9-12 hrs (Day)':'MIDDAY',\n",
    "    '12-15 hrs (Day)':'AFTERNOON',\n",
    "    '15-18 hrs (Day)':'DUSK',\n",
    "    '18-21 hrs (Night)':'EVENING',\n",
    "    '21-24 hrs (Night)':'NIGHT'}, inplace=True)"
   ]
  },
  {
   "cell_type": "code",
   "execution_count": 13,
   "metadata": {},
   "outputs": [
    {
     "data": {
      "text/html": [
       "<div>\n",
       "<style scoped>\n",
       "    .dataframe tbody tr th:only-of-type {\n",
       "        vertical-align: middle;\n",
       "    }\n",
       "\n",
       "    .dataframe tbody tr th {\n",
       "        vertical-align: top;\n",
       "    }\n",
       "\n",
       "    .dataframe thead th {\n",
       "        text-align: right;\n",
       "    }\n",
       "</style>\n",
       "<table border=\"1\" class=\"dataframe\">\n",
       "  <thead>\n",
       "    <tr style=\"text-align: right;\">\n",
       "      <th></th>\n",
       "      <th>MIDNIGHT</th>\n",
       "      <th>DAWN</th>\n",
       "      <th>MORNING</th>\n",
       "      <th>MIDDAY</th>\n",
       "      <th>AFTERNOON</th>\n",
       "      <th>DUSK</th>\n",
       "      <th>EVENING</th>\n",
       "      <th>NIGHT</th>\n",
       "      <th>Total</th>\n",
       "    </tr>\n",
       "    <tr>\n",
       "      <th>STATE/UT</th>\n",
       "      <th></th>\n",
       "      <th></th>\n",
       "      <th></th>\n",
       "      <th></th>\n",
       "      <th></th>\n",
       "      <th></th>\n",
       "      <th></th>\n",
       "      <th></th>\n",
       "      <th></th>\n",
       "    </tr>\n",
       "  </thead>\n",
       "  <tbody>\n",
       "    <tr>\n",
       "      <th>A &amp; N Islands</th>\n",
       "      <td>32</td>\n",
       "      <td>82</td>\n",
       "      <td>388</td>\n",
       "      <td>474</td>\n",
       "      <td>607</td>\n",
       "      <td>557</td>\n",
       "      <td>552</td>\n",
       "      <td>201</td>\n",
       "      <td>2893</td>\n",
       "    </tr>\n",
       "    <tr>\n",
       "      <th>Andhra Pradesh</th>\n",
       "      <td>48306</td>\n",
       "      <td>65353</td>\n",
       "      <td>61966</td>\n",
       "      <td>71212</td>\n",
       "      <td>68608</td>\n",
       "      <td>77174</td>\n",
       "      <td>85622</td>\n",
       "      <td>68580</td>\n",
       "      <td>546821</td>\n",
       "    </tr>\n",
       "    <tr>\n",
       "      <th>Arunachal Pradesh</th>\n",
       "      <td>149</td>\n",
       "      <td>226</td>\n",
       "      <td>369</td>\n",
       "      <td>619</td>\n",
       "      <td>606</td>\n",
       "      <td>695</td>\n",
       "      <td>502</td>\n",
       "      <td>223</td>\n",
       "      <td>3389</td>\n",
       "    </tr>\n",
       "    <tr>\n",
       "      <th>Assam</th>\n",
       "      <td>2516</td>\n",
       "      <td>3280</td>\n",
       "      <td>9540</td>\n",
       "      <td>13330</td>\n",
       "      <td>11112</td>\n",
       "      <td>11293</td>\n",
       "      <td>6915</td>\n",
       "      <td>3732</td>\n",
       "      <td>61718</td>\n",
       "    </tr>\n",
       "    <tr>\n",
       "      <th>Bihar</th>\n",
       "      <td>6605</td>\n",
       "      <td>10708</td>\n",
       "      <td>13578</td>\n",
       "      <td>14666</td>\n",
       "      <td>13785</td>\n",
       "      <td>13996</td>\n",
       "      <td>11598</td>\n",
       "      <td>7712</td>\n",
       "      <td>92648</td>\n",
       "    </tr>\n",
       "    <tr>\n",
       "      <th>Chandigarh</th>\n",
       "      <td>373</td>\n",
       "      <td>253</td>\n",
       "      <td>515</td>\n",
       "      <td>826</td>\n",
       "      <td>949</td>\n",
       "      <td>994</td>\n",
       "      <td>1368</td>\n",
       "      <td>1133</td>\n",
       "      <td>6411</td>\n",
       "    </tr>\n",
       "    <tr>\n",
       "      <th>Chhattisgarh</th>\n",
       "      <td>8334</td>\n",
       "      <td>11132</td>\n",
       "      <td>15185</td>\n",
       "      <td>19033</td>\n",
       "      <td>17715</td>\n",
       "      <td>17481</td>\n",
       "      <td>16611</td>\n",
       "      <td>12326</td>\n",
       "      <td>117817</td>\n",
       "    </tr>\n",
       "    <tr>\n",
       "      <th>D &amp; N Haveli</th>\n",
       "      <td>48</td>\n",
       "      <td>30</td>\n",
       "      <td>122</td>\n",
       "      <td>163</td>\n",
       "      <td>185</td>\n",
       "      <td>245</td>\n",
       "      <td>331</td>\n",
       "      <td>179</td>\n",
       "      <td>1303</td>\n",
       "    </tr>\n",
       "    <tr>\n",
       "      <th>Daman &amp; Diu</th>\n",
       "      <td>45</td>\n",
       "      <td>12</td>\n",
       "      <td>41</td>\n",
       "      <td>75</td>\n",
       "      <td>106</td>\n",
       "      <td>126</td>\n",
       "      <td>136</td>\n",
       "      <td>102</td>\n",
       "      <td>643</td>\n",
       "    </tr>\n",
       "    <tr>\n",
       "      <th>Delhi (Ut)</th>\n",
       "      <td>11204</td>\n",
       "      <td>8941</td>\n",
       "      <td>12333</td>\n",
       "      <td>14817</td>\n",
       "      <td>15213</td>\n",
       "      <td>16626</td>\n",
       "      <td>20113</td>\n",
       "      <td>20027</td>\n",
       "      <td>119274</td>\n",
       "    </tr>\n",
       "    <tr>\n",
       "      <th>Goa</th>\n",
       "      <td>2205</td>\n",
       "      <td>1557</td>\n",
       "      <td>4287</td>\n",
       "      <td>7098</td>\n",
       "      <td>8081</td>\n",
       "      <td>8682</td>\n",
       "      <td>8194</td>\n",
       "      <td>4827</td>\n",
       "      <td>44931</td>\n",
       "    </tr>\n",
       "    <tr>\n",
       "      <th>Gujarat</th>\n",
       "      <td>19813</td>\n",
       "      <td>23295</td>\n",
       "      <td>35494</td>\n",
       "      <td>47351</td>\n",
       "      <td>45031</td>\n",
       "      <td>47784</td>\n",
       "      <td>48554</td>\n",
       "      <td>33003</td>\n",
       "      <td>300325</td>\n",
       "    </tr>\n",
       "    <tr>\n",
       "      <th>Haryana</th>\n",
       "      <td>10959</td>\n",
       "      <td>13633</td>\n",
       "      <td>17454</td>\n",
       "      <td>17613</td>\n",
       "      <td>16939</td>\n",
       "      <td>19115</td>\n",
       "      <td>21177</td>\n",
       "      <td>15031</td>\n",
       "      <td>131921</td>\n",
       "    </tr>\n",
       "    <tr>\n",
       "      <th>Himachal Pradesh</th>\n",
       "      <td>1637</td>\n",
       "      <td>1856</td>\n",
       "      <td>4341</td>\n",
       "      <td>5681</td>\n",
       "      <td>5581</td>\n",
       "      <td>6883</td>\n",
       "      <td>6781</td>\n",
       "      <td>4345</td>\n",
       "      <td>37105</td>\n",
       "    </tr>\n",
       "    <tr>\n",
       "      <th>Jammu &amp; Kashmir</th>\n",
       "      <td>3832</td>\n",
       "      <td>4604</td>\n",
       "      <td>9520</td>\n",
       "      <td>16616</td>\n",
       "      <td>17242</td>\n",
       "      <td>15358</td>\n",
       "      <td>9918</td>\n",
       "      <td>5730</td>\n",
       "      <td>82820</td>\n",
       "    </tr>\n",
       "    <tr>\n",
       "      <th>Jharkhand</th>\n",
       "      <td>3390</td>\n",
       "      <td>4761</td>\n",
       "      <td>6841</td>\n",
       "      <td>7142</td>\n",
       "      <td>6684</td>\n",
       "      <td>7135</td>\n",
       "      <td>5831</td>\n",
       "      <td>4425</td>\n",
       "      <td>46209</td>\n",
       "    </tr>\n",
       "    <tr>\n",
       "      <th>Karnataka</th>\n",
       "      <td>42498</td>\n",
       "      <td>49225</td>\n",
       "      <td>64457</td>\n",
       "      <td>88770</td>\n",
       "      <td>87973</td>\n",
       "      <td>93126</td>\n",
       "      <td>92944</td>\n",
       "      <td>65768</td>\n",
       "      <td>584761</td>\n",
       "    </tr>\n",
       "    <tr>\n",
       "      <th>Kerala</th>\n",
       "      <td>12956</td>\n",
       "      <td>20892</td>\n",
       "      <td>63176</td>\n",
       "      <td>95290</td>\n",
       "      <td>84094</td>\n",
       "      <td>111419</td>\n",
       "      <td>92446</td>\n",
       "      <td>37888</td>\n",
       "      <td>518161</td>\n",
       "    </tr>\n",
       "    <tr>\n",
       "      <th>Lakshadweep</th>\n",
       "      <td>1</td>\n",
       "      <td>0</td>\n",
       "      <td>0</td>\n",
       "      <td>2</td>\n",
       "      <td>3</td>\n",
       "      <td>1</td>\n",
       "      <td>4</td>\n",
       "      <td>3</td>\n",
       "      <td>14</td>\n",
       "    </tr>\n",
       "    <tr>\n",
       "      <th>Madhya Pradesh</th>\n",
       "      <td>25194</td>\n",
       "      <td>28865</td>\n",
       "      <td>50441</td>\n",
       "      <td>67241</td>\n",
       "      <td>64483</td>\n",
       "      <td>62939</td>\n",
       "      <td>57213</td>\n",
       "      <td>37631</td>\n",
       "      <td>394007</td>\n",
       "    </tr>\n",
       "    <tr>\n",
       "      <th>Maharashtra</th>\n",
       "      <td>57154</td>\n",
       "      <td>59474</td>\n",
       "      <td>72104</td>\n",
       "      <td>89139</td>\n",
       "      <td>90801</td>\n",
       "      <td>94425</td>\n",
       "      <td>97710</td>\n",
       "      <td>80807</td>\n",
       "      <td>641614</td>\n",
       "    </tr>\n",
       "    <tr>\n",
       "      <th>Manipur</th>\n",
       "      <td>173</td>\n",
       "      <td>360</td>\n",
       "      <td>1083</td>\n",
       "      <td>1793</td>\n",
       "      <td>1683</td>\n",
       "      <td>1647</td>\n",
       "      <td>1048</td>\n",
       "      <td>343</td>\n",
       "      <td>8130</td>\n",
       "    </tr>\n",
       "    <tr>\n",
       "      <th>Meghalaya</th>\n",
       "      <td>228</td>\n",
       "      <td>308</td>\n",
       "      <td>468</td>\n",
       "      <td>586</td>\n",
       "      <td>604</td>\n",
       "      <td>629</td>\n",
       "      <td>562</td>\n",
       "      <td>478</td>\n",
       "      <td>3863</td>\n",
       "    </tr>\n",
       "    <tr>\n",
       "      <th>Mizoram</th>\n",
       "      <td>74</td>\n",
       "      <td>93</td>\n",
       "      <td>129</td>\n",
       "      <td>152</td>\n",
       "      <td>154</td>\n",
       "      <td>197</td>\n",
       "      <td>182</td>\n",
       "      <td>135</td>\n",
       "      <td>1116</td>\n",
       "    </tr>\n",
       "    <tr>\n",
       "      <th>Nagaland</th>\n",
       "      <td>26</td>\n",
       "      <td>30</td>\n",
       "      <td>89</td>\n",
       "      <td>127</td>\n",
       "      <td>153</td>\n",
       "      <td>158</td>\n",
       "      <td>127</td>\n",
       "      <td>71</td>\n",
       "      <td>781</td>\n",
       "    </tr>\n",
       "    <tr>\n",
       "      <th>Odisha</th>\n",
       "      <td>8689</td>\n",
       "      <td>12835</td>\n",
       "      <td>14693</td>\n",
       "      <td>18185</td>\n",
       "      <td>14582</td>\n",
       "      <td>17802</td>\n",
       "      <td>16601</td>\n",
       "      <td>11850</td>\n",
       "      <td>115237</td>\n",
       "    </tr>\n",
       "    <tr>\n",
       "      <th>Puducherry</th>\n",
       "      <td>556</td>\n",
       "      <td>736</td>\n",
       "      <td>2532</td>\n",
       "      <td>3617</td>\n",
       "      <td>3426</td>\n",
       "      <td>3834</td>\n",
       "      <td>4280</td>\n",
       "      <td>2208</td>\n",
       "      <td>21189</td>\n",
       "    </tr>\n",
       "    <tr>\n",
       "      <th>Punjab</th>\n",
       "      <td>3326</td>\n",
       "      <td>4360</td>\n",
       "      <td>5942</td>\n",
       "      <td>6599</td>\n",
       "      <td>5898</td>\n",
       "      <td>6884</td>\n",
       "      <td>8623</td>\n",
       "      <td>5172</td>\n",
       "      <td>46804</td>\n",
       "    </tr>\n",
       "    <tr>\n",
       "      <th>Rajasthan</th>\n",
       "      <td>18256</td>\n",
       "      <td>25389</td>\n",
       "      <td>40398</td>\n",
       "      <td>50075</td>\n",
       "      <td>50304</td>\n",
       "      <td>55704</td>\n",
       "      <td>52455</td>\n",
       "      <td>31072</td>\n",
       "      <td>323653</td>\n",
       "    </tr>\n",
       "    <tr>\n",
       "      <th>Sikkim</th>\n",
       "      <td>94</td>\n",
       "      <td>165</td>\n",
       "      <td>439</td>\n",
       "      <td>380</td>\n",
       "      <td>530</td>\n",
       "      <td>458</td>\n",
       "      <td>393</td>\n",
       "      <td>187</td>\n",
       "      <td>2646</td>\n",
       "    </tr>\n",
       "    <tr>\n",
       "      <th>Tamil Nadu</th>\n",
       "      <td>59955</td>\n",
       "      <td>68713</td>\n",
       "      <td>100887</td>\n",
       "      <td>122724</td>\n",
       "      <td>122016</td>\n",
       "      <td>141600</td>\n",
       "      <td>137306</td>\n",
       "      <td>98872</td>\n",
       "      <td>852073</td>\n",
       "    </tr>\n",
       "    <tr>\n",
       "      <th>Tripura</th>\n",
       "      <td>119</td>\n",
       "      <td>191</td>\n",
       "      <td>1433</td>\n",
       "      <td>2594</td>\n",
       "      <td>2110</td>\n",
       "      <td>2167</td>\n",
       "      <td>1357</td>\n",
       "      <td>563</td>\n",
       "      <td>10534</td>\n",
       "    </tr>\n",
       "    <tr>\n",
       "      <th>Uttar Pradesh</th>\n",
       "      <td>25390</td>\n",
       "      <td>32858</td>\n",
       "      <td>35622</td>\n",
       "      <td>40033</td>\n",
       "      <td>35298</td>\n",
       "      <td>37916</td>\n",
       "      <td>38768</td>\n",
       "      <td>28643</td>\n",
       "      <td>274528</td>\n",
       "    </tr>\n",
       "    <tr>\n",
       "      <th>Uttarakhand</th>\n",
       "      <td>682</td>\n",
       "      <td>968</td>\n",
       "      <td>2347</td>\n",
       "      <td>3208</td>\n",
       "      <td>3268</td>\n",
       "      <td>3418</td>\n",
       "      <td>2740</td>\n",
       "      <td>1561</td>\n",
       "      <td>18192</td>\n",
       "    </tr>\n",
       "    <tr>\n",
       "      <th>West Bengal</th>\n",
       "      <td>15378</td>\n",
       "      <td>19741</td>\n",
       "      <td>23650</td>\n",
       "      <td>32213</td>\n",
       "      <td>28265</td>\n",
       "      <td>28171</td>\n",
       "      <td>24668</td>\n",
       "      <td>17289</td>\n",
       "      <td>189375</td>\n",
       "    </tr>\n",
       "  </tbody>\n",
       "</table>\n",
       "</div>"
      ],
      "text/plain": [
       "                   MIDNIGHT   DAWN  MORNING  MIDDAY  AFTERNOON    DUSK  \\\n",
       "STATE/UT                                                                 \n",
       "A & N Islands            32     82      388     474        607     557   \n",
       "Andhra Pradesh        48306  65353    61966   71212      68608   77174   \n",
       "Arunachal Pradesh       149    226      369     619        606     695   \n",
       "Assam                  2516   3280     9540   13330      11112   11293   \n",
       "Bihar                  6605  10708    13578   14666      13785   13996   \n",
       "Chandigarh              373    253      515     826        949     994   \n",
       "Chhattisgarh           8334  11132    15185   19033      17715   17481   \n",
       "D & N Haveli             48     30      122     163        185     245   \n",
       "Daman & Diu              45     12       41      75        106     126   \n",
       "Delhi (Ut)            11204   8941    12333   14817      15213   16626   \n",
       "Goa                    2205   1557     4287    7098       8081    8682   \n",
       "Gujarat               19813  23295    35494   47351      45031   47784   \n",
       "Haryana               10959  13633    17454   17613      16939   19115   \n",
       "Himachal Pradesh       1637   1856     4341    5681       5581    6883   \n",
       "Jammu & Kashmir        3832   4604     9520   16616      17242   15358   \n",
       "Jharkhand              3390   4761     6841    7142       6684    7135   \n",
       "Karnataka             42498  49225    64457   88770      87973   93126   \n",
       "Kerala                12956  20892    63176   95290      84094  111419   \n",
       "Lakshadweep               1      0        0       2          3       1   \n",
       "Madhya Pradesh        25194  28865    50441   67241      64483   62939   \n",
       "Maharashtra           57154  59474    72104   89139      90801   94425   \n",
       "Manipur                 173    360     1083    1793       1683    1647   \n",
       "Meghalaya               228    308      468     586        604     629   \n",
       "Mizoram                  74     93      129     152        154     197   \n",
       "Nagaland                 26     30       89     127        153     158   \n",
       "Odisha                 8689  12835    14693   18185      14582   17802   \n",
       "Puducherry              556    736     2532    3617       3426    3834   \n",
       "Punjab                 3326   4360     5942    6599       5898    6884   \n",
       "Rajasthan             18256  25389    40398   50075      50304   55704   \n",
       "Sikkim                   94    165      439     380        530     458   \n",
       "Tamil Nadu            59955  68713   100887  122724     122016  141600   \n",
       "Tripura                 119    191     1433    2594       2110    2167   \n",
       "Uttar Pradesh         25390  32858    35622   40033      35298   37916   \n",
       "Uttarakhand             682    968     2347    3208       3268    3418   \n",
       "West Bengal           15378  19741    23650   32213      28265   28171   \n",
       "\n",
       "                   EVENING  NIGHT   Total  \n",
       "STATE/UT                                   \n",
       "A & N Islands          552    201    2893  \n",
       "Andhra Pradesh       85622  68580  546821  \n",
       "Arunachal Pradesh      502    223    3389  \n",
       "Assam                 6915   3732   61718  \n",
       "Bihar                11598   7712   92648  \n",
       "Chandigarh            1368   1133    6411  \n",
       "Chhattisgarh         16611  12326  117817  \n",
       "D & N Haveli           331    179    1303  \n",
       "Daman & Diu            136    102     643  \n",
       "Delhi (Ut)           20113  20027  119274  \n",
       "Goa                   8194   4827   44931  \n",
       "Gujarat              48554  33003  300325  \n",
       "Haryana              21177  15031  131921  \n",
       "Himachal Pradesh      6781   4345   37105  \n",
       "Jammu & Kashmir       9918   5730   82820  \n",
       "Jharkhand             5831   4425   46209  \n",
       "Karnataka            92944  65768  584761  \n",
       "Kerala               92446  37888  518161  \n",
       "Lakshadweep              4      3      14  \n",
       "Madhya Pradesh       57213  37631  394007  \n",
       "Maharashtra          97710  80807  641614  \n",
       "Manipur               1048    343    8130  \n",
       "Meghalaya              562    478    3863  \n",
       "Mizoram                182    135    1116  \n",
       "Nagaland               127     71     781  \n",
       "Odisha               16601  11850  115237  \n",
       "Puducherry            4280   2208   21189  \n",
       "Punjab                8623   5172   46804  \n",
       "Rajasthan            52455  31072  323653  \n",
       "Sikkim                 393    187    2646  \n",
       "Tamil Nadu          137306  98872  852073  \n",
       "Tripura               1357    563   10534  \n",
       "Uttar Pradesh        38768  28643  274528  \n",
       "Uttarakhand           2740   1561   18192  \n",
       "West Bengal          24668  17289  189375  "
      ]
     },
     "execution_count": 13,
     "metadata": {},
     "output_type": "execute_result"
    }
   ],
   "source": [
    "grouped_obj = time_wise.groupby([\"STATE/UT\"]).sum()\n",
    "grouped_obj.drop(['YEAR'], axis=1, inplace=True)\n",
    "grouped_obj"
   ]
  },
  {
   "cell_type": "code",
   "execution_count": 21,
   "metadata": {},
   "outputs": [
    {
     "data": {
      "application/vnd.plotly.v1+json": {
       "config": {
        "plotlyServerURL": "https://plot.ly"
       },
       "data": [
        {
         "fillpattern": {
          "shape": ""
         },
         "hovertemplate": "variable=MORNING<br>STATE/UT=%{x}<br>value=%{y}<extra></extra>",
         "legendgroup": "MORNING",
         "line": {
          "color": "#636efa"
         },
         "marker": {
          "symbol": "circle"
         },
         "mode": "lines",
         "name": "MORNING",
         "orientation": "v",
         "showlegend": true,
         "stackgroup": "1",
         "type": "scatter",
         "x": [
          "A & N Islands",
          "Andhra Pradesh",
          "Arunachal Pradesh",
          "Assam",
          "Bihar",
          "Chandigarh",
          "Chhattisgarh",
          "D & N Haveli",
          "Daman & Diu",
          "Delhi (Ut)",
          "Goa",
          "Gujarat",
          "Haryana",
          "Himachal Pradesh",
          "Jammu & Kashmir",
          "Jharkhand",
          "Karnataka",
          "Kerala",
          "Lakshadweep",
          "Madhya Pradesh",
          "Maharashtra",
          "Manipur",
          "Meghalaya",
          "Mizoram",
          "Nagaland",
          "Odisha",
          "Puducherry",
          "Punjab",
          "Rajasthan",
          "Sikkim",
          "Tamil Nadu",
          "Tripura",
          "Uttar Pradesh",
          "Uttarakhand",
          "West Bengal"
         ],
         "xaxis": "x",
         "y": [
          388,
          61966,
          369,
          9540,
          13578,
          515,
          15185,
          122,
          41,
          12333,
          4287,
          35494,
          17454,
          4341,
          9520,
          6841,
          64457,
          63176,
          0,
          50441,
          72104,
          1083,
          468,
          129,
          89,
          14693,
          2532,
          5942,
          40398,
          439,
          100887,
          1433,
          35622,
          2347,
          23650
         ],
         "yaxis": "y"
        },
        {
         "fillpattern": {
          "shape": ""
         },
         "hovertemplate": "variable=AFTERNOON<br>STATE/UT=%{x}<br>value=%{y}<extra></extra>",
         "legendgroup": "AFTERNOON",
         "line": {
          "color": "#EF553B"
         },
         "marker": {
          "symbol": "circle"
         },
         "mode": "lines",
         "name": "AFTERNOON",
         "orientation": "v",
         "showlegend": true,
         "stackgroup": "1",
         "type": "scatter",
         "x": [
          "A & N Islands",
          "Andhra Pradesh",
          "Arunachal Pradesh",
          "Assam",
          "Bihar",
          "Chandigarh",
          "Chhattisgarh",
          "D & N Haveli",
          "Daman & Diu",
          "Delhi (Ut)",
          "Goa",
          "Gujarat",
          "Haryana",
          "Himachal Pradesh",
          "Jammu & Kashmir",
          "Jharkhand",
          "Karnataka",
          "Kerala",
          "Lakshadweep",
          "Madhya Pradesh",
          "Maharashtra",
          "Manipur",
          "Meghalaya",
          "Mizoram",
          "Nagaland",
          "Odisha",
          "Puducherry",
          "Punjab",
          "Rajasthan",
          "Sikkim",
          "Tamil Nadu",
          "Tripura",
          "Uttar Pradesh",
          "Uttarakhand",
          "West Bengal"
         ],
         "xaxis": "x",
         "y": [
          607,
          68608,
          606,
          11112,
          13785,
          949,
          17715,
          185,
          106,
          15213,
          8081,
          45031,
          16939,
          5581,
          17242,
          6684,
          87973,
          84094,
          3,
          64483,
          90801,
          1683,
          604,
          154,
          153,
          14582,
          3426,
          5898,
          50304,
          530,
          122016,
          2110,
          35298,
          3268,
          28265
         ],
         "yaxis": "y"
        },
        {
         "fillpattern": {
          "shape": ""
         },
         "hovertemplate": "variable=NIGHT<br>STATE/UT=%{x}<br>value=%{y}<extra></extra>",
         "legendgroup": "NIGHT",
         "line": {
          "color": "#00cc96"
         },
         "marker": {
          "symbol": "circle"
         },
         "mode": "lines",
         "name": "NIGHT",
         "orientation": "v",
         "showlegend": true,
         "stackgroup": "1",
         "type": "scatter",
         "x": [
          "A & N Islands",
          "Andhra Pradesh",
          "Arunachal Pradesh",
          "Assam",
          "Bihar",
          "Chandigarh",
          "Chhattisgarh",
          "D & N Haveli",
          "Daman & Diu",
          "Delhi (Ut)",
          "Goa",
          "Gujarat",
          "Haryana",
          "Himachal Pradesh",
          "Jammu & Kashmir",
          "Jharkhand",
          "Karnataka",
          "Kerala",
          "Lakshadweep",
          "Madhya Pradesh",
          "Maharashtra",
          "Manipur",
          "Meghalaya",
          "Mizoram",
          "Nagaland",
          "Odisha",
          "Puducherry",
          "Punjab",
          "Rajasthan",
          "Sikkim",
          "Tamil Nadu",
          "Tripura",
          "Uttar Pradesh",
          "Uttarakhand",
          "West Bengal"
         ],
         "xaxis": "x",
         "y": [
          201,
          68580,
          223,
          3732,
          7712,
          1133,
          12326,
          179,
          102,
          20027,
          4827,
          33003,
          15031,
          4345,
          5730,
          4425,
          65768,
          37888,
          3,
          37631,
          80807,
          343,
          478,
          135,
          71,
          11850,
          2208,
          5172,
          31072,
          187,
          98872,
          563,
          28643,
          1561,
          17289
         ],
         "yaxis": "y"
        }
       ],
       "layout": {
        "annotations": [
         {
          "font": {
           "size": 12
          },
          "showarrow": false,
          "text": "The graph shows that the accident in the morning is more than the afternoon and night.",
          "x": 0.5,
          "xref": "paper",
          "y": 1,
          "yref": "paper"
         }
        ],
        "legend": {
         "title": {
          "text": "variable"
         },
         "tracegroupgap": 0
        },
        "template": {
         "data": {
          "bar": [
           {
            "error_x": {
             "color": "#2a3f5f"
            },
            "error_y": {
             "color": "#2a3f5f"
            },
            "marker": {
             "line": {
              "color": "#E5ECF6",
              "width": 0.5
             },
             "pattern": {
              "fillmode": "overlay",
              "size": 10,
              "solidity": 0.2
             }
            },
            "type": "bar"
           }
          ],
          "barpolar": [
           {
            "marker": {
             "line": {
              "color": "#E5ECF6",
              "width": 0.5
             },
             "pattern": {
              "fillmode": "overlay",
              "size": 10,
              "solidity": 0.2
             }
            },
            "type": "barpolar"
           }
          ],
          "carpet": [
           {
            "aaxis": {
             "endlinecolor": "#2a3f5f",
             "gridcolor": "white",
             "linecolor": "white",
             "minorgridcolor": "white",
             "startlinecolor": "#2a3f5f"
            },
            "baxis": {
             "endlinecolor": "#2a3f5f",
             "gridcolor": "white",
             "linecolor": "white",
             "minorgridcolor": "white",
             "startlinecolor": "#2a3f5f"
            },
            "type": "carpet"
           }
          ],
          "choropleth": [
           {
            "colorbar": {
             "outlinewidth": 0,
             "ticks": ""
            },
            "type": "choropleth"
           }
          ],
          "contour": [
           {
            "colorbar": {
             "outlinewidth": 0,
             "ticks": ""
            },
            "colorscale": [
             [
              0,
              "#0d0887"
             ],
             [
              0.1111111111111111,
              "#46039f"
             ],
             [
              0.2222222222222222,
              "#7201a8"
             ],
             [
              0.3333333333333333,
              "#9c179e"
             ],
             [
              0.4444444444444444,
              "#bd3786"
             ],
             [
              0.5555555555555556,
              "#d8576b"
             ],
             [
              0.6666666666666666,
              "#ed7953"
             ],
             [
              0.7777777777777778,
              "#fb9f3a"
             ],
             [
              0.8888888888888888,
              "#fdca26"
             ],
             [
              1,
              "#f0f921"
             ]
            ],
            "type": "contour"
           }
          ],
          "contourcarpet": [
           {
            "colorbar": {
             "outlinewidth": 0,
             "ticks": ""
            },
            "type": "contourcarpet"
           }
          ],
          "heatmap": [
           {
            "colorbar": {
             "outlinewidth": 0,
             "ticks": ""
            },
            "colorscale": [
             [
              0,
              "#0d0887"
             ],
             [
              0.1111111111111111,
              "#46039f"
             ],
             [
              0.2222222222222222,
              "#7201a8"
             ],
             [
              0.3333333333333333,
              "#9c179e"
             ],
             [
              0.4444444444444444,
              "#bd3786"
             ],
             [
              0.5555555555555556,
              "#d8576b"
             ],
             [
              0.6666666666666666,
              "#ed7953"
             ],
             [
              0.7777777777777778,
              "#fb9f3a"
             ],
             [
              0.8888888888888888,
              "#fdca26"
             ],
             [
              1,
              "#f0f921"
             ]
            ],
            "type": "heatmap"
           }
          ],
          "heatmapgl": [
           {
            "colorbar": {
             "outlinewidth": 0,
             "ticks": ""
            },
            "colorscale": [
             [
              0,
              "#0d0887"
             ],
             [
              0.1111111111111111,
              "#46039f"
             ],
             [
              0.2222222222222222,
              "#7201a8"
             ],
             [
              0.3333333333333333,
              "#9c179e"
             ],
             [
              0.4444444444444444,
              "#bd3786"
             ],
             [
              0.5555555555555556,
              "#d8576b"
             ],
             [
              0.6666666666666666,
              "#ed7953"
             ],
             [
              0.7777777777777778,
              "#fb9f3a"
             ],
             [
              0.8888888888888888,
              "#fdca26"
             ],
             [
              1,
              "#f0f921"
             ]
            ],
            "type": "heatmapgl"
           }
          ],
          "histogram": [
           {
            "marker": {
             "pattern": {
              "fillmode": "overlay",
              "size": 10,
              "solidity": 0.2
             }
            },
            "type": "histogram"
           }
          ],
          "histogram2d": [
           {
            "colorbar": {
             "outlinewidth": 0,
             "ticks": ""
            },
            "colorscale": [
             [
              0,
              "#0d0887"
             ],
             [
              0.1111111111111111,
              "#46039f"
             ],
             [
              0.2222222222222222,
              "#7201a8"
             ],
             [
              0.3333333333333333,
              "#9c179e"
             ],
             [
              0.4444444444444444,
              "#bd3786"
             ],
             [
              0.5555555555555556,
              "#d8576b"
             ],
             [
              0.6666666666666666,
              "#ed7953"
             ],
             [
              0.7777777777777778,
              "#fb9f3a"
             ],
             [
              0.8888888888888888,
              "#fdca26"
             ],
             [
              1,
              "#f0f921"
             ]
            ],
            "type": "histogram2d"
           }
          ],
          "histogram2dcontour": [
           {
            "colorbar": {
             "outlinewidth": 0,
             "ticks": ""
            },
            "colorscale": [
             [
              0,
              "#0d0887"
             ],
             [
              0.1111111111111111,
              "#46039f"
             ],
             [
              0.2222222222222222,
              "#7201a8"
             ],
             [
              0.3333333333333333,
              "#9c179e"
             ],
             [
              0.4444444444444444,
              "#bd3786"
             ],
             [
              0.5555555555555556,
              "#d8576b"
             ],
             [
              0.6666666666666666,
              "#ed7953"
             ],
             [
              0.7777777777777778,
              "#fb9f3a"
             ],
             [
              0.8888888888888888,
              "#fdca26"
             ],
             [
              1,
              "#f0f921"
             ]
            ],
            "type": "histogram2dcontour"
           }
          ],
          "mesh3d": [
           {
            "colorbar": {
             "outlinewidth": 0,
             "ticks": ""
            },
            "type": "mesh3d"
           }
          ],
          "parcoords": [
           {
            "line": {
             "colorbar": {
              "outlinewidth": 0,
              "ticks": ""
             }
            },
            "type": "parcoords"
           }
          ],
          "pie": [
           {
            "automargin": true,
            "type": "pie"
           }
          ],
          "scatter": [
           {
            "fillpattern": {
             "fillmode": "overlay",
             "size": 10,
             "solidity": 0.2
            },
            "type": "scatter"
           }
          ],
          "scatter3d": [
           {
            "line": {
             "colorbar": {
              "outlinewidth": 0,
              "ticks": ""
             }
            },
            "marker": {
             "colorbar": {
              "outlinewidth": 0,
              "ticks": ""
             }
            },
            "type": "scatter3d"
           }
          ],
          "scattercarpet": [
           {
            "marker": {
             "colorbar": {
              "outlinewidth": 0,
              "ticks": ""
             }
            },
            "type": "scattercarpet"
           }
          ],
          "scattergeo": [
           {
            "marker": {
             "colorbar": {
              "outlinewidth": 0,
              "ticks": ""
             }
            },
            "type": "scattergeo"
           }
          ],
          "scattergl": [
           {
            "marker": {
             "colorbar": {
              "outlinewidth": 0,
              "ticks": ""
             }
            },
            "type": "scattergl"
           }
          ],
          "scattermapbox": [
           {
            "marker": {
             "colorbar": {
              "outlinewidth": 0,
              "ticks": ""
             }
            },
            "type": "scattermapbox"
           }
          ],
          "scatterpolar": [
           {
            "marker": {
             "colorbar": {
              "outlinewidth": 0,
              "ticks": ""
             }
            },
            "type": "scatterpolar"
           }
          ],
          "scatterpolargl": [
           {
            "marker": {
             "colorbar": {
              "outlinewidth": 0,
              "ticks": ""
             }
            },
            "type": "scatterpolargl"
           }
          ],
          "scatterternary": [
           {
            "marker": {
             "colorbar": {
              "outlinewidth": 0,
              "ticks": ""
             }
            },
            "type": "scatterternary"
           }
          ],
          "surface": [
           {
            "colorbar": {
             "outlinewidth": 0,
             "ticks": ""
            },
            "colorscale": [
             [
              0,
              "#0d0887"
             ],
             [
              0.1111111111111111,
              "#46039f"
             ],
             [
              0.2222222222222222,
              "#7201a8"
             ],
             [
              0.3333333333333333,
              "#9c179e"
             ],
             [
              0.4444444444444444,
              "#bd3786"
             ],
             [
              0.5555555555555556,
              "#d8576b"
             ],
             [
              0.6666666666666666,
              "#ed7953"
             ],
             [
              0.7777777777777778,
              "#fb9f3a"
             ],
             [
              0.8888888888888888,
              "#fdca26"
             ],
             [
              1,
              "#f0f921"
             ]
            ],
            "type": "surface"
           }
          ],
          "table": [
           {
            "cells": {
             "fill": {
              "color": "#EBF0F8"
             },
             "line": {
              "color": "white"
             }
            },
            "header": {
             "fill": {
              "color": "#C8D4E3"
             },
             "line": {
              "color": "white"
             }
            },
            "type": "table"
           }
          ]
         },
         "layout": {
          "annotationdefaults": {
           "arrowcolor": "#2a3f5f",
           "arrowhead": 0,
           "arrowwidth": 1
          },
          "autotypenumbers": "strict",
          "coloraxis": {
           "colorbar": {
            "outlinewidth": 0,
            "ticks": ""
           }
          },
          "colorscale": {
           "diverging": [
            [
             0,
             "#8e0152"
            ],
            [
             0.1,
             "#c51b7d"
            ],
            [
             0.2,
             "#de77ae"
            ],
            [
             0.3,
             "#f1b6da"
            ],
            [
             0.4,
             "#fde0ef"
            ],
            [
             0.5,
             "#f7f7f7"
            ],
            [
             0.6,
             "#e6f5d0"
            ],
            [
             0.7,
             "#b8e186"
            ],
            [
             0.8,
             "#7fbc41"
            ],
            [
             0.9,
             "#4d9221"
            ],
            [
             1,
             "#276419"
            ]
           ],
           "sequential": [
            [
             0,
             "#0d0887"
            ],
            [
             0.1111111111111111,
             "#46039f"
            ],
            [
             0.2222222222222222,
             "#7201a8"
            ],
            [
             0.3333333333333333,
             "#9c179e"
            ],
            [
             0.4444444444444444,
             "#bd3786"
            ],
            [
             0.5555555555555556,
             "#d8576b"
            ],
            [
             0.6666666666666666,
             "#ed7953"
            ],
            [
             0.7777777777777778,
             "#fb9f3a"
            ],
            [
             0.8888888888888888,
             "#fdca26"
            ],
            [
             1,
             "#f0f921"
            ]
           ],
           "sequentialminus": [
            [
             0,
             "#0d0887"
            ],
            [
             0.1111111111111111,
             "#46039f"
            ],
            [
             0.2222222222222222,
             "#7201a8"
            ],
            [
             0.3333333333333333,
             "#9c179e"
            ],
            [
             0.4444444444444444,
             "#bd3786"
            ],
            [
             0.5555555555555556,
             "#d8576b"
            ],
            [
             0.6666666666666666,
             "#ed7953"
            ],
            [
             0.7777777777777778,
             "#fb9f3a"
            ],
            [
             0.8888888888888888,
             "#fdca26"
            ],
            [
             1,
             "#f0f921"
            ]
           ]
          },
          "colorway": [
           "#636efa",
           "#EF553B",
           "#00cc96",
           "#ab63fa",
           "#FFA15A",
           "#19d3f3",
           "#FF6692",
           "#B6E880",
           "#FF97FF",
           "#FECB52"
          ],
          "font": {
           "color": "#2a3f5f"
          },
          "geo": {
           "bgcolor": "white",
           "lakecolor": "white",
           "landcolor": "#E5ECF6",
           "showlakes": true,
           "showland": true,
           "subunitcolor": "white"
          },
          "hoverlabel": {
           "align": "left"
          },
          "hovermode": "closest",
          "mapbox": {
           "style": "light"
          },
          "paper_bgcolor": "white",
          "plot_bgcolor": "#E5ECF6",
          "polar": {
           "angularaxis": {
            "gridcolor": "white",
            "linecolor": "white",
            "ticks": ""
           },
           "bgcolor": "#E5ECF6",
           "radialaxis": {
            "gridcolor": "white",
            "linecolor": "white",
            "ticks": ""
           }
          },
          "scene": {
           "xaxis": {
            "backgroundcolor": "#E5ECF6",
            "gridcolor": "white",
            "gridwidth": 2,
            "linecolor": "white",
            "showbackground": true,
            "ticks": "",
            "zerolinecolor": "white"
           },
           "yaxis": {
            "backgroundcolor": "#E5ECF6",
            "gridcolor": "white",
            "gridwidth": 2,
            "linecolor": "white",
            "showbackground": true,
            "ticks": "",
            "zerolinecolor": "white"
           },
           "zaxis": {
            "backgroundcolor": "#E5ECF6",
            "gridcolor": "white",
            "gridwidth": 2,
            "linecolor": "white",
            "showbackground": true,
            "ticks": "",
            "zerolinecolor": "white"
           }
          },
          "shapedefaults": {
           "line": {
            "color": "#2a3f5f"
           }
          },
          "ternary": {
           "aaxis": {
            "gridcolor": "white",
            "linecolor": "white",
            "ticks": ""
           },
           "baxis": {
            "gridcolor": "white",
            "linecolor": "white",
            "ticks": ""
           },
           "bgcolor": "#E5ECF6",
           "caxis": {
            "gridcolor": "white",
            "linecolor": "white",
            "ticks": ""
           }
          },
          "title": {
           "x": 0.05
          },
          "xaxis": {
           "automargin": true,
           "gridcolor": "white",
           "linecolor": "white",
           "ticks": "",
           "title": {
            "standoff": 15
           },
           "zerolinecolor": "white",
           "zerolinewidth": 2
          },
          "yaxis": {
           "automargin": true,
           "gridcolor": "white",
           "linecolor": "white",
           "ticks": "",
           "title": {
            "standoff": 15
           },
           "zerolinecolor": "white",
           "zerolinewidth": 2
          }
         }
        },
        "title": {
         "text": "Accident per state in morning"
        },
        "xaxis": {
         "anchor": "y",
         "domain": [
          0,
          1
         ],
         "title": {
          "text": "STATE/UT"
         }
        },
        "yaxis": {
         "anchor": "x",
         "domain": [
          0,
          1
         ],
         "title": {
          "text": "value"
         }
        }
       }
      }
     },
     "metadata": {},
     "output_type": "display_data"
    }
   ],
   "source": [
    "# accident per state in morning\n",
    "time = ['MORNING','AFTERNOON','NIGHT']\n",
    "fig = px.area(grouped_obj, x=grouped_obj.index, y=time, title='Accident per state in morning')\n",
    "conclusion = 'The graph shows that the accident in the morning is more than the afternoon and night.'\n",
    "fig.add_annotation(text=conclusion, xref='paper', yref='paper', x=.5, y=1, showarrow=False, font=dict(size=12))\n",
    "fig.show()"
   ]
  },
  {
   "cell_type": "code",
   "execution_count": 7,
   "metadata": {},
   "outputs": [
    {
     "data": {
      "text/html": [
       "<div>\n",
       "<style scoped>\n",
       "    .dataframe tbody tr th:only-of-type {\n",
       "        vertical-align: middle;\n",
       "    }\n",
       "\n",
       "    .dataframe tbody tr th {\n",
       "        vertical-align: top;\n",
       "    }\n",
       "\n",
       "    .dataframe thead th {\n",
       "        text-align: right;\n",
       "    }\n",
       "</style>\n",
       "<table border=\"1\" class=\"dataframe\">\n",
       "  <thead>\n",
       "    <tr style=\"text-align: right;\">\n",
       "      <th></th>\n",
       "      <th>STATE/UT</th>\n",
       "      <th>YEAR</th>\n",
       "      <th>MIDNIGHT</th>\n",
       "      <th>DAWN</th>\n",
       "      <th>MORNING</th>\n",
       "      <th>MIDDAY</th>\n",
       "      <th>AFTERNOON</th>\n",
       "      <th>DUSK</th>\n",
       "      <th>EVENING</th>\n",
       "      <th>NIGHT</th>\n",
       "      <th>Total</th>\n",
       "    </tr>\n",
       "  </thead>\n",
       "  <tbody>\n",
       "    <tr>\n",
       "      <th>0</th>\n",
       "      <td>A &amp; N Islands</td>\n",
       "      <td>2001</td>\n",
       "      <td>2</td>\n",
       "      <td>6</td>\n",
       "      <td>29</td>\n",
       "      <td>40</td>\n",
       "      <td>39</td>\n",
       "      <td>40</td>\n",
       "      <td>18</td>\n",
       "      <td>7</td>\n",
       "      <td>181</td>\n",
       "    </tr>\n",
       "    <tr>\n",
       "      <th>1</th>\n",
       "      <td>A &amp; N Islands</td>\n",
       "      <td>2002</td>\n",
       "      <td>2</td>\n",
       "      <td>6</td>\n",
       "      <td>22</td>\n",
       "      <td>41</td>\n",
       "      <td>33</td>\n",
       "      <td>33</td>\n",
       "      <td>23</td>\n",
       "      <td>8</td>\n",
       "      <td>168</td>\n",
       "    </tr>\n",
       "    <tr>\n",
       "      <th>2</th>\n",
       "      <td>A &amp; N Islands</td>\n",
       "      <td>2003</td>\n",
       "      <td>2</td>\n",
       "      <td>8</td>\n",
       "      <td>31</td>\n",
       "      <td>35</td>\n",
       "      <td>28</td>\n",
       "      <td>36</td>\n",
       "      <td>25</td>\n",
       "      <td>15</td>\n",
       "      <td>180</td>\n",
       "    </tr>\n",
       "    <tr>\n",
       "      <th>3</th>\n",
       "      <td>A &amp; N Islands</td>\n",
       "      <td>2004</td>\n",
       "      <td>2</td>\n",
       "      <td>5</td>\n",
       "      <td>29</td>\n",
       "      <td>42</td>\n",
       "      <td>43</td>\n",
       "      <td>43</td>\n",
       "      <td>37</td>\n",
       "      <td>14</td>\n",
       "      <td>215</td>\n",
       "    </tr>\n",
       "    <tr>\n",
       "      <th>4</th>\n",
       "      <td>A &amp; N Islands</td>\n",
       "      <td>2005</td>\n",
       "      <td>0</td>\n",
       "      <td>8</td>\n",
       "      <td>27</td>\n",
       "      <td>28</td>\n",
       "      <td>38</td>\n",
       "      <td>42</td>\n",
       "      <td>50</td>\n",
       "      <td>13</td>\n",
       "      <td>206</td>\n",
       "    </tr>\n",
       "    <tr>\n",
       "      <th>...</th>\n",
       "      <td>...</td>\n",
       "      <td>...</td>\n",
       "      <td>...</td>\n",
       "      <td>...</td>\n",
       "      <td>...</td>\n",
       "      <td>...</td>\n",
       "      <td>...</td>\n",
       "      <td>...</td>\n",
       "      <td>...</td>\n",
       "      <td>...</td>\n",
       "      <td>...</td>\n",
       "    </tr>\n",
       "    <tr>\n",
       "      <th>485</th>\n",
       "      <td>West Bengal</td>\n",
       "      <td>2010</td>\n",
       "      <td>1241</td>\n",
       "      <td>1397</td>\n",
       "      <td>1721</td>\n",
       "      <td>2508</td>\n",
       "      <td>2272</td>\n",
       "      <td>2296</td>\n",
       "      <td>1831</td>\n",
       "      <td>1459</td>\n",
       "      <td>14725</td>\n",
       "    </tr>\n",
       "    <tr>\n",
       "      <th>486</th>\n",
       "      <td>West Bengal</td>\n",
       "      <td>2011</td>\n",
       "      <td>1200</td>\n",
       "      <td>1493</td>\n",
       "      <td>1687</td>\n",
       "      <td>2553</td>\n",
       "      <td>2182</td>\n",
       "      <td>2196</td>\n",
       "      <td>1812</td>\n",
       "      <td>1345</td>\n",
       "      <td>14468</td>\n",
       "    </tr>\n",
       "    <tr>\n",
       "      <th>487</th>\n",
       "      <td>West Bengal</td>\n",
       "      <td>2012</td>\n",
       "      <td>1346</td>\n",
       "      <td>1511</td>\n",
       "      <td>1837</td>\n",
       "      <td>2831</td>\n",
       "      <td>2328</td>\n",
       "      <td>2268</td>\n",
       "      <td>1966</td>\n",
       "      <td>1521</td>\n",
       "      <td>15608</td>\n",
       "    </tr>\n",
       "    <tr>\n",
       "      <th>488</th>\n",
       "      <td>West Bengal</td>\n",
       "      <td>2013</td>\n",
       "      <td>1442</td>\n",
       "      <td>1911</td>\n",
       "      <td>2136</td>\n",
       "      <td>2900</td>\n",
       "      <td>2246</td>\n",
       "      <td>2366</td>\n",
       "      <td>2137</td>\n",
       "      <td>1411</td>\n",
       "      <td>16549</td>\n",
       "    </tr>\n",
       "    <tr>\n",
       "      <th>489</th>\n",
       "      <td>West Bengal</td>\n",
       "      <td>2014</td>\n",
       "      <td>1455</td>\n",
       "      <td>1634</td>\n",
       "      <td>2022</td>\n",
       "      <td>2998</td>\n",
       "      <td>2570</td>\n",
       "      <td>2458</td>\n",
       "      <td>2132</td>\n",
       "      <td>1836</td>\n",
       "      <td>17105</td>\n",
       "    </tr>\n",
       "  </tbody>\n",
       "</table>\n",
       "<p>490 rows × 11 columns</p>\n",
       "</div>"
      ],
      "text/plain": [
       "          STATE/UT  YEAR  MIDNIGHT  DAWN  MORNING  MIDDAY  AFTERNOON  DUSK  \\\n",
       "0    A & N Islands  2001         2     6       29      40         39    40   \n",
       "1    A & N Islands  2002         2     6       22      41         33    33   \n",
       "2    A & N Islands  2003         2     8       31      35         28    36   \n",
       "3    A & N Islands  2004         2     5       29      42         43    43   \n",
       "4    A & N Islands  2005         0     8       27      28         38    42   \n",
       "..             ...   ...       ...   ...      ...     ...        ...   ...   \n",
       "485    West Bengal  2010      1241  1397     1721    2508       2272  2296   \n",
       "486    West Bengal  2011      1200  1493     1687    2553       2182  2196   \n",
       "487    West Bengal  2012      1346  1511     1837    2831       2328  2268   \n",
       "488    West Bengal  2013      1442  1911     2136    2900       2246  2366   \n",
       "489    West Bengal  2014      1455  1634     2022    2998       2570  2458   \n",
       "\n",
       "     EVENING  NIGHT  Total  \n",
       "0         18      7    181  \n",
       "1         23      8    168  \n",
       "2         25     15    180  \n",
       "3         37     14    215  \n",
       "4         50     13    206  \n",
       "..       ...    ...    ...  \n",
       "485     1831   1459  14725  \n",
       "486     1812   1345  14468  \n",
       "487     1966   1521  15608  \n",
       "488     2137   1411  16549  \n",
       "489     2132   1836  17105  \n",
       "\n",
       "[490 rows x 11 columns]"
      ]
     },
     "execution_count": 7,
     "metadata": {},
     "output_type": "execute_result"
    }
   ],
   "source": [
    "time_wise"
   ]
  },
  {
   "cell_type": "code",
   "execution_count": 8,
   "metadata": {},
   "outputs": [
    {
     "data": {
      "application/vnd.plotly.v1+json": {
       "config": {
        "plotlyServerURL": "https://plot.ly"
       },
       "data": [
        {
         "hovertemplate": "STATE/UT=%{x}<br>YEAR=%{y}<br>MIDNIGHT=%{z}<br>DAWN=%{marker.color}<extra></extra>",
         "legendgroup": "",
         "marker": {
          "color": [
           6,
           6,
           8,
           5,
           8,
           3,
           5,
           7,
           6,
           10,
           3,
           6,
           3,
           6,
           3265,
           3857,
           4865,
           4770,
           6011,
           5525,
           4890,
           4492,
           4433,
           5347,
           4958,
           3795,
           4679,
           4466,
           24,
           22,
           21,
           9,
           12,
           19,
           23,
           15,
           15,
           16,
           12,
           17,
           16,
           5,
           150,
           240,
           219,
           170,
           282,
           275,
           230,
           259,
           218,
           255,
           216,
           206,
           283,
           277,
           541,
           395,
           423,
           494,
           435,
           524,
           739,
           907,
           1052,
           923,
           903,
           763,
           1622,
           987,
           10,
           49,
           10,
           4,
           15,
           8,
           9,
           15,
           15,
           19,
           47,
           7,
           16,
           29,
           353,
           528,
           732,
           431,
           712,
           570,
           846,
           957,
           692,
           756,
           814,
           1415,
           1477,
           849,
           0,
           2,
           2,
           8,
           3,
           6,
           1,
           2,
           0,
           0,
           2,
           1,
           2,
           1,
           2,
           6,
           0,
           0,
           0,
           1,
           0,
           1,
           0,
           1,
           0,
           1,
           0,
           0,
           762,
           527,
           565,
           709,
           640,
           743,
           902,
           730,
           574,
           502,
           535,
           509,
           662,
           581,
           33,
           44,
           38,
           33,
           38,
           138,
           117,
           139,
           132,
           164,
           178,
           155,
           175,
           173,
           1338,
           1120,
           1238,
           1339,
           1324,
           1533,
           2013,
           1631,
           1640,
           1670,
           2282,
           2603,
           2023,
           1541,
           625,
           740,
           910,
           1014,
           859,
           1112,
           1033,
           1236,
           1184,
           1105,
           1049,
           941,
           957,
           868,
           145,
           124,
           85,
           141,
           88,
           120,
           151,
           106,
           153,
           192,
           124,
           128,
           116,
           183,
           352,
           180,
           304,
           239,
           396,
           235,
           418,
           368,
           386,
           287,
           298,
           347,
           352,
           442,
           104,
           99,
           110,
           168,
           289,
           322,
           416,
           345,
           446,
           379,
           355,
           494,
           642,
           592,
           2925,
           3482,
           3398,
           3106,
           3198,
           3702,
           3590,
           3802,
           3750,
           5270,
           3807,
           2802,
           3174,
           3219,
           1610,
           1187,
           1312,
           2124,
           1763,
           1877,
           2486,
           1356,
           1283,
           1271,
           1265,
           785,
           1341,
           1232,
           0,
           0,
           0,
           0,
           0,
           0,
           0,
           0,
           0,
           0,
           0,
           0,
           0,
           0,
           1740,
           2182,
           2165,
           1828,
           1770,
           1719,
           1927,
           2370,
           2408,
           2125,
           2248,
           1873,
           2126,
           2384,
           3893,
           3412,
           4029,
           4352,
           4207,
           4724,
           4797,
           4633,
           4469,
           4585,
           4739,
           4655,
           3649,
           3330,
           7,
           0,
           18,
           10,
           26,
           27,
           27,
           26,
           24,
           47,
           52,
           75,
           13,
           8,
           11,
           37,
           44,
           39,
           29,
           2,
           5,
           17,
           16,
           21,
           22,
           29,
           17,
           19,
           5,
           5,
           6,
           5,
           2,
           9,
           1,
           9,
           7,
           13,
           3,
           11,
           5,
           12,
           1,
           4,
           2,
           2,
           1,
           5,
           2,
           2,
           2,
           1,
           4,
           0,
           2,
           2,
           811,
           722,
           949,
           805,
           810,
           999,
           904,
           858,
           836,
           928,
           1015,
           1289,
           1029,
           880,
           53,
           44,
           44,
           53,
           81,
           18,
           72,
           49,
           48,
           61,
           66,
           66,
           58,
           23,
           185,
           170,
           199,
           248,
           262,
           164,
           217,
           267,
           282,
           280,
           582,
           537,
           575,
           392,
           2344,
           1996,
           1768,
           1841,
           1895,
           1634,
           1735,
           1654,
           1825,
           1869,
           2152,
           1729,
           1519,
           1428,
           2,
           0,
           0,
           12,
           11,
           5,
           3,
           19,
           56,
           10,
           12,
           18,
           9,
           8,
           4672,
           4939,
           4805,
           4660,
           6545,
           6046,
           4850,
           4956,
           4520,
           5141,
           4915,
           4560,
           4047,
           4057,
           8,
           0,
           1,
           10,
           3,
           34,
           5,
           26,
           13,
           17,
           13,
           18,
           22,
           21,
           3659,
           1716,
           1322,
           1645,
           1598,
           1731,
           1793,
           2236,
           2894,
           2924,
           3012,
           2708,
           2796,
           2824,
           152,
           65,
           40,
           38,
           45,
           44,
           53,
           86,
           67,
           107,
           43,
           80,
           67,
           81,
           1161,
           1240,
           1182,
           1388,
           1284,
           1470,
           1567,
           1150,
           1353,
           1397,
           1493,
           1511,
           1911,
           1634
          ],
          "coloraxis": "coloraxis",
          "symbol": "circle"
         },
         "mode": "markers",
         "name": "",
         "scene": "scene",
         "showlegend": false,
         "type": "scatter3d",
         "x": [
          "A & N Islands",
          "A & N Islands",
          "A & N Islands",
          "A & N Islands",
          "A & N Islands",
          "A & N Islands",
          "A & N Islands",
          "A & N Islands",
          "A & N Islands",
          "A & N Islands",
          "A & N Islands",
          "A & N Islands",
          "A & N Islands",
          "A & N Islands",
          "Andhra Pradesh",
          "Andhra Pradesh",
          "Andhra Pradesh",
          "Andhra Pradesh",
          "Andhra Pradesh",
          "Andhra Pradesh",
          "Andhra Pradesh",
          "Andhra Pradesh",
          "Andhra Pradesh",
          "Andhra Pradesh",
          "Andhra Pradesh",
          "Andhra Pradesh",
          "Andhra Pradesh",
          "Andhra Pradesh",
          "Arunachal Pradesh",
          "Arunachal Pradesh",
          "Arunachal Pradesh",
          "Arunachal Pradesh",
          "Arunachal Pradesh",
          "Arunachal Pradesh",
          "Arunachal Pradesh",
          "Arunachal Pradesh",
          "Arunachal Pradesh",
          "Arunachal Pradesh",
          "Arunachal Pradesh",
          "Arunachal Pradesh",
          "Arunachal Pradesh",
          "Arunachal Pradesh",
          "Assam",
          "Assam",
          "Assam",
          "Assam",
          "Assam",
          "Assam",
          "Assam",
          "Assam",
          "Assam",
          "Assam",
          "Assam",
          "Assam",
          "Assam",
          "Assam",
          "Bihar",
          "Bihar",
          "Bihar",
          "Bihar",
          "Bihar",
          "Bihar",
          "Bihar",
          "Bihar",
          "Bihar",
          "Bihar",
          "Bihar",
          "Bihar",
          "Bihar",
          "Bihar",
          "Chandigarh",
          "Chandigarh",
          "Chandigarh",
          "Chandigarh",
          "Chandigarh",
          "Chandigarh",
          "Chandigarh",
          "Chandigarh",
          "Chandigarh",
          "Chandigarh",
          "Chandigarh",
          "Chandigarh",
          "Chandigarh",
          "Chandigarh",
          "Chhattisgarh",
          "Chhattisgarh",
          "Chhattisgarh",
          "Chhattisgarh",
          "Chhattisgarh",
          "Chhattisgarh",
          "Chhattisgarh",
          "Chhattisgarh",
          "Chhattisgarh",
          "Chhattisgarh",
          "Chhattisgarh",
          "Chhattisgarh",
          "Chhattisgarh",
          "Chhattisgarh",
          "D & N Haveli",
          "D & N Haveli",
          "D & N Haveli",
          "D & N Haveli",
          "D & N Haveli",
          "D & N Haveli",
          "D & N Haveli",
          "D & N Haveli",
          "D & N Haveli",
          "D & N Haveli",
          "D & N Haveli",
          "D & N Haveli",
          "D & N Haveli",
          "D & N Haveli",
          "Daman & Diu",
          "Daman & Diu",
          "Daman & Diu",
          "Daman & Diu",
          "Daman & Diu",
          "Daman & Diu",
          "Daman & Diu",
          "Daman & Diu",
          "Daman & Diu",
          "Daman & Diu",
          "Daman & Diu",
          "Daman & Diu",
          "Daman & Diu",
          "Daman & Diu",
          "Delhi (Ut)",
          "Delhi (Ut)",
          "Delhi (Ut)",
          "Delhi (Ut)",
          "Delhi (Ut)",
          "Delhi (Ut)",
          "Delhi (Ut)",
          "Delhi (Ut)",
          "Delhi (Ut)",
          "Delhi (Ut)",
          "Delhi (Ut)",
          "Delhi (Ut)",
          "Delhi (Ut)",
          "Delhi (Ut)",
          "Goa",
          "Goa",
          "Goa",
          "Goa",
          "Goa",
          "Goa",
          "Goa",
          "Goa",
          "Goa",
          "Goa",
          "Goa",
          "Goa",
          "Goa",
          "Goa",
          "Gujarat",
          "Gujarat",
          "Gujarat",
          "Gujarat",
          "Gujarat",
          "Gujarat",
          "Gujarat",
          "Gujarat",
          "Gujarat",
          "Gujarat",
          "Gujarat",
          "Gujarat",
          "Gujarat",
          "Gujarat",
          "Haryana",
          "Haryana",
          "Haryana",
          "Haryana",
          "Haryana",
          "Haryana",
          "Haryana",
          "Haryana",
          "Haryana",
          "Haryana",
          "Haryana",
          "Haryana",
          "Haryana",
          "Haryana",
          "Himachal Pradesh",
          "Himachal Pradesh",
          "Himachal Pradesh",
          "Himachal Pradesh",
          "Himachal Pradesh",
          "Himachal Pradesh",
          "Himachal Pradesh",
          "Himachal Pradesh",
          "Himachal Pradesh",
          "Himachal Pradesh",
          "Himachal Pradesh",
          "Himachal Pradesh",
          "Himachal Pradesh",
          "Himachal Pradesh",
          "Jammu & Kashmir",
          "Jammu & Kashmir",
          "Jammu & Kashmir",
          "Jammu & Kashmir",
          "Jammu & Kashmir",
          "Jammu & Kashmir",
          "Jammu & Kashmir",
          "Jammu & Kashmir",
          "Jammu & Kashmir",
          "Jammu & Kashmir",
          "Jammu & Kashmir",
          "Jammu & Kashmir",
          "Jammu & Kashmir",
          "Jammu & Kashmir",
          "Jharkhand",
          "Jharkhand",
          "Jharkhand",
          "Jharkhand",
          "Jharkhand",
          "Jharkhand",
          "Jharkhand",
          "Jharkhand",
          "Jharkhand",
          "Jharkhand",
          "Jharkhand",
          "Jharkhand",
          "Jharkhand",
          "Jharkhand",
          "Karnataka",
          "Karnataka",
          "Karnataka",
          "Karnataka",
          "Karnataka",
          "Karnataka",
          "Karnataka",
          "Karnataka",
          "Karnataka",
          "Karnataka",
          "Karnataka",
          "Karnataka",
          "Karnataka",
          "Karnataka",
          "Kerala",
          "Kerala",
          "Kerala",
          "Kerala",
          "Kerala",
          "Kerala",
          "Kerala",
          "Kerala",
          "Kerala",
          "Kerala",
          "Kerala",
          "Kerala",
          "Kerala",
          "Kerala",
          "Lakshadweep",
          "Lakshadweep",
          "Lakshadweep",
          "Lakshadweep",
          "Lakshadweep",
          "Lakshadweep",
          "Lakshadweep",
          "Lakshadweep",
          "Lakshadweep",
          "Lakshadweep",
          "Lakshadweep",
          "Lakshadweep",
          "Lakshadweep",
          "Lakshadweep",
          "Madhya Pradesh",
          "Madhya Pradesh",
          "Madhya Pradesh",
          "Madhya Pradesh",
          "Madhya Pradesh",
          "Madhya Pradesh",
          "Madhya Pradesh",
          "Madhya Pradesh",
          "Madhya Pradesh",
          "Madhya Pradesh",
          "Madhya Pradesh",
          "Madhya Pradesh",
          "Madhya Pradesh",
          "Madhya Pradesh",
          "Maharashtra",
          "Maharashtra",
          "Maharashtra",
          "Maharashtra",
          "Maharashtra",
          "Maharashtra",
          "Maharashtra",
          "Maharashtra",
          "Maharashtra",
          "Maharashtra",
          "Maharashtra",
          "Maharashtra",
          "Maharashtra",
          "Maharashtra",
          "Manipur",
          "Manipur",
          "Manipur",
          "Manipur",
          "Manipur",
          "Manipur",
          "Manipur",
          "Manipur",
          "Manipur",
          "Manipur",
          "Manipur",
          "Manipur",
          "Manipur",
          "Manipur",
          "Meghalaya",
          "Meghalaya",
          "Meghalaya",
          "Meghalaya",
          "Meghalaya",
          "Meghalaya",
          "Meghalaya",
          "Meghalaya",
          "Meghalaya",
          "Meghalaya",
          "Meghalaya",
          "Meghalaya",
          "Meghalaya",
          "Meghalaya",
          "Mizoram",
          "Mizoram",
          "Mizoram",
          "Mizoram",
          "Mizoram",
          "Mizoram",
          "Mizoram",
          "Mizoram",
          "Mizoram",
          "Mizoram",
          "Mizoram",
          "Mizoram",
          "Mizoram",
          "Mizoram",
          "Nagaland",
          "Nagaland",
          "Nagaland",
          "Nagaland",
          "Nagaland",
          "Nagaland",
          "Nagaland",
          "Nagaland",
          "Nagaland",
          "Nagaland",
          "Nagaland",
          "Nagaland",
          "Nagaland",
          "Nagaland",
          "Odisha",
          "Odisha",
          "Odisha",
          "Odisha",
          "Odisha",
          "Odisha",
          "Odisha",
          "Odisha",
          "Odisha",
          "Odisha",
          "Odisha",
          "Odisha",
          "Odisha",
          "Odisha",
          "Puducherry",
          "Puducherry",
          "Puducherry",
          "Puducherry",
          "Puducherry",
          "Puducherry",
          "Puducherry",
          "Puducherry",
          "Puducherry",
          "Puducherry",
          "Puducherry",
          "Puducherry",
          "Puducherry",
          "Puducherry",
          "Punjab",
          "Punjab",
          "Punjab",
          "Punjab",
          "Punjab",
          "Punjab",
          "Punjab",
          "Punjab",
          "Punjab",
          "Punjab",
          "Punjab",
          "Punjab",
          "Punjab",
          "Punjab",
          "Rajasthan",
          "Rajasthan",
          "Rajasthan",
          "Rajasthan",
          "Rajasthan",
          "Rajasthan",
          "Rajasthan",
          "Rajasthan",
          "Rajasthan",
          "Rajasthan",
          "Rajasthan",
          "Rajasthan",
          "Rajasthan",
          "Rajasthan",
          "Sikkim",
          "Sikkim",
          "Sikkim",
          "Sikkim",
          "Sikkim",
          "Sikkim",
          "Sikkim",
          "Sikkim",
          "Sikkim",
          "Sikkim",
          "Sikkim",
          "Sikkim",
          "Sikkim",
          "Sikkim",
          "Tamil Nadu",
          "Tamil Nadu",
          "Tamil Nadu",
          "Tamil Nadu",
          "Tamil Nadu",
          "Tamil Nadu",
          "Tamil Nadu",
          "Tamil Nadu",
          "Tamil Nadu",
          "Tamil Nadu",
          "Tamil Nadu",
          "Tamil Nadu",
          "Tamil Nadu",
          "Tamil Nadu",
          "Tripura",
          "Tripura",
          "Tripura",
          "Tripura",
          "Tripura",
          "Tripura",
          "Tripura",
          "Tripura",
          "Tripura",
          "Tripura",
          "Tripura",
          "Tripura",
          "Tripura",
          "Tripura",
          "Uttar Pradesh",
          "Uttar Pradesh",
          "Uttar Pradesh",
          "Uttar Pradesh",
          "Uttar Pradesh",
          "Uttar Pradesh",
          "Uttar Pradesh",
          "Uttar Pradesh",
          "Uttar Pradesh",
          "Uttar Pradesh",
          "Uttar Pradesh",
          "Uttar Pradesh",
          "Uttar Pradesh",
          "Uttar Pradesh",
          "Uttarakhand",
          "Uttarakhand",
          "Uttarakhand",
          "Uttarakhand",
          "Uttarakhand",
          "Uttarakhand",
          "Uttarakhand",
          "Uttarakhand",
          "Uttarakhand",
          "Uttarakhand",
          "Uttarakhand",
          "Uttarakhand",
          "Uttarakhand",
          "Uttarakhand",
          "West Bengal",
          "West Bengal",
          "West Bengal",
          "West Bengal",
          "West Bengal",
          "West Bengal",
          "West Bengal",
          "West Bengal",
          "West Bengal",
          "West Bengal",
          "West Bengal",
          "West Bengal",
          "West Bengal",
          "West Bengal"
         ],
         "y": [
          2001,
          2002,
          2003,
          2004,
          2005,
          2006,
          2007,
          2008,
          2009,
          2010,
          2011,
          2012,
          2013,
          2014,
          2001,
          2002,
          2003,
          2004,
          2005,
          2006,
          2007,
          2008,
          2009,
          2010,
          2011,
          2012,
          2013,
          2014,
          2001,
          2002,
          2003,
          2004,
          2005,
          2006,
          2007,
          2008,
          2009,
          2010,
          2011,
          2012,
          2013,
          2014,
          2001,
          2002,
          2003,
          2004,
          2005,
          2006,
          2007,
          2008,
          2009,
          2010,
          2011,
          2012,
          2013,
          2014,
          2001,
          2002,
          2003,
          2004,
          2005,
          2006,
          2007,
          2008,
          2009,
          2010,
          2011,
          2012,
          2013,
          2014,
          2001,
          2002,
          2003,
          2004,
          2005,
          2006,
          2007,
          2008,
          2009,
          2010,
          2011,
          2012,
          2013,
          2014,
          2001,
          2002,
          2003,
          2004,
          2005,
          2006,
          2007,
          2008,
          2009,
          2010,
          2011,
          2012,
          2013,
          2014,
          2001,
          2002,
          2003,
          2004,
          2005,
          2006,
          2007,
          2008,
          2009,
          2010,
          2011,
          2012,
          2013,
          2014,
          2001,
          2002,
          2003,
          2004,
          2005,
          2006,
          2007,
          2008,
          2009,
          2010,
          2011,
          2012,
          2013,
          2014,
          2001,
          2002,
          2003,
          2004,
          2005,
          2006,
          2007,
          2008,
          2009,
          2010,
          2011,
          2012,
          2013,
          2014,
          2001,
          2002,
          2003,
          2004,
          2005,
          2006,
          2007,
          2008,
          2009,
          2010,
          2011,
          2012,
          2013,
          2014,
          2001,
          2002,
          2003,
          2004,
          2005,
          2006,
          2007,
          2008,
          2009,
          2010,
          2011,
          2012,
          2013,
          2014,
          2001,
          2002,
          2003,
          2004,
          2005,
          2006,
          2007,
          2008,
          2009,
          2010,
          2011,
          2012,
          2013,
          2014,
          2001,
          2002,
          2003,
          2004,
          2005,
          2006,
          2007,
          2008,
          2009,
          2010,
          2011,
          2012,
          2013,
          2014,
          2001,
          2002,
          2003,
          2004,
          2005,
          2006,
          2007,
          2008,
          2009,
          2010,
          2011,
          2012,
          2013,
          2014,
          2001,
          2002,
          2003,
          2004,
          2005,
          2006,
          2007,
          2008,
          2009,
          2010,
          2011,
          2012,
          2013,
          2014,
          2001,
          2002,
          2003,
          2004,
          2005,
          2006,
          2007,
          2008,
          2009,
          2010,
          2011,
          2012,
          2013,
          2014,
          2001,
          2002,
          2003,
          2004,
          2005,
          2006,
          2007,
          2008,
          2009,
          2010,
          2011,
          2012,
          2013,
          2014,
          2001,
          2002,
          2003,
          2004,
          2005,
          2006,
          2007,
          2008,
          2009,
          2010,
          2011,
          2012,
          2013,
          2014,
          2001,
          2002,
          2003,
          2004,
          2005,
          2006,
          2007,
          2008,
          2009,
          2010,
          2011,
          2012,
          2013,
          2014,
          2001,
          2002,
          2003,
          2004,
          2005,
          2006,
          2007,
          2008,
          2009,
          2010,
          2011,
          2012,
          2013,
          2014,
          2001,
          2002,
          2003,
          2004,
          2005,
          2006,
          2007,
          2008,
          2009,
          2010,
          2011,
          2012,
          2013,
          2014,
          2001,
          2002,
          2003,
          2004,
          2005,
          2006,
          2007,
          2008,
          2009,
          2010,
          2011,
          2012,
          2013,
          2014,
          2001,
          2002,
          2003,
          2004,
          2005,
          2006,
          2007,
          2008,
          2009,
          2010,
          2011,
          2012,
          2013,
          2014,
          2001,
          2002,
          2003,
          2004,
          2005,
          2006,
          2007,
          2008,
          2009,
          2010,
          2011,
          2012,
          2013,
          2014,
          2001,
          2002,
          2003,
          2004,
          2005,
          2006,
          2007,
          2008,
          2009,
          2010,
          2011,
          2012,
          2013,
          2014,
          2001,
          2002,
          2003,
          2004,
          2005,
          2006,
          2007,
          2008,
          2009,
          2010,
          2011,
          2012,
          2013,
          2014,
          2001,
          2002,
          2003,
          2004,
          2005,
          2006,
          2007,
          2008,
          2009,
          2010,
          2011,
          2012,
          2013,
          2014,
          2001,
          2002,
          2003,
          2004,
          2005,
          2006,
          2007,
          2008,
          2009,
          2010,
          2011,
          2012,
          2013,
          2014,
          2001,
          2002,
          2003,
          2004,
          2005,
          2006,
          2007,
          2008,
          2009,
          2010,
          2011,
          2012,
          2013,
          2014,
          2001,
          2002,
          2003,
          2004,
          2005,
          2006,
          2007,
          2008,
          2009,
          2010,
          2011,
          2012,
          2013,
          2014,
          2001,
          2002,
          2003,
          2004,
          2005,
          2006,
          2007,
          2008,
          2009,
          2010,
          2011,
          2012,
          2013,
          2014,
          2001,
          2002,
          2003,
          2004,
          2005,
          2006,
          2007,
          2008,
          2009,
          2010,
          2011,
          2012,
          2013,
          2014,
          2001,
          2002,
          2003,
          2004,
          2005,
          2006,
          2007,
          2008,
          2009,
          2010,
          2011,
          2012,
          2013,
          2014,
          2001,
          2002,
          2003,
          2004,
          2005,
          2006,
          2007,
          2008,
          2009,
          2010,
          2011,
          2012,
          2013,
          2014
         ],
         "z": [
          2,
          2,
          2,
          2,
          0,
          1,
          2,
          3,
          2,
          2,
          4,
          4,
          2,
          4,
          2239,
          2931,
          3158,
          3191,
          3826,
          3635,
          4054,
          4051,
          3718,
          3822,
          3577,
          3026,
          3742,
          3336,
          9,
          8,
          9,
          6,
          5,
          16,
          20,
          21,
          21,
          8,
          12,
          4,
          4,
          6,
          133,
          167,
          129,
          101,
          172,
          159,
          195,
          220,
          165,
          231,
          275,
          176,
          181,
          212,
          344,
          297,
          374,
          286,
          233,
          263,
          356,
          361,
          703,
          720,
          690,
          666,
          640,
          672,
          15,
          40,
          17,
          20,
          23,
          28,
          29,
          27,
          29,
          17,
          33,
          22,
          41,
          32,
          279,
          384,
          611,
          359,
          445,
          531,
          498,
          594,
          414,
          579,
          572,
          1159,
          1261,
          648,
          3,
          1,
          4,
          7,
          6,
          2,
          9,
          2,
          1,
          2,
          4,
          3,
          3,
          1,
          0,
          7,
          4,
          5,
          4,
          3,
          7,
          4,
          1,
          1,
          2,
          1,
          3,
          3,
          998,
          788,
          764,
          836,
          825,
          964,
          1183,
          839,
          644,
          597,
          607,
          638,
          764,
          757,
          52,
          57,
          81,
          74,
          56,
          200,
          212,
          194,
          200,
          195,
          261,
          208,
          226,
          189,
          1267,
          1106,
          1070,
          1152,
          1428,
          1277,
          1468,
          1432,
          1239,
          1348,
          1962,
          2085,
          1747,
          1232,
          407,
          615,
          709,
          845,
          760,
          1155,
          1080,
          1089,
          860,
          799,
          685,
          578,
          651,
          726,
          75,
          81,
          87,
          135,
          123,
          112,
          120,
          103,
          135,
          153,
          100,
          114,
          100,
          199,
          337,
          154,
          298,
          333,
          188,
          350,
          326,
          261,
          298,
          239,
          299,
          285,
          296,
          168,
          103,
          101,
          101,
          151,
          93,
          207,
          250,
          283,
          326,
          247,
          285,
          351,
          645,
          247,
          2426,
          2663,
          2719,
          2576,
          2949,
          3264,
          3239,
          3181,
          3107,
          3481,
          3468,
          3085,
          3318,
          3022,
          892,
          669,
          748,
          1439,
          1205,
          1553,
          1501,
          836,
          664,
          892,
          595,
          583,
          620,
          759,
          0,
          0,
          0,
          0,
          0,
          0,
          0,
          0,
          1,
          0,
          0,
          0,
          0,
          0,
          1418,
          1467,
          1872,
          1443,
          1504,
          1652,
          1867,
          2307,
          2275,
          1970,
          2083,
          1664,
          1747,
          1925,
          3483,
          3411,
          3698,
          4082,
          4140,
          4653,
          5132,
          4349,
          4400,
          4324,
          4334,
          4125,
          3647,
          3376,
          0,
          0,
          1,
          0,
          13,
          7,
          6,
          11,
          14,
          27,
          26,
          54,
          7,
          7,
          10,
          32,
          43,
          27,
          12,
          4,
          3,
          11,
          17,
          17,
          10,
          25,
          7,
          10,
          5,
          1,
          8,
          2,
          3,
          3,
          1,
          12,
          9,
          14,
          5,
          2,
          4,
          5,
          0,
          2,
          1,
          3,
          3,
          4,
          4,
          0,
          1,
          0,
          2,
          6,
          0,
          0,
          517,
          480,
          427,
          506,
          478,
          547,
          632,
          595,
          608,
          724,
          756,
          978,
          780,
          661,
          24,
          36,
          40,
          48,
          57,
          31,
          51,
          53,
          41,
          43,
          38,
          35,
          31,
          28,
          167,
          163,
          140,
          189,
          200,
          209,
          192,
          181,
          197,
          205,
          379,
          349,
          368,
          387,
          1390,
          1419,
          1359,
          1263,
          1271,
          1171,
          1359,
          1399,
          1426,
          1558,
          1358,
          1094,
          1061,
          1128,
          0,
          0,
          0,
          0,
          5,
          1,
          6,
          6,
          49,
          6,
          10,
          0,
          5,
          6,
          4020,
          5060,
          4174,
          3857,
          6020,
          5180,
          5773,
          5898,
          4201,
          3376,
          3716,
          3199,
          2796,
          2685,
          4,
          0,
          1,
          0,
          11,
          12,
          7,
          17,
          10,
          8,
          4,
          10,
          20,
          15,
          2324,
          1444,
          1087,
          1262,
          1226,
          1860,
          1615,
          1791,
          2219,
          2232,
          2096,
          1994,
          2134,
          2106,
          94,
          33,
          47,
          49,
          36,
          39,
          42,
          73,
          47,
          51,
          35,
          36,
          39,
          61,
          832,
          776,
          726,
          1117,
          1067,
          1143,
          1203,
          888,
          942,
          1241,
          1200,
          1346,
          1442,
          1455
         ]
        }
       ],
       "layout": {
        "coloraxis": {
         "colorbar": {
          "title": {
           "text": "DAWN"
          }
         },
         "colorscale": [
          [
           0,
           "#0d0887"
          ],
          [
           0.1111111111111111,
           "#46039f"
          ],
          [
           0.2222222222222222,
           "#7201a8"
          ],
          [
           0.3333333333333333,
           "#9c179e"
          ],
          [
           0.4444444444444444,
           "#bd3786"
          ],
          [
           0.5555555555555556,
           "#d8576b"
          ],
          [
           0.6666666666666666,
           "#ed7953"
          ],
          [
           0.7777777777777778,
           "#fb9f3a"
          ],
          [
           0.8888888888888888,
           "#fdca26"
          ],
          [
           1,
           "#f0f921"
          ]
         ]
        },
        "height": 700,
        "legend": {
         "tracegroupgap": 0
        },
        "margin": {
         "t": 60
        },
        "scene": {
         "domain": {
          "x": [
           0,
           1
          ],
          "y": [
           0,
           1
          ]
         },
         "xaxis": {
          "title": {
           "text": "STATE/UT"
          }
         },
         "yaxis": {
          "title": {
           "text": "YEAR"
          }
         },
         "zaxis": {
          "title": {
           "text": "MIDNIGHT"
          }
         }
        },
        "template": {
         "data": {
          "bar": [
           {
            "error_x": {
             "color": "#2a3f5f"
            },
            "error_y": {
             "color": "#2a3f5f"
            },
            "marker": {
             "line": {
              "color": "#E5ECF6",
              "width": 0.5
             },
             "pattern": {
              "fillmode": "overlay",
              "size": 10,
              "solidity": 0.2
             }
            },
            "type": "bar"
           }
          ],
          "barpolar": [
           {
            "marker": {
             "line": {
              "color": "#E5ECF6",
              "width": 0.5
             },
             "pattern": {
              "fillmode": "overlay",
              "size": 10,
              "solidity": 0.2
             }
            },
            "type": "barpolar"
           }
          ],
          "carpet": [
           {
            "aaxis": {
             "endlinecolor": "#2a3f5f",
             "gridcolor": "white",
             "linecolor": "white",
             "minorgridcolor": "white",
             "startlinecolor": "#2a3f5f"
            },
            "baxis": {
             "endlinecolor": "#2a3f5f",
             "gridcolor": "white",
             "linecolor": "white",
             "minorgridcolor": "white",
             "startlinecolor": "#2a3f5f"
            },
            "type": "carpet"
           }
          ],
          "choropleth": [
           {
            "colorbar": {
             "outlinewidth": 0,
             "ticks": ""
            },
            "type": "choropleth"
           }
          ],
          "contour": [
           {
            "colorbar": {
             "outlinewidth": 0,
             "ticks": ""
            },
            "colorscale": [
             [
              0,
              "#0d0887"
             ],
             [
              0.1111111111111111,
              "#46039f"
             ],
             [
              0.2222222222222222,
              "#7201a8"
             ],
             [
              0.3333333333333333,
              "#9c179e"
             ],
             [
              0.4444444444444444,
              "#bd3786"
             ],
             [
              0.5555555555555556,
              "#d8576b"
             ],
             [
              0.6666666666666666,
              "#ed7953"
             ],
             [
              0.7777777777777778,
              "#fb9f3a"
             ],
             [
              0.8888888888888888,
              "#fdca26"
             ],
             [
              1,
              "#f0f921"
             ]
            ],
            "type": "contour"
           }
          ],
          "contourcarpet": [
           {
            "colorbar": {
             "outlinewidth": 0,
             "ticks": ""
            },
            "type": "contourcarpet"
           }
          ],
          "heatmap": [
           {
            "colorbar": {
             "outlinewidth": 0,
             "ticks": ""
            },
            "colorscale": [
             [
              0,
              "#0d0887"
             ],
             [
              0.1111111111111111,
              "#46039f"
             ],
             [
              0.2222222222222222,
              "#7201a8"
             ],
             [
              0.3333333333333333,
              "#9c179e"
             ],
             [
              0.4444444444444444,
              "#bd3786"
             ],
             [
              0.5555555555555556,
              "#d8576b"
             ],
             [
              0.6666666666666666,
              "#ed7953"
             ],
             [
              0.7777777777777778,
              "#fb9f3a"
             ],
             [
              0.8888888888888888,
              "#fdca26"
             ],
             [
              1,
              "#f0f921"
             ]
            ],
            "type": "heatmap"
           }
          ],
          "heatmapgl": [
           {
            "colorbar": {
             "outlinewidth": 0,
             "ticks": ""
            },
            "colorscale": [
             [
              0,
              "#0d0887"
             ],
             [
              0.1111111111111111,
              "#46039f"
             ],
             [
              0.2222222222222222,
              "#7201a8"
             ],
             [
              0.3333333333333333,
              "#9c179e"
             ],
             [
              0.4444444444444444,
              "#bd3786"
             ],
             [
              0.5555555555555556,
              "#d8576b"
             ],
             [
              0.6666666666666666,
              "#ed7953"
             ],
             [
              0.7777777777777778,
              "#fb9f3a"
             ],
             [
              0.8888888888888888,
              "#fdca26"
             ],
             [
              1,
              "#f0f921"
             ]
            ],
            "type": "heatmapgl"
           }
          ],
          "histogram": [
           {
            "marker": {
             "pattern": {
              "fillmode": "overlay",
              "size": 10,
              "solidity": 0.2
             }
            },
            "type": "histogram"
           }
          ],
          "histogram2d": [
           {
            "colorbar": {
             "outlinewidth": 0,
             "ticks": ""
            },
            "colorscale": [
             [
              0,
              "#0d0887"
             ],
             [
              0.1111111111111111,
              "#46039f"
             ],
             [
              0.2222222222222222,
              "#7201a8"
             ],
             [
              0.3333333333333333,
              "#9c179e"
             ],
             [
              0.4444444444444444,
              "#bd3786"
             ],
             [
              0.5555555555555556,
              "#d8576b"
             ],
             [
              0.6666666666666666,
              "#ed7953"
             ],
             [
              0.7777777777777778,
              "#fb9f3a"
             ],
             [
              0.8888888888888888,
              "#fdca26"
             ],
             [
              1,
              "#f0f921"
             ]
            ],
            "type": "histogram2d"
           }
          ],
          "histogram2dcontour": [
           {
            "colorbar": {
             "outlinewidth": 0,
             "ticks": ""
            },
            "colorscale": [
             [
              0,
              "#0d0887"
             ],
             [
              0.1111111111111111,
              "#46039f"
             ],
             [
              0.2222222222222222,
              "#7201a8"
             ],
             [
              0.3333333333333333,
              "#9c179e"
             ],
             [
              0.4444444444444444,
              "#bd3786"
             ],
             [
              0.5555555555555556,
              "#d8576b"
             ],
             [
              0.6666666666666666,
              "#ed7953"
             ],
             [
              0.7777777777777778,
              "#fb9f3a"
             ],
             [
              0.8888888888888888,
              "#fdca26"
             ],
             [
              1,
              "#f0f921"
             ]
            ],
            "type": "histogram2dcontour"
           }
          ],
          "mesh3d": [
           {
            "colorbar": {
             "outlinewidth": 0,
             "ticks": ""
            },
            "type": "mesh3d"
           }
          ],
          "parcoords": [
           {
            "line": {
             "colorbar": {
              "outlinewidth": 0,
              "ticks": ""
             }
            },
            "type": "parcoords"
           }
          ],
          "pie": [
           {
            "automargin": true,
            "type": "pie"
           }
          ],
          "scatter": [
           {
            "fillpattern": {
             "fillmode": "overlay",
             "size": 10,
             "solidity": 0.2
            },
            "type": "scatter"
           }
          ],
          "scatter3d": [
           {
            "line": {
             "colorbar": {
              "outlinewidth": 0,
              "ticks": ""
             }
            },
            "marker": {
             "colorbar": {
              "outlinewidth": 0,
              "ticks": ""
             }
            },
            "type": "scatter3d"
           }
          ],
          "scattercarpet": [
           {
            "marker": {
             "colorbar": {
              "outlinewidth": 0,
              "ticks": ""
             }
            },
            "type": "scattercarpet"
           }
          ],
          "scattergeo": [
           {
            "marker": {
             "colorbar": {
              "outlinewidth": 0,
              "ticks": ""
             }
            },
            "type": "scattergeo"
           }
          ],
          "scattergl": [
           {
            "marker": {
             "colorbar": {
              "outlinewidth": 0,
              "ticks": ""
             }
            },
            "type": "scattergl"
           }
          ],
          "scattermapbox": [
           {
            "marker": {
             "colorbar": {
              "outlinewidth": 0,
              "ticks": ""
             }
            },
            "type": "scattermapbox"
           }
          ],
          "scatterpolar": [
           {
            "marker": {
             "colorbar": {
              "outlinewidth": 0,
              "ticks": ""
             }
            },
            "type": "scatterpolar"
           }
          ],
          "scatterpolargl": [
           {
            "marker": {
             "colorbar": {
              "outlinewidth": 0,
              "ticks": ""
             }
            },
            "type": "scatterpolargl"
           }
          ],
          "scatterternary": [
           {
            "marker": {
             "colorbar": {
              "outlinewidth": 0,
              "ticks": ""
             }
            },
            "type": "scatterternary"
           }
          ],
          "surface": [
           {
            "colorbar": {
             "outlinewidth": 0,
             "ticks": ""
            },
            "colorscale": [
             [
              0,
              "#0d0887"
             ],
             [
              0.1111111111111111,
              "#46039f"
             ],
             [
              0.2222222222222222,
              "#7201a8"
             ],
             [
              0.3333333333333333,
              "#9c179e"
             ],
             [
              0.4444444444444444,
              "#bd3786"
             ],
             [
              0.5555555555555556,
              "#d8576b"
             ],
             [
              0.6666666666666666,
              "#ed7953"
             ],
             [
              0.7777777777777778,
              "#fb9f3a"
             ],
             [
              0.8888888888888888,
              "#fdca26"
             ],
             [
              1,
              "#f0f921"
             ]
            ],
            "type": "surface"
           }
          ],
          "table": [
           {
            "cells": {
             "fill": {
              "color": "#EBF0F8"
             },
             "line": {
              "color": "white"
             }
            },
            "header": {
             "fill": {
              "color": "#C8D4E3"
             },
             "line": {
              "color": "white"
             }
            },
            "type": "table"
           }
          ]
         },
         "layout": {
          "annotationdefaults": {
           "arrowcolor": "#2a3f5f",
           "arrowhead": 0,
           "arrowwidth": 1
          },
          "autotypenumbers": "strict",
          "coloraxis": {
           "colorbar": {
            "outlinewidth": 0,
            "ticks": ""
           }
          },
          "colorscale": {
           "diverging": [
            [
             0,
             "#8e0152"
            ],
            [
             0.1,
             "#c51b7d"
            ],
            [
             0.2,
             "#de77ae"
            ],
            [
             0.3,
             "#f1b6da"
            ],
            [
             0.4,
             "#fde0ef"
            ],
            [
             0.5,
             "#f7f7f7"
            ],
            [
             0.6,
             "#e6f5d0"
            ],
            [
             0.7,
             "#b8e186"
            ],
            [
             0.8,
             "#7fbc41"
            ],
            [
             0.9,
             "#4d9221"
            ],
            [
             1,
             "#276419"
            ]
           ],
           "sequential": [
            [
             0,
             "#0d0887"
            ],
            [
             0.1111111111111111,
             "#46039f"
            ],
            [
             0.2222222222222222,
             "#7201a8"
            ],
            [
             0.3333333333333333,
             "#9c179e"
            ],
            [
             0.4444444444444444,
             "#bd3786"
            ],
            [
             0.5555555555555556,
             "#d8576b"
            ],
            [
             0.6666666666666666,
             "#ed7953"
            ],
            [
             0.7777777777777778,
             "#fb9f3a"
            ],
            [
             0.8888888888888888,
             "#fdca26"
            ],
            [
             1,
             "#f0f921"
            ]
           ],
           "sequentialminus": [
            [
             0,
             "#0d0887"
            ],
            [
             0.1111111111111111,
             "#46039f"
            ],
            [
             0.2222222222222222,
             "#7201a8"
            ],
            [
             0.3333333333333333,
             "#9c179e"
            ],
            [
             0.4444444444444444,
             "#bd3786"
            ],
            [
             0.5555555555555556,
             "#d8576b"
            ],
            [
             0.6666666666666666,
             "#ed7953"
            ],
            [
             0.7777777777777778,
             "#fb9f3a"
            ],
            [
             0.8888888888888888,
             "#fdca26"
            ],
            [
             1,
             "#f0f921"
            ]
           ]
          },
          "colorway": [
           "#636efa",
           "#EF553B",
           "#00cc96",
           "#ab63fa",
           "#FFA15A",
           "#19d3f3",
           "#FF6692",
           "#B6E880",
           "#FF97FF",
           "#FECB52"
          ],
          "font": {
           "color": "#2a3f5f"
          },
          "geo": {
           "bgcolor": "white",
           "lakecolor": "white",
           "landcolor": "#E5ECF6",
           "showlakes": true,
           "showland": true,
           "subunitcolor": "white"
          },
          "hoverlabel": {
           "align": "left"
          },
          "hovermode": "closest",
          "mapbox": {
           "style": "light"
          },
          "paper_bgcolor": "white",
          "plot_bgcolor": "#E5ECF6",
          "polar": {
           "angularaxis": {
            "gridcolor": "white",
            "linecolor": "white",
            "ticks": ""
           },
           "bgcolor": "#E5ECF6",
           "radialaxis": {
            "gridcolor": "white",
            "linecolor": "white",
            "ticks": ""
           }
          },
          "scene": {
           "xaxis": {
            "backgroundcolor": "#E5ECF6",
            "gridcolor": "white",
            "gridwidth": 2,
            "linecolor": "white",
            "showbackground": true,
            "ticks": "",
            "zerolinecolor": "white"
           },
           "yaxis": {
            "backgroundcolor": "#E5ECF6",
            "gridcolor": "white",
            "gridwidth": 2,
            "linecolor": "white",
            "showbackground": true,
            "ticks": "",
            "zerolinecolor": "white"
           },
           "zaxis": {
            "backgroundcolor": "#E5ECF6",
            "gridcolor": "white",
            "gridwidth": 2,
            "linecolor": "white",
            "showbackground": true,
            "ticks": "",
            "zerolinecolor": "white"
           }
          },
          "shapedefaults": {
           "line": {
            "color": "#2a3f5f"
           }
          },
          "ternary": {
           "aaxis": {
            "gridcolor": "white",
            "linecolor": "white",
            "ticks": ""
           },
           "baxis": {
            "gridcolor": "white",
            "linecolor": "white",
            "ticks": ""
           },
           "bgcolor": "#E5ECF6",
           "caxis": {
            "gridcolor": "white",
            "linecolor": "white",
            "ticks": ""
           }
          },
          "title": {
           "x": 0.05
          },
          "xaxis": {
           "automargin": true,
           "gridcolor": "white",
           "linecolor": "white",
           "ticks": "",
           "title": {
            "standoff": 15
           },
           "zerolinecolor": "white",
           "zerolinewidth": 2
          },
          "yaxis": {
           "automargin": true,
           "gridcolor": "white",
           "linecolor": "white",
           "ticks": "",
           "title": {
            "standoff": 15
           },
           "zerolinecolor": "white",
           "zerolinewidth": 2
          }
         }
        }
       }
      }
     },
     "metadata": {},
     "output_type": "display_data"
    }
   ],
   "source": [
    "px.scatter_3d(time_wise, x=\"STATE/UT\", y=\"YEAR\", \n",
    "                z=\"MIDNIGHT\", color=\"DAWN\", height=700)"
   ]
  },
  {
   "cell_type": "code",
   "execution_count": 9,
   "metadata": {},
   "outputs": [
    {
     "ename": "ValueError",
     "evalue": "Value of 'x' is not the name of a column in 'data_frame'. Expected one of ['country', 'continent', 'year', 'lifeExp', 'pop', 'gdpPercap', 'iso_alpha', 'iso_num'] but received: STATE/UT",
     "output_type": "error",
     "traceback": [
      "\u001b[1;31m---------------------------------------------------------------------------\u001b[0m",
      "\u001b[1;31mValueError\u001b[0m                                Traceback (most recent call last)",
      "Cell \u001b[1;32mIn[9], line 2\u001b[0m\n\u001b[0;32m      1\u001b[0m gap \u001b[39m=\u001b[39m px\u001b[39m.\u001b[39mdata\u001b[39m.\u001b[39mgapminder()\n\u001b[1;32m----> 2\u001b[0m px\u001b[39m.\u001b[39;49mscatter(gap, x\u001b[39m=\u001b[39;49m\u001b[39m\"\u001b[39;49m\u001b[39mSTATE/UT\u001b[39;49m\u001b[39m\"\u001b[39;49m, y\u001b[39m=\u001b[39;49m\u001b[39m\"\u001b[39;49m\u001b[39mYEAR\u001b[39;49m\u001b[39m\"\u001b[39;49m, animation_frame\u001b[39m=\u001b[39;49m\u001b[39m\"\u001b[39;49m\u001b[39mTotal\u001b[39;49m\u001b[39m\"\u001b[39;49m,\n\u001b[0;32m      3\u001b[0m            animation_group\u001b[39m=\u001b[39;49m\u001b[39m\"\u001b[39;49m\u001b[39mcountry\u001b[39;49m\u001b[39m\"\u001b[39;49m, size\u001b[39m=\u001b[39;49m\u001b[39m\"\u001b[39;49m\u001b[39mpop\u001b[39;49m\u001b[39m\"\u001b[39;49m, color\u001b[39m=\u001b[39;49m\u001b[39m\"\u001b[39;49m\u001b[39mcontinent\u001b[39;49m\u001b[39m\"\u001b[39;49m,\n\u001b[0;32m      4\u001b[0m            hover_name\u001b[39m=\u001b[39;49m\u001b[39m\"\u001b[39;49m\u001b[39mcountry\u001b[39;49m\u001b[39m\"\u001b[39;49m, log_x\u001b[39m=\u001b[39;49m\u001b[39mTrue\u001b[39;49;00m, size_max\u001b[39m=\u001b[39;49m\u001b[39m55\u001b[39;49m,\n\u001b[0;32m      5\u001b[0m            range_x\u001b[39m=\u001b[39;49m[\u001b[39m100\u001b[39;49m,\u001b[39m100000\u001b[39;49m], range_y\u001b[39m=\u001b[39;49m[\u001b[39m25\u001b[39;49m,\u001b[39m90\u001b[39;49m])\n",
      "File \u001b[1;32mc:\\Users\\Abhihek\\miniconda3\\lib\\site-packages\\plotly\\express\\_chart_types.py:66\u001b[0m, in \u001b[0;36mscatter\u001b[1;34m(data_frame, x, y, color, symbol, size, hover_name, hover_data, custom_data, text, facet_row, facet_col, facet_col_wrap, facet_row_spacing, facet_col_spacing, error_x, error_x_minus, error_y, error_y_minus, animation_frame, animation_group, category_orders, labels, orientation, color_discrete_sequence, color_discrete_map, color_continuous_scale, range_color, color_continuous_midpoint, symbol_sequence, symbol_map, opacity, size_max, marginal_x, marginal_y, trendline, trendline_options, trendline_color_override, trendline_scope, log_x, log_y, range_x, range_y, render_mode, title, template, width, height)\u001b[0m\n\u001b[0;32m     12\u001b[0m \u001b[39mdef\u001b[39;00m \u001b[39mscatter\u001b[39m(\n\u001b[0;32m     13\u001b[0m     data_frame\u001b[39m=\u001b[39m\u001b[39mNone\u001b[39;00m,\n\u001b[0;32m     14\u001b[0m     x\u001b[39m=\u001b[39m\u001b[39mNone\u001b[39;00m,\n\u001b[1;32m   (...)\u001b[0m\n\u001b[0;32m     60\u001b[0m     height\u001b[39m=\u001b[39m\u001b[39mNone\u001b[39;00m,\n\u001b[0;32m     61\u001b[0m ) \u001b[39m-\u001b[39m\u001b[39m>\u001b[39m go\u001b[39m.\u001b[39mFigure:\n\u001b[0;32m     62\u001b[0m \u001b[39m    \u001b[39m\u001b[39m\"\"\"\u001b[39;00m\n\u001b[0;32m     63\u001b[0m \u001b[39m    In a scatter plot, each row of `data_frame` is represented by a symbol\u001b[39;00m\n\u001b[0;32m     64\u001b[0m \u001b[39m    mark in 2D space.\u001b[39;00m\n\u001b[0;32m     65\u001b[0m \u001b[39m    \"\"\"\u001b[39;00m\n\u001b[1;32m---> 66\u001b[0m     \u001b[39mreturn\u001b[39;00m make_figure(args\u001b[39m=\u001b[39;49m\u001b[39mlocals\u001b[39;49m(), constructor\u001b[39m=\u001b[39;49mgo\u001b[39m.\u001b[39;49mScatter)\n",
      "File \u001b[1;32mc:\\Users\\Abhihek\\miniconda3\\lib\\site-packages\\plotly\\express\\_core.py:1996\u001b[0m, in \u001b[0;36mmake_figure\u001b[1;34m(args, constructor, trace_patch, layout_patch)\u001b[0m\n\u001b[0;32m   1993\u001b[0m layout_patch \u001b[39m=\u001b[39m layout_patch \u001b[39mor\u001b[39;00m {}\n\u001b[0;32m   1994\u001b[0m apply_default_cascade(args)\n\u001b[1;32m-> 1996\u001b[0m args \u001b[39m=\u001b[39m build_dataframe(args, constructor)\n\u001b[0;32m   1997\u001b[0m \u001b[39mif\u001b[39;00m constructor \u001b[39min\u001b[39;00m [go\u001b[39m.\u001b[39mTreemap, go\u001b[39m.\u001b[39mSunburst, go\u001b[39m.\u001b[39mIcicle] \u001b[39mand\u001b[39;00m args[\u001b[39m\"\u001b[39m\u001b[39mpath\u001b[39m\u001b[39m\"\u001b[39m] \u001b[39mis\u001b[39;00m \u001b[39mnot\u001b[39;00m \u001b[39mNone\u001b[39;00m:\n\u001b[0;32m   1998\u001b[0m     args \u001b[39m=\u001b[39m process_dataframe_hierarchy(args)\n",
      "File \u001b[1;32mc:\\Users\\Abhihek\\miniconda3\\lib\\site-packages\\plotly\\express\\_core.py:1409\u001b[0m, in \u001b[0;36mbuild_dataframe\u001b[1;34m(args, constructor)\u001b[0m\n\u001b[0;32m   1406\u001b[0m     args[\u001b[39m\"\u001b[39m\u001b[39mcolor\u001b[39m\u001b[39m\"\u001b[39m] \u001b[39m=\u001b[39m \u001b[39mNone\u001b[39;00m\n\u001b[0;32m   1407\u001b[0m \u001b[39m# now that things have been prepped, we do the systematic rewriting of `args`\u001b[39;00m\n\u001b[1;32m-> 1409\u001b[0m df_output, wide_id_vars \u001b[39m=\u001b[39m process_args_into_dataframe(\n\u001b[0;32m   1410\u001b[0m     args, wide_mode, var_name, value_name\n\u001b[0;32m   1411\u001b[0m )\n\u001b[0;32m   1413\u001b[0m \u001b[39m# now that `df_output` exists and `args` contains only references, we complete\u001b[39;00m\n\u001b[0;32m   1414\u001b[0m \u001b[39m# the special-case and wide-mode handling by further rewriting args and/or mutating\u001b[39;00m\n\u001b[0;32m   1415\u001b[0m \u001b[39m# df_output\u001b[39;00m\n\u001b[0;32m   1417\u001b[0m count_name \u001b[39m=\u001b[39m _escape_col_name(df_output, \u001b[39m\"\u001b[39m\u001b[39mcount\u001b[39m\u001b[39m\"\u001b[39m, [var_name, value_name])\n",
      "File \u001b[1;32mc:\\Users\\Abhihek\\miniconda3\\lib\\site-packages\\plotly\\express\\_core.py:1208\u001b[0m, in \u001b[0;36mprocess_args_into_dataframe\u001b[1;34m(args, wide_mode, var_name, value_name)\u001b[0m\n\u001b[0;32m   1206\u001b[0m         \u001b[39mif\u001b[39;00m argument \u001b[39m==\u001b[39m \u001b[39m\"\u001b[39m\u001b[39mindex\u001b[39m\u001b[39m\"\u001b[39m:\n\u001b[0;32m   1207\u001b[0m             err_msg \u001b[39m+\u001b[39m\u001b[39m=\u001b[39m \u001b[39m\"\u001b[39m\u001b[39m\\n\u001b[39;00m\u001b[39m To use the index, pass it in directly as `df.index`.\u001b[39m\u001b[39m\"\u001b[39m\n\u001b[1;32m-> 1208\u001b[0m         \u001b[39mraise\u001b[39;00m \u001b[39mValueError\u001b[39;00m(err_msg)\n\u001b[0;32m   1209\u001b[0m \u001b[39melif\u001b[39;00m length \u001b[39mand\u001b[39;00m \u001b[39mlen\u001b[39m(df_input[argument]) \u001b[39m!=\u001b[39m length:\n\u001b[0;32m   1210\u001b[0m     \u001b[39mraise\u001b[39;00m \u001b[39mValueError\u001b[39;00m(\n\u001b[0;32m   1211\u001b[0m         \u001b[39m\"\u001b[39m\u001b[39mAll arguments should have the same length. \u001b[39m\u001b[39m\"\u001b[39m\n\u001b[0;32m   1212\u001b[0m         \u001b[39m\"\u001b[39m\u001b[39mThe length of column argument `df[\u001b[39m\u001b[39m%s\u001b[39;00m\u001b[39m]` is \u001b[39m\u001b[39m%d\u001b[39;00m\u001b[39m, whereas the \u001b[39m\u001b[39m\"\u001b[39m\n\u001b[1;32m   (...)\u001b[0m\n\u001b[0;32m   1219\u001b[0m         )\n\u001b[0;32m   1220\u001b[0m     )\n",
      "\u001b[1;31mValueError\u001b[0m: Value of 'x' is not the name of a column in 'data_frame'. Expected one of ['country', 'continent', 'year', 'lifeExp', 'pop', 'gdpPercap', 'iso_alpha', 'iso_num'] but received: STATE/UT"
     ]
    }
   ],
   "source": [
    "gap = px.data.gapminder()\n",
    "px.scatter(gap, x=\"STATE/UT\", y=\"YEAR\", animation_frame=\"Total\",\n",
    "           animation_group=\"country\", size=\"pop\", color=\"continent\",\n",
    "           hover_name=\"country\", log_x=True, size_max=55,\n",
    "           range_x=[100,100000], range_y=[25,90])"
   ]
  },
  {
   "cell_type": "code",
   "execution_count": null,
   "metadata": {},
   "outputs": [],
   "source": [
    "px.scatter(time_wise, x=\"STATE/UT\", y=\"YEAR\", color=\"Total\")"
   ]
  }
 ],
 "metadata": {
  "kernelspec": {
   "display_name": "base",
   "language": "python",
   "name": "python3"
  },
  "language_info": {
   "codemirror_mode": {
    "name": "ipython",
    "version": 3
   },
   "file_extension": ".py",
   "mimetype": "text/x-python",
   "name": "python",
   "nbconvert_exporter": "python",
   "pygments_lexer": "ipython3",
   "version": "3.10.8"
  },
  "orig_nbformat": 4
 },
 "nbformat": 4,
 "nbformat_minor": 2
}
