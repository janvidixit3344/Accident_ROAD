{
 "cells": [
  {
   "cell_type": "code",
   "execution_count": null,
   "metadata": {},
   "outputs": [],
   "source": [
    "import pandas as pd\n",
    "import numpy as np\n",
    "import seaborn as sns\n",
    "import plotly.express as px\n",
    "import plotly.graph_objects as go\n",
    "import matplotlib.pyplot as plt"
   ]
  },
  {
   "cell_type": "code",
   "execution_count": null,
   "metadata": {},
   "outputs": [],
   "source": [
    "time_wise = pd.read_csv('Dataset/only_road_accidents_data3.csv')\n",
    "time_wise"
   ]
  },
  {
   "cell_type": "code",
   "execution_count": null,
   "metadata": {},
   "outputs": [],
   "source": [
    "time_wise.isnull().sum()"
   ]
  },
  {
   "cell_type": "code",
   "execution_count": null,
   "metadata": {},
   "outputs": [],
   "source": [
    "time_wise.rename(columns={\n",
    "    '0-3 hrs. (Night)':'MIDNIGHT',\n",
    "    '3-6 hrs. (Night)':'DAWN',\n",
    "    '6-9 hrs (Day)':'MORNING',\n",
    "    '9-12 hrs (Day)':'MIDDAY',\n",
    "    '12-15 hrs (Day)':'AFTERNOON',\n",
    "    '15-18 hrs (Day)':'DUSK',\n",
    "    '18-21 hrs (Night)':'EVENING',\n",
    "\n",
    "    '21-24 hrs (Night)':'NIGHT'}, inplace=True)"
   ]
  },
  {
   "cell_type": "code",
   "execution_count": null,
   "metadata": {},
   "outputs": [],
   "source": [
    "# YEARLY DATA \n",
    "grouped_obj = time_wise.groupby([\"STATE/UT\"]).sum()\n",
    "grouped_obj.drop(['YEAR'], axis=1, inplace=True)\n",
    "grouped_obj"
   ]
  },
  {
   "cell_type": "code",
   "execution_count": null,
   "metadata": {},
   "outputs": [],
   "source": [
    "# accident per state throughout the day\n",
    "time = ['MORNING','AFTERNOON','EVENING']\n",
    "fig = px.area(grouped_obj, x=grouped_obj.index, y=time, title='Accident per state throughout the day')\n",
    "conclusion = 'The graph shows that the accident in the evening is more than rest of the day.'\n",
    "fig.add_annotation(text=conclusion, xref='paper', yref='paper', x=.5, y=1, bgcolor='grey',  showarrow=False, font=dict(size=12))\n",
    "fig.show()"
   ]
  },
  {
   "cell_type": "code",
   "execution_count": null,
   "metadata": {},
   "outputs": [],
   "source": [
    "# accident per state in morning time\n",
    "time = ['MIDNIGHT','DAWN','MORNING']\n",
    "fig = px.area(grouped_obj, x=grouped_obj.index, y=time, title='Accident per state in morning time')\n",
    "conclusion = 'The graph shows that the accident in the morning is more than the midnight and dawn.'\n",
    "fig.add_annotation(text=conclusion, xref='paper', yref='paper', x=.5, y=1, bgcolor='grey', showarrow=False, font=dict(size=12))\n",
    "fig.show()"
   ]
  },
  {
   "cell_type": "code",
   "execution_count": null,
   "metadata": {},
   "outputs": [],
   "source": [
    "# accident per state in day time\n",
    "time = ['MIDDAY','AFTERNOON','DUSK']\n",
    "fig = px.area(grouped_obj, x=grouped_obj.index, y=time, title='Accident per state in day time')\n",
    "conclusion = 'The graph shows that the accident in the dusk is more than the midday and afternoon.'\n",
    "fig.add_annotation(text=conclusion, xref='paper', yref='paper', x=.5, y=1, bgcolor='grey', showarrow=False, font=dict(size=12))\n",
    "fig.show()"
   ]
  },
  {
   "cell_type": "code",
   "execution_count": null,
   "metadata": {},
   "outputs": [],
   "source": [
    "# accident per state in night time\n",
    "time = ['EVENING','NIGHT']\n",
    "fig = px.area(grouped_obj, x=grouped_obj.index, y=time, title='Accident per state in night time')\n",
    "conclusion = 'The graph shows that the accident in the night is more than evening.'\n",
    "fig.add_annotation(text=conclusion, xref='paper', yref='paper', x=.5, y=1, bgcolor='grey', showarrow=False, font=dict(size=12))\n",
    "fig.show()"
   ]
  },
  {
   "cell_type": "code",
   "execution_count": null,
   "metadata": {},
   "outputs": [],
   "source": [
    "# TOTAL DATA \n",
    "grouped_obj1= time_wise.groupby([\"YEAR\"]).sum()\n",
    "grouped_obj1"
   ]
  },
  {
   "cell_type": "code",
   "execution_count": null,
   "metadata": {},
   "outputs": [],
   "source": [
    "# accident yearly\n",
    "time = [\"MIDNIGHT\",\"DAWN\",\"MORNING\",\"MIDDAY\",\"AFTERNOON\",\"DUSK\",\"EVENING\",\"NIGHT\"]\n",
    "fig = px.area(grouped_obj1, x=grouped_obj1.index, y=time, title='Accident yearly')\n",
    "conclusion = 'The graph shows that accident year-wise.'\n",
    "fig.add_annotation(text=conclusion, xref='paper', yref='paper', x=.5, y=1, bgcolor='grey', showarrow=False, font=dict(size=12))\n",
    "fig.show()"
   ]
  }
 ],
 "metadata": {
  "kernelspec": {
   "display_name": "base",
   "language": "python",
   "name": "python3"
  },
  "language_info": {
   "codemirror_mode": {
    "name": "ipython",
    "version": 3
   },
   "file_extension": ".py",
   "mimetype": "text/x-python",
   "name": "python",
   "nbconvert_exporter": "python",
   "pygments_lexer": "ipython3",
   "version": "3.10.8"
  },
  "orig_nbformat": 4
 },
 "nbformat": 4,
 "nbformat_minor": 2
}
