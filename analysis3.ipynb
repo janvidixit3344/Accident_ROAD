{
 "cells": [
  {
   "cell_type": "code",
   "execution_count": 1,
   "metadata": {},
   "outputs": [],
   "source": [
    "import pandas as pd\n",
    "import numpy as np\n",
    "import seaborn as sns\n",
    "import plotly.express as px\n",
    "import plotly.graph_objects as go\n",
    "import matplotlib.pyplot as plt"
   ]
  },
  {
   "cell_type": "code",
   "execution_count": 2,
   "metadata": {},
   "outputs": [
    {
     "data": {
      "text/html": [
       "<div>\n",
       "<style scoped>\n",
       "    .dataframe tbody tr th:only-of-type {\n",
       "        vertical-align: middle;\n",
       "    }\n",
       "\n",
       "    .dataframe tbody tr th {\n",
       "        vertical-align: top;\n",
       "    }\n",
       "\n",
       "    .dataframe thead th {\n",
       "        text-align: right;\n",
       "    }\n",
       "</style>\n",
       "<table border=\"1\" class=\"dataframe\">\n",
       "  <thead>\n",
       "    <tr style=\"text-align: right;\">\n",
       "      <th></th>\n",
       "      <th>index</th>\n",
       "      <th>sno</th>\n",
       "      <th>stateut</th>\n",
       "      <th>region</th>\n",
       "      <th>regionid</th>\n",
       "      <th>alcintake2014</th>\n",
       "      <th>overspeed2014</th>\n",
       "      <th>overtaking2014</th>\n",
       "      <th>lanejumping2014</th>\n",
       "      <th>wrongside2014</th>\n",
       "      <th>...</th>\n",
       "      <th>asleep2014</th>\n",
       "      <th>othercause2014</th>\n",
       "      <th>alcintake2016</th>\n",
       "      <th>overspeed2016</th>\n",
       "      <th>signalavoid2016</th>\n",
       "      <th>wrongside2016</th>\n",
       "      <th>lanejumping2016</th>\n",
       "      <th>overtaking2016</th>\n",
       "      <th>asleep2016</th>\n",
       "      <th>othercause2016</th>\n",
       "    </tr>\n",
       "  </thead>\n",
       "  <tbody>\n",
       "    <tr>\n",
       "      <th>0</th>\n",
       "      <td>0</td>\n",
       "      <td>1</td>\n",
       "      <td>Andhra Pradesh</td>\n",
       "      <td>south</td>\n",
       "      <td>2</td>\n",
       "      <td>594</td>\n",
       "      <td>12747.0</td>\n",
       "      <td>507</td>\n",
       "      <td>328</td>\n",
       "      <td>668</td>\n",
       "      <td>...</td>\n",
       "      <td>154</td>\n",
       "      <td>1938</td>\n",
       "      <td>128</td>\n",
       "      <td>17286</td>\n",
       "      <td>40</td>\n",
       "      <td>667</td>\n",
       "      <td>325</td>\n",
       "      <td>1024</td>\n",
       "      <td>306</td>\n",
       "      <td>2868</td>\n",
       "    </tr>\n",
       "    <tr>\n",
       "      <th>1</th>\n",
       "      <td>1</td>\n",
       "      <td>2</td>\n",
       "      <td>Arunachal Pradesh</td>\n",
       "      <td>northeast</td>\n",
       "      <td>5</td>\n",
       "      <td>11</td>\n",
       "      <td>16.0</td>\n",
       "      <td>0</td>\n",
       "      <td>0</td>\n",
       "      <td>0</td>\n",
       "      <td>...</td>\n",
       "      <td>0</td>\n",
       "      <td>22</td>\n",
       "      <td>15</td>\n",
       "      <td>45</td>\n",
       "      <td>0</td>\n",
       "      <td>7</td>\n",
       "      <td>11</td>\n",
       "      <td>8</td>\n",
       "      <td>8</td>\n",
       "      <td>18</td>\n",
       "    </tr>\n",
       "    <tr>\n",
       "      <th>2</th>\n",
       "      <td>2</td>\n",
       "      <td>3</td>\n",
       "      <td>Assam</td>\n",
       "      <td>northeast</td>\n",
       "      <td>5</td>\n",
       "      <td>613</td>\n",
       "      <td>4596.0</td>\n",
       "      <td>129</td>\n",
       "      <td>104</td>\n",
       "      <td>156</td>\n",
       "      <td>...</td>\n",
       "      <td>3</td>\n",
       "      <td>628</td>\n",
       "      <td>352</td>\n",
       "      <td>3520</td>\n",
       "      <td>64</td>\n",
       "      <td>334</td>\n",
       "      <td>156</td>\n",
       "      <td>371</td>\n",
       "      <td>3</td>\n",
       "      <td>873</td>\n",
       "    </tr>\n",
       "    <tr>\n",
       "      <th>3</th>\n",
       "      <td>3</td>\n",
       "      <td>4</td>\n",
       "      <td>Bihar</td>\n",
       "      <td>north</td>\n",
       "      <td>1</td>\n",
       "      <td>1680</td>\n",
       "      <td>1496.0</td>\n",
       "      <td>278</td>\n",
       "      <td>236</td>\n",
       "      <td>308</td>\n",
       "      <td>...</td>\n",
       "      <td>72</td>\n",
       "      <td>439</td>\n",
       "      <td>593</td>\n",
       "      <td>2323</td>\n",
       "      <td>8</td>\n",
       "      <td>458</td>\n",
       "      <td>156</td>\n",
       "      <td>573</td>\n",
       "      <td>122</td>\n",
       "      <td>612</td>\n",
       "    </tr>\n",
       "    <tr>\n",
       "      <th>4</th>\n",
       "      <td>4</td>\n",
       "      <td>5</td>\n",
       "      <td>Chhattisgarh</td>\n",
       "      <td>centre</td>\n",
       "      <td>9</td>\n",
       "      <td>335</td>\n",
       "      <td>6720.0</td>\n",
       "      <td>188</td>\n",
       "      <td>313</td>\n",
       "      <td>266</td>\n",
       "      <td>...</td>\n",
       "      <td>81</td>\n",
       "      <td>520</td>\n",
       "      <td>145</td>\n",
       "      <td>6660</td>\n",
       "      <td>62</td>\n",
       "      <td>410</td>\n",
       "      <td>175</td>\n",
       "      <td>467</td>\n",
       "      <td>144</td>\n",
       "      <td>953</td>\n",
       "    </tr>\n",
       "    <tr>\n",
       "      <th>5</th>\n",
       "      <td>5</td>\n",
       "      <td>6</td>\n",
       "      <td>Goa</td>\n",
       "      <td>west</td>\n",
       "      <td>4</td>\n",
       "      <td>9</td>\n",
       "      <td>3148.0</td>\n",
       "      <td>33</td>\n",
       "      <td>8</td>\n",
       "      <td>61</td>\n",
       "      <td>...</td>\n",
       "      <td>4</td>\n",
       "      <td>159</td>\n",
       "      <td>3</td>\n",
       "      <td>3883</td>\n",
       "      <td>0</td>\n",
       "      <td>19</td>\n",
       "      <td>0</td>\n",
       "      <td>80</td>\n",
       "      <td>4</td>\n",
       "      <td>247</td>\n",
       "    </tr>\n",
       "    <tr>\n",
       "      <th>6</th>\n",
       "      <td>6</td>\n",
       "      <td>7</td>\n",
       "      <td>Gujarat</td>\n",
       "      <td>west</td>\n",
       "      <td>4</td>\n",
       "      <td>42</td>\n",
       "      <td>13752.0</td>\n",
       "      <td>641</td>\n",
       "      <td>370</td>\n",
       "      <td>394</td>\n",
       "      <td>...</td>\n",
       "      <td>95</td>\n",
       "      <td>283</td>\n",
       "      <td>64</td>\n",
       "      <td>13314</td>\n",
       "      <td>261</td>\n",
       "      <td>733</td>\n",
       "      <td>662</td>\n",
       "      <td>1016</td>\n",
       "      <td>156</td>\n",
       "      <td>904</td>\n",
       "    </tr>\n",
       "    <tr>\n",
       "      <th>7</th>\n",
       "      <td>7</td>\n",
       "      <td>8</td>\n",
       "      <td>Haryana</td>\n",
       "      <td>north</td>\n",
       "      <td>1</td>\n",
       "      <td>1095</td>\n",
       "      <td>4185.0</td>\n",
       "      <td>206</td>\n",
       "      <td>179</td>\n",
       "      <td>393</td>\n",
       "      <td>...</td>\n",
       "      <td>154</td>\n",
       "      <td>292</td>\n",
       "      <td>529</td>\n",
       "      <td>2344</td>\n",
       "      <td>592</td>\n",
       "      <td>913</td>\n",
       "      <td>690</td>\n",
       "      <td>1134</td>\n",
       "      <td>462</td>\n",
       "      <td>1210</td>\n",
       "    </tr>\n",
       "    <tr>\n",
       "      <th>8</th>\n",
       "      <td>8</td>\n",
       "      <td>9</td>\n",
       "      <td>Himachal Pradesh</td>\n",
       "      <td>north</td>\n",
       "      <td>1</td>\n",
       "      <td>74</td>\n",
       "      <td>2763.0</td>\n",
       "      <td>21</td>\n",
       "      <td>10</td>\n",
       "      <td>43</td>\n",
       "      <td>...</td>\n",
       "      <td>0</td>\n",
       "      <td>0</td>\n",
       "      <td>72</td>\n",
       "      <td>516</td>\n",
       "      <td>0</td>\n",
       "      <td>21</td>\n",
       "      <td>78</td>\n",
       "      <td>195</td>\n",
       "      <td>0</td>\n",
       "      <td>1392</td>\n",
       "    </tr>\n",
       "    <tr>\n",
       "      <th>9</th>\n",
       "      <td>9</td>\n",
       "      <td>10</td>\n",
       "      <td>Jammu &amp; Kashmir</td>\n",
       "      <td>north</td>\n",
       "      <td>1</td>\n",
       "      <td>388</td>\n",
       "      <td>2859.0</td>\n",
       "      <td>67</td>\n",
       "      <td>29</td>\n",
       "      <td>58</td>\n",
       "      <td>...</td>\n",
       "      <td>0</td>\n",
       "      <td>315</td>\n",
       "      <td>47</td>\n",
       "      <td>2428</td>\n",
       "      <td>0</td>\n",
       "      <td>14</td>\n",
       "      <td>2</td>\n",
       "      <td>18</td>\n",
       "      <td>0</td>\n",
       "      <td>633</td>\n",
       "    </tr>\n",
       "    <tr>\n",
       "      <th>10</th>\n",
       "      <td>10</td>\n",
       "      <td>11</td>\n",
       "      <td>Jharkhand</td>\n",
       "      <td>centre</td>\n",
       "      <td>9</td>\n",
       "      <td>611</td>\n",
       "      <td>1627.0</td>\n",
       "      <td>68</td>\n",
       "      <td>149</td>\n",
       "      <td>221</td>\n",
       "      <td>...</td>\n",
       "      <td>6</td>\n",
       "      <td>25</td>\n",
       "      <td>543</td>\n",
       "      <td>652</td>\n",
       "      <td>37</td>\n",
       "      <td>169</td>\n",
       "      <td>110</td>\n",
       "      <td>155</td>\n",
       "      <td>0</td>\n",
       "      <td>0</td>\n",
       "    </tr>\n",
       "    <tr>\n",
       "      <th>11</th>\n",
       "      <td>11</td>\n",
       "      <td>12</td>\n",
       "      <td>Karnataka</td>\n",
       "      <td>south</td>\n",
       "      <td>2</td>\n",
       "      <td>2207</td>\n",
       "      <td>23370.0</td>\n",
       "      <td>944</td>\n",
       "      <td>455</td>\n",
       "      <td>877</td>\n",
       "      <td>...</td>\n",
       "      <td>145</td>\n",
       "      <td>4700</td>\n",
       "      <td>396</td>\n",
       "      <td>31506</td>\n",
       "      <td>228</td>\n",
       "      <td>900</td>\n",
       "      <td>292</td>\n",
       "      <td>1019</td>\n",
       "      <td>40</td>\n",
       "      <td>4955</td>\n",
       "    </tr>\n",
       "    <tr>\n",
       "      <th>12</th>\n",
       "      <td>12</td>\n",
       "      <td>13</td>\n",
       "      <td>Kerala</td>\n",
       "      <td>south</td>\n",
       "      <td>2</td>\n",
       "      <td>35</td>\n",
       "      <td>20611.0</td>\n",
       "      <td>1217</td>\n",
       "      <td>1178</td>\n",
       "      <td>1138</td>\n",
       "      <td>...</td>\n",
       "      <td>1393</td>\n",
       "      <td>86</td>\n",
       "      <td>133</td>\n",
       "      <td>34062</td>\n",
       "      <td>406</td>\n",
       "      <td>1254</td>\n",
       "      <td>121</td>\n",
       "      <td>2175</td>\n",
       "      <td>61</td>\n",
       "      <td>50</td>\n",
       "    </tr>\n",
       "    <tr>\n",
       "      <th>13</th>\n",
       "      <td>13</td>\n",
       "      <td>14</td>\n",
       "      <td>Madhya Pradesh</td>\n",
       "      <td>centre</td>\n",
       "      <td>9</td>\n",
       "      <td>3540</td>\n",
       "      <td>20967.0</td>\n",
       "      <td>1165</td>\n",
       "      <td>1526</td>\n",
       "      <td>932</td>\n",
       "      <td>...</td>\n",
       "      <td>86</td>\n",
       "      <td>4130</td>\n",
       "      <td>3083</td>\n",
       "      <td>28017</td>\n",
       "      <td>413</td>\n",
       "      <td>1300</td>\n",
       "      <td>657</td>\n",
       "      <td>4091</td>\n",
       "      <td>681</td>\n",
       "      <td>4589</td>\n",
       "    </tr>\n",
       "    <tr>\n",
       "      <th>14</th>\n",
       "      <td>14</td>\n",
       "      <td>15</td>\n",
       "      <td>Maharashtra</td>\n",
       "      <td>west</td>\n",
       "      <td>4</td>\n",
       "      <td>1251</td>\n",
       "      <td>29790.0</td>\n",
       "      <td>1687</td>\n",
       "      <td>897</td>\n",
       "      <td>796</td>\n",
       "      <td>...</td>\n",
       "      <td>129</td>\n",
       "      <td>5537</td>\n",
       "      <td>226</td>\n",
       "      <td>23643</td>\n",
       "      <td>97</td>\n",
       "      <td>1922</td>\n",
       "      <td>765</td>\n",
       "      <td>1883</td>\n",
       "      <td>378</td>\n",
       "      <td>3883</td>\n",
       "    </tr>\n",
       "    <tr>\n",
       "      <th>15</th>\n",
       "      <td>15</td>\n",
       "      <td>16</td>\n",
       "      <td>Manipur</td>\n",
       "      <td>northeast</td>\n",
       "      <td>5</td>\n",
       "      <td>0</td>\n",
       "      <td>0.0</td>\n",
       "      <td>0</td>\n",
       "      <td>0</td>\n",
       "      <td>0</td>\n",
       "      <td>...</td>\n",
       "      <td>0</td>\n",
       "      <td>0</td>\n",
       "      <td>71</td>\n",
       "      <td>57</td>\n",
       "      <td>0</td>\n",
       "      <td>39</td>\n",
       "      <td>0</td>\n",
       "      <td>46</td>\n",
       "      <td>30</td>\n",
       "      <td>66</td>\n",
       "    </tr>\n",
       "    <tr>\n",
       "      <th>16</th>\n",
       "      <td>16</td>\n",
       "      <td>17</td>\n",
       "      <td>Meghalaya</td>\n",
       "      <td>northeast</td>\n",
       "      <td>5</td>\n",
       "      <td>25</td>\n",
       "      <td>40.0</td>\n",
       "      <td>0</td>\n",
       "      <td>0</td>\n",
       "      <td>0</td>\n",
       "      <td>...</td>\n",
       "      <td>0</td>\n",
       "      <td>0</td>\n",
       "      <td>35</td>\n",
       "      <td>146</td>\n",
       "      <td>0</td>\n",
       "      <td>0</td>\n",
       "      <td>0</td>\n",
       "      <td>0</td>\n",
       "      <td>0</td>\n",
       "      <td>0</td>\n",
       "    </tr>\n",
       "    <tr>\n",
       "      <th>17</th>\n",
       "      <td>17</td>\n",
       "      <td>18</td>\n",
       "      <td>Mizoram</td>\n",
       "      <td>east</td>\n",
       "      <td>3</td>\n",
       "      <td>16</td>\n",
       "      <td>48.0</td>\n",
       "      <td>24</td>\n",
       "      <td>0</td>\n",
       "      <td>1</td>\n",
       "      <td>...</td>\n",
       "      <td>0</td>\n",
       "      <td>28</td>\n",
       "      <td>27</td>\n",
       "      <td>14</td>\n",
       "      <td>0</td>\n",
       "      <td>2</td>\n",
       "      <td>0</td>\n",
       "      <td>6</td>\n",
       "      <td>7</td>\n",
       "      <td>11</td>\n",
       "    </tr>\n",
       "    <tr>\n",
       "      <th>18</th>\n",
       "      <td>18</td>\n",
       "      <td>19</td>\n",
       "      <td>Nagaland</td>\n",
       "      <td>northeast</td>\n",
       "      <td>5</td>\n",
       "      <td>91</td>\n",
       "      <td>51.0</td>\n",
       "      <td>0</td>\n",
       "      <td>0</td>\n",
       "      <td>26</td>\n",
       "      <td>...</td>\n",
       "      <td>0</td>\n",
       "      <td>70</td>\n",
       "      <td>13</td>\n",
       "      <td>11</td>\n",
       "      <td>0</td>\n",
       "      <td>0</td>\n",
       "      <td>0</td>\n",
       "      <td>0</td>\n",
       "      <td>0</td>\n",
       "      <td>0</td>\n",
       "    </tr>\n",
       "    <tr>\n",
       "      <th>19</th>\n",
       "      <td>19</td>\n",
       "      <td>20</td>\n",
       "      <td>Orissa</td>\n",
       "      <td>centre</td>\n",
       "      <td>9</td>\n",
       "      <td>637</td>\n",
       "      <td>3699.0</td>\n",
       "      <td>336</td>\n",
       "      <td>286</td>\n",
       "      <td>519</td>\n",
       "      <td>...</td>\n",
       "      <td>161</td>\n",
       "      <td>326</td>\n",
       "      <td>1255</td>\n",
       "      <td>4984</td>\n",
       "      <td>75</td>\n",
       "      <td>565</td>\n",
       "      <td>188</td>\n",
       "      <td>1194</td>\n",
       "      <td>80</td>\n",
       "      <td>1375</td>\n",
       "    </tr>\n",
       "    <tr>\n",
       "      <th>20</th>\n",
       "      <td>20</td>\n",
       "      <td>21</td>\n",
       "      <td>Punjab</td>\n",
       "      <td>north</td>\n",
       "      <td>1</td>\n",
       "      <td>442</td>\n",
       "      <td>2253.0</td>\n",
       "      <td>60</td>\n",
       "      <td>211</td>\n",
       "      <td>127</td>\n",
       "      <td>...</td>\n",
       "      <td>34</td>\n",
       "      <td>153</td>\n",
       "      <td>317</td>\n",
       "      <td>2517</td>\n",
       "      <td>180</td>\n",
       "      <td>512</td>\n",
       "      <td>194</td>\n",
       "      <td>585</td>\n",
       "      <td>17</td>\n",
       "      <td>498</td>\n",
       "    </tr>\n",
       "    <tr>\n",
       "      <th>21</th>\n",
       "      <td>21</td>\n",
       "      <td>22</td>\n",
       "      <td>Rajasthan</td>\n",
       "      <td>northwest</td>\n",
       "      <td>6</td>\n",
       "      <td>915</td>\n",
       "      <td>11395.0</td>\n",
       "      <td>102</td>\n",
       "      <td>1157</td>\n",
       "      <td>656</td>\n",
       "      <td>...</td>\n",
       "      <td>176</td>\n",
       "      <td>1803</td>\n",
       "      <td>673</td>\n",
       "      <td>13358</td>\n",
       "      <td>0</td>\n",
       "      <td>981</td>\n",
       "      <td>217</td>\n",
       "      <td>1345</td>\n",
       "      <td>222</td>\n",
       "      <td>5012</td>\n",
       "    </tr>\n",
       "    <tr>\n",
       "      <th>22</th>\n",
       "      <td>22</td>\n",
       "      <td>23</td>\n",
       "      <td>Sikkim</td>\n",
       "      <td>northeast</td>\n",
       "      <td>5</td>\n",
       "      <td>8</td>\n",
       "      <td>28.0</td>\n",
       "      <td>0</td>\n",
       "      <td>0</td>\n",
       "      <td>0</td>\n",
       "      <td>...</td>\n",
       "      <td>0</td>\n",
       "      <td>51</td>\n",
       "      <td>12</td>\n",
       "      <td>45</td>\n",
       "      <td>0</td>\n",
       "      <td>20</td>\n",
       "      <td>0</td>\n",
       "      <td>17</td>\n",
       "      <td>0</td>\n",
       "      <td>0</td>\n",
       "    </tr>\n",
       "    <tr>\n",
       "      <th>23</th>\n",
       "      <td>23</td>\n",
       "      <td>24</td>\n",
       "      <td>Tamil Nadu</td>\n",
       "      <td>south</td>\n",
       "      <td>2</td>\n",
       "      <td>1416</td>\n",
       "      <td>28804.0</td>\n",
       "      <td>2171</td>\n",
       "      <td>1869</td>\n",
       "      <td>1529</td>\n",
       "      <td>...</td>\n",
       "      <td>161</td>\n",
       "      <td>6874</td>\n",
       "      <td>531</td>\n",
       "      <td>47055</td>\n",
       "      <td>1004</td>\n",
       "      <td>3209</td>\n",
       "      <td>2367</td>\n",
       "      <td>7155</td>\n",
       "      <td>671</td>\n",
       "      <td>4866</td>\n",
       "    </tr>\n",
       "    <tr>\n",
       "      <th>24</th>\n",
       "      <td>24</td>\n",
       "      <td>25</td>\n",
       "      <td>Telangana</td>\n",
       "      <td>centre</td>\n",
       "      <td>9</td>\n",
       "      <td>968</td>\n",
       "      <td>6266.0</td>\n",
       "      <td>526</td>\n",
       "      <td>232</td>\n",
       "      <td>570</td>\n",
       "      <td>...</td>\n",
       "      <td>157</td>\n",
       "      <td>4065</td>\n",
       "      <td>202</td>\n",
       "      <td>13615</td>\n",
       "      <td>52</td>\n",
       "      <td>156</td>\n",
       "      <td>37</td>\n",
       "      <td>539</td>\n",
       "      <td>14</td>\n",
       "      <td>1301</td>\n",
       "    </tr>\n",
       "    <tr>\n",
       "      <th>25</th>\n",
       "      <td>25</td>\n",
       "      <td>26</td>\n",
       "      <td>Tripura</td>\n",
       "      <td>east</td>\n",
       "      <td>3</td>\n",
       "      <td>12</td>\n",
       "      <td>499.0</td>\n",
       "      <td>0</td>\n",
       "      <td>7</td>\n",
       "      <td>29</td>\n",
       "      <td>...</td>\n",
       "      <td>0</td>\n",
       "      <td>0</td>\n",
       "      <td>5</td>\n",
       "      <td>413</td>\n",
       "      <td>0</td>\n",
       "      <td>15</td>\n",
       "      <td>0</td>\n",
       "      <td>56</td>\n",
       "      <td>0</td>\n",
       "      <td>28</td>\n",
       "    </tr>\n",
       "    <tr>\n",
       "      <th>26</th>\n",
       "      <td>26</td>\n",
       "      <td>27</td>\n",
       "      <td>Uttarakhand</td>\n",
       "      <td>north</td>\n",
       "      <td>1</td>\n",
       "      <td>508</td>\n",
       "      <td>94.0</td>\n",
       "      <td>15</td>\n",
       "      <td>69</td>\n",
       "      <td>99</td>\n",
       "      <td>...</td>\n",
       "      <td>0</td>\n",
       "      <td>72</td>\n",
       "      <td>40</td>\n",
       "      <td>736</td>\n",
       "      <td>0</td>\n",
       "      <td>105</td>\n",
       "      <td>0</td>\n",
       "      <td>132</td>\n",
       "      <td>0</td>\n",
       "      <td>70</td>\n",
       "    </tr>\n",
       "    <tr>\n",
       "      <th>27</th>\n",
       "      <td>27</td>\n",
       "      <td>28</td>\n",
       "      <td>Uttar Pradesh</td>\n",
       "      <td>north</td>\n",
       "      <td>1</td>\n",
       "      <td>1232</td>\n",
       "      <td>2561.0</td>\n",
       "      <td>392</td>\n",
       "      <td>362</td>\n",
       "      <td>763</td>\n",
       "      <td>...</td>\n",
       "      <td>238</td>\n",
       "      <td>1915</td>\n",
       "      <td>4633</td>\n",
       "      <td>10184</td>\n",
       "      <td>632</td>\n",
       "      <td>2560</td>\n",
       "      <td>1123</td>\n",
       "      <td>3937</td>\n",
       "      <td>1121</td>\n",
       "      <td>4093</td>\n",
       "    </tr>\n",
       "    <tr>\n",
       "      <th>28</th>\n",
       "      <td>28</td>\n",
       "      <td>29</td>\n",
       "      <td>West Bengal</td>\n",
       "      <td>east</td>\n",
       "      <td>3</td>\n",
       "      <td>0</td>\n",
       "      <td>3339.0</td>\n",
       "      <td>257</td>\n",
       "      <td>179</td>\n",
       "      <td>205</td>\n",
       "      <td>...</td>\n",
       "      <td>49</td>\n",
       "      <td>1356</td>\n",
       "      <td>462</td>\n",
       "      <td>1473</td>\n",
       "      <td>90</td>\n",
       "      <td>93</td>\n",
       "      <td>53</td>\n",
       "      <td>122</td>\n",
       "      <td>22</td>\n",
       "      <td>6915</td>\n",
       "    </tr>\n",
       "    <tr>\n",
       "      <th>29</th>\n",
       "      <td>29</td>\n",
       "      <td>30</td>\n",
       "      <td>A &amp; N Islands</td>\n",
       "      <td>southeast</td>\n",
       "      <td>7</td>\n",
       "      <td>25</td>\n",
       "      <td>94.0</td>\n",
       "      <td>7</td>\n",
       "      <td>20</td>\n",
       "      <td>11</td>\n",
       "      <td>...</td>\n",
       "      <td>0</td>\n",
       "      <td>0</td>\n",
       "      <td>27</td>\n",
       "      <td>124</td>\n",
       "      <td>2</td>\n",
       "      <td>31</td>\n",
       "      <td>0</td>\n",
       "      <td>15</td>\n",
       "      <td>0</td>\n",
       "      <td>39</td>\n",
       "    </tr>\n",
       "    <tr>\n",
       "      <th>30</th>\n",
       "      <td>30</td>\n",
       "      <td>31</td>\n",
       "      <td>Chandigarh</td>\n",
       "      <td>north</td>\n",
       "      <td>1</td>\n",
       "      <td>11</td>\n",
       "      <td>160.0</td>\n",
       "      <td>83</td>\n",
       "      <td>25</td>\n",
       "      <td>17</td>\n",
       "      <td>...</td>\n",
       "      <td>0</td>\n",
       "      <td>7</td>\n",
       "      <td>9</td>\n",
       "      <td>380</td>\n",
       "      <td>10</td>\n",
       "      <td>17</td>\n",
       "      <td>5</td>\n",
       "      <td>0</td>\n",
       "      <td>0</td>\n",
       "      <td>7</td>\n",
       "    </tr>\n",
       "    <tr>\n",
       "      <th>31</th>\n",
       "      <td>31</td>\n",
       "      <td>32</td>\n",
       "      <td>D &amp; N Haveli</td>\n",
       "      <td>west</td>\n",
       "      <td>4</td>\n",
       "      <td>1</td>\n",
       "      <td>21.0</td>\n",
       "      <td>0</td>\n",
       "      <td>0</td>\n",
       "      <td>0</td>\n",
       "      <td>...</td>\n",
       "      <td>0</td>\n",
       "      <td>65</td>\n",
       "      <td>0</td>\n",
       "      <td>8</td>\n",
       "      <td>0</td>\n",
       "      <td>5</td>\n",
       "      <td>0</td>\n",
       "      <td>5</td>\n",
       "      <td>2</td>\n",
       "      <td>4</td>\n",
       "    </tr>\n",
       "    <tr>\n",
       "      <th>32</th>\n",
       "      <td>32</td>\n",
       "      <td>33</td>\n",
       "      <td>Daman &amp; Diu</td>\n",
       "      <td>west</td>\n",
       "      <td>4</td>\n",
       "      <td>0</td>\n",
       "      <td>21.0</td>\n",
       "      <td>2</td>\n",
       "      <td>2</td>\n",
       "      <td>1</td>\n",
       "      <td>...</td>\n",
       "      <td>0</td>\n",
       "      <td>10</td>\n",
       "      <td>7</td>\n",
       "      <td>29</td>\n",
       "      <td>0</td>\n",
       "      <td>2</td>\n",
       "      <td>0</td>\n",
       "      <td>2</td>\n",
       "      <td>1</td>\n",
       "      <td>27</td>\n",
       "    </tr>\n",
       "    <tr>\n",
       "      <th>33</th>\n",
       "      <td>33</td>\n",
       "      <td>34</td>\n",
       "      <td>Delhi</td>\n",
       "      <td>north</td>\n",
       "      <td>1</td>\n",
       "      <td>51</td>\n",
       "      <td>NaN</td>\n",
       "      <td>0</td>\n",
       "      <td>0</td>\n",
       "      <td>0</td>\n",
       "      <td>...</td>\n",
       "      <td>0</td>\n",
       "      <td>0</td>\n",
       "      <td>164</td>\n",
       "      <td>1696</td>\n",
       "      <td>229</td>\n",
       "      <td>131</td>\n",
       "      <td>129</td>\n",
       "      <td>211</td>\n",
       "      <td>0</td>\n",
       "      <td>2838</td>\n",
       "    </tr>\n",
       "    <tr>\n",
       "      <th>34</th>\n",
       "      <td>34</td>\n",
       "      <td>35</td>\n",
       "      <td>Lakshadweep</td>\n",
       "      <td>southwest</td>\n",
       "      <td>8</td>\n",
       "      <td>0</td>\n",
       "      <td>1.0</td>\n",
       "      <td>0</td>\n",
       "      <td>0</td>\n",
       "      <td>0</td>\n",
       "      <td>...</td>\n",
       "      <td>0</td>\n",
       "      <td>0</td>\n",
       "      <td>0</td>\n",
       "      <td>0</td>\n",
       "      <td>0</td>\n",
       "      <td>0</td>\n",
       "      <td>0</td>\n",
       "      <td>0</td>\n",
       "      <td>0</td>\n",
       "      <td>0</td>\n",
       "    </tr>\n",
       "    <tr>\n",
       "      <th>35</th>\n",
       "      <td>35</td>\n",
       "      <td>36</td>\n",
       "      <td>Puducherry</td>\n",
       "      <td>south</td>\n",
       "      <td>2</td>\n",
       "      <td>73</td>\n",
       "      <td>250.0</td>\n",
       "      <td>136</td>\n",
       "      <td>0</td>\n",
       "      <td>8</td>\n",
       "      <td>...</td>\n",
       "      <td>15</td>\n",
       "      <td>417</td>\n",
       "      <td>82</td>\n",
       "      <td>1297</td>\n",
       "      <td>9</td>\n",
       "      <td>90</td>\n",
       "      <td>0</td>\n",
       "      <td>71</td>\n",
       "      <td>0</td>\n",
       "      <td>193</td>\n",
       "    </tr>\n",
       "  </tbody>\n",
       "</table>\n",
       "<p>36 rows × 21 columns</p>\n",
       "</div>"
      ],
      "text/plain": [
       "    index  sno            stateut     region  regionid  alcintake2014  \\\n",
       "0       0    1     Andhra Pradesh      south         2            594   \n",
       "1       1    2  Arunachal Pradesh  northeast         5             11   \n",
       "2       2    3              Assam  northeast         5            613   \n",
       "3       3    4              Bihar      north         1           1680   \n",
       "4       4    5       Chhattisgarh     centre         9            335   \n",
       "5       5    6                Goa       west         4              9   \n",
       "6       6    7            Gujarat       west         4             42   \n",
       "7       7    8            Haryana      north         1           1095   \n",
       "8       8    9   Himachal Pradesh      north         1             74   \n",
       "9       9   10    Jammu & Kashmir      north         1            388   \n",
       "10     10   11          Jharkhand     centre         9            611   \n",
       "11     11   12          Karnataka      south         2           2207   \n",
       "12     12   13             Kerala      south         2             35   \n",
       "13     13   14     Madhya Pradesh     centre         9           3540   \n",
       "14     14   15        Maharashtra       west         4           1251   \n",
       "15     15   16            Manipur  northeast         5              0   \n",
       "16     16   17          Meghalaya  northeast         5             25   \n",
       "17     17   18            Mizoram       east         3             16   \n",
       "18     18   19           Nagaland  northeast         5             91   \n",
       "19     19   20             Orissa     centre         9            637   \n",
       "20     20   21             Punjab      north         1            442   \n",
       "21     21   22          Rajasthan  northwest         6            915   \n",
       "22     22   23             Sikkim  northeast         5              8   \n",
       "23     23   24         Tamil Nadu      south         2           1416   \n",
       "24     24   25          Telangana     centre         9            968   \n",
       "25     25   26            Tripura       east         3             12   \n",
       "26     26   27        Uttarakhand      north         1            508   \n",
       "27     27   28      Uttar Pradesh      north         1           1232   \n",
       "28     28   29        West Bengal       east         3              0   \n",
       "29     29   30      A & N Islands  southeast         7             25   \n",
       "30     30   31         Chandigarh      north         1             11   \n",
       "31     31   32       D & N Haveli       west         4              1   \n",
       "32     32   33        Daman & Diu       west         4              0   \n",
       "33     33   34              Delhi      north         1             51   \n",
       "34     34   35        Lakshadweep  southwest         8              0   \n",
       "35     35   36         Puducherry      south         2             73   \n",
       "\n",
       "    overspeed2014  overtaking2014  lanejumping2014  wrongside2014  ...  \\\n",
       "0         12747.0             507              328            668  ...   \n",
       "1            16.0               0                0              0  ...   \n",
       "2          4596.0             129              104            156  ...   \n",
       "3          1496.0             278              236            308  ...   \n",
       "4          6720.0             188              313            266  ...   \n",
       "5          3148.0              33                8             61  ...   \n",
       "6         13752.0             641              370            394  ...   \n",
       "7          4185.0             206              179            393  ...   \n",
       "8          2763.0              21               10             43  ...   \n",
       "9          2859.0              67               29             58  ...   \n",
       "10         1627.0              68              149            221  ...   \n",
       "11        23370.0             944              455            877  ...   \n",
       "12        20611.0            1217             1178           1138  ...   \n",
       "13        20967.0            1165             1526            932  ...   \n",
       "14        29790.0            1687              897            796  ...   \n",
       "15            0.0               0                0              0  ...   \n",
       "16           40.0               0                0              0  ...   \n",
       "17           48.0              24                0              1  ...   \n",
       "18           51.0               0                0             26  ...   \n",
       "19         3699.0             336              286            519  ...   \n",
       "20         2253.0              60              211            127  ...   \n",
       "21        11395.0             102             1157            656  ...   \n",
       "22           28.0               0                0              0  ...   \n",
       "23        28804.0            2171             1869           1529  ...   \n",
       "24         6266.0             526              232            570  ...   \n",
       "25          499.0               0                7             29  ...   \n",
       "26           94.0              15               69             99  ...   \n",
       "27         2561.0             392              362            763  ...   \n",
       "28         3339.0             257              179            205  ...   \n",
       "29           94.0               7               20             11  ...   \n",
       "30          160.0              83               25             17  ...   \n",
       "31           21.0               0                0              0  ...   \n",
       "32           21.0               2                2              1  ...   \n",
       "33            NaN               0                0              0  ...   \n",
       "34            1.0               0                0              0  ...   \n",
       "35          250.0             136                0              8  ...   \n",
       "\n",
       "    asleep2014  othercause2014  alcintake2016  overspeed2016  signalavoid2016  \\\n",
       "0          154            1938            128          17286               40   \n",
       "1            0              22             15             45                0   \n",
       "2            3             628            352           3520               64   \n",
       "3           72             439            593           2323                8   \n",
       "4           81             520            145           6660               62   \n",
       "5            4             159              3           3883                0   \n",
       "6           95             283             64          13314              261   \n",
       "7          154             292            529           2344              592   \n",
       "8            0               0             72            516                0   \n",
       "9            0             315             47           2428                0   \n",
       "10           6              25            543            652               37   \n",
       "11         145            4700            396          31506              228   \n",
       "12        1393              86            133          34062              406   \n",
       "13          86            4130           3083          28017              413   \n",
       "14         129            5537            226          23643               97   \n",
       "15           0               0             71             57                0   \n",
       "16           0               0             35            146                0   \n",
       "17           0              28             27             14                0   \n",
       "18           0              70             13             11                0   \n",
       "19         161             326           1255           4984               75   \n",
       "20          34             153            317           2517              180   \n",
       "21         176            1803            673          13358                0   \n",
       "22           0              51             12             45                0   \n",
       "23         161            6874            531          47055             1004   \n",
       "24         157            4065            202          13615               52   \n",
       "25           0               0              5            413                0   \n",
       "26           0              72             40            736                0   \n",
       "27         238            1915           4633          10184              632   \n",
       "28          49            1356            462           1473               90   \n",
       "29           0               0             27            124                2   \n",
       "30           0               7              9            380               10   \n",
       "31           0              65              0              8                0   \n",
       "32           0              10              7             29                0   \n",
       "33           0               0            164           1696              229   \n",
       "34           0               0              0              0                0   \n",
       "35          15             417             82           1297                9   \n",
       "\n",
       "    wrongside2016  lanejumping2016  overtaking2016  asleep2016  othercause2016  \n",
       "0             667              325            1024         306            2868  \n",
       "1               7               11               8           8              18  \n",
       "2             334              156             371           3             873  \n",
       "3             458              156             573         122             612  \n",
       "4             410              175             467         144             953  \n",
       "5              19                0              80           4             247  \n",
       "6             733              662            1016         156             904  \n",
       "7             913              690            1134         462            1210  \n",
       "8              21               78             195           0            1392  \n",
       "9              14                2              18           0             633  \n",
       "10            169              110             155           0               0  \n",
       "11            900              292            1019          40            4955  \n",
       "12           1254              121            2175          61              50  \n",
       "13           1300              657            4091         681            4589  \n",
       "14           1922              765            1883         378            3883  \n",
       "15             39                0              46          30              66  \n",
       "16              0                0               0           0               0  \n",
       "17              2                0               6           7              11  \n",
       "18              0                0               0           0               0  \n",
       "19            565              188            1194          80            1375  \n",
       "20            512              194             585          17             498  \n",
       "21            981              217            1345         222            5012  \n",
       "22             20                0              17           0               0  \n",
       "23           3209             2367            7155         671            4866  \n",
       "24            156               37             539          14            1301  \n",
       "25             15                0              56           0              28  \n",
       "26            105                0             132           0              70  \n",
       "27           2560             1123            3937        1121            4093  \n",
       "28             93               53             122          22            6915  \n",
       "29             31                0              15           0              39  \n",
       "30             17                5               0           0               7  \n",
       "31              5                0               5           2               4  \n",
       "32              2                0               2           1              27  \n",
       "33            131              129             211           0            2838  \n",
       "34              0                0               0           0               0  \n",
       "35             90                0              71           0             193  \n",
       "\n",
       "[36 rows x 21 columns]"
      ]
     },
     "execution_count": 2,
     "metadata": {},
     "output_type": "execute_result"
    }
   ],
   "source": [
    "driver_response = pd.read_csv('Dataset/driverresponse.csv')\n",
    "driver_response"
   ]
  },
  {
   "cell_type": "code",
   "execution_count": 3,
   "metadata": {},
   "outputs": [
    {
     "data": {
      "text/plain": [
       "index              0\n",
       "sno                0\n",
       "stateut            0\n",
       "region             0\n",
       "regionid           0\n",
       "alcintake2014      0\n",
       "overspeed2014      1\n",
       "overtaking2014     0\n",
       "lanejumping2014    0\n",
       "wrongside2014      0\n",
       "signalavoid2014    0\n",
       "asleep2014         0\n",
       "othercause2014     0\n",
       "alcintake2016      0\n",
       "overspeed2016      0\n",
       "signalavoid2016    0\n",
       "wrongside2016      0\n",
       "lanejumping2016    0\n",
       "overtaking2016     0\n",
       "asleep2016         0\n",
       "othercause2016     0\n",
       "dtype: int64"
      ]
     },
     "execution_count": 3,
     "metadata": {},
     "output_type": "execute_result"
    }
   ],
   "source": [
    "driver_response.isnull().sum()"
   ]
  },
  {
   "cell_type": "code",
   "execution_count": 4,
   "metadata": {},
   "outputs": [
    {
     "data": {
      "text/html": [
       "<div>\n",
       "<style scoped>\n",
       "    .dataframe tbody tr th:only-of-type {\n",
       "        vertical-align: middle;\n",
       "    }\n",
       "\n",
       "    .dataframe tbody tr th {\n",
       "        vertical-align: top;\n",
       "    }\n",
       "\n",
       "    .dataframe thead th {\n",
       "        text-align: right;\n",
       "    }\n",
       "</style>\n",
       "<table border=\"1\" class=\"dataframe\">\n",
       "  <thead>\n",
       "    <tr style=\"text-align: right;\">\n",
       "      <th></th>\n",
       "      <th>index</th>\n",
       "      <th>sno</th>\n",
       "      <th>stateut</th>\n",
       "      <th>region</th>\n",
       "      <th>regionid</th>\n",
       "      <th>alcintake2014</th>\n",
       "      <th>overspeed2014</th>\n",
       "      <th>overtaking2014</th>\n",
       "      <th>lanejumping2014</th>\n",
       "      <th>wrongside2014</th>\n",
       "      <th>...</th>\n",
       "      <th>asleep2014</th>\n",
       "      <th>othercause2014</th>\n",
       "      <th>alcintake2016</th>\n",
       "      <th>overspeed2016</th>\n",
       "      <th>signalavoid2016</th>\n",
       "      <th>wrongside2016</th>\n",
       "      <th>lanejumping2016</th>\n",
       "      <th>overtaking2016</th>\n",
       "      <th>asleep2016</th>\n",
       "      <th>othercause2016</th>\n",
       "    </tr>\n",
       "  </thead>\n",
       "  <tbody>\n",
       "    <tr>\n",
       "      <th>0</th>\n",
       "      <td>0</td>\n",
       "      <td>1</td>\n",
       "      <td>Andhra Pradesh</td>\n",
       "      <td>south</td>\n",
       "      <td>2</td>\n",
       "      <td>594</td>\n",
       "      <td>12747.0</td>\n",
       "      <td>507</td>\n",
       "      <td>328</td>\n",
       "      <td>668</td>\n",
       "      <td>...</td>\n",
       "      <td>154</td>\n",
       "      <td>1938</td>\n",
       "      <td>128</td>\n",
       "      <td>17286</td>\n",
       "      <td>40</td>\n",
       "      <td>667</td>\n",
       "      <td>325</td>\n",
       "      <td>1024</td>\n",
       "      <td>306</td>\n",
       "      <td>2868</td>\n",
       "    </tr>\n",
       "    <tr>\n",
       "      <th>1</th>\n",
       "      <td>1</td>\n",
       "      <td>2</td>\n",
       "      <td>Arunachal Pradesh</td>\n",
       "      <td>northeast</td>\n",
       "      <td>5</td>\n",
       "      <td>11</td>\n",
       "      <td>16.0</td>\n",
       "      <td>0</td>\n",
       "      <td>0</td>\n",
       "      <td>0</td>\n",
       "      <td>...</td>\n",
       "      <td>0</td>\n",
       "      <td>22</td>\n",
       "      <td>15</td>\n",
       "      <td>45</td>\n",
       "      <td>0</td>\n",
       "      <td>7</td>\n",
       "      <td>11</td>\n",
       "      <td>8</td>\n",
       "      <td>8</td>\n",
       "      <td>18</td>\n",
       "    </tr>\n",
       "    <tr>\n",
       "      <th>2</th>\n",
       "      <td>2</td>\n",
       "      <td>3</td>\n",
       "      <td>Assam</td>\n",
       "      <td>northeast</td>\n",
       "      <td>5</td>\n",
       "      <td>613</td>\n",
       "      <td>4596.0</td>\n",
       "      <td>129</td>\n",
       "      <td>104</td>\n",
       "      <td>156</td>\n",
       "      <td>...</td>\n",
       "      <td>3</td>\n",
       "      <td>628</td>\n",
       "      <td>352</td>\n",
       "      <td>3520</td>\n",
       "      <td>64</td>\n",
       "      <td>334</td>\n",
       "      <td>156</td>\n",
       "      <td>371</td>\n",
       "      <td>3</td>\n",
       "      <td>873</td>\n",
       "    </tr>\n",
       "    <tr>\n",
       "      <th>3</th>\n",
       "      <td>3</td>\n",
       "      <td>4</td>\n",
       "      <td>Bihar</td>\n",
       "      <td>north</td>\n",
       "      <td>1</td>\n",
       "      <td>1680</td>\n",
       "      <td>1496.0</td>\n",
       "      <td>278</td>\n",
       "      <td>236</td>\n",
       "      <td>308</td>\n",
       "      <td>...</td>\n",
       "      <td>72</td>\n",
       "      <td>439</td>\n",
       "      <td>593</td>\n",
       "      <td>2323</td>\n",
       "      <td>8</td>\n",
       "      <td>458</td>\n",
       "      <td>156</td>\n",
       "      <td>573</td>\n",
       "      <td>122</td>\n",
       "      <td>612</td>\n",
       "    </tr>\n",
       "    <tr>\n",
       "      <th>4</th>\n",
       "      <td>4</td>\n",
       "      <td>5</td>\n",
       "      <td>Chhattisgarh</td>\n",
       "      <td>centre</td>\n",
       "      <td>9</td>\n",
       "      <td>335</td>\n",
       "      <td>6720.0</td>\n",
       "      <td>188</td>\n",
       "      <td>313</td>\n",
       "      <td>266</td>\n",
       "      <td>...</td>\n",
       "      <td>81</td>\n",
       "      <td>520</td>\n",
       "      <td>145</td>\n",
       "      <td>6660</td>\n",
       "      <td>62</td>\n",
       "      <td>410</td>\n",
       "      <td>175</td>\n",
       "      <td>467</td>\n",
       "      <td>144</td>\n",
       "      <td>953</td>\n",
       "    </tr>\n",
       "    <tr>\n",
       "      <th>5</th>\n",
       "      <td>5</td>\n",
       "      <td>6</td>\n",
       "      <td>Goa</td>\n",
       "      <td>west</td>\n",
       "      <td>4</td>\n",
       "      <td>9</td>\n",
       "      <td>3148.0</td>\n",
       "      <td>33</td>\n",
       "      <td>8</td>\n",
       "      <td>61</td>\n",
       "      <td>...</td>\n",
       "      <td>4</td>\n",
       "      <td>159</td>\n",
       "      <td>3</td>\n",
       "      <td>3883</td>\n",
       "      <td>0</td>\n",
       "      <td>19</td>\n",
       "      <td>0</td>\n",
       "      <td>80</td>\n",
       "      <td>4</td>\n",
       "      <td>247</td>\n",
       "    </tr>\n",
       "    <tr>\n",
       "      <th>6</th>\n",
       "      <td>6</td>\n",
       "      <td>7</td>\n",
       "      <td>Gujarat</td>\n",
       "      <td>west</td>\n",
       "      <td>4</td>\n",
       "      <td>42</td>\n",
       "      <td>13752.0</td>\n",
       "      <td>641</td>\n",
       "      <td>370</td>\n",
       "      <td>394</td>\n",
       "      <td>...</td>\n",
       "      <td>95</td>\n",
       "      <td>283</td>\n",
       "      <td>64</td>\n",
       "      <td>13314</td>\n",
       "      <td>261</td>\n",
       "      <td>733</td>\n",
       "      <td>662</td>\n",
       "      <td>1016</td>\n",
       "      <td>156</td>\n",
       "      <td>904</td>\n",
       "    </tr>\n",
       "    <tr>\n",
       "      <th>7</th>\n",
       "      <td>7</td>\n",
       "      <td>8</td>\n",
       "      <td>Haryana</td>\n",
       "      <td>north</td>\n",
       "      <td>1</td>\n",
       "      <td>1095</td>\n",
       "      <td>4185.0</td>\n",
       "      <td>206</td>\n",
       "      <td>179</td>\n",
       "      <td>393</td>\n",
       "      <td>...</td>\n",
       "      <td>154</td>\n",
       "      <td>292</td>\n",
       "      <td>529</td>\n",
       "      <td>2344</td>\n",
       "      <td>592</td>\n",
       "      <td>913</td>\n",
       "      <td>690</td>\n",
       "      <td>1134</td>\n",
       "      <td>462</td>\n",
       "      <td>1210</td>\n",
       "    </tr>\n",
       "    <tr>\n",
       "      <th>8</th>\n",
       "      <td>8</td>\n",
       "      <td>9</td>\n",
       "      <td>Himachal Pradesh</td>\n",
       "      <td>north</td>\n",
       "      <td>1</td>\n",
       "      <td>74</td>\n",
       "      <td>2763.0</td>\n",
       "      <td>21</td>\n",
       "      <td>10</td>\n",
       "      <td>43</td>\n",
       "      <td>...</td>\n",
       "      <td>0</td>\n",
       "      <td>0</td>\n",
       "      <td>72</td>\n",
       "      <td>516</td>\n",
       "      <td>0</td>\n",
       "      <td>21</td>\n",
       "      <td>78</td>\n",
       "      <td>195</td>\n",
       "      <td>0</td>\n",
       "      <td>1392</td>\n",
       "    </tr>\n",
       "    <tr>\n",
       "      <th>9</th>\n",
       "      <td>9</td>\n",
       "      <td>10</td>\n",
       "      <td>Jammu &amp; Kashmir</td>\n",
       "      <td>north</td>\n",
       "      <td>1</td>\n",
       "      <td>388</td>\n",
       "      <td>2859.0</td>\n",
       "      <td>67</td>\n",
       "      <td>29</td>\n",
       "      <td>58</td>\n",
       "      <td>...</td>\n",
       "      <td>0</td>\n",
       "      <td>315</td>\n",
       "      <td>47</td>\n",
       "      <td>2428</td>\n",
       "      <td>0</td>\n",
       "      <td>14</td>\n",
       "      <td>2</td>\n",
       "      <td>18</td>\n",
       "      <td>0</td>\n",
       "      <td>633</td>\n",
       "    </tr>\n",
       "    <tr>\n",
       "      <th>10</th>\n",
       "      <td>10</td>\n",
       "      <td>11</td>\n",
       "      <td>Jharkhand</td>\n",
       "      <td>centre</td>\n",
       "      <td>9</td>\n",
       "      <td>611</td>\n",
       "      <td>1627.0</td>\n",
       "      <td>68</td>\n",
       "      <td>149</td>\n",
       "      <td>221</td>\n",
       "      <td>...</td>\n",
       "      <td>6</td>\n",
       "      <td>25</td>\n",
       "      <td>543</td>\n",
       "      <td>652</td>\n",
       "      <td>37</td>\n",
       "      <td>169</td>\n",
       "      <td>110</td>\n",
       "      <td>155</td>\n",
       "      <td>0</td>\n",
       "      <td>0</td>\n",
       "    </tr>\n",
       "    <tr>\n",
       "      <th>11</th>\n",
       "      <td>11</td>\n",
       "      <td>12</td>\n",
       "      <td>Karnataka</td>\n",
       "      <td>south</td>\n",
       "      <td>2</td>\n",
       "      <td>2207</td>\n",
       "      <td>23370.0</td>\n",
       "      <td>944</td>\n",
       "      <td>455</td>\n",
       "      <td>877</td>\n",
       "      <td>...</td>\n",
       "      <td>145</td>\n",
       "      <td>4700</td>\n",
       "      <td>396</td>\n",
       "      <td>31506</td>\n",
       "      <td>228</td>\n",
       "      <td>900</td>\n",
       "      <td>292</td>\n",
       "      <td>1019</td>\n",
       "      <td>40</td>\n",
       "      <td>4955</td>\n",
       "    </tr>\n",
       "    <tr>\n",
       "      <th>12</th>\n",
       "      <td>12</td>\n",
       "      <td>13</td>\n",
       "      <td>Kerala</td>\n",
       "      <td>south</td>\n",
       "      <td>2</td>\n",
       "      <td>35</td>\n",
       "      <td>20611.0</td>\n",
       "      <td>1217</td>\n",
       "      <td>1178</td>\n",
       "      <td>1138</td>\n",
       "      <td>...</td>\n",
       "      <td>1393</td>\n",
       "      <td>86</td>\n",
       "      <td>133</td>\n",
       "      <td>34062</td>\n",
       "      <td>406</td>\n",
       "      <td>1254</td>\n",
       "      <td>121</td>\n",
       "      <td>2175</td>\n",
       "      <td>61</td>\n",
       "      <td>50</td>\n",
       "    </tr>\n",
       "    <tr>\n",
       "      <th>13</th>\n",
       "      <td>13</td>\n",
       "      <td>14</td>\n",
       "      <td>Madhya Pradesh</td>\n",
       "      <td>centre</td>\n",
       "      <td>9</td>\n",
       "      <td>3540</td>\n",
       "      <td>20967.0</td>\n",
       "      <td>1165</td>\n",
       "      <td>1526</td>\n",
       "      <td>932</td>\n",
       "      <td>...</td>\n",
       "      <td>86</td>\n",
       "      <td>4130</td>\n",
       "      <td>3083</td>\n",
       "      <td>28017</td>\n",
       "      <td>413</td>\n",
       "      <td>1300</td>\n",
       "      <td>657</td>\n",
       "      <td>4091</td>\n",
       "      <td>681</td>\n",
       "      <td>4589</td>\n",
       "    </tr>\n",
       "    <tr>\n",
       "      <th>14</th>\n",
       "      <td>14</td>\n",
       "      <td>15</td>\n",
       "      <td>Maharashtra</td>\n",
       "      <td>west</td>\n",
       "      <td>4</td>\n",
       "      <td>1251</td>\n",
       "      <td>29790.0</td>\n",
       "      <td>1687</td>\n",
       "      <td>897</td>\n",
       "      <td>796</td>\n",
       "      <td>...</td>\n",
       "      <td>129</td>\n",
       "      <td>5537</td>\n",
       "      <td>226</td>\n",
       "      <td>23643</td>\n",
       "      <td>97</td>\n",
       "      <td>1922</td>\n",
       "      <td>765</td>\n",
       "      <td>1883</td>\n",
       "      <td>378</td>\n",
       "      <td>3883</td>\n",
       "    </tr>\n",
       "    <tr>\n",
       "      <th>15</th>\n",
       "      <td>15</td>\n",
       "      <td>16</td>\n",
       "      <td>Manipur</td>\n",
       "      <td>northeast</td>\n",
       "      <td>5</td>\n",
       "      <td>0</td>\n",
       "      <td>0.0</td>\n",
       "      <td>0</td>\n",
       "      <td>0</td>\n",
       "      <td>0</td>\n",
       "      <td>...</td>\n",
       "      <td>0</td>\n",
       "      <td>0</td>\n",
       "      <td>71</td>\n",
       "      <td>57</td>\n",
       "      <td>0</td>\n",
       "      <td>39</td>\n",
       "      <td>0</td>\n",
       "      <td>46</td>\n",
       "      <td>30</td>\n",
       "      <td>66</td>\n",
       "    </tr>\n",
       "    <tr>\n",
       "      <th>16</th>\n",
       "      <td>16</td>\n",
       "      <td>17</td>\n",
       "      <td>Meghalaya</td>\n",
       "      <td>northeast</td>\n",
       "      <td>5</td>\n",
       "      <td>25</td>\n",
       "      <td>40.0</td>\n",
       "      <td>0</td>\n",
       "      <td>0</td>\n",
       "      <td>0</td>\n",
       "      <td>...</td>\n",
       "      <td>0</td>\n",
       "      <td>0</td>\n",
       "      <td>35</td>\n",
       "      <td>146</td>\n",
       "      <td>0</td>\n",
       "      <td>0</td>\n",
       "      <td>0</td>\n",
       "      <td>0</td>\n",
       "      <td>0</td>\n",
       "      <td>0</td>\n",
       "    </tr>\n",
       "    <tr>\n",
       "      <th>17</th>\n",
       "      <td>17</td>\n",
       "      <td>18</td>\n",
       "      <td>Mizoram</td>\n",
       "      <td>east</td>\n",
       "      <td>3</td>\n",
       "      <td>16</td>\n",
       "      <td>48.0</td>\n",
       "      <td>24</td>\n",
       "      <td>0</td>\n",
       "      <td>1</td>\n",
       "      <td>...</td>\n",
       "      <td>0</td>\n",
       "      <td>28</td>\n",
       "      <td>27</td>\n",
       "      <td>14</td>\n",
       "      <td>0</td>\n",
       "      <td>2</td>\n",
       "      <td>0</td>\n",
       "      <td>6</td>\n",
       "      <td>7</td>\n",
       "      <td>11</td>\n",
       "    </tr>\n",
       "    <tr>\n",
       "      <th>18</th>\n",
       "      <td>18</td>\n",
       "      <td>19</td>\n",
       "      <td>Nagaland</td>\n",
       "      <td>northeast</td>\n",
       "      <td>5</td>\n",
       "      <td>91</td>\n",
       "      <td>51.0</td>\n",
       "      <td>0</td>\n",
       "      <td>0</td>\n",
       "      <td>26</td>\n",
       "      <td>...</td>\n",
       "      <td>0</td>\n",
       "      <td>70</td>\n",
       "      <td>13</td>\n",
       "      <td>11</td>\n",
       "      <td>0</td>\n",
       "      <td>0</td>\n",
       "      <td>0</td>\n",
       "      <td>0</td>\n",
       "      <td>0</td>\n",
       "      <td>0</td>\n",
       "    </tr>\n",
       "    <tr>\n",
       "      <th>19</th>\n",
       "      <td>19</td>\n",
       "      <td>20</td>\n",
       "      <td>Orissa</td>\n",
       "      <td>centre</td>\n",
       "      <td>9</td>\n",
       "      <td>637</td>\n",
       "      <td>3699.0</td>\n",
       "      <td>336</td>\n",
       "      <td>286</td>\n",
       "      <td>519</td>\n",
       "      <td>...</td>\n",
       "      <td>161</td>\n",
       "      <td>326</td>\n",
       "      <td>1255</td>\n",
       "      <td>4984</td>\n",
       "      <td>75</td>\n",
       "      <td>565</td>\n",
       "      <td>188</td>\n",
       "      <td>1194</td>\n",
       "      <td>80</td>\n",
       "      <td>1375</td>\n",
       "    </tr>\n",
       "    <tr>\n",
       "      <th>20</th>\n",
       "      <td>20</td>\n",
       "      <td>21</td>\n",
       "      <td>Punjab</td>\n",
       "      <td>north</td>\n",
       "      <td>1</td>\n",
       "      <td>442</td>\n",
       "      <td>2253.0</td>\n",
       "      <td>60</td>\n",
       "      <td>211</td>\n",
       "      <td>127</td>\n",
       "      <td>...</td>\n",
       "      <td>34</td>\n",
       "      <td>153</td>\n",
       "      <td>317</td>\n",
       "      <td>2517</td>\n",
       "      <td>180</td>\n",
       "      <td>512</td>\n",
       "      <td>194</td>\n",
       "      <td>585</td>\n",
       "      <td>17</td>\n",
       "      <td>498</td>\n",
       "    </tr>\n",
       "    <tr>\n",
       "      <th>21</th>\n",
       "      <td>21</td>\n",
       "      <td>22</td>\n",
       "      <td>Rajasthan</td>\n",
       "      <td>northwest</td>\n",
       "      <td>6</td>\n",
       "      <td>915</td>\n",
       "      <td>11395.0</td>\n",
       "      <td>102</td>\n",
       "      <td>1157</td>\n",
       "      <td>656</td>\n",
       "      <td>...</td>\n",
       "      <td>176</td>\n",
       "      <td>1803</td>\n",
       "      <td>673</td>\n",
       "      <td>13358</td>\n",
       "      <td>0</td>\n",
       "      <td>981</td>\n",
       "      <td>217</td>\n",
       "      <td>1345</td>\n",
       "      <td>222</td>\n",
       "      <td>5012</td>\n",
       "    </tr>\n",
       "    <tr>\n",
       "      <th>22</th>\n",
       "      <td>22</td>\n",
       "      <td>23</td>\n",
       "      <td>Sikkim</td>\n",
       "      <td>northeast</td>\n",
       "      <td>5</td>\n",
       "      <td>8</td>\n",
       "      <td>28.0</td>\n",
       "      <td>0</td>\n",
       "      <td>0</td>\n",
       "      <td>0</td>\n",
       "      <td>...</td>\n",
       "      <td>0</td>\n",
       "      <td>51</td>\n",
       "      <td>12</td>\n",
       "      <td>45</td>\n",
       "      <td>0</td>\n",
       "      <td>20</td>\n",
       "      <td>0</td>\n",
       "      <td>17</td>\n",
       "      <td>0</td>\n",
       "      <td>0</td>\n",
       "    </tr>\n",
       "    <tr>\n",
       "      <th>23</th>\n",
       "      <td>23</td>\n",
       "      <td>24</td>\n",
       "      <td>Tamil Nadu</td>\n",
       "      <td>south</td>\n",
       "      <td>2</td>\n",
       "      <td>1416</td>\n",
       "      <td>28804.0</td>\n",
       "      <td>2171</td>\n",
       "      <td>1869</td>\n",
       "      <td>1529</td>\n",
       "      <td>...</td>\n",
       "      <td>161</td>\n",
       "      <td>6874</td>\n",
       "      <td>531</td>\n",
       "      <td>47055</td>\n",
       "      <td>1004</td>\n",
       "      <td>3209</td>\n",
       "      <td>2367</td>\n",
       "      <td>7155</td>\n",
       "      <td>671</td>\n",
       "      <td>4866</td>\n",
       "    </tr>\n",
       "    <tr>\n",
       "      <th>24</th>\n",
       "      <td>24</td>\n",
       "      <td>25</td>\n",
       "      <td>Telangana</td>\n",
       "      <td>centre</td>\n",
       "      <td>9</td>\n",
       "      <td>968</td>\n",
       "      <td>6266.0</td>\n",
       "      <td>526</td>\n",
       "      <td>232</td>\n",
       "      <td>570</td>\n",
       "      <td>...</td>\n",
       "      <td>157</td>\n",
       "      <td>4065</td>\n",
       "      <td>202</td>\n",
       "      <td>13615</td>\n",
       "      <td>52</td>\n",
       "      <td>156</td>\n",
       "      <td>37</td>\n",
       "      <td>539</td>\n",
       "      <td>14</td>\n",
       "      <td>1301</td>\n",
       "    </tr>\n",
       "    <tr>\n",
       "      <th>25</th>\n",
       "      <td>25</td>\n",
       "      <td>26</td>\n",
       "      <td>Tripura</td>\n",
       "      <td>east</td>\n",
       "      <td>3</td>\n",
       "      <td>12</td>\n",
       "      <td>499.0</td>\n",
       "      <td>0</td>\n",
       "      <td>7</td>\n",
       "      <td>29</td>\n",
       "      <td>...</td>\n",
       "      <td>0</td>\n",
       "      <td>0</td>\n",
       "      <td>5</td>\n",
       "      <td>413</td>\n",
       "      <td>0</td>\n",
       "      <td>15</td>\n",
       "      <td>0</td>\n",
       "      <td>56</td>\n",
       "      <td>0</td>\n",
       "      <td>28</td>\n",
       "    </tr>\n",
       "    <tr>\n",
       "      <th>26</th>\n",
       "      <td>26</td>\n",
       "      <td>27</td>\n",
       "      <td>Uttarakhand</td>\n",
       "      <td>north</td>\n",
       "      <td>1</td>\n",
       "      <td>508</td>\n",
       "      <td>94.0</td>\n",
       "      <td>15</td>\n",
       "      <td>69</td>\n",
       "      <td>99</td>\n",
       "      <td>...</td>\n",
       "      <td>0</td>\n",
       "      <td>72</td>\n",
       "      <td>40</td>\n",
       "      <td>736</td>\n",
       "      <td>0</td>\n",
       "      <td>105</td>\n",
       "      <td>0</td>\n",
       "      <td>132</td>\n",
       "      <td>0</td>\n",
       "      <td>70</td>\n",
       "    </tr>\n",
       "    <tr>\n",
       "      <th>27</th>\n",
       "      <td>27</td>\n",
       "      <td>28</td>\n",
       "      <td>Uttar Pradesh</td>\n",
       "      <td>north</td>\n",
       "      <td>1</td>\n",
       "      <td>1232</td>\n",
       "      <td>2561.0</td>\n",
       "      <td>392</td>\n",
       "      <td>362</td>\n",
       "      <td>763</td>\n",
       "      <td>...</td>\n",
       "      <td>238</td>\n",
       "      <td>1915</td>\n",
       "      <td>4633</td>\n",
       "      <td>10184</td>\n",
       "      <td>632</td>\n",
       "      <td>2560</td>\n",
       "      <td>1123</td>\n",
       "      <td>3937</td>\n",
       "      <td>1121</td>\n",
       "      <td>4093</td>\n",
       "    </tr>\n",
       "    <tr>\n",
       "      <th>28</th>\n",
       "      <td>28</td>\n",
       "      <td>29</td>\n",
       "      <td>West Bengal</td>\n",
       "      <td>east</td>\n",
       "      <td>3</td>\n",
       "      <td>0</td>\n",
       "      <td>3339.0</td>\n",
       "      <td>257</td>\n",
       "      <td>179</td>\n",
       "      <td>205</td>\n",
       "      <td>...</td>\n",
       "      <td>49</td>\n",
       "      <td>1356</td>\n",
       "      <td>462</td>\n",
       "      <td>1473</td>\n",
       "      <td>90</td>\n",
       "      <td>93</td>\n",
       "      <td>53</td>\n",
       "      <td>122</td>\n",
       "      <td>22</td>\n",
       "      <td>6915</td>\n",
       "    </tr>\n",
       "    <tr>\n",
       "      <th>29</th>\n",
       "      <td>29</td>\n",
       "      <td>30</td>\n",
       "      <td>A &amp; N Islands</td>\n",
       "      <td>southeast</td>\n",
       "      <td>7</td>\n",
       "      <td>25</td>\n",
       "      <td>94.0</td>\n",
       "      <td>7</td>\n",
       "      <td>20</td>\n",
       "      <td>11</td>\n",
       "      <td>...</td>\n",
       "      <td>0</td>\n",
       "      <td>0</td>\n",
       "      <td>27</td>\n",
       "      <td>124</td>\n",
       "      <td>2</td>\n",
       "      <td>31</td>\n",
       "      <td>0</td>\n",
       "      <td>15</td>\n",
       "      <td>0</td>\n",
       "      <td>39</td>\n",
       "    </tr>\n",
       "    <tr>\n",
       "      <th>30</th>\n",
       "      <td>30</td>\n",
       "      <td>31</td>\n",
       "      <td>Chandigarh</td>\n",
       "      <td>north</td>\n",
       "      <td>1</td>\n",
       "      <td>11</td>\n",
       "      <td>160.0</td>\n",
       "      <td>83</td>\n",
       "      <td>25</td>\n",
       "      <td>17</td>\n",
       "      <td>...</td>\n",
       "      <td>0</td>\n",
       "      <td>7</td>\n",
       "      <td>9</td>\n",
       "      <td>380</td>\n",
       "      <td>10</td>\n",
       "      <td>17</td>\n",
       "      <td>5</td>\n",
       "      <td>0</td>\n",
       "      <td>0</td>\n",
       "      <td>7</td>\n",
       "    </tr>\n",
       "    <tr>\n",
       "      <th>31</th>\n",
       "      <td>31</td>\n",
       "      <td>32</td>\n",
       "      <td>D &amp; N Haveli</td>\n",
       "      <td>west</td>\n",
       "      <td>4</td>\n",
       "      <td>1</td>\n",
       "      <td>21.0</td>\n",
       "      <td>0</td>\n",
       "      <td>0</td>\n",
       "      <td>0</td>\n",
       "      <td>...</td>\n",
       "      <td>0</td>\n",
       "      <td>65</td>\n",
       "      <td>0</td>\n",
       "      <td>8</td>\n",
       "      <td>0</td>\n",
       "      <td>5</td>\n",
       "      <td>0</td>\n",
       "      <td>5</td>\n",
       "      <td>2</td>\n",
       "      <td>4</td>\n",
       "    </tr>\n",
       "    <tr>\n",
       "      <th>32</th>\n",
       "      <td>32</td>\n",
       "      <td>33</td>\n",
       "      <td>Daman &amp; Diu</td>\n",
       "      <td>west</td>\n",
       "      <td>4</td>\n",
       "      <td>0</td>\n",
       "      <td>21.0</td>\n",
       "      <td>2</td>\n",
       "      <td>2</td>\n",
       "      <td>1</td>\n",
       "      <td>...</td>\n",
       "      <td>0</td>\n",
       "      <td>10</td>\n",
       "      <td>7</td>\n",
       "      <td>29</td>\n",
       "      <td>0</td>\n",
       "      <td>2</td>\n",
       "      <td>0</td>\n",
       "      <td>2</td>\n",
       "      <td>1</td>\n",
       "      <td>27</td>\n",
       "    </tr>\n",
       "    <tr>\n",
       "      <th>33</th>\n",
       "      <td>33</td>\n",
       "      <td>34</td>\n",
       "      <td>Delhi</td>\n",
       "      <td>north</td>\n",
       "      <td>1</td>\n",
       "      <td>51</td>\n",
       "      <td>5950.6</td>\n",
       "      <td>0</td>\n",
       "      <td>0</td>\n",
       "      <td>0</td>\n",
       "      <td>...</td>\n",
       "      <td>0</td>\n",
       "      <td>0</td>\n",
       "      <td>164</td>\n",
       "      <td>1696</td>\n",
       "      <td>229</td>\n",
       "      <td>131</td>\n",
       "      <td>129</td>\n",
       "      <td>211</td>\n",
       "      <td>0</td>\n",
       "      <td>2838</td>\n",
       "    </tr>\n",
       "    <tr>\n",
       "      <th>34</th>\n",
       "      <td>34</td>\n",
       "      <td>35</td>\n",
       "      <td>Lakshadweep</td>\n",
       "      <td>southwest</td>\n",
       "      <td>8</td>\n",
       "      <td>0</td>\n",
       "      <td>1.0</td>\n",
       "      <td>0</td>\n",
       "      <td>0</td>\n",
       "      <td>0</td>\n",
       "      <td>...</td>\n",
       "      <td>0</td>\n",
       "      <td>0</td>\n",
       "      <td>0</td>\n",
       "      <td>0</td>\n",
       "      <td>0</td>\n",
       "      <td>0</td>\n",
       "      <td>0</td>\n",
       "      <td>0</td>\n",
       "      <td>0</td>\n",
       "      <td>0</td>\n",
       "    </tr>\n",
       "    <tr>\n",
       "      <th>35</th>\n",
       "      <td>35</td>\n",
       "      <td>36</td>\n",
       "      <td>Puducherry</td>\n",
       "      <td>south</td>\n",
       "      <td>2</td>\n",
       "      <td>73</td>\n",
       "      <td>250.0</td>\n",
       "      <td>136</td>\n",
       "      <td>0</td>\n",
       "      <td>8</td>\n",
       "      <td>...</td>\n",
       "      <td>15</td>\n",
       "      <td>417</td>\n",
       "      <td>82</td>\n",
       "      <td>1297</td>\n",
       "      <td>9</td>\n",
       "      <td>90</td>\n",
       "      <td>0</td>\n",
       "      <td>71</td>\n",
       "      <td>0</td>\n",
       "      <td>193</td>\n",
       "    </tr>\n",
       "  </tbody>\n",
       "</table>\n",
       "<p>36 rows × 21 columns</p>\n",
       "</div>"
      ],
      "text/plain": [
       "    index  sno            stateut     region  regionid  alcintake2014  \\\n",
       "0       0    1     Andhra Pradesh      south         2            594   \n",
       "1       1    2  Arunachal Pradesh  northeast         5             11   \n",
       "2       2    3              Assam  northeast         5            613   \n",
       "3       3    4              Bihar      north         1           1680   \n",
       "4       4    5       Chhattisgarh     centre         9            335   \n",
       "5       5    6                Goa       west         4              9   \n",
       "6       6    7            Gujarat       west         4             42   \n",
       "7       7    8            Haryana      north         1           1095   \n",
       "8       8    9   Himachal Pradesh      north         1             74   \n",
       "9       9   10    Jammu & Kashmir      north         1            388   \n",
       "10     10   11          Jharkhand     centre         9            611   \n",
       "11     11   12          Karnataka      south         2           2207   \n",
       "12     12   13             Kerala      south         2             35   \n",
       "13     13   14     Madhya Pradesh     centre         9           3540   \n",
       "14     14   15        Maharashtra       west         4           1251   \n",
       "15     15   16            Manipur  northeast         5              0   \n",
       "16     16   17          Meghalaya  northeast         5             25   \n",
       "17     17   18            Mizoram       east         3             16   \n",
       "18     18   19           Nagaland  northeast         5             91   \n",
       "19     19   20             Orissa     centre         9            637   \n",
       "20     20   21             Punjab      north         1            442   \n",
       "21     21   22          Rajasthan  northwest         6            915   \n",
       "22     22   23             Sikkim  northeast         5              8   \n",
       "23     23   24         Tamil Nadu      south         2           1416   \n",
       "24     24   25          Telangana     centre         9            968   \n",
       "25     25   26            Tripura       east         3             12   \n",
       "26     26   27        Uttarakhand      north         1            508   \n",
       "27     27   28      Uttar Pradesh      north         1           1232   \n",
       "28     28   29        West Bengal       east         3              0   \n",
       "29     29   30      A & N Islands  southeast         7             25   \n",
       "30     30   31         Chandigarh      north         1             11   \n",
       "31     31   32       D & N Haveli       west         4              1   \n",
       "32     32   33        Daman & Diu       west         4              0   \n",
       "33     33   34              Delhi      north         1             51   \n",
       "34     34   35        Lakshadweep  southwest         8              0   \n",
       "35     35   36         Puducherry      south         2             73   \n",
       "\n",
       "    overspeed2014  overtaking2014  lanejumping2014  wrongside2014  ...  \\\n",
       "0         12747.0             507              328            668  ...   \n",
       "1            16.0               0                0              0  ...   \n",
       "2          4596.0             129              104            156  ...   \n",
       "3          1496.0             278              236            308  ...   \n",
       "4          6720.0             188              313            266  ...   \n",
       "5          3148.0              33                8             61  ...   \n",
       "6         13752.0             641              370            394  ...   \n",
       "7          4185.0             206              179            393  ...   \n",
       "8          2763.0              21               10             43  ...   \n",
       "9          2859.0              67               29             58  ...   \n",
       "10         1627.0              68              149            221  ...   \n",
       "11        23370.0             944              455            877  ...   \n",
       "12        20611.0            1217             1178           1138  ...   \n",
       "13        20967.0            1165             1526            932  ...   \n",
       "14        29790.0            1687              897            796  ...   \n",
       "15            0.0               0                0              0  ...   \n",
       "16           40.0               0                0              0  ...   \n",
       "17           48.0              24                0              1  ...   \n",
       "18           51.0               0                0             26  ...   \n",
       "19         3699.0             336              286            519  ...   \n",
       "20         2253.0              60              211            127  ...   \n",
       "21        11395.0             102             1157            656  ...   \n",
       "22           28.0               0                0              0  ...   \n",
       "23        28804.0            2171             1869           1529  ...   \n",
       "24         6266.0             526              232            570  ...   \n",
       "25          499.0               0                7             29  ...   \n",
       "26           94.0              15               69             99  ...   \n",
       "27         2561.0             392              362            763  ...   \n",
       "28         3339.0             257              179            205  ...   \n",
       "29           94.0               7               20             11  ...   \n",
       "30          160.0              83               25             17  ...   \n",
       "31           21.0               0                0              0  ...   \n",
       "32           21.0               2                2              1  ...   \n",
       "33         5950.6               0                0              0  ...   \n",
       "34            1.0               0                0              0  ...   \n",
       "35          250.0             136                0              8  ...   \n",
       "\n",
       "    asleep2014  othercause2014  alcintake2016  overspeed2016  signalavoid2016  \\\n",
       "0          154            1938            128          17286               40   \n",
       "1            0              22             15             45                0   \n",
       "2            3             628            352           3520               64   \n",
       "3           72             439            593           2323                8   \n",
       "4           81             520            145           6660               62   \n",
       "5            4             159              3           3883                0   \n",
       "6           95             283             64          13314              261   \n",
       "7          154             292            529           2344              592   \n",
       "8            0               0             72            516                0   \n",
       "9            0             315             47           2428                0   \n",
       "10           6              25            543            652               37   \n",
       "11         145            4700            396          31506              228   \n",
       "12        1393              86            133          34062              406   \n",
       "13          86            4130           3083          28017              413   \n",
       "14         129            5537            226          23643               97   \n",
       "15           0               0             71             57                0   \n",
       "16           0               0             35            146                0   \n",
       "17           0              28             27             14                0   \n",
       "18           0              70             13             11                0   \n",
       "19         161             326           1255           4984               75   \n",
       "20          34             153            317           2517              180   \n",
       "21         176            1803            673          13358                0   \n",
       "22           0              51             12             45                0   \n",
       "23         161            6874            531          47055             1004   \n",
       "24         157            4065            202          13615               52   \n",
       "25           0               0              5            413                0   \n",
       "26           0              72             40            736                0   \n",
       "27         238            1915           4633          10184              632   \n",
       "28          49            1356            462           1473               90   \n",
       "29           0               0             27            124                2   \n",
       "30           0               7              9            380               10   \n",
       "31           0              65              0              8                0   \n",
       "32           0              10              7             29                0   \n",
       "33           0               0            164           1696              229   \n",
       "34           0               0              0              0                0   \n",
       "35          15             417             82           1297                9   \n",
       "\n",
       "    wrongside2016  lanejumping2016  overtaking2016  asleep2016  othercause2016  \n",
       "0             667              325            1024         306            2868  \n",
       "1               7               11               8           8              18  \n",
       "2             334              156             371           3             873  \n",
       "3             458              156             573         122             612  \n",
       "4             410              175             467         144             953  \n",
       "5              19                0              80           4             247  \n",
       "6             733              662            1016         156             904  \n",
       "7             913              690            1134         462            1210  \n",
       "8              21               78             195           0            1392  \n",
       "9              14                2              18           0             633  \n",
       "10            169              110             155           0               0  \n",
       "11            900              292            1019          40            4955  \n",
       "12           1254              121            2175          61              50  \n",
       "13           1300              657            4091         681            4589  \n",
       "14           1922              765            1883         378            3883  \n",
       "15             39                0              46          30              66  \n",
       "16              0                0               0           0               0  \n",
       "17              2                0               6           7              11  \n",
       "18              0                0               0           0               0  \n",
       "19            565              188            1194          80            1375  \n",
       "20            512              194             585          17             498  \n",
       "21            981              217            1345         222            5012  \n",
       "22             20                0              17           0               0  \n",
       "23           3209             2367            7155         671            4866  \n",
       "24            156               37             539          14            1301  \n",
       "25             15                0              56           0              28  \n",
       "26            105                0             132           0              70  \n",
       "27           2560             1123            3937        1121            4093  \n",
       "28             93               53             122          22            6915  \n",
       "29             31                0              15           0              39  \n",
       "30             17                5               0           0               7  \n",
       "31              5                0               5           2               4  \n",
       "32              2                0               2           1              27  \n",
       "33            131              129             211           0            2838  \n",
       "34              0                0               0           0               0  \n",
       "35             90                0              71           0             193  \n",
       "\n",
       "[36 rows x 21 columns]"
      ]
     },
     "execution_count": 4,
     "metadata": {},
     "output_type": "execute_result"
    }
   ],
   "source": [
    "driver_response['overspeed2014'].fillna(driver_response['overspeed2014'].mean(), inplace=True)\n",
    "driver_response"
   ]
  },
  {
   "cell_type": "code",
   "execution_count": 5,
   "metadata": {},
   "outputs": [
    {
     "data": {
      "text/plain": [
       "index              0\n",
       "sno                0\n",
       "stateut            0\n",
       "region             0\n",
       "regionid           0\n",
       "alcintake2014      0\n",
       "overspeed2014      0\n",
       "overtaking2014     0\n",
       "lanejumping2014    0\n",
       "wrongside2014      0\n",
       "signalavoid2014    0\n",
       "asleep2014         0\n",
       "othercause2014     0\n",
       "alcintake2016      0\n",
       "overspeed2016      0\n",
       "signalavoid2016    0\n",
       "wrongside2016      0\n",
       "lanejumping2016    0\n",
       "overtaking2016     0\n",
       "asleep2016         0\n",
       "othercause2016     0\n",
       "dtype: int64"
      ]
     },
     "execution_count": 5,
     "metadata": {},
     "output_type": "execute_result"
    }
   ],
   "source": [
    "driver_response.isnull().sum()"
   ]
  },
  {
   "cell_type": "code",
   "execution_count": 6,
   "metadata": {},
   "outputs": [],
   "source": [
    "driver_response.drop(columns=['index','sno'], inplace=True)"
   ]
  },
  {
   "cell_type": "code",
   "execution_count": 7,
   "metadata": {},
   "outputs": [
    {
     "data": {
      "text/html": [
       "<div>\n",
       "<style scoped>\n",
       "    .dataframe tbody tr th:only-of-type {\n",
       "        vertical-align: middle;\n",
       "    }\n",
       "\n",
       "    .dataframe tbody tr th {\n",
       "        vertical-align: top;\n",
       "    }\n",
       "\n",
       "    .dataframe thead th {\n",
       "        text-align: right;\n",
       "    }\n",
       "</style>\n",
       "<table border=\"1\" class=\"dataframe\">\n",
       "  <thead>\n",
       "    <tr style=\"text-align: right;\">\n",
       "      <th></th>\n",
       "      <th>stateut</th>\n",
       "      <th>region</th>\n",
       "      <th>regionid</th>\n",
       "      <th>alcintake2014</th>\n",
       "      <th>overspeed2014</th>\n",
       "      <th>overtaking2014</th>\n",
       "      <th>lanejumping2014</th>\n",
       "      <th>wrongside2014</th>\n",
       "      <th>signalavoid2014</th>\n",
       "      <th>asleep2014</th>\n",
       "      <th>othercause2014</th>\n",
       "      <th>alcintake2016</th>\n",
       "      <th>overspeed2016</th>\n",
       "      <th>signalavoid2016</th>\n",
       "      <th>wrongside2016</th>\n",
       "      <th>lanejumping2016</th>\n",
       "      <th>overtaking2016</th>\n",
       "      <th>asleep2016</th>\n",
       "      <th>othercause2016</th>\n",
       "    </tr>\n",
       "  </thead>\n",
       "  <tbody>\n",
       "    <tr>\n",
       "      <th>0</th>\n",
       "      <td>Andhra Pradesh</td>\n",
       "      <td>south</td>\n",
       "      <td>2</td>\n",
       "      <td>594</td>\n",
       "      <td>12747.0</td>\n",
       "      <td>507</td>\n",
       "      <td>328</td>\n",
       "      <td>668</td>\n",
       "      <td>29</td>\n",
       "      <td>154</td>\n",
       "      <td>1938</td>\n",
       "      <td>128</td>\n",
       "      <td>17286</td>\n",
       "      <td>40</td>\n",
       "      <td>667</td>\n",
       "      <td>325</td>\n",
       "      <td>1024</td>\n",
       "      <td>306</td>\n",
       "      <td>2868</td>\n",
       "    </tr>\n",
       "    <tr>\n",
       "      <th>1</th>\n",
       "      <td>Arunachal Pradesh</td>\n",
       "      <td>northeast</td>\n",
       "      <td>5</td>\n",
       "      <td>11</td>\n",
       "      <td>16.0</td>\n",
       "      <td>0</td>\n",
       "      <td>0</td>\n",
       "      <td>0</td>\n",
       "      <td>0</td>\n",
       "      <td>0</td>\n",
       "      <td>22</td>\n",
       "      <td>15</td>\n",
       "      <td>45</td>\n",
       "      <td>0</td>\n",
       "      <td>7</td>\n",
       "      <td>11</td>\n",
       "      <td>8</td>\n",
       "      <td>8</td>\n",
       "      <td>18</td>\n",
       "    </tr>\n",
       "    <tr>\n",
       "      <th>2</th>\n",
       "      <td>Assam</td>\n",
       "      <td>northeast</td>\n",
       "      <td>5</td>\n",
       "      <td>613</td>\n",
       "      <td>4596.0</td>\n",
       "      <td>129</td>\n",
       "      <td>104</td>\n",
       "      <td>156</td>\n",
       "      <td>7</td>\n",
       "      <td>3</td>\n",
       "      <td>628</td>\n",
       "      <td>352</td>\n",
       "      <td>3520</td>\n",
       "      <td>64</td>\n",
       "      <td>334</td>\n",
       "      <td>156</td>\n",
       "      <td>371</td>\n",
       "      <td>3</td>\n",
       "      <td>873</td>\n",
       "    </tr>\n",
       "    <tr>\n",
       "      <th>3</th>\n",
       "      <td>Bihar</td>\n",
       "      <td>north</td>\n",
       "      <td>1</td>\n",
       "      <td>1680</td>\n",
       "      <td>1496.0</td>\n",
       "      <td>278</td>\n",
       "      <td>236</td>\n",
       "      <td>308</td>\n",
       "      <td>7</td>\n",
       "      <td>72</td>\n",
       "      <td>439</td>\n",
       "      <td>593</td>\n",
       "      <td>2323</td>\n",
       "      <td>8</td>\n",
       "      <td>458</td>\n",
       "      <td>156</td>\n",
       "      <td>573</td>\n",
       "      <td>122</td>\n",
       "      <td>612</td>\n",
       "    </tr>\n",
       "    <tr>\n",
       "      <th>4</th>\n",
       "      <td>Chhattisgarh</td>\n",
       "      <td>centre</td>\n",
       "      <td>9</td>\n",
       "      <td>335</td>\n",
       "      <td>6720.0</td>\n",
       "      <td>188</td>\n",
       "      <td>313</td>\n",
       "      <td>266</td>\n",
       "      <td>10</td>\n",
       "      <td>81</td>\n",
       "      <td>520</td>\n",
       "      <td>145</td>\n",
       "      <td>6660</td>\n",
       "      <td>62</td>\n",
       "      <td>410</td>\n",
       "      <td>175</td>\n",
       "      <td>467</td>\n",
       "      <td>144</td>\n",
       "      <td>953</td>\n",
       "    </tr>\n",
       "    <tr>\n",
       "      <th>5</th>\n",
       "      <td>Goa</td>\n",
       "      <td>west</td>\n",
       "      <td>4</td>\n",
       "      <td>9</td>\n",
       "      <td>3148.0</td>\n",
       "      <td>33</td>\n",
       "      <td>8</td>\n",
       "      <td>61</td>\n",
       "      <td>0</td>\n",
       "      <td>4</td>\n",
       "      <td>159</td>\n",
       "      <td>3</td>\n",
       "      <td>3883</td>\n",
       "      <td>0</td>\n",
       "      <td>19</td>\n",
       "      <td>0</td>\n",
       "      <td>80</td>\n",
       "      <td>4</td>\n",
       "      <td>247</td>\n",
       "    </tr>\n",
       "    <tr>\n",
       "      <th>6</th>\n",
       "      <td>Gujarat</td>\n",
       "      <td>west</td>\n",
       "      <td>4</td>\n",
       "      <td>42</td>\n",
       "      <td>13752.0</td>\n",
       "      <td>641</td>\n",
       "      <td>370</td>\n",
       "      <td>394</td>\n",
       "      <td>51</td>\n",
       "      <td>95</td>\n",
       "      <td>283</td>\n",
       "      <td>64</td>\n",
       "      <td>13314</td>\n",
       "      <td>261</td>\n",
       "      <td>733</td>\n",
       "      <td>662</td>\n",
       "      <td>1016</td>\n",
       "      <td>156</td>\n",
       "      <td>904</td>\n",
       "    </tr>\n",
       "    <tr>\n",
       "      <th>7</th>\n",
       "      <td>Haryana</td>\n",
       "      <td>north</td>\n",
       "      <td>1</td>\n",
       "      <td>1095</td>\n",
       "      <td>4185.0</td>\n",
       "      <td>206</td>\n",
       "      <td>179</td>\n",
       "      <td>393</td>\n",
       "      <td>93</td>\n",
       "      <td>154</td>\n",
       "      <td>292</td>\n",
       "      <td>529</td>\n",
       "      <td>2344</td>\n",
       "      <td>592</td>\n",
       "      <td>913</td>\n",
       "      <td>690</td>\n",
       "      <td>1134</td>\n",
       "      <td>462</td>\n",
       "      <td>1210</td>\n",
       "    </tr>\n",
       "    <tr>\n",
       "      <th>8</th>\n",
       "      <td>Himachal Pradesh</td>\n",
       "      <td>north</td>\n",
       "      <td>1</td>\n",
       "      <td>74</td>\n",
       "      <td>2763.0</td>\n",
       "      <td>21</td>\n",
       "      <td>10</td>\n",
       "      <td>43</td>\n",
       "      <td>0</td>\n",
       "      <td>0</td>\n",
       "      <td>0</td>\n",
       "      <td>72</td>\n",
       "      <td>516</td>\n",
       "      <td>0</td>\n",
       "      <td>21</td>\n",
       "      <td>78</td>\n",
       "      <td>195</td>\n",
       "      <td>0</td>\n",
       "      <td>1392</td>\n",
       "    </tr>\n",
       "    <tr>\n",
       "      <th>9</th>\n",
       "      <td>Jammu &amp; Kashmir</td>\n",
       "      <td>north</td>\n",
       "      <td>1</td>\n",
       "      <td>388</td>\n",
       "      <td>2859.0</td>\n",
       "      <td>67</td>\n",
       "      <td>29</td>\n",
       "      <td>58</td>\n",
       "      <td>0</td>\n",
       "      <td>0</td>\n",
       "      <td>315</td>\n",
       "      <td>47</td>\n",
       "      <td>2428</td>\n",
       "      <td>0</td>\n",
       "      <td>14</td>\n",
       "      <td>2</td>\n",
       "      <td>18</td>\n",
       "      <td>0</td>\n",
       "      <td>633</td>\n",
       "    </tr>\n",
       "    <tr>\n",
       "      <th>10</th>\n",
       "      <td>Jharkhand</td>\n",
       "      <td>centre</td>\n",
       "      <td>9</td>\n",
       "      <td>611</td>\n",
       "      <td>1627.0</td>\n",
       "      <td>68</td>\n",
       "      <td>149</td>\n",
       "      <td>221</td>\n",
       "      <td>1</td>\n",
       "      <td>6</td>\n",
       "      <td>25</td>\n",
       "      <td>543</td>\n",
       "      <td>652</td>\n",
       "      <td>37</td>\n",
       "      <td>169</td>\n",
       "      <td>110</td>\n",
       "      <td>155</td>\n",
       "      <td>0</td>\n",
       "      <td>0</td>\n",
       "    </tr>\n",
       "    <tr>\n",
       "      <th>11</th>\n",
       "      <td>Karnataka</td>\n",
       "      <td>south</td>\n",
       "      <td>2</td>\n",
       "      <td>2207</td>\n",
       "      <td>23370.0</td>\n",
       "      <td>944</td>\n",
       "      <td>455</td>\n",
       "      <td>877</td>\n",
       "      <td>99</td>\n",
       "      <td>145</td>\n",
       "      <td>4700</td>\n",
       "      <td>396</td>\n",
       "      <td>31506</td>\n",
       "      <td>228</td>\n",
       "      <td>900</td>\n",
       "      <td>292</td>\n",
       "      <td>1019</td>\n",
       "      <td>40</td>\n",
       "      <td>4955</td>\n",
       "    </tr>\n",
       "    <tr>\n",
       "      <th>12</th>\n",
       "      <td>Kerala</td>\n",
       "      <td>south</td>\n",
       "      <td>2</td>\n",
       "      <td>35</td>\n",
       "      <td>20611.0</td>\n",
       "      <td>1217</td>\n",
       "      <td>1178</td>\n",
       "      <td>1138</td>\n",
       "      <td>92</td>\n",
       "      <td>1393</td>\n",
       "      <td>86</td>\n",
       "      <td>133</td>\n",
       "      <td>34062</td>\n",
       "      <td>406</td>\n",
       "      <td>1254</td>\n",
       "      <td>121</td>\n",
       "      <td>2175</td>\n",
       "      <td>61</td>\n",
       "      <td>50</td>\n",
       "    </tr>\n",
       "    <tr>\n",
       "      <th>13</th>\n",
       "      <td>Madhya Pradesh</td>\n",
       "      <td>centre</td>\n",
       "      <td>9</td>\n",
       "      <td>3540</td>\n",
       "      <td>20967.0</td>\n",
       "      <td>1165</td>\n",
       "      <td>1526</td>\n",
       "      <td>932</td>\n",
       "      <td>87</td>\n",
       "      <td>86</td>\n",
       "      <td>4130</td>\n",
       "      <td>3083</td>\n",
       "      <td>28017</td>\n",
       "      <td>413</td>\n",
       "      <td>1300</td>\n",
       "      <td>657</td>\n",
       "      <td>4091</td>\n",
       "      <td>681</td>\n",
       "      <td>4589</td>\n",
       "    </tr>\n",
       "    <tr>\n",
       "      <th>14</th>\n",
       "      <td>Maharashtra</td>\n",
       "      <td>west</td>\n",
       "      <td>4</td>\n",
       "      <td>1251</td>\n",
       "      <td>29790.0</td>\n",
       "      <td>1687</td>\n",
       "      <td>897</td>\n",
       "      <td>796</td>\n",
       "      <td>9</td>\n",
       "      <td>129</td>\n",
       "      <td>5537</td>\n",
       "      <td>226</td>\n",
       "      <td>23643</td>\n",
       "      <td>97</td>\n",
       "      <td>1922</td>\n",
       "      <td>765</td>\n",
       "      <td>1883</td>\n",
       "      <td>378</td>\n",
       "      <td>3883</td>\n",
       "    </tr>\n",
       "    <tr>\n",
       "      <th>15</th>\n",
       "      <td>Manipur</td>\n",
       "      <td>northeast</td>\n",
       "      <td>5</td>\n",
       "      <td>0</td>\n",
       "      <td>0.0</td>\n",
       "      <td>0</td>\n",
       "      <td>0</td>\n",
       "      <td>0</td>\n",
       "      <td>0</td>\n",
       "      <td>0</td>\n",
       "      <td>0</td>\n",
       "      <td>71</td>\n",
       "      <td>57</td>\n",
       "      <td>0</td>\n",
       "      <td>39</td>\n",
       "      <td>0</td>\n",
       "      <td>46</td>\n",
       "      <td>30</td>\n",
       "      <td>66</td>\n",
       "    </tr>\n",
       "    <tr>\n",
       "      <th>16</th>\n",
       "      <td>Meghalaya</td>\n",
       "      <td>northeast</td>\n",
       "      <td>5</td>\n",
       "      <td>25</td>\n",
       "      <td>40.0</td>\n",
       "      <td>0</td>\n",
       "      <td>0</td>\n",
       "      <td>0</td>\n",
       "      <td>0</td>\n",
       "      <td>0</td>\n",
       "      <td>0</td>\n",
       "      <td>35</td>\n",
       "      <td>146</td>\n",
       "      <td>0</td>\n",
       "      <td>0</td>\n",
       "      <td>0</td>\n",
       "      <td>0</td>\n",
       "      <td>0</td>\n",
       "      <td>0</td>\n",
       "    </tr>\n",
       "    <tr>\n",
       "      <th>17</th>\n",
       "      <td>Mizoram</td>\n",
       "      <td>east</td>\n",
       "      <td>3</td>\n",
       "      <td>16</td>\n",
       "      <td>48.0</td>\n",
       "      <td>24</td>\n",
       "      <td>0</td>\n",
       "      <td>1</td>\n",
       "      <td>0</td>\n",
       "      <td>0</td>\n",
       "      <td>28</td>\n",
       "      <td>27</td>\n",
       "      <td>14</td>\n",
       "      <td>0</td>\n",
       "      <td>2</td>\n",
       "      <td>0</td>\n",
       "      <td>6</td>\n",
       "      <td>7</td>\n",
       "      <td>11</td>\n",
       "    </tr>\n",
       "    <tr>\n",
       "      <th>18</th>\n",
       "      <td>Nagaland</td>\n",
       "      <td>northeast</td>\n",
       "      <td>5</td>\n",
       "      <td>91</td>\n",
       "      <td>51.0</td>\n",
       "      <td>0</td>\n",
       "      <td>0</td>\n",
       "      <td>26</td>\n",
       "      <td>0</td>\n",
       "      <td>0</td>\n",
       "      <td>70</td>\n",
       "      <td>13</td>\n",
       "      <td>11</td>\n",
       "      <td>0</td>\n",
       "      <td>0</td>\n",
       "      <td>0</td>\n",
       "      <td>0</td>\n",
       "      <td>0</td>\n",
       "      <td>0</td>\n",
       "    </tr>\n",
       "    <tr>\n",
       "      <th>19</th>\n",
       "      <td>Orissa</td>\n",
       "      <td>centre</td>\n",
       "      <td>9</td>\n",
       "      <td>637</td>\n",
       "      <td>3699.0</td>\n",
       "      <td>336</td>\n",
       "      <td>286</td>\n",
       "      <td>519</td>\n",
       "      <td>114</td>\n",
       "      <td>161</td>\n",
       "      <td>326</td>\n",
       "      <td>1255</td>\n",
       "      <td>4984</td>\n",
       "      <td>75</td>\n",
       "      <td>565</td>\n",
       "      <td>188</td>\n",
       "      <td>1194</td>\n",
       "      <td>80</td>\n",
       "      <td>1375</td>\n",
       "    </tr>\n",
       "    <tr>\n",
       "      <th>20</th>\n",
       "      <td>Punjab</td>\n",
       "      <td>north</td>\n",
       "      <td>1</td>\n",
       "      <td>442</td>\n",
       "      <td>2253.0</td>\n",
       "      <td>60</td>\n",
       "      <td>211</td>\n",
       "      <td>127</td>\n",
       "      <td>17</td>\n",
       "      <td>34</td>\n",
       "      <td>153</td>\n",
       "      <td>317</td>\n",
       "      <td>2517</td>\n",
       "      <td>180</td>\n",
       "      <td>512</td>\n",
       "      <td>194</td>\n",
       "      <td>585</td>\n",
       "      <td>17</td>\n",
       "      <td>498</td>\n",
       "    </tr>\n",
       "    <tr>\n",
       "      <th>21</th>\n",
       "      <td>Rajasthan</td>\n",
       "      <td>northwest</td>\n",
       "      <td>6</td>\n",
       "      <td>915</td>\n",
       "      <td>11395.0</td>\n",
       "      <td>102</td>\n",
       "      <td>1157</td>\n",
       "      <td>656</td>\n",
       "      <td>2</td>\n",
       "      <td>176</td>\n",
       "      <td>1803</td>\n",
       "      <td>673</td>\n",
       "      <td>13358</td>\n",
       "      <td>0</td>\n",
       "      <td>981</td>\n",
       "      <td>217</td>\n",
       "      <td>1345</td>\n",
       "      <td>222</td>\n",
       "      <td>5012</td>\n",
       "    </tr>\n",
       "    <tr>\n",
       "      <th>22</th>\n",
       "      <td>Sikkim</td>\n",
       "      <td>northeast</td>\n",
       "      <td>5</td>\n",
       "      <td>8</td>\n",
       "      <td>28.0</td>\n",
       "      <td>0</td>\n",
       "      <td>0</td>\n",
       "      <td>0</td>\n",
       "      <td>0</td>\n",
       "      <td>0</td>\n",
       "      <td>51</td>\n",
       "      <td>12</td>\n",
       "      <td>45</td>\n",
       "      <td>0</td>\n",
       "      <td>20</td>\n",
       "      <td>0</td>\n",
       "      <td>17</td>\n",
       "      <td>0</td>\n",
       "      <td>0</td>\n",
       "    </tr>\n",
       "    <tr>\n",
       "      <th>23</th>\n",
       "      <td>Tamil Nadu</td>\n",
       "      <td>south</td>\n",
       "      <td>2</td>\n",
       "      <td>1416</td>\n",
       "      <td>28804.0</td>\n",
       "      <td>2171</td>\n",
       "      <td>1869</td>\n",
       "      <td>1529</td>\n",
       "      <td>451</td>\n",
       "      <td>161</td>\n",
       "      <td>6874</td>\n",
       "      <td>531</td>\n",
       "      <td>47055</td>\n",
       "      <td>1004</td>\n",
       "      <td>3209</td>\n",
       "      <td>2367</td>\n",
       "      <td>7155</td>\n",
       "      <td>671</td>\n",
       "      <td>4866</td>\n",
       "    </tr>\n",
       "    <tr>\n",
       "      <th>24</th>\n",
       "      <td>Telangana</td>\n",
       "      <td>centre</td>\n",
       "      <td>9</td>\n",
       "      <td>968</td>\n",
       "      <td>6266.0</td>\n",
       "      <td>526</td>\n",
       "      <td>232</td>\n",
       "      <td>570</td>\n",
       "      <td>22</td>\n",
       "      <td>157</td>\n",
       "      <td>4065</td>\n",
       "      <td>202</td>\n",
       "      <td>13615</td>\n",
       "      <td>52</td>\n",
       "      <td>156</td>\n",
       "      <td>37</td>\n",
       "      <td>539</td>\n",
       "      <td>14</td>\n",
       "      <td>1301</td>\n",
       "    </tr>\n",
       "    <tr>\n",
       "      <th>25</th>\n",
       "      <td>Tripura</td>\n",
       "      <td>east</td>\n",
       "      <td>3</td>\n",
       "      <td>12</td>\n",
       "      <td>499.0</td>\n",
       "      <td>0</td>\n",
       "      <td>7</td>\n",
       "      <td>29</td>\n",
       "      <td>1</td>\n",
       "      <td>0</td>\n",
       "      <td>0</td>\n",
       "      <td>5</td>\n",
       "      <td>413</td>\n",
       "      <td>0</td>\n",
       "      <td>15</td>\n",
       "      <td>0</td>\n",
       "      <td>56</td>\n",
       "      <td>0</td>\n",
       "      <td>28</td>\n",
       "    </tr>\n",
       "    <tr>\n",
       "      <th>26</th>\n",
       "      <td>Uttarakhand</td>\n",
       "      <td>north</td>\n",
       "      <td>1</td>\n",
       "      <td>508</td>\n",
       "      <td>94.0</td>\n",
       "      <td>15</td>\n",
       "      <td>69</td>\n",
       "      <td>99</td>\n",
       "      <td>7</td>\n",
       "      <td>0</td>\n",
       "      <td>72</td>\n",
       "      <td>40</td>\n",
       "      <td>736</td>\n",
       "      <td>0</td>\n",
       "      <td>105</td>\n",
       "      <td>0</td>\n",
       "      <td>132</td>\n",
       "      <td>0</td>\n",
       "      <td>70</td>\n",
       "    </tr>\n",
       "    <tr>\n",
       "      <th>27</th>\n",
       "      <td>Uttar Pradesh</td>\n",
       "      <td>north</td>\n",
       "      <td>1</td>\n",
       "      <td>1232</td>\n",
       "      <td>2561.0</td>\n",
       "      <td>392</td>\n",
       "      <td>362</td>\n",
       "      <td>763</td>\n",
       "      <td>115</td>\n",
       "      <td>238</td>\n",
       "      <td>1915</td>\n",
       "      <td>4633</td>\n",
       "      <td>10184</td>\n",
       "      <td>632</td>\n",
       "      <td>2560</td>\n",
       "      <td>1123</td>\n",
       "      <td>3937</td>\n",
       "      <td>1121</td>\n",
       "      <td>4093</td>\n",
       "    </tr>\n",
       "    <tr>\n",
       "      <th>28</th>\n",
       "      <td>West Bengal</td>\n",
       "      <td>east</td>\n",
       "      <td>3</td>\n",
       "      <td>0</td>\n",
       "      <td>3339.0</td>\n",
       "      <td>257</td>\n",
       "      <td>179</td>\n",
       "      <td>205</td>\n",
       "      <td>106</td>\n",
       "      <td>49</td>\n",
       "      <td>1356</td>\n",
       "      <td>462</td>\n",
       "      <td>1473</td>\n",
       "      <td>90</td>\n",
       "      <td>93</td>\n",
       "      <td>53</td>\n",
       "      <td>122</td>\n",
       "      <td>22</td>\n",
       "      <td>6915</td>\n",
       "    </tr>\n",
       "    <tr>\n",
       "      <th>29</th>\n",
       "      <td>A &amp; N Islands</td>\n",
       "      <td>southeast</td>\n",
       "      <td>7</td>\n",
       "      <td>25</td>\n",
       "      <td>94.0</td>\n",
       "      <td>7</td>\n",
       "      <td>20</td>\n",
       "      <td>11</td>\n",
       "      <td>0</td>\n",
       "      <td>0</td>\n",
       "      <td>0</td>\n",
       "      <td>27</td>\n",
       "      <td>124</td>\n",
       "      <td>2</td>\n",
       "      <td>31</td>\n",
       "      <td>0</td>\n",
       "      <td>15</td>\n",
       "      <td>0</td>\n",
       "      <td>39</td>\n",
       "    </tr>\n",
       "    <tr>\n",
       "      <th>30</th>\n",
       "      <td>Chandigarh</td>\n",
       "      <td>north</td>\n",
       "      <td>1</td>\n",
       "      <td>11</td>\n",
       "      <td>160.0</td>\n",
       "      <td>83</td>\n",
       "      <td>25</td>\n",
       "      <td>17</td>\n",
       "      <td>0</td>\n",
       "      <td>0</td>\n",
       "      <td>7</td>\n",
       "      <td>9</td>\n",
       "      <td>380</td>\n",
       "      <td>10</td>\n",
       "      <td>17</td>\n",
       "      <td>5</td>\n",
       "      <td>0</td>\n",
       "      <td>0</td>\n",
       "      <td>7</td>\n",
       "    </tr>\n",
       "    <tr>\n",
       "      <th>31</th>\n",
       "      <td>D &amp; N Haveli</td>\n",
       "      <td>west</td>\n",
       "      <td>4</td>\n",
       "      <td>1</td>\n",
       "      <td>21.0</td>\n",
       "      <td>0</td>\n",
       "      <td>0</td>\n",
       "      <td>0</td>\n",
       "      <td>0</td>\n",
       "      <td>0</td>\n",
       "      <td>65</td>\n",
       "      <td>0</td>\n",
       "      <td>8</td>\n",
       "      <td>0</td>\n",
       "      <td>5</td>\n",
       "      <td>0</td>\n",
       "      <td>5</td>\n",
       "      <td>2</td>\n",
       "      <td>4</td>\n",
       "    </tr>\n",
       "    <tr>\n",
       "      <th>32</th>\n",
       "      <td>Daman &amp; Diu</td>\n",
       "      <td>west</td>\n",
       "      <td>4</td>\n",
       "      <td>0</td>\n",
       "      <td>21.0</td>\n",
       "      <td>2</td>\n",
       "      <td>2</td>\n",
       "      <td>1</td>\n",
       "      <td>0</td>\n",
       "      <td>0</td>\n",
       "      <td>10</td>\n",
       "      <td>7</td>\n",
       "      <td>29</td>\n",
       "      <td>0</td>\n",
       "      <td>2</td>\n",
       "      <td>0</td>\n",
       "      <td>2</td>\n",
       "      <td>1</td>\n",
       "      <td>27</td>\n",
       "    </tr>\n",
       "    <tr>\n",
       "      <th>33</th>\n",
       "      <td>Delhi</td>\n",
       "      <td>north</td>\n",
       "      <td>1</td>\n",
       "      <td>51</td>\n",
       "      <td>5950.6</td>\n",
       "      <td>0</td>\n",
       "      <td>0</td>\n",
       "      <td>0</td>\n",
       "      <td>0</td>\n",
       "      <td>0</td>\n",
       "      <td>0</td>\n",
       "      <td>164</td>\n",
       "      <td>1696</td>\n",
       "      <td>229</td>\n",
       "      <td>131</td>\n",
       "      <td>129</td>\n",
       "      <td>211</td>\n",
       "      <td>0</td>\n",
       "      <td>2838</td>\n",
       "    </tr>\n",
       "    <tr>\n",
       "      <th>34</th>\n",
       "      <td>Lakshadweep</td>\n",
       "      <td>southwest</td>\n",
       "      <td>8</td>\n",
       "      <td>0</td>\n",
       "      <td>1.0</td>\n",
       "      <td>0</td>\n",
       "      <td>0</td>\n",
       "      <td>0</td>\n",
       "      <td>0</td>\n",
       "      <td>0</td>\n",
       "      <td>0</td>\n",
       "      <td>0</td>\n",
       "      <td>0</td>\n",
       "      <td>0</td>\n",
       "      <td>0</td>\n",
       "      <td>0</td>\n",
       "      <td>0</td>\n",
       "      <td>0</td>\n",
       "      <td>0</td>\n",
       "    </tr>\n",
       "    <tr>\n",
       "      <th>35</th>\n",
       "      <td>Puducherry</td>\n",
       "      <td>south</td>\n",
       "      <td>2</td>\n",
       "      <td>73</td>\n",
       "      <td>250.0</td>\n",
       "      <td>136</td>\n",
       "      <td>0</td>\n",
       "      <td>8</td>\n",
       "      <td>12</td>\n",
       "      <td>15</td>\n",
       "      <td>417</td>\n",
       "      <td>82</td>\n",
       "      <td>1297</td>\n",
       "      <td>9</td>\n",
       "      <td>90</td>\n",
       "      <td>0</td>\n",
       "      <td>71</td>\n",
       "      <td>0</td>\n",
       "      <td>193</td>\n",
       "    </tr>\n",
       "  </tbody>\n",
       "</table>\n",
       "</div>"
      ],
      "text/plain": [
       "              stateut     region  regionid  alcintake2014  overspeed2014  \\\n",
       "0      Andhra Pradesh      south         2            594        12747.0   \n",
       "1   Arunachal Pradesh  northeast         5             11           16.0   \n",
       "2               Assam  northeast         5            613         4596.0   \n",
       "3               Bihar      north         1           1680         1496.0   \n",
       "4        Chhattisgarh     centre         9            335         6720.0   \n",
       "5                 Goa       west         4              9         3148.0   \n",
       "6             Gujarat       west         4             42        13752.0   \n",
       "7             Haryana      north         1           1095         4185.0   \n",
       "8    Himachal Pradesh      north         1             74         2763.0   \n",
       "9     Jammu & Kashmir      north         1            388         2859.0   \n",
       "10          Jharkhand     centre         9            611         1627.0   \n",
       "11          Karnataka      south         2           2207        23370.0   \n",
       "12             Kerala      south         2             35        20611.0   \n",
       "13     Madhya Pradesh     centre         9           3540        20967.0   \n",
       "14        Maharashtra       west         4           1251        29790.0   \n",
       "15            Manipur  northeast         5              0            0.0   \n",
       "16          Meghalaya  northeast         5             25           40.0   \n",
       "17            Mizoram       east         3             16           48.0   \n",
       "18           Nagaland  northeast         5             91           51.0   \n",
       "19             Orissa     centre         9            637         3699.0   \n",
       "20             Punjab      north         1            442         2253.0   \n",
       "21          Rajasthan  northwest         6            915        11395.0   \n",
       "22             Sikkim  northeast         5              8           28.0   \n",
       "23         Tamil Nadu      south         2           1416        28804.0   \n",
       "24          Telangana     centre         9            968         6266.0   \n",
       "25            Tripura       east         3             12          499.0   \n",
       "26        Uttarakhand      north         1            508           94.0   \n",
       "27      Uttar Pradesh      north         1           1232         2561.0   \n",
       "28        West Bengal       east         3              0         3339.0   \n",
       "29      A & N Islands  southeast         7             25           94.0   \n",
       "30         Chandigarh      north         1             11          160.0   \n",
       "31       D & N Haveli       west         4              1           21.0   \n",
       "32        Daman & Diu       west         4              0           21.0   \n",
       "33              Delhi      north         1             51         5950.6   \n",
       "34        Lakshadweep  southwest         8              0            1.0   \n",
       "35         Puducherry      south         2             73          250.0   \n",
       "\n",
       "    overtaking2014  lanejumping2014  wrongside2014  signalavoid2014  \\\n",
       "0              507              328            668               29   \n",
       "1                0                0              0                0   \n",
       "2              129              104            156                7   \n",
       "3              278              236            308                7   \n",
       "4              188              313            266               10   \n",
       "5               33                8             61                0   \n",
       "6              641              370            394               51   \n",
       "7              206              179            393               93   \n",
       "8               21               10             43                0   \n",
       "9               67               29             58                0   \n",
       "10              68              149            221                1   \n",
       "11             944              455            877               99   \n",
       "12            1217             1178           1138               92   \n",
       "13            1165             1526            932               87   \n",
       "14            1687              897            796                9   \n",
       "15               0                0              0                0   \n",
       "16               0                0              0                0   \n",
       "17              24                0              1                0   \n",
       "18               0                0             26                0   \n",
       "19             336              286            519              114   \n",
       "20              60              211            127               17   \n",
       "21             102             1157            656                2   \n",
       "22               0                0              0                0   \n",
       "23            2171             1869           1529              451   \n",
       "24             526              232            570               22   \n",
       "25               0                7             29                1   \n",
       "26              15               69             99                7   \n",
       "27             392              362            763              115   \n",
       "28             257              179            205              106   \n",
       "29               7               20             11                0   \n",
       "30              83               25             17                0   \n",
       "31               0                0              0                0   \n",
       "32               2                2              1                0   \n",
       "33               0                0              0                0   \n",
       "34               0                0              0                0   \n",
       "35             136                0              8               12   \n",
       "\n",
       "    asleep2014  othercause2014  alcintake2016  overspeed2016  signalavoid2016  \\\n",
       "0          154            1938            128          17286               40   \n",
       "1            0              22             15             45                0   \n",
       "2            3             628            352           3520               64   \n",
       "3           72             439            593           2323                8   \n",
       "4           81             520            145           6660               62   \n",
       "5            4             159              3           3883                0   \n",
       "6           95             283             64          13314              261   \n",
       "7          154             292            529           2344              592   \n",
       "8            0               0             72            516                0   \n",
       "9            0             315             47           2428                0   \n",
       "10           6              25            543            652               37   \n",
       "11         145            4700            396          31506              228   \n",
       "12        1393              86            133          34062              406   \n",
       "13          86            4130           3083          28017              413   \n",
       "14         129            5537            226          23643               97   \n",
       "15           0               0             71             57                0   \n",
       "16           0               0             35            146                0   \n",
       "17           0              28             27             14                0   \n",
       "18           0              70             13             11                0   \n",
       "19         161             326           1255           4984               75   \n",
       "20          34             153            317           2517              180   \n",
       "21         176            1803            673          13358                0   \n",
       "22           0              51             12             45                0   \n",
       "23         161            6874            531          47055             1004   \n",
       "24         157            4065            202          13615               52   \n",
       "25           0               0              5            413                0   \n",
       "26           0              72             40            736                0   \n",
       "27         238            1915           4633          10184              632   \n",
       "28          49            1356            462           1473               90   \n",
       "29           0               0             27            124                2   \n",
       "30           0               7              9            380               10   \n",
       "31           0              65              0              8                0   \n",
       "32           0              10              7             29                0   \n",
       "33           0               0            164           1696              229   \n",
       "34           0               0              0              0                0   \n",
       "35          15             417             82           1297                9   \n",
       "\n",
       "    wrongside2016  lanejumping2016  overtaking2016  asleep2016  othercause2016  \n",
       "0             667              325            1024         306            2868  \n",
       "1               7               11               8           8              18  \n",
       "2             334              156             371           3             873  \n",
       "3             458              156             573         122             612  \n",
       "4             410              175             467         144             953  \n",
       "5              19                0              80           4             247  \n",
       "6             733              662            1016         156             904  \n",
       "7             913              690            1134         462            1210  \n",
       "8              21               78             195           0            1392  \n",
       "9              14                2              18           0             633  \n",
       "10            169              110             155           0               0  \n",
       "11            900              292            1019          40            4955  \n",
       "12           1254              121            2175          61              50  \n",
       "13           1300              657            4091         681            4589  \n",
       "14           1922              765            1883         378            3883  \n",
       "15             39                0              46          30              66  \n",
       "16              0                0               0           0               0  \n",
       "17              2                0               6           7              11  \n",
       "18              0                0               0           0               0  \n",
       "19            565              188            1194          80            1375  \n",
       "20            512              194             585          17             498  \n",
       "21            981              217            1345         222            5012  \n",
       "22             20                0              17           0               0  \n",
       "23           3209             2367            7155         671            4866  \n",
       "24            156               37             539          14            1301  \n",
       "25             15                0              56           0              28  \n",
       "26            105                0             132           0              70  \n",
       "27           2560             1123            3937        1121            4093  \n",
       "28             93               53             122          22            6915  \n",
       "29             31                0              15           0              39  \n",
       "30             17                5               0           0               7  \n",
       "31              5                0               5           2               4  \n",
       "32              2                0               2           1              27  \n",
       "33            131              129             211           0            2838  \n",
       "34              0                0               0           0               0  \n",
       "35             90                0              71           0             193  "
      ]
     },
     "execution_count": 7,
     "metadata": {},
     "output_type": "execute_result"
    }
   ],
   "source": [
    "driver_response"
   ]
  },
  {
   "cell_type": "code",
   "execution_count": 8,
   "metadata": {},
   "outputs": [
    {
     "data": {
      "text/plain": [
       "['stateut',\n",
       " 'region',\n",
       " 'regionid',\n",
       " 'alcintake2014',\n",
       " 'overspeed2014',\n",
       " 'overtaking2014',\n",
       " 'lanejumping2014',\n",
       " 'wrongside2014',\n",
       " 'signalavoid2014',\n",
       " 'asleep2014',\n",
       " 'othercause2014',\n",
       " 'alcintake2016',\n",
       " 'overspeed2016',\n",
       " 'signalavoid2016',\n",
       " 'wrongside2016',\n",
       " 'lanejumping2016',\n",
       " 'overtaking2016',\n",
       " 'asleep2016',\n",
       " 'othercause2016']"
      ]
     },
     "execution_count": 8,
     "metadata": {},
     "output_type": "execute_result"
    }
   ],
   "source": [
    "driver_response.columns.tolist()"
   ]
  },
  {
   "cell_type": "code",
   "execution_count": 9,
   "metadata": {},
   "outputs": [
    {
     "data": {
      "text/html": [
       "<div>\n",
       "<style scoped>\n",
       "    .dataframe tbody tr th:only-of-type {\n",
       "        vertical-align: middle;\n",
       "    }\n",
       "\n",
       "    .dataframe tbody tr th {\n",
       "        vertical-align: top;\n",
       "    }\n",
       "\n",
       "    .dataframe thead th {\n",
       "        text-align: right;\n",
       "    }\n",
       "</style>\n",
       "<table border=\"1\" class=\"dataframe\">\n",
       "  <thead>\n",
       "    <tr style=\"text-align: right;\">\n",
       "      <th></th>\n",
       "      <th>State/UT</th>\n",
       "      <th>GEO_Region</th>\n",
       "      <th>R_ID</th>\n",
       "      <th>AIntake_14</th>\n",
       "      <th>Speeding_14</th>\n",
       "      <th>Overtake_14</th>\n",
       "      <th>LaneJump_14</th>\n",
       "      <th>WrongSide_14</th>\n",
       "      <th>SignalAvoid_14</th>\n",
       "      <th>Sleep_14</th>\n",
       "      <th>Others_14</th>\n",
       "      <th>AIntake_16</th>\n",
       "      <th>Sppeding_16</th>\n",
       "      <th>SignalAvoid_16</th>\n",
       "      <th>WrongSide_16</th>\n",
       "      <th>LaneJump_16</th>\n",
       "      <th>Overtake_16</th>\n",
       "      <th>Sleeping_16</th>\n",
       "      <th>Others_16</th>\n",
       "    </tr>\n",
       "  </thead>\n",
       "  <tbody>\n",
       "    <tr>\n",
       "      <th>0</th>\n",
       "      <td>Andhra Pradesh</td>\n",
       "      <td>south</td>\n",
       "      <td>2</td>\n",
       "      <td>594</td>\n",
       "      <td>12747.0</td>\n",
       "      <td>507</td>\n",
       "      <td>328</td>\n",
       "      <td>668</td>\n",
       "      <td>29</td>\n",
       "      <td>154</td>\n",
       "      <td>1938</td>\n",
       "      <td>128</td>\n",
       "      <td>17286</td>\n",
       "      <td>40</td>\n",
       "      <td>667</td>\n",
       "      <td>325</td>\n",
       "      <td>1024</td>\n",
       "      <td>306</td>\n",
       "      <td>2868</td>\n",
       "    </tr>\n",
       "    <tr>\n",
       "      <th>1</th>\n",
       "      <td>Arunachal Pradesh</td>\n",
       "      <td>northeast</td>\n",
       "      <td>5</td>\n",
       "      <td>11</td>\n",
       "      <td>16.0</td>\n",
       "      <td>0</td>\n",
       "      <td>0</td>\n",
       "      <td>0</td>\n",
       "      <td>0</td>\n",
       "      <td>0</td>\n",
       "      <td>22</td>\n",
       "      <td>15</td>\n",
       "      <td>45</td>\n",
       "      <td>0</td>\n",
       "      <td>7</td>\n",
       "      <td>11</td>\n",
       "      <td>8</td>\n",
       "      <td>8</td>\n",
       "      <td>18</td>\n",
       "    </tr>\n",
       "    <tr>\n",
       "      <th>2</th>\n",
       "      <td>Assam</td>\n",
       "      <td>northeast</td>\n",
       "      <td>5</td>\n",
       "      <td>613</td>\n",
       "      <td>4596.0</td>\n",
       "      <td>129</td>\n",
       "      <td>104</td>\n",
       "      <td>156</td>\n",
       "      <td>7</td>\n",
       "      <td>3</td>\n",
       "      <td>628</td>\n",
       "      <td>352</td>\n",
       "      <td>3520</td>\n",
       "      <td>64</td>\n",
       "      <td>334</td>\n",
       "      <td>156</td>\n",
       "      <td>371</td>\n",
       "      <td>3</td>\n",
       "      <td>873</td>\n",
       "    </tr>\n",
       "    <tr>\n",
       "      <th>3</th>\n",
       "      <td>Bihar</td>\n",
       "      <td>north</td>\n",
       "      <td>1</td>\n",
       "      <td>1680</td>\n",
       "      <td>1496.0</td>\n",
       "      <td>278</td>\n",
       "      <td>236</td>\n",
       "      <td>308</td>\n",
       "      <td>7</td>\n",
       "      <td>72</td>\n",
       "      <td>439</td>\n",
       "      <td>593</td>\n",
       "      <td>2323</td>\n",
       "      <td>8</td>\n",
       "      <td>458</td>\n",
       "      <td>156</td>\n",
       "      <td>573</td>\n",
       "      <td>122</td>\n",
       "      <td>612</td>\n",
       "    </tr>\n",
       "    <tr>\n",
       "      <th>4</th>\n",
       "      <td>Chhattisgarh</td>\n",
       "      <td>centre</td>\n",
       "      <td>9</td>\n",
       "      <td>335</td>\n",
       "      <td>6720.0</td>\n",
       "      <td>188</td>\n",
       "      <td>313</td>\n",
       "      <td>266</td>\n",
       "      <td>10</td>\n",
       "      <td>81</td>\n",
       "      <td>520</td>\n",
       "      <td>145</td>\n",
       "      <td>6660</td>\n",
       "      <td>62</td>\n",
       "      <td>410</td>\n",
       "      <td>175</td>\n",
       "      <td>467</td>\n",
       "      <td>144</td>\n",
       "      <td>953</td>\n",
       "    </tr>\n",
       "    <tr>\n",
       "      <th>5</th>\n",
       "      <td>Goa</td>\n",
       "      <td>west</td>\n",
       "      <td>4</td>\n",
       "      <td>9</td>\n",
       "      <td>3148.0</td>\n",
       "      <td>33</td>\n",
       "      <td>8</td>\n",
       "      <td>61</td>\n",
       "      <td>0</td>\n",
       "      <td>4</td>\n",
       "      <td>159</td>\n",
       "      <td>3</td>\n",
       "      <td>3883</td>\n",
       "      <td>0</td>\n",
       "      <td>19</td>\n",
       "      <td>0</td>\n",
       "      <td>80</td>\n",
       "      <td>4</td>\n",
       "      <td>247</td>\n",
       "    </tr>\n",
       "    <tr>\n",
       "      <th>6</th>\n",
       "      <td>Gujarat</td>\n",
       "      <td>west</td>\n",
       "      <td>4</td>\n",
       "      <td>42</td>\n",
       "      <td>13752.0</td>\n",
       "      <td>641</td>\n",
       "      <td>370</td>\n",
       "      <td>394</td>\n",
       "      <td>51</td>\n",
       "      <td>95</td>\n",
       "      <td>283</td>\n",
       "      <td>64</td>\n",
       "      <td>13314</td>\n",
       "      <td>261</td>\n",
       "      <td>733</td>\n",
       "      <td>662</td>\n",
       "      <td>1016</td>\n",
       "      <td>156</td>\n",
       "      <td>904</td>\n",
       "    </tr>\n",
       "    <tr>\n",
       "      <th>7</th>\n",
       "      <td>Haryana</td>\n",
       "      <td>north</td>\n",
       "      <td>1</td>\n",
       "      <td>1095</td>\n",
       "      <td>4185.0</td>\n",
       "      <td>206</td>\n",
       "      <td>179</td>\n",
       "      <td>393</td>\n",
       "      <td>93</td>\n",
       "      <td>154</td>\n",
       "      <td>292</td>\n",
       "      <td>529</td>\n",
       "      <td>2344</td>\n",
       "      <td>592</td>\n",
       "      <td>913</td>\n",
       "      <td>690</td>\n",
       "      <td>1134</td>\n",
       "      <td>462</td>\n",
       "      <td>1210</td>\n",
       "    </tr>\n",
       "    <tr>\n",
       "      <th>8</th>\n",
       "      <td>Himachal Pradesh</td>\n",
       "      <td>north</td>\n",
       "      <td>1</td>\n",
       "      <td>74</td>\n",
       "      <td>2763.0</td>\n",
       "      <td>21</td>\n",
       "      <td>10</td>\n",
       "      <td>43</td>\n",
       "      <td>0</td>\n",
       "      <td>0</td>\n",
       "      <td>0</td>\n",
       "      <td>72</td>\n",
       "      <td>516</td>\n",
       "      <td>0</td>\n",
       "      <td>21</td>\n",
       "      <td>78</td>\n",
       "      <td>195</td>\n",
       "      <td>0</td>\n",
       "      <td>1392</td>\n",
       "    </tr>\n",
       "    <tr>\n",
       "      <th>9</th>\n",
       "      <td>Jammu &amp; Kashmir</td>\n",
       "      <td>north</td>\n",
       "      <td>1</td>\n",
       "      <td>388</td>\n",
       "      <td>2859.0</td>\n",
       "      <td>67</td>\n",
       "      <td>29</td>\n",
       "      <td>58</td>\n",
       "      <td>0</td>\n",
       "      <td>0</td>\n",
       "      <td>315</td>\n",
       "      <td>47</td>\n",
       "      <td>2428</td>\n",
       "      <td>0</td>\n",
       "      <td>14</td>\n",
       "      <td>2</td>\n",
       "      <td>18</td>\n",
       "      <td>0</td>\n",
       "      <td>633</td>\n",
       "    </tr>\n",
       "    <tr>\n",
       "      <th>10</th>\n",
       "      <td>Jharkhand</td>\n",
       "      <td>centre</td>\n",
       "      <td>9</td>\n",
       "      <td>611</td>\n",
       "      <td>1627.0</td>\n",
       "      <td>68</td>\n",
       "      <td>149</td>\n",
       "      <td>221</td>\n",
       "      <td>1</td>\n",
       "      <td>6</td>\n",
       "      <td>25</td>\n",
       "      <td>543</td>\n",
       "      <td>652</td>\n",
       "      <td>37</td>\n",
       "      <td>169</td>\n",
       "      <td>110</td>\n",
       "      <td>155</td>\n",
       "      <td>0</td>\n",
       "      <td>0</td>\n",
       "    </tr>\n",
       "    <tr>\n",
       "      <th>11</th>\n",
       "      <td>Karnataka</td>\n",
       "      <td>south</td>\n",
       "      <td>2</td>\n",
       "      <td>2207</td>\n",
       "      <td>23370.0</td>\n",
       "      <td>944</td>\n",
       "      <td>455</td>\n",
       "      <td>877</td>\n",
       "      <td>99</td>\n",
       "      <td>145</td>\n",
       "      <td>4700</td>\n",
       "      <td>396</td>\n",
       "      <td>31506</td>\n",
       "      <td>228</td>\n",
       "      <td>900</td>\n",
       "      <td>292</td>\n",
       "      <td>1019</td>\n",
       "      <td>40</td>\n",
       "      <td>4955</td>\n",
       "    </tr>\n",
       "    <tr>\n",
       "      <th>12</th>\n",
       "      <td>Kerala</td>\n",
       "      <td>south</td>\n",
       "      <td>2</td>\n",
       "      <td>35</td>\n",
       "      <td>20611.0</td>\n",
       "      <td>1217</td>\n",
       "      <td>1178</td>\n",
       "      <td>1138</td>\n",
       "      <td>92</td>\n",
       "      <td>1393</td>\n",
       "      <td>86</td>\n",
       "      <td>133</td>\n",
       "      <td>34062</td>\n",
       "      <td>406</td>\n",
       "      <td>1254</td>\n",
       "      <td>121</td>\n",
       "      <td>2175</td>\n",
       "      <td>61</td>\n",
       "      <td>50</td>\n",
       "    </tr>\n",
       "    <tr>\n",
       "      <th>13</th>\n",
       "      <td>Madhya Pradesh</td>\n",
       "      <td>centre</td>\n",
       "      <td>9</td>\n",
       "      <td>3540</td>\n",
       "      <td>20967.0</td>\n",
       "      <td>1165</td>\n",
       "      <td>1526</td>\n",
       "      <td>932</td>\n",
       "      <td>87</td>\n",
       "      <td>86</td>\n",
       "      <td>4130</td>\n",
       "      <td>3083</td>\n",
       "      <td>28017</td>\n",
       "      <td>413</td>\n",
       "      <td>1300</td>\n",
       "      <td>657</td>\n",
       "      <td>4091</td>\n",
       "      <td>681</td>\n",
       "      <td>4589</td>\n",
       "    </tr>\n",
       "    <tr>\n",
       "      <th>14</th>\n",
       "      <td>Maharashtra</td>\n",
       "      <td>west</td>\n",
       "      <td>4</td>\n",
       "      <td>1251</td>\n",
       "      <td>29790.0</td>\n",
       "      <td>1687</td>\n",
       "      <td>897</td>\n",
       "      <td>796</td>\n",
       "      <td>9</td>\n",
       "      <td>129</td>\n",
       "      <td>5537</td>\n",
       "      <td>226</td>\n",
       "      <td>23643</td>\n",
       "      <td>97</td>\n",
       "      <td>1922</td>\n",
       "      <td>765</td>\n",
       "      <td>1883</td>\n",
       "      <td>378</td>\n",
       "      <td>3883</td>\n",
       "    </tr>\n",
       "    <tr>\n",
       "      <th>15</th>\n",
       "      <td>Manipur</td>\n",
       "      <td>northeast</td>\n",
       "      <td>5</td>\n",
       "      <td>0</td>\n",
       "      <td>0.0</td>\n",
       "      <td>0</td>\n",
       "      <td>0</td>\n",
       "      <td>0</td>\n",
       "      <td>0</td>\n",
       "      <td>0</td>\n",
       "      <td>0</td>\n",
       "      <td>71</td>\n",
       "      <td>57</td>\n",
       "      <td>0</td>\n",
       "      <td>39</td>\n",
       "      <td>0</td>\n",
       "      <td>46</td>\n",
       "      <td>30</td>\n",
       "      <td>66</td>\n",
       "    </tr>\n",
       "    <tr>\n",
       "      <th>16</th>\n",
       "      <td>Meghalaya</td>\n",
       "      <td>northeast</td>\n",
       "      <td>5</td>\n",
       "      <td>25</td>\n",
       "      <td>40.0</td>\n",
       "      <td>0</td>\n",
       "      <td>0</td>\n",
       "      <td>0</td>\n",
       "      <td>0</td>\n",
       "      <td>0</td>\n",
       "      <td>0</td>\n",
       "      <td>35</td>\n",
       "      <td>146</td>\n",
       "      <td>0</td>\n",
       "      <td>0</td>\n",
       "      <td>0</td>\n",
       "      <td>0</td>\n",
       "      <td>0</td>\n",
       "      <td>0</td>\n",
       "    </tr>\n",
       "    <tr>\n",
       "      <th>17</th>\n",
       "      <td>Mizoram</td>\n",
       "      <td>east</td>\n",
       "      <td>3</td>\n",
       "      <td>16</td>\n",
       "      <td>48.0</td>\n",
       "      <td>24</td>\n",
       "      <td>0</td>\n",
       "      <td>1</td>\n",
       "      <td>0</td>\n",
       "      <td>0</td>\n",
       "      <td>28</td>\n",
       "      <td>27</td>\n",
       "      <td>14</td>\n",
       "      <td>0</td>\n",
       "      <td>2</td>\n",
       "      <td>0</td>\n",
       "      <td>6</td>\n",
       "      <td>7</td>\n",
       "      <td>11</td>\n",
       "    </tr>\n",
       "    <tr>\n",
       "      <th>18</th>\n",
       "      <td>Nagaland</td>\n",
       "      <td>northeast</td>\n",
       "      <td>5</td>\n",
       "      <td>91</td>\n",
       "      <td>51.0</td>\n",
       "      <td>0</td>\n",
       "      <td>0</td>\n",
       "      <td>26</td>\n",
       "      <td>0</td>\n",
       "      <td>0</td>\n",
       "      <td>70</td>\n",
       "      <td>13</td>\n",
       "      <td>11</td>\n",
       "      <td>0</td>\n",
       "      <td>0</td>\n",
       "      <td>0</td>\n",
       "      <td>0</td>\n",
       "      <td>0</td>\n",
       "      <td>0</td>\n",
       "    </tr>\n",
       "    <tr>\n",
       "      <th>19</th>\n",
       "      <td>Orissa</td>\n",
       "      <td>centre</td>\n",
       "      <td>9</td>\n",
       "      <td>637</td>\n",
       "      <td>3699.0</td>\n",
       "      <td>336</td>\n",
       "      <td>286</td>\n",
       "      <td>519</td>\n",
       "      <td>114</td>\n",
       "      <td>161</td>\n",
       "      <td>326</td>\n",
       "      <td>1255</td>\n",
       "      <td>4984</td>\n",
       "      <td>75</td>\n",
       "      <td>565</td>\n",
       "      <td>188</td>\n",
       "      <td>1194</td>\n",
       "      <td>80</td>\n",
       "      <td>1375</td>\n",
       "    </tr>\n",
       "    <tr>\n",
       "      <th>20</th>\n",
       "      <td>Punjab</td>\n",
       "      <td>north</td>\n",
       "      <td>1</td>\n",
       "      <td>442</td>\n",
       "      <td>2253.0</td>\n",
       "      <td>60</td>\n",
       "      <td>211</td>\n",
       "      <td>127</td>\n",
       "      <td>17</td>\n",
       "      <td>34</td>\n",
       "      <td>153</td>\n",
       "      <td>317</td>\n",
       "      <td>2517</td>\n",
       "      <td>180</td>\n",
       "      <td>512</td>\n",
       "      <td>194</td>\n",
       "      <td>585</td>\n",
       "      <td>17</td>\n",
       "      <td>498</td>\n",
       "    </tr>\n",
       "    <tr>\n",
       "      <th>21</th>\n",
       "      <td>Rajasthan</td>\n",
       "      <td>northwest</td>\n",
       "      <td>6</td>\n",
       "      <td>915</td>\n",
       "      <td>11395.0</td>\n",
       "      <td>102</td>\n",
       "      <td>1157</td>\n",
       "      <td>656</td>\n",
       "      <td>2</td>\n",
       "      <td>176</td>\n",
       "      <td>1803</td>\n",
       "      <td>673</td>\n",
       "      <td>13358</td>\n",
       "      <td>0</td>\n",
       "      <td>981</td>\n",
       "      <td>217</td>\n",
       "      <td>1345</td>\n",
       "      <td>222</td>\n",
       "      <td>5012</td>\n",
       "    </tr>\n",
       "    <tr>\n",
       "      <th>22</th>\n",
       "      <td>Sikkim</td>\n",
       "      <td>northeast</td>\n",
       "      <td>5</td>\n",
       "      <td>8</td>\n",
       "      <td>28.0</td>\n",
       "      <td>0</td>\n",
       "      <td>0</td>\n",
       "      <td>0</td>\n",
       "      <td>0</td>\n",
       "      <td>0</td>\n",
       "      <td>51</td>\n",
       "      <td>12</td>\n",
       "      <td>45</td>\n",
       "      <td>0</td>\n",
       "      <td>20</td>\n",
       "      <td>0</td>\n",
       "      <td>17</td>\n",
       "      <td>0</td>\n",
       "      <td>0</td>\n",
       "    </tr>\n",
       "    <tr>\n",
       "      <th>23</th>\n",
       "      <td>Tamil Nadu</td>\n",
       "      <td>south</td>\n",
       "      <td>2</td>\n",
       "      <td>1416</td>\n",
       "      <td>28804.0</td>\n",
       "      <td>2171</td>\n",
       "      <td>1869</td>\n",
       "      <td>1529</td>\n",
       "      <td>451</td>\n",
       "      <td>161</td>\n",
       "      <td>6874</td>\n",
       "      <td>531</td>\n",
       "      <td>47055</td>\n",
       "      <td>1004</td>\n",
       "      <td>3209</td>\n",
       "      <td>2367</td>\n",
       "      <td>7155</td>\n",
       "      <td>671</td>\n",
       "      <td>4866</td>\n",
       "    </tr>\n",
       "    <tr>\n",
       "      <th>24</th>\n",
       "      <td>Telangana</td>\n",
       "      <td>centre</td>\n",
       "      <td>9</td>\n",
       "      <td>968</td>\n",
       "      <td>6266.0</td>\n",
       "      <td>526</td>\n",
       "      <td>232</td>\n",
       "      <td>570</td>\n",
       "      <td>22</td>\n",
       "      <td>157</td>\n",
       "      <td>4065</td>\n",
       "      <td>202</td>\n",
       "      <td>13615</td>\n",
       "      <td>52</td>\n",
       "      <td>156</td>\n",
       "      <td>37</td>\n",
       "      <td>539</td>\n",
       "      <td>14</td>\n",
       "      <td>1301</td>\n",
       "    </tr>\n",
       "    <tr>\n",
       "      <th>25</th>\n",
       "      <td>Tripura</td>\n",
       "      <td>east</td>\n",
       "      <td>3</td>\n",
       "      <td>12</td>\n",
       "      <td>499.0</td>\n",
       "      <td>0</td>\n",
       "      <td>7</td>\n",
       "      <td>29</td>\n",
       "      <td>1</td>\n",
       "      <td>0</td>\n",
       "      <td>0</td>\n",
       "      <td>5</td>\n",
       "      <td>413</td>\n",
       "      <td>0</td>\n",
       "      <td>15</td>\n",
       "      <td>0</td>\n",
       "      <td>56</td>\n",
       "      <td>0</td>\n",
       "      <td>28</td>\n",
       "    </tr>\n",
       "    <tr>\n",
       "      <th>26</th>\n",
       "      <td>Uttarakhand</td>\n",
       "      <td>north</td>\n",
       "      <td>1</td>\n",
       "      <td>508</td>\n",
       "      <td>94.0</td>\n",
       "      <td>15</td>\n",
       "      <td>69</td>\n",
       "      <td>99</td>\n",
       "      <td>7</td>\n",
       "      <td>0</td>\n",
       "      <td>72</td>\n",
       "      <td>40</td>\n",
       "      <td>736</td>\n",
       "      <td>0</td>\n",
       "      <td>105</td>\n",
       "      <td>0</td>\n",
       "      <td>132</td>\n",
       "      <td>0</td>\n",
       "      <td>70</td>\n",
       "    </tr>\n",
       "    <tr>\n",
       "      <th>27</th>\n",
       "      <td>Uttar Pradesh</td>\n",
       "      <td>north</td>\n",
       "      <td>1</td>\n",
       "      <td>1232</td>\n",
       "      <td>2561.0</td>\n",
       "      <td>392</td>\n",
       "      <td>362</td>\n",
       "      <td>763</td>\n",
       "      <td>115</td>\n",
       "      <td>238</td>\n",
       "      <td>1915</td>\n",
       "      <td>4633</td>\n",
       "      <td>10184</td>\n",
       "      <td>632</td>\n",
       "      <td>2560</td>\n",
       "      <td>1123</td>\n",
       "      <td>3937</td>\n",
       "      <td>1121</td>\n",
       "      <td>4093</td>\n",
       "    </tr>\n",
       "    <tr>\n",
       "      <th>28</th>\n",
       "      <td>West Bengal</td>\n",
       "      <td>east</td>\n",
       "      <td>3</td>\n",
       "      <td>0</td>\n",
       "      <td>3339.0</td>\n",
       "      <td>257</td>\n",
       "      <td>179</td>\n",
       "      <td>205</td>\n",
       "      <td>106</td>\n",
       "      <td>49</td>\n",
       "      <td>1356</td>\n",
       "      <td>462</td>\n",
       "      <td>1473</td>\n",
       "      <td>90</td>\n",
       "      <td>93</td>\n",
       "      <td>53</td>\n",
       "      <td>122</td>\n",
       "      <td>22</td>\n",
       "      <td>6915</td>\n",
       "    </tr>\n",
       "    <tr>\n",
       "      <th>29</th>\n",
       "      <td>A &amp; N Islands</td>\n",
       "      <td>southeast</td>\n",
       "      <td>7</td>\n",
       "      <td>25</td>\n",
       "      <td>94.0</td>\n",
       "      <td>7</td>\n",
       "      <td>20</td>\n",
       "      <td>11</td>\n",
       "      <td>0</td>\n",
       "      <td>0</td>\n",
       "      <td>0</td>\n",
       "      <td>27</td>\n",
       "      <td>124</td>\n",
       "      <td>2</td>\n",
       "      <td>31</td>\n",
       "      <td>0</td>\n",
       "      <td>15</td>\n",
       "      <td>0</td>\n",
       "      <td>39</td>\n",
       "    </tr>\n",
       "    <tr>\n",
       "      <th>30</th>\n",
       "      <td>Chandigarh</td>\n",
       "      <td>north</td>\n",
       "      <td>1</td>\n",
       "      <td>11</td>\n",
       "      <td>160.0</td>\n",
       "      <td>83</td>\n",
       "      <td>25</td>\n",
       "      <td>17</td>\n",
       "      <td>0</td>\n",
       "      <td>0</td>\n",
       "      <td>7</td>\n",
       "      <td>9</td>\n",
       "      <td>380</td>\n",
       "      <td>10</td>\n",
       "      <td>17</td>\n",
       "      <td>5</td>\n",
       "      <td>0</td>\n",
       "      <td>0</td>\n",
       "      <td>7</td>\n",
       "    </tr>\n",
       "    <tr>\n",
       "      <th>31</th>\n",
       "      <td>D &amp; N Haveli</td>\n",
       "      <td>west</td>\n",
       "      <td>4</td>\n",
       "      <td>1</td>\n",
       "      <td>21.0</td>\n",
       "      <td>0</td>\n",
       "      <td>0</td>\n",
       "      <td>0</td>\n",
       "      <td>0</td>\n",
       "      <td>0</td>\n",
       "      <td>65</td>\n",
       "      <td>0</td>\n",
       "      <td>8</td>\n",
       "      <td>0</td>\n",
       "      <td>5</td>\n",
       "      <td>0</td>\n",
       "      <td>5</td>\n",
       "      <td>2</td>\n",
       "      <td>4</td>\n",
       "    </tr>\n",
       "    <tr>\n",
       "      <th>32</th>\n",
       "      <td>Daman &amp; Diu</td>\n",
       "      <td>west</td>\n",
       "      <td>4</td>\n",
       "      <td>0</td>\n",
       "      <td>21.0</td>\n",
       "      <td>2</td>\n",
       "      <td>2</td>\n",
       "      <td>1</td>\n",
       "      <td>0</td>\n",
       "      <td>0</td>\n",
       "      <td>10</td>\n",
       "      <td>7</td>\n",
       "      <td>29</td>\n",
       "      <td>0</td>\n",
       "      <td>2</td>\n",
       "      <td>0</td>\n",
       "      <td>2</td>\n",
       "      <td>1</td>\n",
       "      <td>27</td>\n",
       "    </tr>\n",
       "    <tr>\n",
       "      <th>33</th>\n",
       "      <td>Delhi</td>\n",
       "      <td>north</td>\n",
       "      <td>1</td>\n",
       "      <td>51</td>\n",
       "      <td>5950.6</td>\n",
       "      <td>0</td>\n",
       "      <td>0</td>\n",
       "      <td>0</td>\n",
       "      <td>0</td>\n",
       "      <td>0</td>\n",
       "      <td>0</td>\n",
       "      <td>164</td>\n",
       "      <td>1696</td>\n",
       "      <td>229</td>\n",
       "      <td>131</td>\n",
       "      <td>129</td>\n",
       "      <td>211</td>\n",
       "      <td>0</td>\n",
       "      <td>2838</td>\n",
       "    </tr>\n",
       "    <tr>\n",
       "      <th>34</th>\n",
       "      <td>Lakshadweep</td>\n",
       "      <td>southwest</td>\n",
       "      <td>8</td>\n",
       "      <td>0</td>\n",
       "      <td>1.0</td>\n",
       "      <td>0</td>\n",
       "      <td>0</td>\n",
       "      <td>0</td>\n",
       "      <td>0</td>\n",
       "      <td>0</td>\n",
       "      <td>0</td>\n",
       "      <td>0</td>\n",
       "      <td>0</td>\n",
       "      <td>0</td>\n",
       "      <td>0</td>\n",
       "      <td>0</td>\n",
       "      <td>0</td>\n",
       "      <td>0</td>\n",
       "      <td>0</td>\n",
       "    </tr>\n",
       "    <tr>\n",
       "      <th>35</th>\n",
       "      <td>Puducherry</td>\n",
       "      <td>south</td>\n",
       "      <td>2</td>\n",
       "      <td>73</td>\n",
       "      <td>250.0</td>\n",
       "      <td>136</td>\n",
       "      <td>0</td>\n",
       "      <td>8</td>\n",
       "      <td>12</td>\n",
       "      <td>15</td>\n",
       "      <td>417</td>\n",
       "      <td>82</td>\n",
       "      <td>1297</td>\n",
       "      <td>9</td>\n",
       "      <td>90</td>\n",
       "      <td>0</td>\n",
       "      <td>71</td>\n",
       "      <td>0</td>\n",
       "      <td>193</td>\n",
       "    </tr>\n",
       "  </tbody>\n",
       "</table>\n",
       "</div>"
      ],
      "text/plain": [
       "             State/UT GEO_Region  R_ID  AIntake_14  Speeding_14  Overtake_14  \\\n",
       "0      Andhra Pradesh      south     2         594      12747.0          507   \n",
       "1   Arunachal Pradesh  northeast     5          11         16.0            0   \n",
       "2               Assam  northeast     5         613       4596.0          129   \n",
       "3               Bihar      north     1        1680       1496.0          278   \n",
       "4        Chhattisgarh     centre     9         335       6720.0          188   \n",
       "5                 Goa       west     4           9       3148.0           33   \n",
       "6             Gujarat       west     4          42      13752.0          641   \n",
       "7             Haryana      north     1        1095       4185.0          206   \n",
       "8    Himachal Pradesh      north     1          74       2763.0           21   \n",
       "9     Jammu & Kashmir      north     1         388       2859.0           67   \n",
       "10          Jharkhand     centre     9         611       1627.0           68   \n",
       "11          Karnataka      south     2        2207      23370.0          944   \n",
       "12             Kerala      south     2          35      20611.0         1217   \n",
       "13     Madhya Pradesh     centre     9        3540      20967.0         1165   \n",
       "14        Maharashtra       west     4        1251      29790.0         1687   \n",
       "15            Manipur  northeast     5           0          0.0            0   \n",
       "16          Meghalaya  northeast     5          25         40.0            0   \n",
       "17            Mizoram       east     3          16         48.0           24   \n",
       "18           Nagaland  northeast     5          91         51.0            0   \n",
       "19             Orissa     centre     9         637       3699.0          336   \n",
       "20             Punjab      north     1         442       2253.0           60   \n",
       "21          Rajasthan  northwest     6         915      11395.0          102   \n",
       "22             Sikkim  northeast     5           8         28.0            0   \n",
       "23         Tamil Nadu      south     2        1416      28804.0         2171   \n",
       "24          Telangana     centre     9         968       6266.0          526   \n",
       "25            Tripura       east     3          12        499.0            0   \n",
       "26        Uttarakhand      north     1         508         94.0           15   \n",
       "27      Uttar Pradesh      north     1        1232       2561.0          392   \n",
       "28        West Bengal       east     3           0       3339.0          257   \n",
       "29      A & N Islands  southeast     7          25         94.0            7   \n",
       "30         Chandigarh      north     1          11        160.0           83   \n",
       "31       D & N Haveli       west     4           1         21.0            0   \n",
       "32        Daman & Diu       west     4           0         21.0            2   \n",
       "33              Delhi      north     1          51       5950.6            0   \n",
       "34        Lakshadweep  southwest     8           0          1.0            0   \n",
       "35         Puducherry      south     2          73        250.0          136   \n",
       "\n",
       "    LaneJump_14  WrongSide_14  SignalAvoid_14  Sleep_14  Others_14  \\\n",
       "0           328           668              29       154       1938   \n",
       "1             0             0               0         0         22   \n",
       "2           104           156               7         3        628   \n",
       "3           236           308               7        72        439   \n",
       "4           313           266              10        81        520   \n",
       "5             8            61               0         4        159   \n",
       "6           370           394              51        95        283   \n",
       "7           179           393              93       154        292   \n",
       "8            10            43               0         0          0   \n",
       "9            29            58               0         0        315   \n",
       "10          149           221               1         6         25   \n",
       "11          455           877              99       145       4700   \n",
       "12         1178          1138              92      1393         86   \n",
       "13         1526           932              87        86       4130   \n",
       "14          897           796               9       129       5537   \n",
       "15            0             0               0         0          0   \n",
       "16            0             0               0         0          0   \n",
       "17            0             1               0         0         28   \n",
       "18            0            26               0         0         70   \n",
       "19          286           519             114       161        326   \n",
       "20          211           127              17        34        153   \n",
       "21         1157           656               2       176       1803   \n",
       "22            0             0               0         0         51   \n",
       "23         1869          1529             451       161       6874   \n",
       "24          232           570              22       157       4065   \n",
       "25            7            29               1         0          0   \n",
       "26           69            99               7         0         72   \n",
       "27          362           763             115       238       1915   \n",
       "28          179           205             106        49       1356   \n",
       "29           20            11               0         0          0   \n",
       "30           25            17               0         0          7   \n",
       "31            0             0               0         0         65   \n",
       "32            2             1               0         0         10   \n",
       "33            0             0               0         0          0   \n",
       "34            0             0               0         0          0   \n",
       "35            0             8              12        15        417   \n",
       "\n",
       "    AIntake_16  Sppeding_16  SignalAvoid_16  WrongSide_16  LaneJump_16  \\\n",
       "0          128        17286              40           667          325   \n",
       "1           15           45               0             7           11   \n",
       "2          352         3520              64           334          156   \n",
       "3          593         2323               8           458          156   \n",
       "4          145         6660              62           410          175   \n",
       "5            3         3883               0            19            0   \n",
       "6           64        13314             261           733          662   \n",
       "7          529         2344             592           913          690   \n",
       "8           72          516               0            21           78   \n",
       "9           47         2428               0            14            2   \n",
       "10         543          652              37           169          110   \n",
       "11         396        31506             228           900          292   \n",
       "12         133        34062             406          1254          121   \n",
       "13        3083        28017             413          1300          657   \n",
       "14         226        23643              97          1922          765   \n",
       "15          71           57               0            39            0   \n",
       "16          35          146               0             0            0   \n",
       "17          27           14               0             2            0   \n",
       "18          13           11               0             0            0   \n",
       "19        1255         4984              75           565          188   \n",
       "20         317         2517             180           512          194   \n",
       "21         673        13358               0           981          217   \n",
       "22          12           45               0            20            0   \n",
       "23         531        47055            1004          3209         2367   \n",
       "24         202        13615              52           156           37   \n",
       "25           5          413               0            15            0   \n",
       "26          40          736               0           105            0   \n",
       "27        4633        10184             632          2560         1123   \n",
       "28         462         1473              90            93           53   \n",
       "29          27          124               2            31            0   \n",
       "30           9          380              10            17            5   \n",
       "31           0            8               0             5            0   \n",
       "32           7           29               0             2            0   \n",
       "33         164         1696             229           131          129   \n",
       "34           0            0               0             0            0   \n",
       "35          82         1297               9            90            0   \n",
       "\n",
       "    Overtake_16  Sleeping_16  Others_16  \n",
       "0          1024          306       2868  \n",
       "1             8            8         18  \n",
       "2           371            3        873  \n",
       "3           573          122        612  \n",
       "4           467          144        953  \n",
       "5            80            4        247  \n",
       "6          1016          156        904  \n",
       "7          1134          462       1210  \n",
       "8           195            0       1392  \n",
       "9            18            0        633  \n",
       "10          155            0          0  \n",
       "11         1019           40       4955  \n",
       "12         2175           61         50  \n",
       "13         4091          681       4589  \n",
       "14         1883          378       3883  \n",
       "15           46           30         66  \n",
       "16            0            0          0  \n",
       "17            6            7         11  \n",
       "18            0            0          0  \n",
       "19         1194           80       1375  \n",
       "20          585           17        498  \n",
       "21         1345          222       5012  \n",
       "22           17            0          0  \n",
       "23         7155          671       4866  \n",
       "24          539           14       1301  \n",
       "25           56            0         28  \n",
       "26          132            0         70  \n",
       "27         3937         1121       4093  \n",
       "28          122           22       6915  \n",
       "29           15            0         39  \n",
       "30            0            0          7  \n",
       "31            5            2          4  \n",
       "32            2            1         27  \n",
       "33          211            0       2838  \n",
       "34            0            0          0  \n",
       "35           71            0        193  "
      ]
     },
     "execution_count": 9,
     "metadata": {},
     "output_type": "execute_result"
    }
   ],
   "source": [
    "driver_response.rename(columns={\n",
    "    'stateut':'State/UT',\n",
    "    'region':'GEO_Region',\n",
    "    'regionid':'R_ID',\n",
    "    'alcintake2014':'AIntake_14',\n",
    "    'overspeed2014':'Speeding_14',\n",
    "    'overtaking2014':'Overtake_14',\n",
    "    'lanejumping2014':'LaneJump_14',\n",
    "    'wrongside2014':'WrongSide_14',\n",
    "    'signalavoid2014':'SignalAvoid_14',\n",
    "    'asleep2014':'Sleep_14',\n",
    "    'othercause2014':'Others_14',\n",
    "    'alcintake2016':'AIntake_16',\n",
    "    'overspeed2016':'Sppeding_16',\n",
    "    'signalavoid2016':'SignalAvoid_16',\n",
    "    'wrongside2016':'WrongSide_16',\n",
    "    'lanejumping2016':'LaneJump_16',\n",
    "    'overtaking2016':'Overtake_16',\n",
    "    'asleep2016':'Sleeping_16',\n",
    "    'othercause2016':'Others_16'}, inplace=True)\n",
    "driver_response"
   ]
  },
  {
   "cell_type": "code",
   "execution_count": 10,
   "metadata": {},
   "outputs": [],
   "source": [
    "driver_response['Overtake'] = driver_response['Overtake_14'] + driver_response['Overtake_16']\n",
    "driver_response.drop(columns=['Overtake_16','Overtake_14'], inplace=True)\n",
    "driver_response['AiIntake'] = driver_response['AIntake_16'] + driver_response['AIntake_14']\n",
    "driver_response.drop(columns=['AIntake_16','AIntake_14'], inplace=True)\n",
    "driver_response['LaneJump'] = driver_response['LaneJump_16'] + driver_response['LaneJump_14']\n",
    "driver_response.drop(columns=['LaneJump_16','LaneJump_14'], inplace=True)\n",
    "driver_response['Sleeping'] = driver_response['Sleeping_16'] + driver_response['Sleep_14']\n",
    "driver_response.drop(columns=['Sleeping_16','Sleep_14'], inplace=True)\n",
    "driver_response['Speeding'] = driver_response['Sppeding_16'] + driver_response['Speeding_14']\n",
    "driver_response.drop(columns=['Sppeding_16','Speeding_14'], inplace=True)\n",
    "driver_response['WrongSide'] = driver_response['WrongSide_16'] + driver_response['WrongSide_14']\n",
    "driver_response.drop(columns=['WrongSide_16','WrongSide_14'], inplace=True)\n",
    "driver_response['SignalAvoid'] = driver_response['SignalAvoid_16'] + driver_response['SignalAvoid_14']\n",
    "driver_response.drop(columns=['SignalAvoid_16','SignalAvoid_14'], inplace=True)\n",
    "driver_response['Others'] = driver_response['Others_16'] + driver_response['Others_14']\n",
    "driver_response.drop(columns=['Others_16','Others_14'], inplace=True)"
   ]
  },
  {
   "cell_type": "code",
   "execution_count": 11,
   "metadata": {},
   "outputs": [
    {
     "data": {
      "text/html": [
       "<div>\n",
       "<style scoped>\n",
       "    .dataframe tbody tr th:only-of-type {\n",
       "        vertical-align: middle;\n",
       "    }\n",
       "\n",
       "    .dataframe tbody tr th {\n",
       "        vertical-align: top;\n",
       "    }\n",
       "\n",
       "    .dataframe thead th {\n",
       "        text-align: right;\n",
       "    }\n",
       "</style>\n",
       "<table border=\"1\" class=\"dataframe\">\n",
       "  <thead>\n",
       "    <tr style=\"text-align: right;\">\n",
       "      <th></th>\n",
       "      <th>State/UT</th>\n",
       "      <th>GEO_Region</th>\n",
       "      <th>R_ID</th>\n",
       "      <th>Overtake</th>\n",
       "      <th>AiIntake</th>\n",
       "      <th>LaneJump</th>\n",
       "      <th>Sleeping</th>\n",
       "      <th>Speeding</th>\n",
       "      <th>WrongSide</th>\n",
       "      <th>SignalAvoid</th>\n",
       "      <th>Others</th>\n",
       "    </tr>\n",
       "  </thead>\n",
       "  <tbody>\n",
       "    <tr>\n",
       "      <th>0</th>\n",
       "      <td>Andhra Pradesh</td>\n",
       "      <td>south</td>\n",
       "      <td>2</td>\n",
       "      <td>1531</td>\n",
       "      <td>722</td>\n",
       "      <td>653</td>\n",
       "      <td>460</td>\n",
       "      <td>30033.0</td>\n",
       "      <td>1335</td>\n",
       "      <td>69</td>\n",
       "      <td>4806</td>\n",
       "    </tr>\n",
       "    <tr>\n",
       "      <th>1</th>\n",
       "      <td>Arunachal Pradesh</td>\n",
       "      <td>northeast</td>\n",
       "      <td>5</td>\n",
       "      <td>8</td>\n",
       "      <td>26</td>\n",
       "      <td>11</td>\n",
       "      <td>8</td>\n",
       "      <td>61.0</td>\n",
       "      <td>7</td>\n",
       "      <td>0</td>\n",
       "      <td>40</td>\n",
       "    </tr>\n",
       "  </tbody>\n",
       "</table>\n",
       "</div>"
      ],
      "text/plain": [
       "            State/UT GEO_Region  R_ID  Overtake  AiIntake  LaneJump  Sleeping  \\\n",
       "0     Andhra Pradesh      south     2      1531       722       653       460   \n",
       "1  Arunachal Pradesh  northeast     5         8        26        11         8   \n",
       "\n",
       "   Speeding  WrongSide  SignalAvoid  Others  \n",
       "0   30033.0       1335           69    4806  \n",
       "1      61.0          7            0      40  "
      ]
     },
     "execution_count": 11,
     "metadata": {},
     "output_type": "execute_result"
    }
   ],
   "source": [
    "driver_response.head(2)"
   ]
  },
  {
   "cell_type": "code",
   "execution_count": 12,
   "metadata": {},
   "outputs": [
    {
     "data": {
      "application/vnd.plotly.v1+json": {
       "config": {
        "plotlyServerURL": "https://plot.ly"
       },
       "data": [
        {
         "alignmentgroup": "True",
         "customdata": [
          [
           "south",
           2,
           1531,
           722,
           460,
           30033,
           1335,
           69,
           4806
          ]
         ],
         "hovertemplate": "State/UT=%{x}<br>LaneJump=%{y}<br>GEO_Region=%{customdata[0]}<br>R_ID=%{customdata[1]}<br>Overtake=%{customdata[2]}<br>AiIntake=%{customdata[3]}<br>Sleeping=%{customdata[4]}<br>Speeding=%{customdata[5]}<br>WrongSide=%{customdata[6]}<br>SignalAvoid=%{customdata[7]}<br>Others=%{customdata[8]}<extra></extra>",
         "legendgroup": "Andhra Pradesh",
         "marker": {
          "color": "#636efa",
          "pattern": {
           "shape": ""
          }
         },
         "name": "Andhra Pradesh",
         "offsetgroup": "Andhra Pradesh",
         "orientation": "v",
         "showlegend": true,
         "textposition": "auto",
         "type": "bar",
         "x": [
          "Andhra Pradesh"
         ],
         "xaxis": "x",
         "y": [
          653
         ],
         "yaxis": "y"
        },
        {
         "alignmentgroup": "True",
         "customdata": [
          [
           "northeast",
           5,
           8,
           26,
           8,
           61,
           7,
           0,
           40
          ]
         ],
         "hovertemplate": "State/UT=%{x}<br>LaneJump=%{y}<br>GEO_Region=%{customdata[0]}<br>R_ID=%{customdata[1]}<br>Overtake=%{customdata[2]}<br>AiIntake=%{customdata[3]}<br>Sleeping=%{customdata[4]}<br>Speeding=%{customdata[5]}<br>WrongSide=%{customdata[6]}<br>SignalAvoid=%{customdata[7]}<br>Others=%{customdata[8]}<extra></extra>",
         "legendgroup": "Arunachal Pradesh",
         "marker": {
          "color": "#EF553B",
          "pattern": {
           "shape": ""
          }
         },
         "name": "Arunachal Pradesh",
         "offsetgroup": "Arunachal Pradesh",
         "orientation": "v",
         "showlegend": true,
         "textposition": "auto",
         "type": "bar",
         "x": [
          "Arunachal Pradesh"
         ],
         "xaxis": "x",
         "y": [
          11
         ],
         "yaxis": "y"
        },
        {
         "alignmentgroup": "True",
         "customdata": [
          [
           "northeast",
           5,
           500,
           965,
           6,
           8116,
           490,
           71,
           1501
          ]
         ],
         "hovertemplate": "State/UT=%{x}<br>LaneJump=%{y}<br>GEO_Region=%{customdata[0]}<br>R_ID=%{customdata[1]}<br>Overtake=%{customdata[2]}<br>AiIntake=%{customdata[3]}<br>Sleeping=%{customdata[4]}<br>Speeding=%{customdata[5]}<br>WrongSide=%{customdata[6]}<br>SignalAvoid=%{customdata[7]}<br>Others=%{customdata[8]}<extra></extra>",
         "legendgroup": "Assam",
         "marker": {
          "color": "#00cc96",
          "pattern": {
           "shape": ""
          }
         },
         "name": "Assam",
         "offsetgroup": "Assam",
         "orientation": "v",
         "showlegend": true,
         "textposition": "auto",
         "type": "bar",
         "x": [
          "Assam"
         ],
         "xaxis": "x",
         "y": [
          260
         ],
         "yaxis": "y"
        },
        {
         "alignmentgroup": "True",
         "customdata": [
          [
           "north",
           1,
           851,
           2273,
           194,
           3819,
           766,
           15,
           1051
          ]
         ],
         "hovertemplate": "State/UT=%{x}<br>LaneJump=%{y}<br>GEO_Region=%{customdata[0]}<br>R_ID=%{customdata[1]}<br>Overtake=%{customdata[2]}<br>AiIntake=%{customdata[3]}<br>Sleeping=%{customdata[4]}<br>Speeding=%{customdata[5]}<br>WrongSide=%{customdata[6]}<br>SignalAvoid=%{customdata[7]}<br>Others=%{customdata[8]}<extra></extra>",
         "legendgroup": "Bihar",
         "marker": {
          "color": "#ab63fa",
          "pattern": {
           "shape": ""
          }
         },
         "name": "Bihar",
         "offsetgroup": "Bihar",
         "orientation": "v",
         "showlegend": true,
         "textposition": "auto",
         "type": "bar",
         "x": [
          "Bihar"
         ],
         "xaxis": "x",
         "y": [
          392
         ],
         "yaxis": "y"
        },
        {
         "alignmentgroup": "True",
         "customdata": [
          [
           "centre",
           9,
           655,
           480,
           225,
           13380,
           676,
           72,
           1473
          ]
         ],
         "hovertemplate": "State/UT=%{x}<br>LaneJump=%{y}<br>GEO_Region=%{customdata[0]}<br>R_ID=%{customdata[1]}<br>Overtake=%{customdata[2]}<br>AiIntake=%{customdata[3]}<br>Sleeping=%{customdata[4]}<br>Speeding=%{customdata[5]}<br>WrongSide=%{customdata[6]}<br>SignalAvoid=%{customdata[7]}<br>Others=%{customdata[8]}<extra></extra>",
         "legendgroup": "Chhattisgarh",
         "marker": {
          "color": "#FFA15A",
          "pattern": {
           "shape": ""
          }
         },
         "name": "Chhattisgarh",
         "offsetgroup": "Chhattisgarh",
         "orientation": "v",
         "showlegend": true,
         "textposition": "auto",
         "type": "bar",
         "x": [
          "Chhattisgarh"
         ],
         "xaxis": "x",
         "y": [
          488
         ],
         "yaxis": "y"
        },
        {
         "alignmentgroup": "True",
         "customdata": [
          [
           "west",
           4,
           113,
           12,
           8,
           7031,
           80,
           0,
           406
          ]
         ],
         "hovertemplate": "State/UT=%{x}<br>LaneJump=%{y}<br>GEO_Region=%{customdata[0]}<br>R_ID=%{customdata[1]}<br>Overtake=%{customdata[2]}<br>AiIntake=%{customdata[3]}<br>Sleeping=%{customdata[4]}<br>Speeding=%{customdata[5]}<br>WrongSide=%{customdata[6]}<br>SignalAvoid=%{customdata[7]}<br>Others=%{customdata[8]}<extra></extra>",
         "legendgroup": "Goa",
         "marker": {
          "color": "#19d3f3",
          "pattern": {
           "shape": ""
          }
         },
         "name": "Goa",
         "offsetgroup": "Goa",
         "orientation": "v",
         "showlegend": true,
         "textposition": "auto",
         "type": "bar",
         "x": [
          "Goa"
         ],
         "xaxis": "x",
         "y": [
          8
         ],
         "yaxis": "y"
        },
        {
         "alignmentgroup": "True",
         "customdata": [
          [
           "west",
           4,
           1657,
           106,
           251,
           27066,
           1127,
           312,
           1187
          ]
         ],
         "hovertemplate": "State/UT=%{x}<br>LaneJump=%{y}<br>GEO_Region=%{customdata[0]}<br>R_ID=%{customdata[1]}<br>Overtake=%{customdata[2]}<br>AiIntake=%{customdata[3]}<br>Sleeping=%{customdata[4]}<br>Speeding=%{customdata[5]}<br>WrongSide=%{customdata[6]}<br>SignalAvoid=%{customdata[7]}<br>Others=%{customdata[8]}<extra></extra>",
         "legendgroup": "Gujarat",
         "marker": {
          "color": "#FF6692",
          "pattern": {
           "shape": ""
          }
         },
         "name": "Gujarat",
         "offsetgroup": "Gujarat",
         "orientation": "v",
         "showlegend": true,
         "textposition": "auto",
         "type": "bar",
         "x": [
          "Gujarat"
         ],
         "xaxis": "x",
         "y": [
          1032
         ],
         "yaxis": "y"
        },
        {
         "alignmentgroup": "True",
         "customdata": [
          [
           "north",
           1,
           1340,
           1624,
           616,
           6529,
           1306,
           685,
           1502
          ]
         ],
         "hovertemplate": "State/UT=%{x}<br>LaneJump=%{y}<br>GEO_Region=%{customdata[0]}<br>R_ID=%{customdata[1]}<br>Overtake=%{customdata[2]}<br>AiIntake=%{customdata[3]}<br>Sleeping=%{customdata[4]}<br>Speeding=%{customdata[5]}<br>WrongSide=%{customdata[6]}<br>SignalAvoid=%{customdata[7]}<br>Others=%{customdata[8]}<extra></extra>",
         "legendgroup": "Haryana",
         "marker": {
          "color": "#B6E880",
          "pattern": {
           "shape": ""
          }
         },
         "name": "Haryana",
         "offsetgroup": "Haryana",
         "orientation": "v",
         "showlegend": true,
         "textposition": "auto",
         "type": "bar",
         "x": [
          "Haryana"
         ],
         "xaxis": "x",
         "y": [
          869
         ],
         "yaxis": "y"
        },
        {
         "alignmentgroup": "True",
         "customdata": [
          [
           "north",
           1,
           216,
           146,
           0,
           3279,
           64,
           0,
           1392
          ]
         ],
         "hovertemplate": "State/UT=%{x}<br>LaneJump=%{y}<br>GEO_Region=%{customdata[0]}<br>R_ID=%{customdata[1]}<br>Overtake=%{customdata[2]}<br>AiIntake=%{customdata[3]}<br>Sleeping=%{customdata[4]}<br>Speeding=%{customdata[5]}<br>WrongSide=%{customdata[6]}<br>SignalAvoid=%{customdata[7]}<br>Others=%{customdata[8]}<extra></extra>",
         "legendgroup": "Himachal Pradesh",
         "marker": {
          "color": "#FF97FF",
          "pattern": {
           "shape": ""
          }
         },
         "name": "Himachal Pradesh",
         "offsetgroup": "Himachal Pradesh",
         "orientation": "v",
         "showlegend": true,
         "textposition": "auto",
         "type": "bar",
         "x": [
          "Himachal Pradesh"
         ],
         "xaxis": "x",
         "y": [
          88
         ],
         "yaxis": "y"
        },
        {
         "alignmentgroup": "True",
         "customdata": [
          [
           "north",
           1,
           85,
           435,
           0,
           5287,
           72,
           0,
           948
          ]
         ],
         "hovertemplate": "State/UT=%{x}<br>LaneJump=%{y}<br>GEO_Region=%{customdata[0]}<br>R_ID=%{customdata[1]}<br>Overtake=%{customdata[2]}<br>AiIntake=%{customdata[3]}<br>Sleeping=%{customdata[4]}<br>Speeding=%{customdata[5]}<br>WrongSide=%{customdata[6]}<br>SignalAvoid=%{customdata[7]}<br>Others=%{customdata[8]}<extra></extra>",
         "legendgroup": "Jammu & Kashmir",
         "marker": {
          "color": "#FECB52",
          "pattern": {
           "shape": ""
          }
         },
         "name": "Jammu & Kashmir",
         "offsetgroup": "Jammu & Kashmir",
         "orientation": "v",
         "showlegend": true,
         "textposition": "auto",
         "type": "bar",
         "x": [
          "Jammu & Kashmir"
         ],
         "xaxis": "x",
         "y": [
          31
         ],
         "yaxis": "y"
        },
        {
         "alignmentgroup": "True",
         "customdata": [
          [
           "centre",
           9,
           223,
           1154,
           6,
           2279,
           390,
           38,
           25
          ]
         ],
         "hovertemplate": "State/UT=%{x}<br>LaneJump=%{y}<br>GEO_Region=%{customdata[0]}<br>R_ID=%{customdata[1]}<br>Overtake=%{customdata[2]}<br>AiIntake=%{customdata[3]}<br>Sleeping=%{customdata[4]}<br>Speeding=%{customdata[5]}<br>WrongSide=%{customdata[6]}<br>SignalAvoid=%{customdata[7]}<br>Others=%{customdata[8]}<extra></extra>",
         "legendgroup": "Jharkhand",
         "marker": {
          "color": "#636efa",
          "pattern": {
           "shape": ""
          }
         },
         "name": "Jharkhand",
         "offsetgroup": "Jharkhand",
         "orientation": "v",
         "showlegend": true,
         "textposition": "auto",
         "type": "bar",
         "x": [
          "Jharkhand"
         ],
         "xaxis": "x",
         "y": [
          259
         ],
         "yaxis": "y"
        },
        {
         "alignmentgroup": "True",
         "customdata": [
          [
           "south",
           2,
           1963,
           2603,
           185,
           54876,
           1777,
           327,
           9655
          ]
         ],
         "hovertemplate": "State/UT=%{x}<br>LaneJump=%{y}<br>GEO_Region=%{customdata[0]}<br>R_ID=%{customdata[1]}<br>Overtake=%{customdata[2]}<br>AiIntake=%{customdata[3]}<br>Sleeping=%{customdata[4]}<br>Speeding=%{customdata[5]}<br>WrongSide=%{customdata[6]}<br>SignalAvoid=%{customdata[7]}<br>Others=%{customdata[8]}<extra></extra>",
         "legendgroup": "Karnataka",
         "marker": {
          "color": "#EF553B",
          "pattern": {
           "shape": ""
          }
         },
         "name": "Karnataka",
         "offsetgroup": "Karnataka",
         "orientation": "v",
         "showlegend": true,
         "textposition": "auto",
         "type": "bar",
         "x": [
          "Karnataka"
         ],
         "xaxis": "x",
         "y": [
          747
         ],
         "yaxis": "y"
        },
        {
         "alignmentgroup": "True",
         "customdata": [
          [
           "south",
           2,
           3392,
           168,
           1454,
           54673,
           2392,
           498,
           136
          ]
         ],
         "hovertemplate": "State/UT=%{x}<br>LaneJump=%{y}<br>GEO_Region=%{customdata[0]}<br>R_ID=%{customdata[1]}<br>Overtake=%{customdata[2]}<br>AiIntake=%{customdata[3]}<br>Sleeping=%{customdata[4]}<br>Speeding=%{customdata[5]}<br>WrongSide=%{customdata[6]}<br>SignalAvoid=%{customdata[7]}<br>Others=%{customdata[8]}<extra></extra>",
         "legendgroup": "Kerala",
         "marker": {
          "color": "#00cc96",
          "pattern": {
           "shape": ""
          }
         },
         "name": "Kerala",
         "offsetgroup": "Kerala",
         "orientation": "v",
         "showlegend": true,
         "textposition": "auto",
         "type": "bar",
         "x": [
          "Kerala"
         ],
         "xaxis": "x",
         "y": [
          1299
         ],
         "yaxis": "y"
        },
        {
         "alignmentgroup": "True",
         "customdata": [
          [
           "centre",
           9,
           5256,
           6623,
           767,
           48984,
           2232,
           500,
           8719
          ]
         ],
         "hovertemplate": "State/UT=%{x}<br>LaneJump=%{y}<br>GEO_Region=%{customdata[0]}<br>R_ID=%{customdata[1]}<br>Overtake=%{customdata[2]}<br>AiIntake=%{customdata[3]}<br>Sleeping=%{customdata[4]}<br>Speeding=%{customdata[5]}<br>WrongSide=%{customdata[6]}<br>SignalAvoid=%{customdata[7]}<br>Others=%{customdata[8]}<extra></extra>",
         "legendgroup": "Madhya Pradesh",
         "marker": {
          "color": "#ab63fa",
          "pattern": {
           "shape": ""
          }
         },
         "name": "Madhya Pradesh",
         "offsetgroup": "Madhya Pradesh",
         "orientation": "v",
         "showlegend": true,
         "textposition": "auto",
         "type": "bar",
         "x": [
          "Madhya Pradesh"
         ],
         "xaxis": "x",
         "y": [
          2183
         ],
         "yaxis": "y"
        },
        {
         "alignmentgroup": "True",
         "customdata": [
          [
           "west",
           4,
           3570,
           1477,
           507,
           53433,
           2718,
           106,
           9420
          ]
         ],
         "hovertemplate": "State/UT=%{x}<br>LaneJump=%{y}<br>GEO_Region=%{customdata[0]}<br>R_ID=%{customdata[1]}<br>Overtake=%{customdata[2]}<br>AiIntake=%{customdata[3]}<br>Sleeping=%{customdata[4]}<br>Speeding=%{customdata[5]}<br>WrongSide=%{customdata[6]}<br>SignalAvoid=%{customdata[7]}<br>Others=%{customdata[8]}<extra></extra>",
         "legendgroup": "Maharashtra",
         "marker": {
          "color": "#FFA15A",
          "pattern": {
           "shape": ""
          }
         },
         "name": "Maharashtra",
         "offsetgroup": "Maharashtra",
         "orientation": "v",
         "showlegend": true,
         "textposition": "auto",
         "type": "bar",
         "x": [
          "Maharashtra"
         ],
         "xaxis": "x",
         "y": [
          1662
         ],
         "yaxis": "y"
        },
        {
         "alignmentgroup": "True",
         "customdata": [
          [
           "northeast",
           5,
           46,
           71,
           30,
           57,
           39,
           0,
           66
          ]
         ],
         "hovertemplate": "State/UT=%{x}<br>LaneJump=%{y}<br>GEO_Region=%{customdata[0]}<br>R_ID=%{customdata[1]}<br>Overtake=%{customdata[2]}<br>AiIntake=%{customdata[3]}<br>Sleeping=%{customdata[4]}<br>Speeding=%{customdata[5]}<br>WrongSide=%{customdata[6]}<br>SignalAvoid=%{customdata[7]}<br>Others=%{customdata[8]}<extra></extra>",
         "legendgroup": "Manipur",
         "marker": {
          "color": "#19d3f3",
          "pattern": {
           "shape": ""
          }
         },
         "name": "Manipur",
         "offsetgroup": "Manipur",
         "orientation": "v",
         "showlegend": true,
         "textposition": "auto",
         "type": "bar",
         "x": [
          "Manipur"
         ],
         "xaxis": "x",
         "y": [
          0
         ],
         "yaxis": "y"
        },
        {
         "alignmentgroup": "True",
         "customdata": [
          [
           "northeast",
           5,
           0,
           60,
           0,
           186,
           0,
           0,
           0
          ]
         ],
         "hovertemplate": "State/UT=%{x}<br>LaneJump=%{y}<br>GEO_Region=%{customdata[0]}<br>R_ID=%{customdata[1]}<br>Overtake=%{customdata[2]}<br>AiIntake=%{customdata[3]}<br>Sleeping=%{customdata[4]}<br>Speeding=%{customdata[5]}<br>WrongSide=%{customdata[6]}<br>SignalAvoid=%{customdata[7]}<br>Others=%{customdata[8]}<extra></extra>",
         "legendgroup": "Meghalaya",
         "marker": {
          "color": "#FF6692",
          "pattern": {
           "shape": ""
          }
         },
         "name": "Meghalaya",
         "offsetgroup": "Meghalaya",
         "orientation": "v",
         "showlegend": true,
         "textposition": "auto",
         "type": "bar",
         "x": [
          "Meghalaya"
         ],
         "xaxis": "x",
         "y": [
          0
         ],
         "yaxis": "y"
        },
        {
         "alignmentgroup": "True",
         "customdata": [
          [
           "east",
           3,
           30,
           43,
           7,
           62,
           3,
           0,
           39
          ]
         ],
         "hovertemplate": "State/UT=%{x}<br>LaneJump=%{y}<br>GEO_Region=%{customdata[0]}<br>R_ID=%{customdata[1]}<br>Overtake=%{customdata[2]}<br>AiIntake=%{customdata[3]}<br>Sleeping=%{customdata[4]}<br>Speeding=%{customdata[5]}<br>WrongSide=%{customdata[6]}<br>SignalAvoid=%{customdata[7]}<br>Others=%{customdata[8]}<extra></extra>",
         "legendgroup": "Mizoram",
         "marker": {
          "color": "#B6E880",
          "pattern": {
           "shape": ""
          }
         },
         "name": "Mizoram",
         "offsetgroup": "Mizoram",
         "orientation": "v",
         "showlegend": true,
         "textposition": "auto",
         "type": "bar",
         "x": [
          "Mizoram"
         ],
         "xaxis": "x",
         "y": [
          0
         ],
         "yaxis": "y"
        },
        {
         "alignmentgroup": "True",
         "customdata": [
          [
           "northeast",
           5,
           0,
           104,
           0,
           62,
           26,
           0,
           70
          ]
         ],
         "hovertemplate": "State/UT=%{x}<br>LaneJump=%{y}<br>GEO_Region=%{customdata[0]}<br>R_ID=%{customdata[1]}<br>Overtake=%{customdata[2]}<br>AiIntake=%{customdata[3]}<br>Sleeping=%{customdata[4]}<br>Speeding=%{customdata[5]}<br>WrongSide=%{customdata[6]}<br>SignalAvoid=%{customdata[7]}<br>Others=%{customdata[8]}<extra></extra>",
         "legendgroup": "Nagaland",
         "marker": {
          "color": "#FF97FF",
          "pattern": {
           "shape": ""
          }
         },
         "name": "Nagaland",
         "offsetgroup": "Nagaland",
         "orientation": "v",
         "showlegend": true,
         "textposition": "auto",
         "type": "bar",
         "x": [
          "Nagaland"
         ],
         "xaxis": "x",
         "y": [
          0
         ],
         "yaxis": "y"
        },
        {
         "alignmentgroup": "True",
         "customdata": [
          [
           "centre",
           9,
           1530,
           1892,
           241,
           8683,
           1084,
           189,
           1701
          ]
         ],
         "hovertemplate": "State/UT=%{x}<br>LaneJump=%{y}<br>GEO_Region=%{customdata[0]}<br>R_ID=%{customdata[1]}<br>Overtake=%{customdata[2]}<br>AiIntake=%{customdata[3]}<br>Sleeping=%{customdata[4]}<br>Speeding=%{customdata[5]}<br>WrongSide=%{customdata[6]}<br>SignalAvoid=%{customdata[7]}<br>Others=%{customdata[8]}<extra></extra>",
         "legendgroup": "Orissa",
         "marker": {
          "color": "#FECB52",
          "pattern": {
           "shape": ""
          }
         },
         "name": "Orissa",
         "offsetgroup": "Orissa",
         "orientation": "v",
         "showlegend": true,
         "textposition": "auto",
         "type": "bar",
         "x": [
          "Orissa"
         ],
         "xaxis": "x",
         "y": [
          474
         ],
         "yaxis": "y"
        },
        {
         "alignmentgroup": "True",
         "customdata": [
          [
           "north",
           1,
           645,
           759,
           51,
           4770,
           639,
           197,
           651
          ]
         ],
         "hovertemplate": "State/UT=%{x}<br>LaneJump=%{y}<br>GEO_Region=%{customdata[0]}<br>R_ID=%{customdata[1]}<br>Overtake=%{customdata[2]}<br>AiIntake=%{customdata[3]}<br>Sleeping=%{customdata[4]}<br>Speeding=%{customdata[5]}<br>WrongSide=%{customdata[6]}<br>SignalAvoid=%{customdata[7]}<br>Others=%{customdata[8]}<extra></extra>",
         "legendgroup": "Punjab",
         "marker": {
          "color": "#636efa",
          "pattern": {
           "shape": ""
          }
         },
         "name": "Punjab",
         "offsetgroup": "Punjab",
         "orientation": "v",
         "showlegend": true,
         "textposition": "auto",
         "type": "bar",
         "x": [
          "Punjab"
         ],
         "xaxis": "x",
         "y": [
          405
         ],
         "yaxis": "y"
        },
        {
         "alignmentgroup": "True",
         "customdata": [
          [
           "northwest",
           6,
           1447,
           1588,
           398,
           24753,
           1637,
           2,
           6815
          ]
         ],
         "hovertemplate": "State/UT=%{x}<br>LaneJump=%{y}<br>GEO_Region=%{customdata[0]}<br>R_ID=%{customdata[1]}<br>Overtake=%{customdata[2]}<br>AiIntake=%{customdata[3]}<br>Sleeping=%{customdata[4]}<br>Speeding=%{customdata[5]}<br>WrongSide=%{customdata[6]}<br>SignalAvoid=%{customdata[7]}<br>Others=%{customdata[8]}<extra></extra>",
         "legendgroup": "Rajasthan",
         "marker": {
          "color": "#EF553B",
          "pattern": {
           "shape": ""
          }
         },
         "name": "Rajasthan",
         "offsetgroup": "Rajasthan",
         "orientation": "v",
         "showlegend": true,
         "textposition": "auto",
         "type": "bar",
         "x": [
          "Rajasthan"
         ],
         "xaxis": "x",
         "y": [
          1374
         ],
         "yaxis": "y"
        },
        {
         "alignmentgroup": "True",
         "customdata": [
          [
           "northeast",
           5,
           17,
           20,
           0,
           73,
           20,
           0,
           51
          ]
         ],
         "hovertemplate": "State/UT=%{x}<br>LaneJump=%{y}<br>GEO_Region=%{customdata[0]}<br>R_ID=%{customdata[1]}<br>Overtake=%{customdata[2]}<br>AiIntake=%{customdata[3]}<br>Sleeping=%{customdata[4]}<br>Speeding=%{customdata[5]}<br>WrongSide=%{customdata[6]}<br>SignalAvoid=%{customdata[7]}<br>Others=%{customdata[8]}<extra></extra>",
         "legendgroup": "Sikkim",
         "marker": {
          "color": "#00cc96",
          "pattern": {
           "shape": ""
          }
         },
         "name": "Sikkim",
         "offsetgroup": "Sikkim",
         "orientation": "v",
         "showlegend": true,
         "textposition": "auto",
         "type": "bar",
         "x": [
          "Sikkim"
         ],
         "xaxis": "x",
         "y": [
          0
         ],
         "yaxis": "y"
        },
        {
         "alignmentgroup": "True",
         "customdata": [
          [
           "south",
           2,
           9326,
           1947,
           832,
           75859,
           4738,
           1455,
           11740
          ]
         ],
         "hovertemplate": "State/UT=%{x}<br>LaneJump=%{y}<br>GEO_Region=%{customdata[0]}<br>R_ID=%{customdata[1]}<br>Overtake=%{customdata[2]}<br>AiIntake=%{customdata[3]}<br>Sleeping=%{customdata[4]}<br>Speeding=%{customdata[5]}<br>WrongSide=%{customdata[6]}<br>SignalAvoid=%{customdata[7]}<br>Others=%{customdata[8]}<extra></extra>",
         "legendgroup": "Tamil Nadu",
         "marker": {
          "color": "#ab63fa",
          "pattern": {
           "shape": ""
          }
         },
         "name": "Tamil Nadu",
         "offsetgroup": "Tamil Nadu",
         "orientation": "v",
         "showlegend": true,
         "textposition": "auto",
         "type": "bar",
         "x": [
          "Tamil Nadu"
         ],
         "xaxis": "x",
         "y": [
          4236
         ],
         "yaxis": "y"
        },
        {
         "alignmentgroup": "True",
         "customdata": [
          [
           "centre",
           9,
           1065,
           1170,
           171,
           19881,
           726,
           74,
           5366
          ]
         ],
         "hovertemplate": "State/UT=%{x}<br>LaneJump=%{y}<br>GEO_Region=%{customdata[0]}<br>R_ID=%{customdata[1]}<br>Overtake=%{customdata[2]}<br>AiIntake=%{customdata[3]}<br>Sleeping=%{customdata[4]}<br>Speeding=%{customdata[5]}<br>WrongSide=%{customdata[6]}<br>SignalAvoid=%{customdata[7]}<br>Others=%{customdata[8]}<extra></extra>",
         "legendgroup": "Telangana",
         "marker": {
          "color": "#FFA15A",
          "pattern": {
           "shape": ""
          }
         },
         "name": "Telangana",
         "offsetgroup": "Telangana",
         "orientation": "v",
         "showlegend": true,
         "textposition": "auto",
         "type": "bar",
         "x": [
          "Telangana"
         ],
         "xaxis": "x",
         "y": [
          269
         ],
         "yaxis": "y"
        },
        {
         "alignmentgroup": "True",
         "customdata": [
          [
           "east",
           3,
           56,
           17,
           0,
           912,
           44,
           1,
           28
          ]
         ],
         "hovertemplate": "State/UT=%{x}<br>LaneJump=%{y}<br>GEO_Region=%{customdata[0]}<br>R_ID=%{customdata[1]}<br>Overtake=%{customdata[2]}<br>AiIntake=%{customdata[3]}<br>Sleeping=%{customdata[4]}<br>Speeding=%{customdata[5]}<br>WrongSide=%{customdata[6]}<br>SignalAvoid=%{customdata[7]}<br>Others=%{customdata[8]}<extra></extra>",
         "legendgroup": "Tripura",
         "marker": {
          "color": "#19d3f3",
          "pattern": {
           "shape": ""
          }
         },
         "name": "Tripura",
         "offsetgroup": "Tripura",
         "orientation": "v",
         "showlegend": true,
         "textposition": "auto",
         "type": "bar",
         "x": [
          "Tripura"
         ],
         "xaxis": "x",
         "y": [
          7
         ],
         "yaxis": "y"
        },
        {
         "alignmentgroup": "True",
         "customdata": [
          [
           "north",
           1,
           147,
           548,
           0,
           830,
           204,
           7,
           142
          ]
         ],
         "hovertemplate": "State/UT=%{x}<br>LaneJump=%{y}<br>GEO_Region=%{customdata[0]}<br>R_ID=%{customdata[1]}<br>Overtake=%{customdata[2]}<br>AiIntake=%{customdata[3]}<br>Sleeping=%{customdata[4]}<br>Speeding=%{customdata[5]}<br>WrongSide=%{customdata[6]}<br>SignalAvoid=%{customdata[7]}<br>Others=%{customdata[8]}<extra></extra>",
         "legendgroup": "Uttarakhand",
         "marker": {
          "color": "#FF6692",
          "pattern": {
           "shape": ""
          }
         },
         "name": "Uttarakhand",
         "offsetgroup": "Uttarakhand",
         "orientation": "v",
         "showlegend": true,
         "textposition": "auto",
         "type": "bar",
         "x": [
          "Uttarakhand"
         ],
         "xaxis": "x",
         "y": [
          69
         ],
         "yaxis": "y"
        },
        {
         "alignmentgroup": "True",
         "customdata": [
          [
           "north",
           1,
           4329,
           5865,
           1359,
           12745,
           3323,
           747,
           6008
          ]
         ],
         "hovertemplate": "State/UT=%{x}<br>LaneJump=%{y}<br>GEO_Region=%{customdata[0]}<br>R_ID=%{customdata[1]}<br>Overtake=%{customdata[2]}<br>AiIntake=%{customdata[3]}<br>Sleeping=%{customdata[4]}<br>Speeding=%{customdata[5]}<br>WrongSide=%{customdata[6]}<br>SignalAvoid=%{customdata[7]}<br>Others=%{customdata[8]}<extra></extra>",
         "legendgroup": "Uttar Pradesh",
         "marker": {
          "color": "#B6E880",
          "pattern": {
           "shape": ""
          }
         },
         "name": "Uttar Pradesh",
         "offsetgroup": "Uttar Pradesh",
         "orientation": "v",
         "showlegend": true,
         "textposition": "auto",
         "type": "bar",
         "x": [
          "Uttar Pradesh"
         ],
         "xaxis": "x",
         "y": [
          1485
         ],
         "yaxis": "y"
        },
        {
         "alignmentgroup": "True",
         "customdata": [
          [
           "east",
           3,
           379,
           462,
           71,
           4812,
           298,
           196,
           8271
          ]
         ],
         "hovertemplate": "State/UT=%{x}<br>LaneJump=%{y}<br>GEO_Region=%{customdata[0]}<br>R_ID=%{customdata[1]}<br>Overtake=%{customdata[2]}<br>AiIntake=%{customdata[3]}<br>Sleeping=%{customdata[4]}<br>Speeding=%{customdata[5]}<br>WrongSide=%{customdata[6]}<br>SignalAvoid=%{customdata[7]}<br>Others=%{customdata[8]}<extra></extra>",
         "legendgroup": "West Bengal",
         "marker": {
          "color": "#FF97FF",
          "pattern": {
           "shape": ""
          }
         },
         "name": "West Bengal",
         "offsetgroup": "West Bengal",
         "orientation": "v",
         "showlegend": true,
         "textposition": "auto",
         "type": "bar",
         "x": [
          "West Bengal"
         ],
         "xaxis": "x",
         "y": [
          232
         ],
         "yaxis": "y"
        },
        {
         "alignmentgroup": "True",
         "customdata": [
          [
           "southeast",
           7,
           22,
           52,
           0,
           218,
           42,
           2,
           39
          ]
         ],
         "hovertemplate": "State/UT=%{x}<br>LaneJump=%{y}<br>GEO_Region=%{customdata[0]}<br>R_ID=%{customdata[1]}<br>Overtake=%{customdata[2]}<br>AiIntake=%{customdata[3]}<br>Sleeping=%{customdata[4]}<br>Speeding=%{customdata[5]}<br>WrongSide=%{customdata[6]}<br>SignalAvoid=%{customdata[7]}<br>Others=%{customdata[8]}<extra></extra>",
         "legendgroup": "A & N Islands",
         "marker": {
          "color": "#FECB52",
          "pattern": {
           "shape": ""
          }
         },
         "name": "A & N Islands",
         "offsetgroup": "A & N Islands",
         "orientation": "v",
         "showlegend": true,
         "textposition": "auto",
         "type": "bar",
         "x": [
          "A & N Islands"
         ],
         "xaxis": "x",
         "y": [
          20
         ],
         "yaxis": "y"
        },
        {
         "alignmentgroup": "True",
         "customdata": [
          [
           "north",
           1,
           83,
           20,
           0,
           540,
           34,
           10,
           14
          ]
         ],
         "hovertemplate": "State/UT=%{x}<br>LaneJump=%{y}<br>GEO_Region=%{customdata[0]}<br>R_ID=%{customdata[1]}<br>Overtake=%{customdata[2]}<br>AiIntake=%{customdata[3]}<br>Sleeping=%{customdata[4]}<br>Speeding=%{customdata[5]}<br>WrongSide=%{customdata[6]}<br>SignalAvoid=%{customdata[7]}<br>Others=%{customdata[8]}<extra></extra>",
         "legendgroup": "Chandigarh",
         "marker": {
          "color": "#636efa",
          "pattern": {
           "shape": ""
          }
         },
         "name": "Chandigarh",
         "offsetgroup": "Chandigarh",
         "orientation": "v",
         "showlegend": true,
         "textposition": "auto",
         "type": "bar",
         "x": [
          "Chandigarh"
         ],
         "xaxis": "x",
         "y": [
          30
         ],
         "yaxis": "y"
        },
        {
         "alignmentgroup": "True",
         "customdata": [
          [
           "west",
           4,
           5,
           1,
           2,
           29,
           5,
           0,
           69
          ]
         ],
         "hovertemplate": "State/UT=%{x}<br>LaneJump=%{y}<br>GEO_Region=%{customdata[0]}<br>R_ID=%{customdata[1]}<br>Overtake=%{customdata[2]}<br>AiIntake=%{customdata[3]}<br>Sleeping=%{customdata[4]}<br>Speeding=%{customdata[5]}<br>WrongSide=%{customdata[6]}<br>SignalAvoid=%{customdata[7]}<br>Others=%{customdata[8]}<extra></extra>",
         "legendgroup": "D & N Haveli",
         "marker": {
          "color": "#EF553B",
          "pattern": {
           "shape": ""
          }
         },
         "name": "D & N Haveli",
         "offsetgroup": "D & N Haveli",
         "orientation": "v",
         "showlegend": true,
         "textposition": "auto",
         "type": "bar",
         "x": [
          "D & N Haveli"
         ],
         "xaxis": "x",
         "y": [
          0
         ],
         "yaxis": "y"
        },
        {
         "alignmentgroup": "True",
         "customdata": [
          [
           "west",
           4,
           4,
           7,
           1,
           50,
           3,
           0,
           37
          ]
         ],
         "hovertemplate": "State/UT=%{x}<br>LaneJump=%{y}<br>GEO_Region=%{customdata[0]}<br>R_ID=%{customdata[1]}<br>Overtake=%{customdata[2]}<br>AiIntake=%{customdata[3]}<br>Sleeping=%{customdata[4]}<br>Speeding=%{customdata[5]}<br>WrongSide=%{customdata[6]}<br>SignalAvoid=%{customdata[7]}<br>Others=%{customdata[8]}<extra></extra>",
         "legendgroup": "Daman & Diu",
         "marker": {
          "color": "#00cc96",
          "pattern": {
           "shape": ""
          }
         },
         "name": "Daman & Diu",
         "offsetgroup": "Daman & Diu",
         "orientation": "v",
         "showlegend": true,
         "textposition": "auto",
         "type": "bar",
         "x": [
          "Daman & Diu"
         ],
         "xaxis": "x",
         "y": [
          2
         ],
         "yaxis": "y"
        },
        {
         "alignmentgroup": "True",
         "customdata": [
          [
           "north",
           1,
           211,
           215,
           0,
           7646.6,
           131,
           229,
           2838
          ]
         ],
         "hovertemplate": "State/UT=%{x}<br>LaneJump=%{y}<br>GEO_Region=%{customdata[0]}<br>R_ID=%{customdata[1]}<br>Overtake=%{customdata[2]}<br>AiIntake=%{customdata[3]}<br>Sleeping=%{customdata[4]}<br>Speeding=%{customdata[5]}<br>WrongSide=%{customdata[6]}<br>SignalAvoid=%{customdata[7]}<br>Others=%{customdata[8]}<extra></extra>",
         "legendgroup": "Delhi",
         "marker": {
          "color": "#ab63fa",
          "pattern": {
           "shape": ""
          }
         },
         "name": "Delhi",
         "offsetgroup": "Delhi",
         "orientation": "v",
         "showlegend": true,
         "textposition": "auto",
         "type": "bar",
         "x": [
          "Delhi"
         ],
         "xaxis": "x",
         "y": [
          129
         ],
         "yaxis": "y"
        },
        {
         "alignmentgroup": "True",
         "customdata": [
          [
           "southwest",
           8,
           0,
           0,
           0,
           1,
           0,
           0,
           0
          ]
         ],
         "hovertemplate": "State/UT=%{x}<br>LaneJump=%{y}<br>GEO_Region=%{customdata[0]}<br>R_ID=%{customdata[1]}<br>Overtake=%{customdata[2]}<br>AiIntake=%{customdata[3]}<br>Sleeping=%{customdata[4]}<br>Speeding=%{customdata[5]}<br>WrongSide=%{customdata[6]}<br>SignalAvoid=%{customdata[7]}<br>Others=%{customdata[8]}<extra></extra>",
         "legendgroup": "Lakshadweep",
         "marker": {
          "color": "#FFA15A",
          "pattern": {
           "shape": ""
          }
         },
         "name": "Lakshadweep",
         "offsetgroup": "Lakshadweep",
         "orientation": "v",
         "showlegend": true,
         "textposition": "auto",
         "type": "bar",
         "x": [
          "Lakshadweep"
         ],
         "xaxis": "x",
         "y": [
          0
         ],
         "yaxis": "y"
        },
        {
         "alignmentgroup": "True",
         "customdata": [
          [
           "south",
           2,
           207,
           155,
           15,
           1547,
           98,
           21,
           610
          ]
         ],
         "hovertemplate": "State/UT=%{x}<br>LaneJump=%{y}<br>GEO_Region=%{customdata[0]}<br>R_ID=%{customdata[1]}<br>Overtake=%{customdata[2]}<br>AiIntake=%{customdata[3]}<br>Sleeping=%{customdata[4]}<br>Speeding=%{customdata[5]}<br>WrongSide=%{customdata[6]}<br>SignalAvoid=%{customdata[7]}<br>Others=%{customdata[8]}<extra></extra>",
         "legendgroup": "Puducherry",
         "marker": {
          "color": "#19d3f3",
          "pattern": {
           "shape": ""
          }
         },
         "name": "Puducherry",
         "offsetgroup": "Puducherry",
         "orientation": "v",
         "showlegend": true,
         "textposition": "auto",
         "type": "bar",
         "x": [
          "Puducherry"
         ],
         "xaxis": "x",
         "y": [
          0
         ],
         "yaxis": "y"
        }
       ],
       "layout": {
        "annotations": [
         {
          "font": {
           "size": 12
          },
          "showarrow": false,
          "text": "The graph shows that Tamil Nadu has the highest LaneJumpers.",
          "x": 0,
          "xref": "paper",
          "y": 1,
          "yref": "paper"
         }
        ],
        "barmode": "relative",
        "legend": {
         "title": {
          "text": "State/UT"
         },
         "tracegroupgap": 0
        },
        "margin": {
         "t": 60
        },
        "template": {
         "data": {
          "bar": [
           {
            "error_x": {
             "color": "#2a3f5f"
            },
            "error_y": {
             "color": "#2a3f5f"
            },
            "marker": {
             "line": {
              "color": "#E5ECF6",
              "width": 0.5
             },
             "pattern": {
              "fillmode": "overlay",
              "size": 10,
              "solidity": 0.2
             }
            },
            "type": "bar"
           }
          ],
          "barpolar": [
           {
            "marker": {
             "line": {
              "color": "#E5ECF6",
              "width": 0.5
             },
             "pattern": {
              "fillmode": "overlay",
              "size": 10,
              "solidity": 0.2
             }
            },
            "type": "barpolar"
           }
          ],
          "carpet": [
           {
            "aaxis": {
             "endlinecolor": "#2a3f5f",
             "gridcolor": "white",
             "linecolor": "white",
             "minorgridcolor": "white",
             "startlinecolor": "#2a3f5f"
            },
            "baxis": {
             "endlinecolor": "#2a3f5f",
             "gridcolor": "white",
             "linecolor": "white",
             "minorgridcolor": "white",
             "startlinecolor": "#2a3f5f"
            },
            "type": "carpet"
           }
          ],
          "choropleth": [
           {
            "colorbar": {
             "outlinewidth": 0,
             "ticks": ""
            },
            "type": "choropleth"
           }
          ],
          "contour": [
           {
            "colorbar": {
             "outlinewidth": 0,
             "ticks": ""
            },
            "colorscale": [
             [
              0,
              "#0d0887"
             ],
             [
              0.1111111111111111,
              "#46039f"
             ],
             [
              0.2222222222222222,
              "#7201a8"
             ],
             [
              0.3333333333333333,
              "#9c179e"
             ],
             [
              0.4444444444444444,
              "#bd3786"
             ],
             [
              0.5555555555555556,
              "#d8576b"
             ],
             [
              0.6666666666666666,
              "#ed7953"
             ],
             [
              0.7777777777777778,
              "#fb9f3a"
             ],
             [
              0.8888888888888888,
              "#fdca26"
             ],
             [
              1,
              "#f0f921"
             ]
            ],
            "type": "contour"
           }
          ],
          "contourcarpet": [
           {
            "colorbar": {
             "outlinewidth": 0,
             "ticks": ""
            },
            "type": "contourcarpet"
           }
          ],
          "heatmap": [
           {
            "colorbar": {
             "outlinewidth": 0,
             "ticks": ""
            },
            "colorscale": [
             [
              0,
              "#0d0887"
             ],
             [
              0.1111111111111111,
              "#46039f"
             ],
             [
              0.2222222222222222,
              "#7201a8"
             ],
             [
              0.3333333333333333,
              "#9c179e"
             ],
             [
              0.4444444444444444,
              "#bd3786"
             ],
             [
              0.5555555555555556,
              "#d8576b"
             ],
             [
              0.6666666666666666,
              "#ed7953"
             ],
             [
              0.7777777777777778,
              "#fb9f3a"
             ],
             [
              0.8888888888888888,
              "#fdca26"
             ],
             [
              1,
              "#f0f921"
             ]
            ],
            "type": "heatmap"
           }
          ],
          "heatmapgl": [
           {
            "colorbar": {
             "outlinewidth": 0,
             "ticks": ""
            },
            "colorscale": [
             [
              0,
              "#0d0887"
             ],
             [
              0.1111111111111111,
              "#46039f"
             ],
             [
              0.2222222222222222,
              "#7201a8"
             ],
             [
              0.3333333333333333,
              "#9c179e"
             ],
             [
              0.4444444444444444,
              "#bd3786"
             ],
             [
              0.5555555555555556,
              "#d8576b"
             ],
             [
              0.6666666666666666,
              "#ed7953"
             ],
             [
              0.7777777777777778,
              "#fb9f3a"
             ],
             [
              0.8888888888888888,
              "#fdca26"
             ],
             [
              1,
              "#f0f921"
             ]
            ],
            "type": "heatmapgl"
           }
          ],
          "histogram": [
           {
            "marker": {
             "pattern": {
              "fillmode": "overlay",
              "size": 10,
              "solidity": 0.2
             }
            },
            "type": "histogram"
           }
          ],
          "histogram2d": [
           {
            "colorbar": {
             "outlinewidth": 0,
             "ticks": ""
            },
            "colorscale": [
             [
              0,
              "#0d0887"
             ],
             [
              0.1111111111111111,
              "#46039f"
             ],
             [
              0.2222222222222222,
              "#7201a8"
             ],
             [
              0.3333333333333333,
              "#9c179e"
             ],
             [
              0.4444444444444444,
              "#bd3786"
             ],
             [
              0.5555555555555556,
              "#d8576b"
             ],
             [
              0.6666666666666666,
              "#ed7953"
             ],
             [
              0.7777777777777778,
              "#fb9f3a"
             ],
             [
              0.8888888888888888,
              "#fdca26"
             ],
             [
              1,
              "#f0f921"
             ]
            ],
            "type": "histogram2d"
           }
          ],
          "histogram2dcontour": [
           {
            "colorbar": {
             "outlinewidth": 0,
             "ticks": ""
            },
            "colorscale": [
             [
              0,
              "#0d0887"
             ],
             [
              0.1111111111111111,
              "#46039f"
             ],
             [
              0.2222222222222222,
              "#7201a8"
             ],
             [
              0.3333333333333333,
              "#9c179e"
             ],
             [
              0.4444444444444444,
              "#bd3786"
             ],
             [
              0.5555555555555556,
              "#d8576b"
             ],
             [
              0.6666666666666666,
              "#ed7953"
             ],
             [
              0.7777777777777778,
              "#fb9f3a"
             ],
             [
              0.8888888888888888,
              "#fdca26"
             ],
             [
              1,
              "#f0f921"
             ]
            ],
            "type": "histogram2dcontour"
           }
          ],
          "mesh3d": [
           {
            "colorbar": {
             "outlinewidth": 0,
             "ticks": ""
            },
            "type": "mesh3d"
           }
          ],
          "parcoords": [
           {
            "line": {
             "colorbar": {
              "outlinewidth": 0,
              "ticks": ""
             }
            },
            "type": "parcoords"
           }
          ],
          "pie": [
           {
            "automargin": true,
            "type": "pie"
           }
          ],
          "scatter": [
           {
            "fillpattern": {
             "fillmode": "overlay",
             "size": 10,
             "solidity": 0.2
            },
            "type": "scatter"
           }
          ],
          "scatter3d": [
           {
            "line": {
             "colorbar": {
              "outlinewidth": 0,
              "ticks": ""
             }
            },
            "marker": {
             "colorbar": {
              "outlinewidth": 0,
              "ticks": ""
             }
            },
            "type": "scatter3d"
           }
          ],
          "scattercarpet": [
           {
            "marker": {
             "colorbar": {
              "outlinewidth": 0,
              "ticks": ""
             }
            },
            "type": "scattercarpet"
           }
          ],
          "scattergeo": [
           {
            "marker": {
             "colorbar": {
              "outlinewidth": 0,
              "ticks": ""
             }
            },
            "type": "scattergeo"
           }
          ],
          "scattergl": [
           {
            "marker": {
             "colorbar": {
              "outlinewidth": 0,
              "ticks": ""
             }
            },
            "type": "scattergl"
           }
          ],
          "scattermapbox": [
           {
            "marker": {
             "colorbar": {
              "outlinewidth": 0,
              "ticks": ""
             }
            },
            "type": "scattermapbox"
           }
          ],
          "scatterpolar": [
           {
            "marker": {
             "colorbar": {
              "outlinewidth": 0,
              "ticks": ""
             }
            },
            "type": "scatterpolar"
           }
          ],
          "scatterpolargl": [
           {
            "marker": {
             "colorbar": {
              "outlinewidth": 0,
              "ticks": ""
             }
            },
            "type": "scatterpolargl"
           }
          ],
          "scatterternary": [
           {
            "marker": {
             "colorbar": {
              "outlinewidth": 0,
              "ticks": ""
             }
            },
            "type": "scatterternary"
           }
          ],
          "surface": [
           {
            "colorbar": {
             "outlinewidth": 0,
             "ticks": ""
            },
            "colorscale": [
             [
              0,
              "#0d0887"
             ],
             [
              0.1111111111111111,
              "#46039f"
             ],
             [
              0.2222222222222222,
              "#7201a8"
             ],
             [
              0.3333333333333333,
              "#9c179e"
             ],
             [
              0.4444444444444444,
              "#bd3786"
             ],
             [
              0.5555555555555556,
              "#d8576b"
             ],
             [
              0.6666666666666666,
              "#ed7953"
             ],
             [
              0.7777777777777778,
              "#fb9f3a"
             ],
             [
              0.8888888888888888,
              "#fdca26"
             ],
             [
              1,
              "#f0f921"
             ]
            ],
            "type": "surface"
           }
          ],
          "table": [
           {
            "cells": {
             "fill": {
              "color": "#EBF0F8"
             },
             "line": {
              "color": "white"
             }
            },
            "header": {
             "fill": {
              "color": "#C8D4E3"
             },
             "line": {
              "color": "white"
             }
            },
            "type": "table"
           }
          ]
         },
         "layout": {
          "annotationdefaults": {
           "arrowcolor": "#2a3f5f",
           "arrowhead": 0,
           "arrowwidth": 1
          },
          "autotypenumbers": "strict",
          "coloraxis": {
           "colorbar": {
            "outlinewidth": 0,
            "ticks": ""
           }
          },
          "colorscale": {
           "diverging": [
            [
             0,
             "#8e0152"
            ],
            [
             0.1,
             "#c51b7d"
            ],
            [
             0.2,
             "#de77ae"
            ],
            [
             0.3,
             "#f1b6da"
            ],
            [
             0.4,
             "#fde0ef"
            ],
            [
             0.5,
             "#f7f7f7"
            ],
            [
             0.6,
             "#e6f5d0"
            ],
            [
             0.7,
             "#b8e186"
            ],
            [
             0.8,
             "#7fbc41"
            ],
            [
             0.9,
             "#4d9221"
            ],
            [
             1,
             "#276419"
            ]
           ],
           "sequential": [
            [
             0,
             "#0d0887"
            ],
            [
             0.1111111111111111,
             "#46039f"
            ],
            [
             0.2222222222222222,
             "#7201a8"
            ],
            [
             0.3333333333333333,
             "#9c179e"
            ],
            [
             0.4444444444444444,
             "#bd3786"
            ],
            [
             0.5555555555555556,
             "#d8576b"
            ],
            [
             0.6666666666666666,
             "#ed7953"
            ],
            [
             0.7777777777777778,
             "#fb9f3a"
            ],
            [
             0.8888888888888888,
             "#fdca26"
            ],
            [
             1,
             "#f0f921"
            ]
           ],
           "sequentialminus": [
            [
             0,
             "#0d0887"
            ],
            [
             0.1111111111111111,
             "#46039f"
            ],
            [
             0.2222222222222222,
             "#7201a8"
            ],
            [
             0.3333333333333333,
             "#9c179e"
            ],
            [
             0.4444444444444444,
             "#bd3786"
            ],
            [
             0.5555555555555556,
             "#d8576b"
            ],
            [
             0.6666666666666666,
             "#ed7953"
            ],
            [
             0.7777777777777778,
             "#fb9f3a"
            ],
            [
             0.8888888888888888,
             "#fdca26"
            ],
            [
             1,
             "#f0f921"
            ]
           ]
          },
          "colorway": [
           "#636efa",
           "#EF553B",
           "#00cc96",
           "#ab63fa",
           "#FFA15A",
           "#19d3f3",
           "#FF6692",
           "#B6E880",
           "#FF97FF",
           "#FECB52"
          ],
          "font": {
           "color": "#2a3f5f"
          },
          "geo": {
           "bgcolor": "white",
           "lakecolor": "white",
           "landcolor": "#E5ECF6",
           "showlakes": true,
           "showland": true,
           "subunitcolor": "white"
          },
          "hoverlabel": {
           "align": "left"
          },
          "hovermode": "closest",
          "mapbox": {
           "style": "light"
          },
          "paper_bgcolor": "white",
          "plot_bgcolor": "#E5ECF6",
          "polar": {
           "angularaxis": {
            "gridcolor": "white",
            "linecolor": "white",
            "ticks": ""
           },
           "bgcolor": "#E5ECF6",
           "radialaxis": {
            "gridcolor": "white",
            "linecolor": "white",
            "ticks": ""
           }
          },
          "scene": {
           "xaxis": {
            "backgroundcolor": "#E5ECF6",
            "gridcolor": "white",
            "gridwidth": 2,
            "linecolor": "white",
            "showbackground": true,
            "ticks": "",
            "zerolinecolor": "white"
           },
           "yaxis": {
            "backgroundcolor": "#E5ECF6",
            "gridcolor": "white",
            "gridwidth": 2,
            "linecolor": "white",
            "showbackground": true,
            "ticks": "",
            "zerolinecolor": "white"
           },
           "zaxis": {
            "backgroundcolor": "#E5ECF6",
            "gridcolor": "white",
            "gridwidth": 2,
            "linecolor": "white",
            "showbackground": true,
            "ticks": "",
            "zerolinecolor": "white"
           }
          },
          "shapedefaults": {
           "line": {
            "color": "#2a3f5f"
           }
          },
          "ternary": {
           "aaxis": {
            "gridcolor": "white",
            "linecolor": "white",
            "ticks": ""
           },
           "baxis": {
            "gridcolor": "white",
            "linecolor": "white",
            "ticks": ""
           },
           "bgcolor": "#E5ECF6",
           "caxis": {
            "gridcolor": "white",
            "linecolor": "white",
            "ticks": ""
           }
          },
          "title": {
           "x": 0.05
          },
          "xaxis": {
           "automargin": true,
           "gridcolor": "white",
           "linecolor": "white",
           "ticks": "",
           "title": {
            "standoff": 15
           },
           "zerolinecolor": "white",
           "zerolinewidth": 2
          },
          "yaxis": {
           "automargin": true,
           "gridcolor": "white",
           "linecolor": "white",
           "ticks": "",
           "title": {
            "standoff": 15
           },
           "zerolinecolor": "white",
           "zerolinewidth": 2
          }
         }
        },
        "xaxis": {
         "anchor": "y",
         "categoryarray": [
          "Andhra Pradesh",
          "Arunachal Pradesh",
          "Assam",
          "Bihar",
          "Chhattisgarh",
          "Goa",
          "Gujarat",
          "Haryana",
          "Himachal Pradesh",
          "Jammu & Kashmir",
          "Jharkhand",
          "Karnataka",
          "Kerala",
          "Madhya Pradesh",
          "Maharashtra",
          "Manipur",
          "Meghalaya",
          "Mizoram",
          "Nagaland",
          "Orissa",
          "Punjab",
          "Rajasthan",
          "Sikkim",
          "Tamil Nadu",
          "Telangana",
          "Tripura",
          "Uttarakhand",
          "Uttar Pradesh",
          "West Bengal",
          "A & N Islands",
          "Chandigarh",
          "D & N Haveli",
          "Daman & Diu",
          "Delhi",
          "Lakshadweep",
          "Puducherry"
         ],
         "categoryorder": "array",
         "domain": [
          0,
          1
         ],
         "title": {
          "text": "State/UT"
         }
        },
        "yaxis": {
         "anchor": "x",
         "domain": [
          0,
          1
         ],
         "title": {
          "text": "LaneJump"
         }
        }
       }
      }
     },
     "metadata": {},
     "output_type": "display_data"
    }
   ],
   "source": [
    "# state wise lane jumper in violin plot\n",
    "fig = px.bar(driver_response, y=\"LaneJump\", x=\"State/UT\", color=\"State/UT\",hover_data=driver_response.columns)\n",
    "conclusion = 'The graph shows that Tamil Nadu has the highest LaneJumpers.'\n",
    "fig.add_annotation(text=conclusion, xref='paper', yref='paper', x=0, y=1, showarrow=False, font=dict(size=12))\n",
    "fig.show()"
   ]
  },
  {
   "cell_type": "code",
   "execution_count": 13,
   "metadata": {},
   "outputs": [
    {
     "data": {
      "application/vnd.plotly.v1+json": {
       "config": {
        "plotlyServerURL": "https://plot.ly"
       },
       "data": [
        {
         "hovertemplate": "variable=LaneJump<br>State/UT=%{x}<br>value=%{y}<extra></extra>",
         "legendgroup": "LaneJump",
         "marker": {
          "color": "#636efa"
         },
         "name": "LaneJump",
         "orientation": "v",
         "showlegend": true,
         "type": "funnel",
         "x": [
          "Mizoram",
          "D & N Haveli",
          "Sikkim",
          "Nagaland",
          "Lakshadweep",
          "Meghalaya",
          "Manipur",
          "Puducherry",
          "Daman & Diu",
          "Tripura",
          "Goa",
          "Arunachal Pradesh",
          "A & N Islands",
          "Chandigarh",
          "Jammu & Kashmir",
          "Uttarakhand",
          "Himachal Pradesh",
          "Delhi",
          "West Bengal",
          "Jharkhand",
          "Assam",
          "Telangana",
          "Bihar",
          "Punjab",
          "Orissa",
          "Chhattisgarh",
          "Andhra Pradesh",
          "Karnataka",
          "Haryana",
          "Gujarat",
          "Kerala",
          "Rajasthan",
          "Uttar Pradesh",
          "Maharashtra",
          "Madhya Pradesh",
          "Tamil Nadu"
         ],
         "xaxis": "x",
         "y": [
          0,
          0,
          0,
          0,
          0,
          0,
          0,
          0,
          2,
          7,
          8,
          11,
          20,
          30,
          31,
          69,
          88,
          129,
          232,
          259,
          260,
          269,
          392,
          405,
          474,
          488,
          653,
          747,
          869,
          1032,
          1299,
          1374,
          1485,
          1662,
          2183,
          4236
         ],
         "yaxis": "y"
        },
        {
         "hovertemplate": "variable=Overtake<br>State/UT=%{x}<br>value=%{y}<extra></extra>",
         "legendgroup": "Overtake",
         "marker": {
          "color": "#EF553B"
         },
         "name": "Overtake",
         "orientation": "v",
         "showlegend": true,
         "type": "funnel",
         "x": [
          "Mizoram",
          "D & N Haveli",
          "Sikkim",
          "Nagaland",
          "Lakshadweep",
          "Meghalaya",
          "Manipur",
          "Puducherry",
          "Daman & Diu",
          "Tripura",
          "Goa",
          "Arunachal Pradesh",
          "A & N Islands",
          "Chandigarh",
          "Jammu & Kashmir",
          "Uttarakhand",
          "Himachal Pradesh",
          "Delhi",
          "West Bengal",
          "Jharkhand",
          "Assam",
          "Telangana",
          "Bihar",
          "Punjab",
          "Orissa",
          "Chhattisgarh",
          "Andhra Pradesh",
          "Karnataka",
          "Haryana",
          "Gujarat",
          "Kerala",
          "Rajasthan",
          "Uttar Pradesh",
          "Maharashtra",
          "Madhya Pradesh",
          "Tamil Nadu"
         ],
         "xaxis": "x",
         "y": [
          30,
          5,
          17,
          0,
          0,
          0,
          46,
          207,
          4,
          56,
          113,
          8,
          22,
          83,
          85,
          147,
          216,
          211,
          379,
          223,
          500,
          1065,
          851,
          645,
          1530,
          655,
          1531,
          1963,
          1340,
          1657,
          3392,
          1447,
          4329,
          3570,
          5256,
          9326
         ],
         "yaxis": "y"
        },
        {
         "hovertemplate": "variable=AiIntake<br>State/UT=%{x}<br>value=%{y}<extra></extra>",
         "legendgroup": "AiIntake",
         "marker": {
          "color": "#00cc96"
         },
         "name": "AiIntake",
         "orientation": "v",
         "showlegend": true,
         "type": "funnel",
         "x": [
          "Mizoram",
          "D & N Haveli",
          "Sikkim",
          "Nagaland",
          "Lakshadweep",
          "Meghalaya",
          "Manipur",
          "Puducherry",
          "Daman & Diu",
          "Tripura",
          "Goa",
          "Arunachal Pradesh",
          "A & N Islands",
          "Chandigarh",
          "Jammu & Kashmir",
          "Uttarakhand",
          "Himachal Pradesh",
          "Delhi",
          "West Bengal",
          "Jharkhand",
          "Assam",
          "Telangana",
          "Bihar",
          "Punjab",
          "Orissa",
          "Chhattisgarh",
          "Andhra Pradesh",
          "Karnataka",
          "Haryana",
          "Gujarat",
          "Kerala",
          "Rajasthan",
          "Uttar Pradesh",
          "Maharashtra",
          "Madhya Pradesh",
          "Tamil Nadu"
         ],
         "xaxis": "x",
         "y": [
          43,
          1,
          20,
          104,
          0,
          60,
          71,
          155,
          7,
          17,
          12,
          26,
          52,
          20,
          435,
          548,
          146,
          215,
          462,
          1154,
          965,
          1170,
          2273,
          759,
          1892,
          480,
          722,
          2603,
          1624,
          106,
          168,
          1588,
          5865,
          1477,
          6623,
          1947
         ],
         "yaxis": "y"
        }
       ],
       "layout": {
        "legend": {
         "title": {
          "text": "variable"
         },
         "tracegroupgap": 0
        },
        "margin": {
         "t": 60
        },
        "template": {
         "data": {
          "bar": [
           {
            "error_x": {
             "color": "#2a3f5f"
            },
            "error_y": {
             "color": "#2a3f5f"
            },
            "marker": {
             "line": {
              "color": "#E5ECF6",
              "width": 0.5
             },
             "pattern": {
              "fillmode": "overlay",
              "size": 10,
              "solidity": 0.2
             }
            },
            "type": "bar"
           }
          ],
          "barpolar": [
           {
            "marker": {
             "line": {
              "color": "#E5ECF6",
              "width": 0.5
             },
             "pattern": {
              "fillmode": "overlay",
              "size": 10,
              "solidity": 0.2
             }
            },
            "type": "barpolar"
           }
          ],
          "carpet": [
           {
            "aaxis": {
             "endlinecolor": "#2a3f5f",
             "gridcolor": "white",
             "linecolor": "white",
             "minorgridcolor": "white",
             "startlinecolor": "#2a3f5f"
            },
            "baxis": {
             "endlinecolor": "#2a3f5f",
             "gridcolor": "white",
             "linecolor": "white",
             "minorgridcolor": "white",
             "startlinecolor": "#2a3f5f"
            },
            "type": "carpet"
           }
          ],
          "choropleth": [
           {
            "colorbar": {
             "outlinewidth": 0,
             "ticks": ""
            },
            "type": "choropleth"
           }
          ],
          "contour": [
           {
            "colorbar": {
             "outlinewidth": 0,
             "ticks": ""
            },
            "colorscale": [
             [
              0,
              "#0d0887"
             ],
             [
              0.1111111111111111,
              "#46039f"
             ],
             [
              0.2222222222222222,
              "#7201a8"
             ],
             [
              0.3333333333333333,
              "#9c179e"
             ],
             [
              0.4444444444444444,
              "#bd3786"
             ],
             [
              0.5555555555555556,
              "#d8576b"
             ],
             [
              0.6666666666666666,
              "#ed7953"
             ],
             [
              0.7777777777777778,
              "#fb9f3a"
             ],
             [
              0.8888888888888888,
              "#fdca26"
             ],
             [
              1,
              "#f0f921"
             ]
            ],
            "type": "contour"
           }
          ],
          "contourcarpet": [
           {
            "colorbar": {
             "outlinewidth": 0,
             "ticks": ""
            },
            "type": "contourcarpet"
           }
          ],
          "heatmap": [
           {
            "colorbar": {
             "outlinewidth": 0,
             "ticks": ""
            },
            "colorscale": [
             [
              0,
              "#0d0887"
             ],
             [
              0.1111111111111111,
              "#46039f"
             ],
             [
              0.2222222222222222,
              "#7201a8"
             ],
             [
              0.3333333333333333,
              "#9c179e"
             ],
             [
              0.4444444444444444,
              "#bd3786"
             ],
             [
              0.5555555555555556,
              "#d8576b"
             ],
             [
              0.6666666666666666,
              "#ed7953"
             ],
             [
              0.7777777777777778,
              "#fb9f3a"
             ],
             [
              0.8888888888888888,
              "#fdca26"
             ],
             [
              1,
              "#f0f921"
             ]
            ],
            "type": "heatmap"
           }
          ],
          "heatmapgl": [
           {
            "colorbar": {
             "outlinewidth": 0,
             "ticks": ""
            },
            "colorscale": [
             [
              0,
              "#0d0887"
             ],
             [
              0.1111111111111111,
              "#46039f"
             ],
             [
              0.2222222222222222,
              "#7201a8"
             ],
             [
              0.3333333333333333,
              "#9c179e"
             ],
             [
              0.4444444444444444,
              "#bd3786"
             ],
             [
              0.5555555555555556,
              "#d8576b"
             ],
             [
              0.6666666666666666,
              "#ed7953"
             ],
             [
              0.7777777777777778,
              "#fb9f3a"
             ],
             [
              0.8888888888888888,
              "#fdca26"
             ],
             [
              1,
              "#f0f921"
             ]
            ],
            "type": "heatmapgl"
           }
          ],
          "histogram": [
           {
            "marker": {
             "pattern": {
              "fillmode": "overlay",
              "size": 10,
              "solidity": 0.2
             }
            },
            "type": "histogram"
           }
          ],
          "histogram2d": [
           {
            "colorbar": {
             "outlinewidth": 0,
             "ticks": ""
            },
            "colorscale": [
             [
              0,
              "#0d0887"
             ],
             [
              0.1111111111111111,
              "#46039f"
             ],
             [
              0.2222222222222222,
              "#7201a8"
             ],
             [
              0.3333333333333333,
              "#9c179e"
             ],
             [
              0.4444444444444444,
              "#bd3786"
             ],
             [
              0.5555555555555556,
              "#d8576b"
             ],
             [
              0.6666666666666666,
              "#ed7953"
             ],
             [
              0.7777777777777778,
              "#fb9f3a"
             ],
             [
              0.8888888888888888,
              "#fdca26"
             ],
             [
              1,
              "#f0f921"
             ]
            ],
            "type": "histogram2d"
           }
          ],
          "histogram2dcontour": [
           {
            "colorbar": {
             "outlinewidth": 0,
             "ticks": ""
            },
            "colorscale": [
             [
              0,
              "#0d0887"
             ],
             [
              0.1111111111111111,
              "#46039f"
             ],
             [
              0.2222222222222222,
              "#7201a8"
             ],
             [
              0.3333333333333333,
              "#9c179e"
             ],
             [
              0.4444444444444444,
              "#bd3786"
             ],
             [
              0.5555555555555556,
              "#d8576b"
             ],
             [
              0.6666666666666666,
              "#ed7953"
             ],
             [
              0.7777777777777778,
              "#fb9f3a"
             ],
             [
              0.8888888888888888,
              "#fdca26"
             ],
             [
              1,
              "#f0f921"
             ]
            ],
            "type": "histogram2dcontour"
           }
          ],
          "mesh3d": [
           {
            "colorbar": {
             "outlinewidth": 0,
             "ticks": ""
            },
            "type": "mesh3d"
           }
          ],
          "parcoords": [
           {
            "line": {
             "colorbar": {
              "outlinewidth": 0,
              "ticks": ""
             }
            },
            "type": "parcoords"
           }
          ],
          "pie": [
           {
            "automargin": true,
            "type": "pie"
           }
          ],
          "scatter": [
           {
            "fillpattern": {
             "fillmode": "overlay",
             "size": 10,
             "solidity": 0.2
            },
            "type": "scatter"
           }
          ],
          "scatter3d": [
           {
            "line": {
             "colorbar": {
              "outlinewidth": 0,
              "ticks": ""
             }
            },
            "marker": {
             "colorbar": {
              "outlinewidth": 0,
              "ticks": ""
             }
            },
            "type": "scatter3d"
           }
          ],
          "scattercarpet": [
           {
            "marker": {
             "colorbar": {
              "outlinewidth": 0,
              "ticks": ""
             }
            },
            "type": "scattercarpet"
           }
          ],
          "scattergeo": [
           {
            "marker": {
             "colorbar": {
              "outlinewidth": 0,
              "ticks": ""
             }
            },
            "type": "scattergeo"
           }
          ],
          "scattergl": [
           {
            "marker": {
             "colorbar": {
              "outlinewidth": 0,
              "ticks": ""
             }
            },
            "type": "scattergl"
           }
          ],
          "scattermapbox": [
           {
            "marker": {
             "colorbar": {
              "outlinewidth": 0,
              "ticks": ""
             }
            },
            "type": "scattermapbox"
           }
          ],
          "scatterpolar": [
           {
            "marker": {
             "colorbar": {
              "outlinewidth": 0,
              "ticks": ""
             }
            },
            "type": "scatterpolar"
           }
          ],
          "scatterpolargl": [
           {
            "marker": {
             "colorbar": {
              "outlinewidth": 0,
              "ticks": ""
             }
            },
            "type": "scatterpolargl"
           }
          ],
          "scatterternary": [
           {
            "marker": {
             "colorbar": {
              "outlinewidth": 0,
              "ticks": ""
             }
            },
            "type": "scatterternary"
           }
          ],
          "surface": [
           {
            "colorbar": {
             "outlinewidth": 0,
             "ticks": ""
            },
            "colorscale": [
             [
              0,
              "#0d0887"
             ],
             [
              0.1111111111111111,
              "#46039f"
             ],
             [
              0.2222222222222222,
              "#7201a8"
             ],
             [
              0.3333333333333333,
              "#9c179e"
             ],
             [
              0.4444444444444444,
              "#bd3786"
             ],
             [
              0.5555555555555556,
              "#d8576b"
             ],
             [
              0.6666666666666666,
              "#ed7953"
             ],
             [
              0.7777777777777778,
              "#fb9f3a"
             ],
             [
              0.8888888888888888,
              "#fdca26"
             ],
             [
              1,
              "#f0f921"
             ]
            ],
            "type": "surface"
           }
          ],
          "table": [
           {
            "cells": {
             "fill": {
              "color": "#EBF0F8"
             },
             "line": {
              "color": "white"
             }
            },
            "header": {
             "fill": {
              "color": "#C8D4E3"
             },
             "line": {
              "color": "white"
             }
            },
            "type": "table"
           }
          ]
         },
         "layout": {
          "annotationdefaults": {
           "arrowcolor": "#2a3f5f",
           "arrowhead": 0,
           "arrowwidth": 1
          },
          "autotypenumbers": "strict",
          "coloraxis": {
           "colorbar": {
            "outlinewidth": 0,
            "ticks": ""
           }
          },
          "colorscale": {
           "diverging": [
            [
             0,
             "#8e0152"
            ],
            [
             0.1,
             "#c51b7d"
            ],
            [
             0.2,
             "#de77ae"
            ],
            [
             0.3,
             "#f1b6da"
            ],
            [
             0.4,
             "#fde0ef"
            ],
            [
             0.5,
             "#f7f7f7"
            ],
            [
             0.6,
             "#e6f5d0"
            ],
            [
             0.7,
             "#b8e186"
            ],
            [
             0.8,
             "#7fbc41"
            ],
            [
             0.9,
             "#4d9221"
            ],
            [
             1,
             "#276419"
            ]
           ],
           "sequential": [
            [
             0,
             "#0d0887"
            ],
            [
             0.1111111111111111,
             "#46039f"
            ],
            [
             0.2222222222222222,
             "#7201a8"
            ],
            [
             0.3333333333333333,
             "#9c179e"
            ],
            [
             0.4444444444444444,
             "#bd3786"
            ],
            [
             0.5555555555555556,
             "#d8576b"
            ],
            [
             0.6666666666666666,
             "#ed7953"
            ],
            [
             0.7777777777777778,
             "#fb9f3a"
            ],
            [
             0.8888888888888888,
             "#fdca26"
            ],
            [
             1,
             "#f0f921"
            ]
           ],
           "sequentialminus": [
            [
             0,
             "#0d0887"
            ],
            [
             0.1111111111111111,
             "#46039f"
            ],
            [
             0.2222222222222222,
             "#7201a8"
            ],
            [
             0.3333333333333333,
             "#9c179e"
            ],
            [
             0.4444444444444444,
             "#bd3786"
            ],
            [
             0.5555555555555556,
             "#d8576b"
            ],
            [
             0.6666666666666666,
             "#ed7953"
            ],
            [
             0.7777777777777778,
             "#fb9f3a"
            ],
            [
             0.8888888888888888,
             "#fdca26"
            ],
            [
             1,
             "#f0f921"
            ]
           ]
          },
          "colorway": [
           "#636efa",
           "#EF553B",
           "#00cc96",
           "#ab63fa",
           "#FFA15A",
           "#19d3f3",
           "#FF6692",
           "#B6E880",
           "#FF97FF",
           "#FECB52"
          ],
          "font": {
           "color": "#2a3f5f"
          },
          "geo": {
           "bgcolor": "white",
           "lakecolor": "white",
           "landcolor": "#E5ECF6",
           "showlakes": true,
           "showland": true,
           "subunitcolor": "white"
          },
          "hoverlabel": {
           "align": "left"
          },
          "hovermode": "closest",
          "mapbox": {
           "style": "light"
          },
          "paper_bgcolor": "white",
          "plot_bgcolor": "#E5ECF6",
          "polar": {
           "angularaxis": {
            "gridcolor": "white",
            "linecolor": "white",
            "ticks": ""
           },
           "bgcolor": "#E5ECF6",
           "radialaxis": {
            "gridcolor": "white",
            "linecolor": "white",
            "ticks": ""
           }
          },
          "scene": {
           "xaxis": {
            "backgroundcolor": "#E5ECF6",
            "gridcolor": "white",
            "gridwidth": 2,
            "linecolor": "white",
            "showbackground": true,
            "ticks": "",
            "zerolinecolor": "white"
           },
           "yaxis": {
            "backgroundcolor": "#E5ECF6",
            "gridcolor": "white",
            "gridwidth": 2,
            "linecolor": "white",
            "showbackground": true,
            "ticks": "",
            "zerolinecolor": "white"
           },
           "zaxis": {
            "backgroundcolor": "#E5ECF6",
            "gridcolor": "white",
            "gridwidth": 2,
            "linecolor": "white",
            "showbackground": true,
            "ticks": "",
            "zerolinecolor": "white"
           }
          },
          "shapedefaults": {
           "line": {
            "color": "#2a3f5f"
           }
          },
          "ternary": {
           "aaxis": {
            "gridcolor": "white",
            "linecolor": "white",
            "ticks": ""
           },
           "baxis": {
            "gridcolor": "white",
            "linecolor": "white",
            "ticks": ""
           },
           "bgcolor": "#E5ECF6",
           "caxis": {
            "gridcolor": "white",
            "linecolor": "white",
            "ticks": ""
           }
          },
          "title": {
           "x": 0.05
          },
          "xaxis": {
           "automargin": true,
           "gridcolor": "white",
           "linecolor": "white",
           "ticks": "",
           "title": {
            "standoff": 15
           },
           "zerolinecolor": "white",
           "zerolinewidth": 2
          },
          "yaxis": {
           "automargin": true,
           "gridcolor": "white",
           "linecolor": "white",
           "ticks": "",
           "title": {
            "standoff": 15
           },
           "zerolinecolor": "white",
           "zerolinewidth": 2
          }
         }
        },
        "xaxis": {
         "anchor": "y",
         "domain": [
          0,
          1
         ],
         "title": {
          "text": "State/UT"
         }
        },
        "yaxis": {
         "anchor": "x",
         "domain": [
          0,
          1
         ],
         "title": {
          "text": "value"
         }
        }
       }
      }
     },
     "metadata": {},
     "output_type": "display_data"
    }
   ],
   "source": [
    "px.funnel(driver_response.sort_values('LaneJump'), x='State/UT', y=['LaneJump','Overtake','AiIntake'])"
   ]
  },
  {
   "cell_type": "code",
   "execution_count": 14,
   "metadata": {},
   "outputs": [
    {
     "data": {
      "application/vnd.plotly.v1+json": {
       "config": {
        "plotlyServerURL": "https://plot.ly"
       },
       "data": [
        {
         "alignmentgroup": "True",
         "customdata": [
          [
           "south",
           2,
           1531,
           722,
           653,
           460,
           1335,
           69,
           4806
          ]
         ],
         "hovertemplate": "State/UT=%{x}<br>Speeding=%{y}<br>GEO_Region=%{customdata[0]}<br>R_ID=%{customdata[1]}<br>Overtake=%{customdata[2]}<br>AiIntake=%{customdata[3]}<br>LaneJump=%{customdata[4]}<br>Sleeping=%{customdata[5]}<br>WrongSide=%{customdata[6]}<br>SignalAvoid=%{customdata[7]}<br>Others=%{customdata[8]}<extra></extra>",
         "legendgroup": "Andhra Pradesh",
         "marker": {
          "color": "#636efa",
          "pattern": {
           "shape": ""
          }
         },
         "name": "Andhra Pradesh",
         "offsetgroup": "Andhra Pradesh",
         "orientation": "v",
         "showlegend": true,
         "textposition": "auto",
         "type": "bar",
         "x": [
          "Andhra Pradesh"
         ],
         "xaxis": "x",
         "y": [
          30033
         ],
         "yaxis": "y"
        },
        {
         "alignmentgroup": "True",
         "customdata": [
          [
           "northeast",
           5,
           8,
           26,
           11,
           8,
           7,
           0,
           40
          ]
         ],
         "hovertemplate": "State/UT=%{x}<br>Speeding=%{y}<br>GEO_Region=%{customdata[0]}<br>R_ID=%{customdata[1]}<br>Overtake=%{customdata[2]}<br>AiIntake=%{customdata[3]}<br>LaneJump=%{customdata[4]}<br>Sleeping=%{customdata[5]}<br>WrongSide=%{customdata[6]}<br>SignalAvoid=%{customdata[7]}<br>Others=%{customdata[8]}<extra></extra>",
         "legendgroup": "Arunachal Pradesh",
         "marker": {
          "color": "#EF553B",
          "pattern": {
           "shape": ""
          }
         },
         "name": "Arunachal Pradesh",
         "offsetgroup": "Arunachal Pradesh",
         "orientation": "v",
         "showlegend": true,
         "textposition": "auto",
         "type": "bar",
         "x": [
          "Arunachal Pradesh"
         ],
         "xaxis": "x",
         "y": [
          61
         ],
         "yaxis": "y"
        },
        {
         "alignmentgroup": "True",
         "customdata": [
          [
           "northeast",
           5,
           500,
           965,
           260,
           6,
           490,
           71,
           1501
          ]
         ],
         "hovertemplate": "State/UT=%{x}<br>Speeding=%{y}<br>GEO_Region=%{customdata[0]}<br>R_ID=%{customdata[1]}<br>Overtake=%{customdata[2]}<br>AiIntake=%{customdata[3]}<br>LaneJump=%{customdata[4]}<br>Sleeping=%{customdata[5]}<br>WrongSide=%{customdata[6]}<br>SignalAvoid=%{customdata[7]}<br>Others=%{customdata[8]}<extra></extra>",
         "legendgroup": "Assam",
         "marker": {
          "color": "#00cc96",
          "pattern": {
           "shape": ""
          }
         },
         "name": "Assam",
         "offsetgroup": "Assam",
         "orientation": "v",
         "showlegend": true,
         "textposition": "auto",
         "type": "bar",
         "x": [
          "Assam"
         ],
         "xaxis": "x",
         "y": [
          8116
         ],
         "yaxis": "y"
        },
        {
         "alignmentgroup": "True",
         "customdata": [
          [
           "north",
           1,
           851,
           2273,
           392,
           194,
           766,
           15,
           1051
          ]
         ],
         "hovertemplate": "State/UT=%{x}<br>Speeding=%{y}<br>GEO_Region=%{customdata[0]}<br>R_ID=%{customdata[1]}<br>Overtake=%{customdata[2]}<br>AiIntake=%{customdata[3]}<br>LaneJump=%{customdata[4]}<br>Sleeping=%{customdata[5]}<br>WrongSide=%{customdata[6]}<br>SignalAvoid=%{customdata[7]}<br>Others=%{customdata[8]}<extra></extra>",
         "legendgroup": "Bihar",
         "marker": {
          "color": "#ab63fa",
          "pattern": {
           "shape": ""
          }
         },
         "name": "Bihar",
         "offsetgroup": "Bihar",
         "orientation": "v",
         "showlegend": true,
         "textposition": "auto",
         "type": "bar",
         "x": [
          "Bihar"
         ],
         "xaxis": "x",
         "y": [
          3819
         ],
         "yaxis": "y"
        },
        {
         "alignmentgroup": "True",
         "customdata": [
          [
           "centre",
           9,
           655,
           480,
           488,
           225,
           676,
           72,
           1473
          ]
         ],
         "hovertemplate": "State/UT=%{x}<br>Speeding=%{y}<br>GEO_Region=%{customdata[0]}<br>R_ID=%{customdata[1]}<br>Overtake=%{customdata[2]}<br>AiIntake=%{customdata[3]}<br>LaneJump=%{customdata[4]}<br>Sleeping=%{customdata[5]}<br>WrongSide=%{customdata[6]}<br>SignalAvoid=%{customdata[7]}<br>Others=%{customdata[8]}<extra></extra>",
         "legendgroup": "Chhattisgarh",
         "marker": {
          "color": "#FFA15A",
          "pattern": {
           "shape": ""
          }
         },
         "name": "Chhattisgarh",
         "offsetgroup": "Chhattisgarh",
         "orientation": "v",
         "showlegend": true,
         "textposition": "auto",
         "type": "bar",
         "x": [
          "Chhattisgarh"
         ],
         "xaxis": "x",
         "y": [
          13380
         ],
         "yaxis": "y"
        },
        {
         "alignmentgroup": "True",
         "customdata": [
          [
           "west",
           4,
           113,
           12,
           8,
           8,
           80,
           0,
           406
          ]
         ],
         "hovertemplate": "State/UT=%{x}<br>Speeding=%{y}<br>GEO_Region=%{customdata[0]}<br>R_ID=%{customdata[1]}<br>Overtake=%{customdata[2]}<br>AiIntake=%{customdata[3]}<br>LaneJump=%{customdata[4]}<br>Sleeping=%{customdata[5]}<br>WrongSide=%{customdata[6]}<br>SignalAvoid=%{customdata[7]}<br>Others=%{customdata[8]}<extra></extra>",
         "legendgroup": "Goa",
         "marker": {
          "color": "#19d3f3",
          "pattern": {
           "shape": ""
          }
         },
         "name": "Goa",
         "offsetgroup": "Goa",
         "orientation": "v",
         "showlegend": true,
         "textposition": "auto",
         "type": "bar",
         "x": [
          "Goa"
         ],
         "xaxis": "x",
         "y": [
          7031
         ],
         "yaxis": "y"
        },
        {
         "alignmentgroup": "True",
         "customdata": [
          [
           "west",
           4,
           1657,
           106,
           1032,
           251,
           1127,
           312,
           1187
          ]
         ],
         "hovertemplate": "State/UT=%{x}<br>Speeding=%{y}<br>GEO_Region=%{customdata[0]}<br>R_ID=%{customdata[1]}<br>Overtake=%{customdata[2]}<br>AiIntake=%{customdata[3]}<br>LaneJump=%{customdata[4]}<br>Sleeping=%{customdata[5]}<br>WrongSide=%{customdata[6]}<br>SignalAvoid=%{customdata[7]}<br>Others=%{customdata[8]}<extra></extra>",
         "legendgroup": "Gujarat",
         "marker": {
          "color": "#FF6692",
          "pattern": {
           "shape": ""
          }
         },
         "name": "Gujarat",
         "offsetgroup": "Gujarat",
         "orientation": "v",
         "showlegend": true,
         "textposition": "auto",
         "type": "bar",
         "x": [
          "Gujarat"
         ],
         "xaxis": "x",
         "y": [
          27066
         ],
         "yaxis": "y"
        },
        {
         "alignmentgroup": "True",
         "customdata": [
          [
           "north",
           1,
           1340,
           1624,
           869,
           616,
           1306,
           685,
           1502
          ]
         ],
         "hovertemplate": "State/UT=%{x}<br>Speeding=%{y}<br>GEO_Region=%{customdata[0]}<br>R_ID=%{customdata[1]}<br>Overtake=%{customdata[2]}<br>AiIntake=%{customdata[3]}<br>LaneJump=%{customdata[4]}<br>Sleeping=%{customdata[5]}<br>WrongSide=%{customdata[6]}<br>SignalAvoid=%{customdata[7]}<br>Others=%{customdata[8]}<extra></extra>",
         "legendgroup": "Haryana",
         "marker": {
          "color": "#B6E880",
          "pattern": {
           "shape": ""
          }
         },
         "name": "Haryana",
         "offsetgroup": "Haryana",
         "orientation": "v",
         "showlegend": true,
         "textposition": "auto",
         "type": "bar",
         "x": [
          "Haryana"
         ],
         "xaxis": "x",
         "y": [
          6529
         ],
         "yaxis": "y"
        },
        {
         "alignmentgroup": "True",
         "customdata": [
          [
           "north",
           1,
           216,
           146,
           88,
           0,
           64,
           0,
           1392
          ]
         ],
         "hovertemplate": "State/UT=%{x}<br>Speeding=%{y}<br>GEO_Region=%{customdata[0]}<br>R_ID=%{customdata[1]}<br>Overtake=%{customdata[2]}<br>AiIntake=%{customdata[3]}<br>LaneJump=%{customdata[4]}<br>Sleeping=%{customdata[5]}<br>WrongSide=%{customdata[6]}<br>SignalAvoid=%{customdata[7]}<br>Others=%{customdata[8]}<extra></extra>",
         "legendgroup": "Himachal Pradesh",
         "marker": {
          "color": "#FF97FF",
          "pattern": {
           "shape": ""
          }
         },
         "name": "Himachal Pradesh",
         "offsetgroup": "Himachal Pradesh",
         "orientation": "v",
         "showlegend": true,
         "textposition": "auto",
         "type": "bar",
         "x": [
          "Himachal Pradesh"
         ],
         "xaxis": "x",
         "y": [
          3279
         ],
         "yaxis": "y"
        },
        {
         "alignmentgroup": "True",
         "customdata": [
          [
           "north",
           1,
           85,
           435,
           31,
           0,
           72,
           0,
           948
          ]
         ],
         "hovertemplate": "State/UT=%{x}<br>Speeding=%{y}<br>GEO_Region=%{customdata[0]}<br>R_ID=%{customdata[1]}<br>Overtake=%{customdata[2]}<br>AiIntake=%{customdata[3]}<br>LaneJump=%{customdata[4]}<br>Sleeping=%{customdata[5]}<br>WrongSide=%{customdata[6]}<br>SignalAvoid=%{customdata[7]}<br>Others=%{customdata[8]}<extra></extra>",
         "legendgroup": "Jammu & Kashmir",
         "marker": {
          "color": "#FECB52",
          "pattern": {
           "shape": ""
          }
         },
         "name": "Jammu & Kashmir",
         "offsetgroup": "Jammu & Kashmir",
         "orientation": "v",
         "showlegend": true,
         "textposition": "auto",
         "type": "bar",
         "x": [
          "Jammu & Kashmir"
         ],
         "xaxis": "x",
         "y": [
          5287
         ],
         "yaxis": "y"
        },
        {
         "alignmentgroup": "True",
         "customdata": [
          [
           "centre",
           9,
           223,
           1154,
           259,
           6,
           390,
           38,
           25
          ]
         ],
         "hovertemplate": "State/UT=%{x}<br>Speeding=%{y}<br>GEO_Region=%{customdata[0]}<br>R_ID=%{customdata[1]}<br>Overtake=%{customdata[2]}<br>AiIntake=%{customdata[3]}<br>LaneJump=%{customdata[4]}<br>Sleeping=%{customdata[5]}<br>WrongSide=%{customdata[6]}<br>SignalAvoid=%{customdata[7]}<br>Others=%{customdata[8]}<extra></extra>",
         "legendgroup": "Jharkhand",
         "marker": {
          "color": "#636efa",
          "pattern": {
           "shape": ""
          }
         },
         "name": "Jharkhand",
         "offsetgroup": "Jharkhand",
         "orientation": "v",
         "showlegend": true,
         "textposition": "auto",
         "type": "bar",
         "x": [
          "Jharkhand"
         ],
         "xaxis": "x",
         "y": [
          2279
         ],
         "yaxis": "y"
        },
        {
         "alignmentgroup": "True",
         "customdata": [
          [
           "south",
           2,
           1963,
           2603,
           747,
           185,
           1777,
           327,
           9655
          ]
         ],
         "hovertemplate": "State/UT=%{x}<br>Speeding=%{y}<br>GEO_Region=%{customdata[0]}<br>R_ID=%{customdata[1]}<br>Overtake=%{customdata[2]}<br>AiIntake=%{customdata[3]}<br>LaneJump=%{customdata[4]}<br>Sleeping=%{customdata[5]}<br>WrongSide=%{customdata[6]}<br>SignalAvoid=%{customdata[7]}<br>Others=%{customdata[8]}<extra></extra>",
         "legendgroup": "Karnataka",
         "marker": {
          "color": "#EF553B",
          "pattern": {
           "shape": ""
          }
         },
         "name": "Karnataka",
         "offsetgroup": "Karnataka",
         "orientation": "v",
         "showlegend": true,
         "textposition": "auto",
         "type": "bar",
         "x": [
          "Karnataka"
         ],
         "xaxis": "x",
         "y": [
          54876
         ],
         "yaxis": "y"
        },
        {
         "alignmentgroup": "True",
         "customdata": [
          [
           "south",
           2,
           3392,
           168,
           1299,
           1454,
           2392,
           498,
           136
          ]
         ],
         "hovertemplate": "State/UT=%{x}<br>Speeding=%{y}<br>GEO_Region=%{customdata[0]}<br>R_ID=%{customdata[1]}<br>Overtake=%{customdata[2]}<br>AiIntake=%{customdata[3]}<br>LaneJump=%{customdata[4]}<br>Sleeping=%{customdata[5]}<br>WrongSide=%{customdata[6]}<br>SignalAvoid=%{customdata[7]}<br>Others=%{customdata[8]}<extra></extra>",
         "legendgroup": "Kerala",
         "marker": {
          "color": "#00cc96",
          "pattern": {
           "shape": ""
          }
         },
         "name": "Kerala",
         "offsetgroup": "Kerala",
         "orientation": "v",
         "showlegend": true,
         "textposition": "auto",
         "type": "bar",
         "x": [
          "Kerala"
         ],
         "xaxis": "x",
         "y": [
          54673
         ],
         "yaxis": "y"
        },
        {
         "alignmentgroup": "True",
         "customdata": [
          [
           "centre",
           9,
           5256,
           6623,
           2183,
           767,
           2232,
           500,
           8719
          ]
         ],
         "hovertemplate": "State/UT=%{x}<br>Speeding=%{y}<br>GEO_Region=%{customdata[0]}<br>R_ID=%{customdata[1]}<br>Overtake=%{customdata[2]}<br>AiIntake=%{customdata[3]}<br>LaneJump=%{customdata[4]}<br>Sleeping=%{customdata[5]}<br>WrongSide=%{customdata[6]}<br>SignalAvoid=%{customdata[7]}<br>Others=%{customdata[8]}<extra></extra>",
         "legendgroup": "Madhya Pradesh",
         "marker": {
          "color": "#ab63fa",
          "pattern": {
           "shape": ""
          }
         },
         "name": "Madhya Pradesh",
         "offsetgroup": "Madhya Pradesh",
         "orientation": "v",
         "showlegend": true,
         "textposition": "auto",
         "type": "bar",
         "x": [
          "Madhya Pradesh"
         ],
         "xaxis": "x",
         "y": [
          48984
         ],
         "yaxis": "y"
        },
        {
         "alignmentgroup": "True",
         "customdata": [
          [
           "west",
           4,
           3570,
           1477,
           1662,
           507,
           2718,
           106,
           9420
          ]
         ],
         "hovertemplate": "State/UT=%{x}<br>Speeding=%{y}<br>GEO_Region=%{customdata[0]}<br>R_ID=%{customdata[1]}<br>Overtake=%{customdata[2]}<br>AiIntake=%{customdata[3]}<br>LaneJump=%{customdata[4]}<br>Sleeping=%{customdata[5]}<br>WrongSide=%{customdata[6]}<br>SignalAvoid=%{customdata[7]}<br>Others=%{customdata[8]}<extra></extra>",
         "legendgroup": "Maharashtra",
         "marker": {
          "color": "#FFA15A",
          "pattern": {
           "shape": ""
          }
         },
         "name": "Maharashtra",
         "offsetgroup": "Maharashtra",
         "orientation": "v",
         "showlegend": true,
         "textposition": "auto",
         "type": "bar",
         "x": [
          "Maharashtra"
         ],
         "xaxis": "x",
         "y": [
          53433
         ],
         "yaxis": "y"
        },
        {
         "alignmentgroup": "True",
         "customdata": [
          [
           "northeast",
           5,
           46,
           71,
           0,
           30,
           39,
           0,
           66
          ]
         ],
         "hovertemplate": "State/UT=%{x}<br>Speeding=%{y}<br>GEO_Region=%{customdata[0]}<br>R_ID=%{customdata[1]}<br>Overtake=%{customdata[2]}<br>AiIntake=%{customdata[3]}<br>LaneJump=%{customdata[4]}<br>Sleeping=%{customdata[5]}<br>WrongSide=%{customdata[6]}<br>SignalAvoid=%{customdata[7]}<br>Others=%{customdata[8]}<extra></extra>",
         "legendgroup": "Manipur",
         "marker": {
          "color": "#19d3f3",
          "pattern": {
           "shape": ""
          }
         },
         "name": "Manipur",
         "offsetgroup": "Manipur",
         "orientation": "v",
         "showlegend": true,
         "textposition": "auto",
         "type": "bar",
         "x": [
          "Manipur"
         ],
         "xaxis": "x",
         "y": [
          57
         ],
         "yaxis": "y"
        },
        {
         "alignmentgroup": "True",
         "customdata": [
          [
           "northeast",
           5,
           0,
           60,
           0,
           0,
           0,
           0,
           0
          ]
         ],
         "hovertemplate": "State/UT=%{x}<br>Speeding=%{y}<br>GEO_Region=%{customdata[0]}<br>R_ID=%{customdata[1]}<br>Overtake=%{customdata[2]}<br>AiIntake=%{customdata[3]}<br>LaneJump=%{customdata[4]}<br>Sleeping=%{customdata[5]}<br>WrongSide=%{customdata[6]}<br>SignalAvoid=%{customdata[7]}<br>Others=%{customdata[8]}<extra></extra>",
         "legendgroup": "Meghalaya",
         "marker": {
          "color": "#FF6692",
          "pattern": {
           "shape": ""
          }
         },
         "name": "Meghalaya",
         "offsetgroup": "Meghalaya",
         "orientation": "v",
         "showlegend": true,
         "textposition": "auto",
         "type": "bar",
         "x": [
          "Meghalaya"
         ],
         "xaxis": "x",
         "y": [
          186
         ],
         "yaxis": "y"
        },
        {
         "alignmentgroup": "True",
         "customdata": [
          [
           "east",
           3,
           30,
           43,
           0,
           7,
           3,
           0,
           39
          ]
         ],
         "hovertemplate": "State/UT=%{x}<br>Speeding=%{y}<br>GEO_Region=%{customdata[0]}<br>R_ID=%{customdata[1]}<br>Overtake=%{customdata[2]}<br>AiIntake=%{customdata[3]}<br>LaneJump=%{customdata[4]}<br>Sleeping=%{customdata[5]}<br>WrongSide=%{customdata[6]}<br>SignalAvoid=%{customdata[7]}<br>Others=%{customdata[8]}<extra></extra>",
         "legendgroup": "Mizoram",
         "marker": {
          "color": "#B6E880",
          "pattern": {
           "shape": ""
          }
         },
         "name": "Mizoram",
         "offsetgroup": "Mizoram",
         "orientation": "v",
         "showlegend": true,
         "textposition": "auto",
         "type": "bar",
         "x": [
          "Mizoram"
         ],
         "xaxis": "x",
         "y": [
          62
         ],
         "yaxis": "y"
        },
        {
         "alignmentgroup": "True",
         "customdata": [
          [
           "northeast",
           5,
           0,
           104,
           0,
           0,
           26,
           0,
           70
          ]
         ],
         "hovertemplate": "State/UT=%{x}<br>Speeding=%{y}<br>GEO_Region=%{customdata[0]}<br>R_ID=%{customdata[1]}<br>Overtake=%{customdata[2]}<br>AiIntake=%{customdata[3]}<br>LaneJump=%{customdata[4]}<br>Sleeping=%{customdata[5]}<br>WrongSide=%{customdata[6]}<br>SignalAvoid=%{customdata[7]}<br>Others=%{customdata[8]}<extra></extra>",
         "legendgroup": "Nagaland",
         "marker": {
          "color": "#FF97FF",
          "pattern": {
           "shape": ""
          }
         },
         "name": "Nagaland",
         "offsetgroup": "Nagaland",
         "orientation": "v",
         "showlegend": true,
         "textposition": "auto",
         "type": "bar",
         "x": [
          "Nagaland"
         ],
         "xaxis": "x",
         "y": [
          62
         ],
         "yaxis": "y"
        },
        {
         "alignmentgroup": "True",
         "customdata": [
          [
           "centre",
           9,
           1530,
           1892,
           474,
           241,
           1084,
           189,
           1701
          ]
         ],
         "hovertemplate": "State/UT=%{x}<br>Speeding=%{y}<br>GEO_Region=%{customdata[0]}<br>R_ID=%{customdata[1]}<br>Overtake=%{customdata[2]}<br>AiIntake=%{customdata[3]}<br>LaneJump=%{customdata[4]}<br>Sleeping=%{customdata[5]}<br>WrongSide=%{customdata[6]}<br>SignalAvoid=%{customdata[7]}<br>Others=%{customdata[8]}<extra></extra>",
         "legendgroup": "Orissa",
         "marker": {
          "color": "#FECB52",
          "pattern": {
           "shape": ""
          }
         },
         "name": "Orissa",
         "offsetgroup": "Orissa",
         "orientation": "v",
         "showlegend": true,
         "textposition": "auto",
         "type": "bar",
         "x": [
          "Orissa"
         ],
         "xaxis": "x",
         "y": [
          8683
         ],
         "yaxis": "y"
        },
        {
         "alignmentgroup": "True",
         "customdata": [
          [
           "north",
           1,
           645,
           759,
           405,
           51,
           639,
           197,
           651
          ]
         ],
         "hovertemplate": "State/UT=%{x}<br>Speeding=%{y}<br>GEO_Region=%{customdata[0]}<br>R_ID=%{customdata[1]}<br>Overtake=%{customdata[2]}<br>AiIntake=%{customdata[3]}<br>LaneJump=%{customdata[4]}<br>Sleeping=%{customdata[5]}<br>WrongSide=%{customdata[6]}<br>SignalAvoid=%{customdata[7]}<br>Others=%{customdata[8]}<extra></extra>",
         "legendgroup": "Punjab",
         "marker": {
          "color": "#636efa",
          "pattern": {
           "shape": ""
          }
         },
         "name": "Punjab",
         "offsetgroup": "Punjab",
         "orientation": "v",
         "showlegend": true,
         "textposition": "auto",
         "type": "bar",
         "x": [
          "Punjab"
         ],
         "xaxis": "x",
         "y": [
          4770
         ],
         "yaxis": "y"
        },
        {
         "alignmentgroup": "True",
         "customdata": [
          [
           "northwest",
           6,
           1447,
           1588,
           1374,
           398,
           1637,
           2,
           6815
          ]
         ],
         "hovertemplate": "State/UT=%{x}<br>Speeding=%{y}<br>GEO_Region=%{customdata[0]}<br>R_ID=%{customdata[1]}<br>Overtake=%{customdata[2]}<br>AiIntake=%{customdata[3]}<br>LaneJump=%{customdata[4]}<br>Sleeping=%{customdata[5]}<br>WrongSide=%{customdata[6]}<br>SignalAvoid=%{customdata[7]}<br>Others=%{customdata[8]}<extra></extra>",
         "legendgroup": "Rajasthan",
         "marker": {
          "color": "#EF553B",
          "pattern": {
           "shape": ""
          }
         },
         "name": "Rajasthan",
         "offsetgroup": "Rajasthan",
         "orientation": "v",
         "showlegend": true,
         "textposition": "auto",
         "type": "bar",
         "x": [
          "Rajasthan"
         ],
         "xaxis": "x",
         "y": [
          24753
         ],
         "yaxis": "y"
        },
        {
         "alignmentgroup": "True",
         "customdata": [
          [
           "northeast",
           5,
           17,
           20,
           0,
           0,
           20,
           0,
           51
          ]
         ],
         "hovertemplate": "State/UT=%{x}<br>Speeding=%{y}<br>GEO_Region=%{customdata[0]}<br>R_ID=%{customdata[1]}<br>Overtake=%{customdata[2]}<br>AiIntake=%{customdata[3]}<br>LaneJump=%{customdata[4]}<br>Sleeping=%{customdata[5]}<br>WrongSide=%{customdata[6]}<br>SignalAvoid=%{customdata[7]}<br>Others=%{customdata[8]}<extra></extra>",
         "legendgroup": "Sikkim",
         "marker": {
          "color": "#00cc96",
          "pattern": {
           "shape": ""
          }
         },
         "name": "Sikkim",
         "offsetgroup": "Sikkim",
         "orientation": "v",
         "showlegend": true,
         "textposition": "auto",
         "type": "bar",
         "x": [
          "Sikkim"
         ],
         "xaxis": "x",
         "y": [
          73
         ],
         "yaxis": "y"
        },
        {
         "alignmentgroup": "True",
         "customdata": [
          [
           "south",
           2,
           9326,
           1947,
           4236,
           832,
           4738,
           1455,
           11740
          ]
         ],
         "hovertemplate": "State/UT=%{x}<br>Speeding=%{y}<br>GEO_Region=%{customdata[0]}<br>R_ID=%{customdata[1]}<br>Overtake=%{customdata[2]}<br>AiIntake=%{customdata[3]}<br>LaneJump=%{customdata[4]}<br>Sleeping=%{customdata[5]}<br>WrongSide=%{customdata[6]}<br>SignalAvoid=%{customdata[7]}<br>Others=%{customdata[8]}<extra></extra>",
         "legendgroup": "Tamil Nadu",
         "marker": {
          "color": "#ab63fa",
          "pattern": {
           "shape": ""
          }
         },
         "name": "Tamil Nadu",
         "offsetgroup": "Tamil Nadu",
         "orientation": "v",
         "showlegend": true,
         "textposition": "auto",
         "type": "bar",
         "x": [
          "Tamil Nadu"
         ],
         "xaxis": "x",
         "y": [
          75859
         ],
         "yaxis": "y"
        },
        {
         "alignmentgroup": "True",
         "customdata": [
          [
           "centre",
           9,
           1065,
           1170,
           269,
           171,
           726,
           74,
           5366
          ]
         ],
         "hovertemplate": "State/UT=%{x}<br>Speeding=%{y}<br>GEO_Region=%{customdata[0]}<br>R_ID=%{customdata[1]}<br>Overtake=%{customdata[2]}<br>AiIntake=%{customdata[3]}<br>LaneJump=%{customdata[4]}<br>Sleeping=%{customdata[5]}<br>WrongSide=%{customdata[6]}<br>SignalAvoid=%{customdata[7]}<br>Others=%{customdata[8]}<extra></extra>",
         "legendgroup": "Telangana",
         "marker": {
          "color": "#FFA15A",
          "pattern": {
           "shape": ""
          }
         },
         "name": "Telangana",
         "offsetgroup": "Telangana",
         "orientation": "v",
         "showlegend": true,
         "textposition": "auto",
         "type": "bar",
         "x": [
          "Telangana"
         ],
         "xaxis": "x",
         "y": [
          19881
         ],
         "yaxis": "y"
        },
        {
         "alignmentgroup": "True",
         "customdata": [
          [
           "east",
           3,
           56,
           17,
           7,
           0,
           44,
           1,
           28
          ]
         ],
         "hovertemplate": "State/UT=%{x}<br>Speeding=%{y}<br>GEO_Region=%{customdata[0]}<br>R_ID=%{customdata[1]}<br>Overtake=%{customdata[2]}<br>AiIntake=%{customdata[3]}<br>LaneJump=%{customdata[4]}<br>Sleeping=%{customdata[5]}<br>WrongSide=%{customdata[6]}<br>SignalAvoid=%{customdata[7]}<br>Others=%{customdata[8]}<extra></extra>",
         "legendgroup": "Tripura",
         "marker": {
          "color": "#19d3f3",
          "pattern": {
           "shape": ""
          }
         },
         "name": "Tripura",
         "offsetgroup": "Tripura",
         "orientation": "v",
         "showlegend": true,
         "textposition": "auto",
         "type": "bar",
         "x": [
          "Tripura"
         ],
         "xaxis": "x",
         "y": [
          912
         ],
         "yaxis": "y"
        },
        {
         "alignmentgroup": "True",
         "customdata": [
          [
           "north",
           1,
           147,
           548,
           69,
           0,
           204,
           7,
           142
          ]
         ],
         "hovertemplate": "State/UT=%{x}<br>Speeding=%{y}<br>GEO_Region=%{customdata[0]}<br>R_ID=%{customdata[1]}<br>Overtake=%{customdata[2]}<br>AiIntake=%{customdata[3]}<br>LaneJump=%{customdata[4]}<br>Sleeping=%{customdata[5]}<br>WrongSide=%{customdata[6]}<br>SignalAvoid=%{customdata[7]}<br>Others=%{customdata[8]}<extra></extra>",
         "legendgroup": "Uttarakhand",
         "marker": {
          "color": "#FF6692",
          "pattern": {
           "shape": ""
          }
         },
         "name": "Uttarakhand",
         "offsetgroup": "Uttarakhand",
         "orientation": "v",
         "showlegend": true,
         "textposition": "auto",
         "type": "bar",
         "x": [
          "Uttarakhand"
         ],
         "xaxis": "x",
         "y": [
          830
         ],
         "yaxis": "y"
        },
        {
         "alignmentgroup": "True",
         "customdata": [
          [
           "north",
           1,
           4329,
           5865,
           1485,
           1359,
           3323,
           747,
           6008
          ]
         ],
         "hovertemplate": "State/UT=%{x}<br>Speeding=%{y}<br>GEO_Region=%{customdata[0]}<br>R_ID=%{customdata[1]}<br>Overtake=%{customdata[2]}<br>AiIntake=%{customdata[3]}<br>LaneJump=%{customdata[4]}<br>Sleeping=%{customdata[5]}<br>WrongSide=%{customdata[6]}<br>SignalAvoid=%{customdata[7]}<br>Others=%{customdata[8]}<extra></extra>",
         "legendgroup": "Uttar Pradesh",
         "marker": {
          "color": "#B6E880",
          "pattern": {
           "shape": ""
          }
         },
         "name": "Uttar Pradesh",
         "offsetgroup": "Uttar Pradesh",
         "orientation": "v",
         "showlegend": true,
         "textposition": "auto",
         "type": "bar",
         "x": [
          "Uttar Pradesh"
         ],
         "xaxis": "x",
         "y": [
          12745
         ],
         "yaxis": "y"
        },
        {
         "alignmentgroup": "True",
         "customdata": [
          [
           "east",
           3,
           379,
           462,
           232,
           71,
           298,
           196,
           8271
          ]
         ],
         "hovertemplate": "State/UT=%{x}<br>Speeding=%{y}<br>GEO_Region=%{customdata[0]}<br>R_ID=%{customdata[1]}<br>Overtake=%{customdata[2]}<br>AiIntake=%{customdata[3]}<br>LaneJump=%{customdata[4]}<br>Sleeping=%{customdata[5]}<br>WrongSide=%{customdata[6]}<br>SignalAvoid=%{customdata[7]}<br>Others=%{customdata[8]}<extra></extra>",
         "legendgroup": "West Bengal",
         "marker": {
          "color": "#FF97FF",
          "pattern": {
           "shape": ""
          }
         },
         "name": "West Bengal",
         "offsetgroup": "West Bengal",
         "orientation": "v",
         "showlegend": true,
         "textposition": "auto",
         "type": "bar",
         "x": [
          "West Bengal"
         ],
         "xaxis": "x",
         "y": [
          4812
         ],
         "yaxis": "y"
        },
        {
         "alignmentgroup": "True",
         "customdata": [
          [
           "southeast",
           7,
           22,
           52,
           20,
           0,
           42,
           2,
           39
          ]
         ],
         "hovertemplate": "State/UT=%{x}<br>Speeding=%{y}<br>GEO_Region=%{customdata[0]}<br>R_ID=%{customdata[1]}<br>Overtake=%{customdata[2]}<br>AiIntake=%{customdata[3]}<br>LaneJump=%{customdata[4]}<br>Sleeping=%{customdata[5]}<br>WrongSide=%{customdata[6]}<br>SignalAvoid=%{customdata[7]}<br>Others=%{customdata[8]}<extra></extra>",
         "legendgroup": "A & N Islands",
         "marker": {
          "color": "#FECB52",
          "pattern": {
           "shape": ""
          }
         },
         "name": "A & N Islands",
         "offsetgroup": "A & N Islands",
         "orientation": "v",
         "showlegend": true,
         "textposition": "auto",
         "type": "bar",
         "x": [
          "A & N Islands"
         ],
         "xaxis": "x",
         "y": [
          218
         ],
         "yaxis": "y"
        },
        {
         "alignmentgroup": "True",
         "customdata": [
          [
           "north",
           1,
           83,
           20,
           30,
           0,
           34,
           10,
           14
          ]
         ],
         "hovertemplate": "State/UT=%{x}<br>Speeding=%{y}<br>GEO_Region=%{customdata[0]}<br>R_ID=%{customdata[1]}<br>Overtake=%{customdata[2]}<br>AiIntake=%{customdata[3]}<br>LaneJump=%{customdata[4]}<br>Sleeping=%{customdata[5]}<br>WrongSide=%{customdata[6]}<br>SignalAvoid=%{customdata[7]}<br>Others=%{customdata[8]}<extra></extra>",
         "legendgroup": "Chandigarh",
         "marker": {
          "color": "#636efa",
          "pattern": {
           "shape": ""
          }
         },
         "name": "Chandigarh",
         "offsetgroup": "Chandigarh",
         "orientation": "v",
         "showlegend": true,
         "textposition": "auto",
         "type": "bar",
         "x": [
          "Chandigarh"
         ],
         "xaxis": "x",
         "y": [
          540
         ],
         "yaxis": "y"
        },
        {
         "alignmentgroup": "True",
         "customdata": [
          [
           "west",
           4,
           5,
           1,
           0,
           2,
           5,
           0,
           69
          ]
         ],
         "hovertemplate": "State/UT=%{x}<br>Speeding=%{y}<br>GEO_Region=%{customdata[0]}<br>R_ID=%{customdata[1]}<br>Overtake=%{customdata[2]}<br>AiIntake=%{customdata[3]}<br>LaneJump=%{customdata[4]}<br>Sleeping=%{customdata[5]}<br>WrongSide=%{customdata[6]}<br>SignalAvoid=%{customdata[7]}<br>Others=%{customdata[8]}<extra></extra>",
         "legendgroup": "D & N Haveli",
         "marker": {
          "color": "#EF553B",
          "pattern": {
           "shape": ""
          }
         },
         "name": "D & N Haveli",
         "offsetgroup": "D & N Haveli",
         "orientation": "v",
         "showlegend": true,
         "textposition": "auto",
         "type": "bar",
         "x": [
          "D & N Haveli"
         ],
         "xaxis": "x",
         "y": [
          29
         ],
         "yaxis": "y"
        },
        {
         "alignmentgroup": "True",
         "customdata": [
          [
           "west",
           4,
           4,
           7,
           2,
           1,
           3,
           0,
           37
          ]
         ],
         "hovertemplate": "State/UT=%{x}<br>Speeding=%{y}<br>GEO_Region=%{customdata[0]}<br>R_ID=%{customdata[1]}<br>Overtake=%{customdata[2]}<br>AiIntake=%{customdata[3]}<br>LaneJump=%{customdata[4]}<br>Sleeping=%{customdata[5]}<br>WrongSide=%{customdata[6]}<br>SignalAvoid=%{customdata[7]}<br>Others=%{customdata[8]}<extra></extra>",
         "legendgroup": "Daman & Diu",
         "marker": {
          "color": "#00cc96",
          "pattern": {
           "shape": ""
          }
         },
         "name": "Daman & Diu",
         "offsetgroup": "Daman & Diu",
         "orientation": "v",
         "showlegend": true,
         "textposition": "auto",
         "type": "bar",
         "x": [
          "Daman & Diu"
         ],
         "xaxis": "x",
         "y": [
          50
         ],
         "yaxis": "y"
        },
        {
         "alignmentgroup": "True",
         "customdata": [
          [
           "north",
           1,
           211,
           215,
           129,
           0,
           131,
           229,
           2838
          ]
         ],
         "hovertemplate": "State/UT=%{x}<br>Speeding=%{y}<br>GEO_Region=%{customdata[0]}<br>R_ID=%{customdata[1]}<br>Overtake=%{customdata[2]}<br>AiIntake=%{customdata[3]}<br>LaneJump=%{customdata[4]}<br>Sleeping=%{customdata[5]}<br>WrongSide=%{customdata[6]}<br>SignalAvoid=%{customdata[7]}<br>Others=%{customdata[8]}<extra></extra>",
         "legendgroup": "Delhi",
         "marker": {
          "color": "#ab63fa",
          "pattern": {
           "shape": ""
          }
         },
         "name": "Delhi",
         "offsetgroup": "Delhi",
         "orientation": "v",
         "showlegend": true,
         "textposition": "auto",
         "type": "bar",
         "x": [
          "Delhi"
         ],
         "xaxis": "x",
         "y": [
          7646.6
         ],
         "yaxis": "y"
        },
        {
         "alignmentgroup": "True",
         "customdata": [
          [
           "southwest",
           8,
           0,
           0,
           0,
           0,
           0,
           0,
           0
          ]
         ],
         "hovertemplate": "State/UT=%{x}<br>Speeding=%{y}<br>GEO_Region=%{customdata[0]}<br>R_ID=%{customdata[1]}<br>Overtake=%{customdata[2]}<br>AiIntake=%{customdata[3]}<br>LaneJump=%{customdata[4]}<br>Sleeping=%{customdata[5]}<br>WrongSide=%{customdata[6]}<br>SignalAvoid=%{customdata[7]}<br>Others=%{customdata[8]}<extra></extra>",
         "legendgroup": "Lakshadweep",
         "marker": {
          "color": "#FFA15A",
          "pattern": {
           "shape": ""
          }
         },
         "name": "Lakshadweep",
         "offsetgroup": "Lakshadweep",
         "orientation": "v",
         "showlegend": true,
         "textposition": "auto",
         "type": "bar",
         "x": [
          "Lakshadweep"
         ],
         "xaxis": "x",
         "y": [
          1
         ],
         "yaxis": "y"
        },
        {
         "alignmentgroup": "True",
         "customdata": [
          [
           "south",
           2,
           207,
           155,
           0,
           15,
           98,
           21,
           610
          ]
         ],
         "hovertemplate": "State/UT=%{x}<br>Speeding=%{y}<br>GEO_Region=%{customdata[0]}<br>R_ID=%{customdata[1]}<br>Overtake=%{customdata[2]}<br>AiIntake=%{customdata[3]}<br>LaneJump=%{customdata[4]}<br>Sleeping=%{customdata[5]}<br>WrongSide=%{customdata[6]}<br>SignalAvoid=%{customdata[7]}<br>Others=%{customdata[8]}<extra></extra>",
         "legendgroup": "Puducherry",
         "marker": {
          "color": "#19d3f3",
          "pattern": {
           "shape": ""
          }
         },
         "name": "Puducherry",
         "offsetgroup": "Puducherry",
         "orientation": "v",
         "showlegend": true,
         "textposition": "auto",
         "type": "bar",
         "x": [
          "Puducherry"
         ],
         "xaxis": "x",
         "y": [
          1547
         ],
         "yaxis": "y"
        }
       ],
       "layout": {
        "annotations": [
         {
          "font": {
           "size": 12
          },
          "showarrow": false,
          "text": "The graph shows that Tamil Nadu has the highest OverSpeeders.",
          "x": 0,
          "xref": "paper",
          "y": 1,
          "yref": "paper"
         }
        ],
        "barmode": "relative",
        "legend": {
         "title": {
          "text": "State/UT"
         },
         "tracegroupgap": 0
        },
        "margin": {
         "t": 60
        },
        "template": {
         "data": {
          "bar": [
           {
            "error_x": {
             "color": "#2a3f5f"
            },
            "error_y": {
             "color": "#2a3f5f"
            },
            "marker": {
             "line": {
              "color": "#E5ECF6",
              "width": 0.5
             },
             "pattern": {
              "fillmode": "overlay",
              "size": 10,
              "solidity": 0.2
             }
            },
            "type": "bar"
           }
          ],
          "barpolar": [
           {
            "marker": {
             "line": {
              "color": "#E5ECF6",
              "width": 0.5
             },
             "pattern": {
              "fillmode": "overlay",
              "size": 10,
              "solidity": 0.2
             }
            },
            "type": "barpolar"
           }
          ],
          "carpet": [
           {
            "aaxis": {
             "endlinecolor": "#2a3f5f",
             "gridcolor": "white",
             "linecolor": "white",
             "minorgridcolor": "white",
             "startlinecolor": "#2a3f5f"
            },
            "baxis": {
             "endlinecolor": "#2a3f5f",
             "gridcolor": "white",
             "linecolor": "white",
             "minorgridcolor": "white",
             "startlinecolor": "#2a3f5f"
            },
            "type": "carpet"
           }
          ],
          "choropleth": [
           {
            "colorbar": {
             "outlinewidth": 0,
             "ticks": ""
            },
            "type": "choropleth"
           }
          ],
          "contour": [
           {
            "colorbar": {
             "outlinewidth": 0,
             "ticks": ""
            },
            "colorscale": [
             [
              0,
              "#0d0887"
             ],
             [
              0.1111111111111111,
              "#46039f"
             ],
             [
              0.2222222222222222,
              "#7201a8"
             ],
             [
              0.3333333333333333,
              "#9c179e"
             ],
             [
              0.4444444444444444,
              "#bd3786"
             ],
             [
              0.5555555555555556,
              "#d8576b"
             ],
             [
              0.6666666666666666,
              "#ed7953"
             ],
             [
              0.7777777777777778,
              "#fb9f3a"
             ],
             [
              0.8888888888888888,
              "#fdca26"
             ],
             [
              1,
              "#f0f921"
             ]
            ],
            "type": "contour"
           }
          ],
          "contourcarpet": [
           {
            "colorbar": {
             "outlinewidth": 0,
             "ticks": ""
            },
            "type": "contourcarpet"
           }
          ],
          "heatmap": [
           {
            "colorbar": {
             "outlinewidth": 0,
             "ticks": ""
            },
            "colorscale": [
             [
              0,
              "#0d0887"
             ],
             [
              0.1111111111111111,
              "#46039f"
             ],
             [
              0.2222222222222222,
              "#7201a8"
             ],
             [
              0.3333333333333333,
              "#9c179e"
             ],
             [
              0.4444444444444444,
              "#bd3786"
             ],
             [
              0.5555555555555556,
              "#d8576b"
             ],
             [
              0.6666666666666666,
              "#ed7953"
             ],
             [
              0.7777777777777778,
              "#fb9f3a"
             ],
             [
              0.8888888888888888,
              "#fdca26"
             ],
             [
              1,
              "#f0f921"
             ]
            ],
            "type": "heatmap"
           }
          ],
          "heatmapgl": [
           {
            "colorbar": {
             "outlinewidth": 0,
             "ticks": ""
            },
            "colorscale": [
             [
              0,
              "#0d0887"
             ],
             [
              0.1111111111111111,
              "#46039f"
             ],
             [
              0.2222222222222222,
              "#7201a8"
             ],
             [
              0.3333333333333333,
              "#9c179e"
             ],
             [
              0.4444444444444444,
              "#bd3786"
             ],
             [
              0.5555555555555556,
              "#d8576b"
             ],
             [
              0.6666666666666666,
              "#ed7953"
             ],
             [
              0.7777777777777778,
              "#fb9f3a"
             ],
             [
              0.8888888888888888,
              "#fdca26"
             ],
             [
              1,
              "#f0f921"
             ]
            ],
            "type": "heatmapgl"
           }
          ],
          "histogram": [
           {
            "marker": {
             "pattern": {
              "fillmode": "overlay",
              "size": 10,
              "solidity": 0.2
             }
            },
            "type": "histogram"
           }
          ],
          "histogram2d": [
           {
            "colorbar": {
             "outlinewidth": 0,
             "ticks": ""
            },
            "colorscale": [
             [
              0,
              "#0d0887"
             ],
             [
              0.1111111111111111,
              "#46039f"
             ],
             [
              0.2222222222222222,
              "#7201a8"
             ],
             [
              0.3333333333333333,
              "#9c179e"
             ],
             [
              0.4444444444444444,
              "#bd3786"
             ],
             [
              0.5555555555555556,
              "#d8576b"
             ],
             [
              0.6666666666666666,
              "#ed7953"
             ],
             [
              0.7777777777777778,
              "#fb9f3a"
             ],
             [
              0.8888888888888888,
              "#fdca26"
             ],
             [
              1,
              "#f0f921"
             ]
            ],
            "type": "histogram2d"
           }
          ],
          "histogram2dcontour": [
           {
            "colorbar": {
             "outlinewidth": 0,
             "ticks": ""
            },
            "colorscale": [
             [
              0,
              "#0d0887"
             ],
             [
              0.1111111111111111,
              "#46039f"
             ],
             [
              0.2222222222222222,
              "#7201a8"
             ],
             [
              0.3333333333333333,
              "#9c179e"
             ],
             [
              0.4444444444444444,
              "#bd3786"
             ],
             [
              0.5555555555555556,
              "#d8576b"
             ],
             [
              0.6666666666666666,
              "#ed7953"
             ],
             [
              0.7777777777777778,
              "#fb9f3a"
             ],
             [
              0.8888888888888888,
              "#fdca26"
             ],
             [
              1,
              "#f0f921"
             ]
            ],
            "type": "histogram2dcontour"
           }
          ],
          "mesh3d": [
           {
            "colorbar": {
             "outlinewidth": 0,
             "ticks": ""
            },
            "type": "mesh3d"
           }
          ],
          "parcoords": [
           {
            "line": {
             "colorbar": {
              "outlinewidth": 0,
              "ticks": ""
             }
            },
            "type": "parcoords"
           }
          ],
          "pie": [
           {
            "automargin": true,
            "type": "pie"
           }
          ],
          "scatter": [
           {
            "fillpattern": {
             "fillmode": "overlay",
             "size": 10,
             "solidity": 0.2
            },
            "type": "scatter"
           }
          ],
          "scatter3d": [
           {
            "line": {
             "colorbar": {
              "outlinewidth": 0,
              "ticks": ""
             }
            },
            "marker": {
             "colorbar": {
              "outlinewidth": 0,
              "ticks": ""
             }
            },
            "type": "scatter3d"
           }
          ],
          "scattercarpet": [
           {
            "marker": {
             "colorbar": {
              "outlinewidth": 0,
              "ticks": ""
             }
            },
            "type": "scattercarpet"
           }
          ],
          "scattergeo": [
           {
            "marker": {
             "colorbar": {
              "outlinewidth": 0,
              "ticks": ""
             }
            },
            "type": "scattergeo"
           }
          ],
          "scattergl": [
           {
            "marker": {
             "colorbar": {
              "outlinewidth": 0,
              "ticks": ""
             }
            },
            "type": "scattergl"
           }
          ],
          "scattermapbox": [
           {
            "marker": {
             "colorbar": {
              "outlinewidth": 0,
              "ticks": ""
             }
            },
            "type": "scattermapbox"
           }
          ],
          "scatterpolar": [
           {
            "marker": {
             "colorbar": {
              "outlinewidth": 0,
              "ticks": ""
             }
            },
            "type": "scatterpolar"
           }
          ],
          "scatterpolargl": [
           {
            "marker": {
             "colorbar": {
              "outlinewidth": 0,
              "ticks": ""
             }
            },
            "type": "scatterpolargl"
           }
          ],
          "scatterternary": [
           {
            "marker": {
             "colorbar": {
              "outlinewidth": 0,
              "ticks": ""
             }
            },
            "type": "scatterternary"
           }
          ],
          "surface": [
           {
            "colorbar": {
             "outlinewidth": 0,
             "ticks": ""
            },
            "colorscale": [
             [
              0,
              "#0d0887"
             ],
             [
              0.1111111111111111,
              "#46039f"
             ],
             [
              0.2222222222222222,
              "#7201a8"
             ],
             [
              0.3333333333333333,
              "#9c179e"
             ],
             [
              0.4444444444444444,
              "#bd3786"
             ],
             [
              0.5555555555555556,
              "#d8576b"
             ],
             [
              0.6666666666666666,
              "#ed7953"
             ],
             [
              0.7777777777777778,
              "#fb9f3a"
             ],
             [
              0.8888888888888888,
              "#fdca26"
             ],
             [
              1,
              "#f0f921"
             ]
            ],
            "type": "surface"
           }
          ],
          "table": [
           {
            "cells": {
             "fill": {
              "color": "#EBF0F8"
             },
             "line": {
              "color": "white"
             }
            },
            "header": {
             "fill": {
              "color": "#C8D4E3"
             },
             "line": {
              "color": "white"
             }
            },
            "type": "table"
           }
          ]
         },
         "layout": {
          "annotationdefaults": {
           "arrowcolor": "#2a3f5f",
           "arrowhead": 0,
           "arrowwidth": 1
          },
          "autotypenumbers": "strict",
          "coloraxis": {
           "colorbar": {
            "outlinewidth": 0,
            "ticks": ""
           }
          },
          "colorscale": {
           "diverging": [
            [
             0,
             "#8e0152"
            ],
            [
             0.1,
             "#c51b7d"
            ],
            [
             0.2,
             "#de77ae"
            ],
            [
             0.3,
             "#f1b6da"
            ],
            [
             0.4,
             "#fde0ef"
            ],
            [
             0.5,
             "#f7f7f7"
            ],
            [
             0.6,
             "#e6f5d0"
            ],
            [
             0.7,
             "#b8e186"
            ],
            [
             0.8,
             "#7fbc41"
            ],
            [
             0.9,
             "#4d9221"
            ],
            [
             1,
             "#276419"
            ]
           ],
           "sequential": [
            [
             0,
             "#0d0887"
            ],
            [
             0.1111111111111111,
             "#46039f"
            ],
            [
             0.2222222222222222,
             "#7201a8"
            ],
            [
             0.3333333333333333,
             "#9c179e"
            ],
            [
             0.4444444444444444,
             "#bd3786"
            ],
            [
             0.5555555555555556,
             "#d8576b"
            ],
            [
             0.6666666666666666,
             "#ed7953"
            ],
            [
             0.7777777777777778,
             "#fb9f3a"
            ],
            [
             0.8888888888888888,
             "#fdca26"
            ],
            [
             1,
             "#f0f921"
            ]
           ],
           "sequentialminus": [
            [
             0,
             "#0d0887"
            ],
            [
             0.1111111111111111,
             "#46039f"
            ],
            [
             0.2222222222222222,
             "#7201a8"
            ],
            [
             0.3333333333333333,
             "#9c179e"
            ],
            [
             0.4444444444444444,
             "#bd3786"
            ],
            [
             0.5555555555555556,
             "#d8576b"
            ],
            [
             0.6666666666666666,
             "#ed7953"
            ],
            [
             0.7777777777777778,
             "#fb9f3a"
            ],
            [
             0.8888888888888888,
             "#fdca26"
            ],
            [
             1,
             "#f0f921"
            ]
           ]
          },
          "colorway": [
           "#636efa",
           "#EF553B",
           "#00cc96",
           "#ab63fa",
           "#FFA15A",
           "#19d3f3",
           "#FF6692",
           "#B6E880",
           "#FF97FF",
           "#FECB52"
          ],
          "font": {
           "color": "#2a3f5f"
          },
          "geo": {
           "bgcolor": "white",
           "lakecolor": "white",
           "landcolor": "#E5ECF6",
           "showlakes": true,
           "showland": true,
           "subunitcolor": "white"
          },
          "hoverlabel": {
           "align": "left"
          },
          "hovermode": "closest",
          "mapbox": {
           "style": "light"
          },
          "paper_bgcolor": "white",
          "plot_bgcolor": "#E5ECF6",
          "polar": {
           "angularaxis": {
            "gridcolor": "white",
            "linecolor": "white",
            "ticks": ""
           },
           "bgcolor": "#E5ECF6",
           "radialaxis": {
            "gridcolor": "white",
            "linecolor": "white",
            "ticks": ""
           }
          },
          "scene": {
           "xaxis": {
            "backgroundcolor": "#E5ECF6",
            "gridcolor": "white",
            "gridwidth": 2,
            "linecolor": "white",
            "showbackground": true,
            "ticks": "",
            "zerolinecolor": "white"
           },
           "yaxis": {
            "backgroundcolor": "#E5ECF6",
            "gridcolor": "white",
            "gridwidth": 2,
            "linecolor": "white",
            "showbackground": true,
            "ticks": "",
            "zerolinecolor": "white"
           },
           "zaxis": {
            "backgroundcolor": "#E5ECF6",
            "gridcolor": "white",
            "gridwidth": 2,
            "linecolor": "white",
            "showbackground": true,
            "ticks": "",
            "zerolinecolor": "white"
           }
          },
          "shapedefaults": {
           "line": {
            "color": "#2a3f5f"
           }
          },
          "ternary": {
           "aaxis": {
            "gridcolor": "white",
            "linecolor": "white",
            "ticks": ""
           },
           "baxis": {
            "gridcolor": "white",
            "linecolor": "white",
            "ticks": ""
           },
           "bgcolor": "#E5ECF6",
           "caxis": {
            "gridcolor": "white",
            "linecolor": "white",
            "ticks": ""
           }
          },
          "title": {
           "x": 0.05
          },
          "xaxis": {
           "automargin": true,
           "gridcolor": "white",
           "linecolor": "white",
           "ticks": "",
           "title": {
            "standoff": 15
           },
           "zerolinecolor": "white",
           "zerolinewidth": 2
          },
          "yaxis": {
           "automargin": true,
           "gridcolor": "white",
           "linecolor": "white",
           "ticks": "",
           "title": {
            "standoff": 15
           },
           "zerolinecolor": "white",
           "zerolinewidth": 2
          }
         }
        },
        "xaxis": {
         "anchor": "y",
         "categoryarray": [
          "Andhra Pradesh",
          "Arunachal Pradesh",
          "Assam",
          "Bihar",
          "Chhattisgarh",
          "Goa",
          "Gujarat",
          "Haryana",
          "Himachal Pradesh",
          "Jammu & Kashmir",
          "Jharkhand",
          "Karnataka",
          "Kerala",
          "Madhya Pradesh",
          "Maharashtra",
          "Manipur",
          "Meghalaya",
          "Mizoram",
          "Nagaland",
          "Orissa",
          "Punjab",
          "Rajasthan",
          "Sikkim",
          "Tamil Nadu",
          "Telangana",
          "Tripura",
          "Uttarakhand",
          "Uttar Pradesh",
          "West Bengal",
          "A & N Islands",
          "Chandigarh",
          "D & N Haveli",
          "Daman & Diu",
          "Delhi",
          "Lakshadweep",
          "Puducherry"
         ],
         "categoryorder": "array",
         "domain": [
          0,
          1
         ],
         "title": {
          "text": "State/UT"
         }
        },
        "yaxis": {
         "anchor": "x",
         "domain": [
          0,
          1
         ],
         "title": {
          "text": "Speeding"
         }
        }
       }
      }
     },
     "metadata": {},
     "output_type": "display_data"
    }
   ],
   "source": [
    "# state wise over-speeding in violin plot\n",
    "fig = px.bar(driver_response, y=\"Speeding\", x=\"State/UT\", color=\"State/UT\",hover_data=driver_response.columns)\n",
    "conclusion = 'The graph shows that Tamil Nadu has the highest OverSpeeders.'\n",
    "fig.add_annotation(text=conclusion, xref='paper', yref='paper', x=0, y=1, showarrow=False, font=dict(size=12))\n",
    "fig.show()"
   ]
  },
  {
   "cell_type": "code",
   "execution_count": 15,
   "metadata": {},
   "outputs": [
    {
     "data": {
      "application/vnd.plotly.v1+json": {
       "config": {
        "plotlyServerURL": "https://plot.ly"
       },
       "data": [
        {
         "alignmentgroup": "True",
         "customdata": [
          [
           "south",
           2,
           1531,
           722,
           653,
           30033,
           1335,
           69,
           4806
          ]
         ],
         "hovertemplate": "State/UT=%{x}<br>Sleeping=%{y}<br>GEO_Region=%{customdata[0]}<br>R_ID=%{customdata[1]}<br>Overtake=%{customdata[2]}<br>AiIntake=%{customdata[3]}<br>LaneJump=%{customdata[4]}<br>Speeding=%{customdata[5]}<br>WrongSide=%{customdata[6]}<br>SignalAvoid=%{customdata[7]}<br>Others=%{customdata[8]}<extra></extra>",
         "legendgroup": "Andhra Pradesh",
         "marker": {
          "color": "#636efa",
          "pattern": {
           "shape": ""
          }
         },
         "name": "Andhra Pradesh",
         "offsetgroup": "Andhra Pradesh",
         "orientation": "v",
         "showlegend": true,
         "textposition": "auto",
         "type": "bar",
         "x": [
          "Andhra Pradesh"
         ],
         "xaxis": "x",
         "y": [
          460
         ],
         "yaxis": "y"
        },
        {
         "alignmentgroup": "True",
         "customdata": [
          [
           "northeast",
           5,
           8,
           26,
           11,
           61,
           7,
           0,
           40
          ]
         ],
         "hovertemplate": "State/UT=%{x}<br>Sleeping=%{y}<br>GEO_Region=%{customdata[0]}<br>R_ID=%{customdata[1]}<br>Overtake=%{customdata[2]}<br>AiIntake=%{customdata[3]}<br>LaneJump=%{customdata[4]}<br>Speeding=%{customdata[5]}<br>WrongSide=%{customdata[6]}<br>SignalAvoid=%{customdata[7]}<br>Others=%{customdata[8]}<extra></extra>",
         "legendgroup": "Arunachal Pradesh",
         "marker": {
          "color": "#EF553B",
          "pattern": {
           "shape": ""
          }
         },
         "name": "Arunachal Pradesh",
         "offsetgroup": "Arunachal Pradesh",
         "orientation": "v",
         "showlegend": true,
         "textposition": "auto",
         "type": "bar",
         "x": [
          "Arunachal Pradesh"
         ],
         "xaxis": "x",
         "y": [
          8
         ],
         "yaxis": "y"
        },
        {
         "alignmentgroup": "True",
         "customdata": [
          [
           "northeast",
           5,
           500,
           965,
           260,
           8116,
           490,
           71,
           1501
          ]
         ],
         "hovertemplate": "State/UT=%{x}<br>Sleeping=%{y}<br>GEO_Region=%{customdata[0]}<br>R_ID=%{customdata[1]}<br>Overtake=%{customdata[2]}<br>AiIntake=%{customdata[3]}<br>LaneJump=%{customdata[4]}<br>Speeding=%{customdata[5]}<br>WrongSide=%{customdata[6]}<br>SignalAvoid=%{customdata[7]}<br>Others=%{customdata[8]}<extra></extra>",
         "legendgroup": "Assam",
         "marker": {
          "color": "#00cc96",
          "pattern": {
           "shape": ""
          }
         },
         "name": "Assam",
         "offsetgroup": "Assam",
         "orientation": "v",
         "showlegend": true,
         "textposition": "auto",
         "type": "bar",
         "x": [
          "Assam"
         ],
         "xaxis": "x",
         "y": [
          6
         ],
         "yaxis": "y"
        },
        {
         "alignmentgroup": "True",
         "customdata": [
          [
           "north",
           1,
           851,
           2273,
           392,
           3819,
           766,
           15,
           1051
          ]
         ],
         "hovertemplate": "State/UT=%{x}<br>Sleeping=%{y}<br>GEO_Region=%{customdata[0]}<br>R_ID=%{customdata[1]}<br>Overtake=%{customdata[2]}<br>AiIntake=%{customdata[3]}<br>LaneJump=%{customdata[4]}<br>Speeding=%{customdata[5]}<br>WrongSide=%{customdata[6]}<br>SignalAvoid=%{customdata[7]}<br>Others=%{customdata[8]}<extra></extra>",
         "legendgroup": "Bihar",
         "marker": {
          "color": "#ab63fa",
          "pattern": {
           "shape": ""
          }
         },
         "name": "Bihar",
         "offsetgroup": "Bihar",
         "orientation": "v",
         "showlegend": true,
         "textposition": "auto",
         "type": "bar",
         "x": [
          "Bihar"
         ],
         "xaxis": "x",
         "y": [
          194
         ],
         "yaxis": "y"
        },
        {
         "alignmentgroup": "True",
         "customdata": [
          [
           "centre",
           9,
           655,
           480,
           488,
           13380,
           676,
           72,
           1473
          ]
         ],
         "hovertemplate": "State/UT=%{x}<br>Sleeping=%{y}<br>GEO_Region=%{customdata[0]}<br>R_ID=%{customdata[1]}<br>Overtake=%{customdata[2]}<br>AiIntake=%{customdata[3]}<br>LaneJump=%{customdata[4]}<br>Speeding=%{customdata[5]}<br>WrongSide=%{customdata[6]}<br>SignalAvoid=%{customdata[7]}<br>Others=%{customdata[8]}<extra></extra>",
         "legendgroup": "Chhattisgarh",
         "marker": {
          "color": "#FFA15A",
          "pattern": {
           "shape": ""
          }
         },
         "name": "Chhattisgarh",
         "offsetgroup": "Chhattisgarh",
         "orientation": "v",
         "showlegend": true,
         "textposition": "auto",
         "type": "bar",
         "x": [
          "Chhattisgarh"
         ],
         "xaxis": "x",
         "y": [
          225
         ],
         "yaxis": "y"
        },
        {
         "alignmentgroup": "True",
         "customdata": [
          [
           "west",
           4,
           113,
           12,
           8,
           7031,
           80,
           0,
           406
          ]
         ],
         "hovertemplate": "State/UT=%{x}<br>Sleeping=%{y}<br>GEO_Region=%{customdata[0]}<br>R_ID=%{customdata[1]}<br>Overtake=%{customdata[2]}<br>AiIntake=%{customdata[3]}<br>LaneJump=%{customdata[4]}<br>Speeding=%{customdata[5]}<br>WrongSide=%{customdata[6]}<br>SignalAvoid=%{customdata[7]}<br>Others=%{customdata[8]}<extra></extra>",
         "legendgroup": "Goa",
         "marker": {
          "color": "#19d3f3",
          "pattern": {
           "shape": ""
          }
         },
         "name": "Goa",
         "offsetgroup": "Goa",
         "orientation": "v",
         "showlegend": true,
         "textposition": "auto",
         "type": "bar",
         "x": [
          "Goa"
         ],
         "xaxis": "x",
         "y": [
          8
         ],
         "yaxis": "y"
        },
        {
         "alignmentgroup": "True",
         "customdata": [
          [
           "west",
           4,
           1657,
           106,
           1032,
           27066,
           1127,
           312,
           1187
          ]
         ],
         "hovertemplate": "State/UT=%{x}<br>Sleeping=%{y}<br>GEO_Region=%{customdata[0]}<br>R_ID=%{customdata[1]}<br>Overtake=%{customdata[2]}<br>AiIntake=%{customdata[3]}<br>LaneJump=%{customdata[4]}<br>Speeding=%{customdata[5]}<br>WrongSide=%{customdata[6]}<br>SignalAvoid=%{customdata[7]}<br>Others=%{customdata[8]}<extra></extra>",
         "legendgroup": "Gujarat",
         "marker": {
          "color": "#FF6692",
          "pattern": {
           "shape": ""
          }
         },
         "name": "Gujarat",
         "offsetgroup": "Gujarat",
         "orientation": "v",
         "showlegend": true,
         "textposition": "auto",
         "type": "bar",
         "x": [
          "Gujarat"
         ],
         "xaxis": "x",
         "y": [
          251
         ],
         "yaxis": "y"
        },
        {
         "alignmentgroup": "True",
         "customdata": [
          [
           "north",
           1,
           1340,
           1624,
           869,
           6529,
           1306,
           685,
           1502
          ]
         ],
         "hovertemplate": "State/UT=%{x}<br>Sleeping=%{y}<br>GEO_Region=%{customdata[0]}<br>R_ID=%{customdata[1]}<br>Overtake=%{customdata[2]}<br>AiIntake=%{customdata[3]}<br>LaneJump=%{customdata[4]}<br>Speeding=%{customdata[5]}<br>WrongSide=%{customdata[6]}<br>SignalAvoid=%{customdata[7]}<br>Others=%{customdata[8]}<extra></extra>",
         "legendgroup": "Haryana",
         "marker": {
          "color": "#B6E880",
          "pattern": {
           "shape": ""
          }
         },
         "name": "Haryana",
         "offsetgroup": "Haryana",
         "orientation": "v",
         "showlegend": true,
         "textposition": "auto",
         "type": "bar",
         "x": [
          "Haryana"
         ],
         "xaxis": "x",
         "y": [
          616
         ],
         "yaxis": "y"
        },
        {
         "alignmentgroup": "True",
         "customdata": [
          [
           "north",
           1,
           216,
           146,
           88,
           3279,
           64,
           0,
           1392
          ]
         ],
         "hovertemplate": "State/UT=%{x}<br>Sleeping=%{y}<br>GEO_Region=%{customdata[0]}<br>R_ID=%{customdata[1]}<br>Overtake=%{customdata[2]}<br>AiIntake=%{customdata[3]}<br>LaneJump=%{customdata[4]}<br>Speeding=%{customdata[5]}<br>WrongSide=%{customdata[6]}<br>SignalAvoid=%{customdata[7]}<br>Others=%{customdata[8]}<extra></extra>",
         "legendgroup": "Himachal Pradesh",
         "marker": {
          "color": "#FF97FF",
          "pattern": {
           "shape": ""
          }
         },
         "name": "Himachal Pradesh",
         "offsetgroup": "Himachal Pradesh",
         "orientation": "v",
         "showlegend": true,
         "textposition": "auto",
         "type": "bar",
         "x": [
          "Himachal Pradesh"
         ],
         "xaxis": "x",
         "y": [
          0
         ],
         "yaxis": "y"
        },
        {
         "alignmentgroup": "True",
         "customdata": [
          [
           "north",
           1,
           85,
           435,
           31,
           5287,
           72,
           0,
           948
          ]
         ],
         "hovertemplate": "State/UT=%{x}<br>Sleeping=%{y}<br>GEO_Region=%{customdata[0]}<br>R_ID=%{customdata[1]}<br>Overtake=%{customdata[2]}<br>AiIntake=%{customdata[3]}<br>LaneJump=%{customdata[4]}<br>Speeding=%{customdata[5]}<br>WrongSide=%{customdata[6]}<br>SignalAvoid=%{customdata[7]}<br>Others=%{customdata[8]}<extra></extra>",
         "legendgroup": "Jammu & Kashmir",
         "marker": {
          "color": "#FECB52",
          "pattern": {
           "shape": ""
          }
         },
         "name": "Jammu & Kashmir",
         "offsetgroup": "Jammu & Kashmir",
         "orientation": "v",
         "showlegend": true,
         "textposition": "auto",
         "type": "bar",
         "x": [
          "Jammu & Kashmir"
         ],
         "xaxis": "x",
         "y": [
          0
         ],
         "yaxis": "y"
        },
        {
         "alignmentgroup": "True",
         "customdata": [
          [
           "centre",
           9,
           223,
           1154,
           259,
           2279,
           390,
           38,
           25
          ]
         ],
         "hovertemplate": "State/UT=%{x}<br>Sleeping=%{y}<br>GEO_Region=%{customdata[0]}<br>R_ID=%{customdata[1]}<br>Overtake=%{customdata[2]}<br>AiIntake=%{customdata[3]}<br>LaneJump=%{customdata[4]}<br>Speeding=%{customdata[5]}<br>WrongSide=%{customdata[6]}<br>SignalAvoid=%{customdata[7]}<br>Others=%{customdata[8]}<extra></extra>",
         "legendgroup": "Jharkhand",
         "marker": {
          "color": "#636efa",
          "pattern": {
           "shape": ""
          }
         },
         "name": "Jharkhand",
         "offsetgroup": "Jharkhand",
         "orientation": "v",
         "showlegend": true,
         "textposition": "auto",
         "type": "bar",
         "x": [
          "Jharkhand"
         ],
         "xaxis": "x",
         "y": [
          6
         ],
         "yaxis": "y"
        },
        {
         "alignmentgroup": "True",
         "customdata": [
          [
           "south",
           2,
           1963,
           2603,
           747,
           54876,
           1777,
           327,
           9655
          ]
         ],
         "hovertemplate": "State/UT=%{x}<br>Sleeping=%{y}<br>GEO_Region=%{customdata[0]}<br>R_ID=%{customdata[1]}<br>Overtake=%{customdata[2]}<br>AiIntake=%{customdata[3]}<br>LaneJump=%{customdata[4]}<br>Speeding=%{customdata[5]}<br>WrongSide=%{customdata[6]}<br>SignalAvoid=%{customdata[7]}<br>Others=%{customdata[8]}<extra></extra>",
         "legendgroup": "Karnataka",
         "marker": {
          "color": "#EF553B",
          "pattern": {
           "shape": ""
          }
         },
         "name": "Karnataka",
         "offsetgroup": "Karnataka",
         "orientation": "v",
         "showlegend": true,
         "textposition": "auto",
         "type": "bar",
         "x": [
          "Karnataka"
         ],
         "xaxis": "x",
         "y": [
          185
         ],
         "yaxis": "y"
        },
        {
         "alignmentgroup": "True",
         "customdata": [
          [
           "south",
           2,
           3392,
           168,
           1299,
           54673,
           2392,
           498,
           136
          ]
         ],
         "hovertemplate": "State/UT=%{x}<br>Sleeping=%{y}<br>GEO_Region=%{customdata[0]}<br>R_ID=%{customdata[1]}<br>Overtake=%{customdata[2]}<br>AiIntake=%{customdata[3]}<br>LaneJump=%{customdata[4]}<br>Speeding=%{customdata[5]}<br>WrongSide=%{customdata[6]}<br>SignalAvoid=%{customdata[7]}<br>Others=%{customdata[8]}<extra></extra>",
         "legendgroup": "Kerala",
         "marker": {
          "color": "#00cc96",
          "pattern": {
           "shape": ""
          }
         },
         "name": "Kerala",
         "offsetgroup": "Kerala",
         "orientation": "v",
         "showlegend": true,
         "textposition": "auto",
         "type": "bar",
         "x": [
          "Kerala"
         ],
         "xaxis": "x",
         "y": [
          1454
         ],
         "yaxis": "y"
        },
        {
         "alignmentgroup": "True",
         "customdata": [
          [
           "centre",
           9,
           5256,
           6623,
           2183,
           48984,
           2232,
           500,
           8719
          ]
         ],
         "hovertemplate": "State/UT=%{x}<br>Sleeping=%{y}<br>GEO_Region=%{customdata[0]}<br>R_ID=%{customdata[1]}<br>Overtake=%{customdata[2]}<br>AiIntake=%{customdata[3]}<br>LaneJump=%{customdata[4]}<br>Speeding=%{customdata[5]}<br>WrongSide=%{customdata[6]}<br>SignalAvoid=%{customdata[7]}<br>Others=%{customdata[8]}<extra></extra>",
         "legendgroup": "Madhya Pradesh",
         "marker": {
          "color": "#ab63fa",
          "pattern": {
           "shape": ""
          }
         },
         "name": "Madhya Pradesh",
         "offsetgroup": "Madhya Pradesh",
         "orientation": "v",
         "showlegend": true,
         "textposition": "auto",
         "type": "bar",
         "x": [
          "Madhya Pradesh"
         ],
         "xaxis": "x",
         "y": [
          767
         ],
         "yaxis": "y"
        },
        {
         "alignmentgroup": "True",
         "customdata": [
          [
           "west",
           4,
           3570,
           1477,
           1662,
           53433,
           2718,
           106,
           9420
          ]
         ],
         "hovertemplate": "State/UT=%{x}<br>Sleeping=%{y}<br>GEO_Region=%{customdata[0]}<br>R_ID=%{customdata[1]}<br>Overtake=%{customdata[2]}<br>AiIntake=%{customdata[3]}<br>LaneJump=%{customdata[4]}<br>Speeding=%{customdata[5]}<br>WrongSide=%{customdata[6]}<br>SignalAvoid=%{customdata[7]}<br>Others=%{customdata[8]}<extra></extra>",
         "legendgroup": "Maharashtra",
         "marker": {
          "color": "#FFA15A",
          "pattern": {
           "shape": ""
          }
         },
         "name": "Maharashtra",
         "offsetgroup": "Maharashtra",
         "orientation": "v",
         "showlegend": true,
         "textposition": "auto",
         "type": "bar",
         "x": [
          "Maharashtra"
         ],
         "xaxis": "x",
         "y": [
          507
         ],
         "yaxis": "y"
        },
        {
         "alignmentgroup": "True",
         "customdata": [
          [
           "northeast",
           5,
           46,
           71,
           0,
           57,
           39,
           0,
           66
          ]
         ],
         "hovertemplate": "State/UT=%{x}<br>Sleeping=%{y}<br>GEO_Region=%{customdata[0]}<br>R_ID=%{customdata[1]}<br>Overtake=%{customdata[2]}<br>AiIntake=%{customdata[3]}<br>LaneJump=%{customdata[4]}<br>Speeding=%{customdata[5]}<br>WrongSide=%{customdata[6]}<br>SignalAvoid=%{customdata[7]}<br>Others=%{customdata[8]}<extra></extra>",
         "legendgroup": "Manipur",
         "marker": {
          "color": "#19d3f3",
          "pattern": {
           "shape": ""
          }
         },
         "name": "Manipur",
         "offsetgroup": "Manipur",
         "orientation": "v",
         "showlegend": true,
         "textposition": "auto",
         "type": "bar",
         "x": [
          "Manipur"
         ],
         "xaxis": "x",
         "y": [
          30
         ],
         "yaxis": "y"
        },
        {
         "alignmentgroup": "True",
         "customdata": [
          [
           "northeast",
           5,
           0,
           60,
           0,
           186,
           0,
           0,
           0
          ]
         ],
         "hovertemplate": "State/UT=%{x}<br>Sleeping=%{y}<br>GEO_Region=%{customdata[0]}<br>R_ID=%{customdata[1]}<br>Overtake=%{customdata[2]}<br>AiIntake=%{customdata[3]}<br>LaneJump=%{customdata[4]}<br>Speeding=%{customdata[5]}<br>WrongSide=%{customdata[6]}<br>SignalAvoid=%{customdata[7]}<br>Others=%{customdata[8]}<extra></extra>",
         "legendgroup": "Meghalaya",
         "marker": {
          "color": "#FF6692",
          "pattern": {
           "shape": ""
          }
         },
         "name": "Meghalaya",
         "offsetgroup": "Meghalaya",
         "orientation": "v",
         "showlegend": true,
         "textposition": "auto",
         "type": "bar",
         "x": [
          "Meghalaya"
         ],
         "xaxis": "x",
         "y": [
          0
         ],
         "yaxis": "y"
        },
        {
         "alignmentgroup": "True",
         "customdata": [
          [
           "east",
           3,
           30,
           43,
           0,
           62,
           3,
           0,
           39
          ]
         ],
         "hovertemplate": "State/UT=%{x}<br>Sleeping=%{y}<br>GEO_Region=%{customdata[0]}<br>R_ID=%{customdata[1]}<br>Overtake=%{customdata[2]}<br>AiIntake=%{customdata[3]}<br>LaneJump=%{customdata[4]}<br>Speeding=%{customdata[5]}<br>WrongSide=%{customdata[6]}<br>SignalAvoid=%{customdata[7]}<br>Others=%{customdata[8]}<extra></extra>",
         "legendgroup": "Mizoram",
         "marker": {
          "color": "#B6E880",
          "pattern": {
           "shape": ""
          }
         },
         "name": "Mizoram",
         "offsetgroup": "Mizoram",
         "orientation": "v",
         "showlegend": true,
         "textposition": "auto",
         "type": "bar",
         "x": [
          "Mizoram"
         ],
         "xaxis": "x",
         "y": [
          7
         ],
         "yaxis": "y"
        },
        {
         "alignmentgroup": "True",
         "customdata": [
          [
           "northeast",
           5,
           0,
           104,
           0,
           62,
           26,
           0,
           70
          ]
         ],
         "hovertemplate": "State/UT=%{x}<br>Sleeping=%{y}<br>GEO_Region=%{customdata[0]}<br>R_ID=%{customdata[1]}<br>Overtake=%{customdata[2]}<br>AiIntake=%{customdata[3]}<br>LaneJump=%{customdata[4]}<br>Speeding=%{customdata[5]}<br>WrongSide=%{customdata[6]}<br>SignalAvoid=%{customdata[7]}<br>Others=%{customdata[8]}<extra></extra>",
         "legendgroup": "Nagaland",
         "marker": {
          "color": "#FF97FF",
          "pattern": {
           "shape": ""
          }
         },
         "name": "Nagaland",
         "offsetgroup": "Nagaland",
         "orientation": "v",
         "showlegend": true,
         "textposition": "auto",
         "type": "bar",
         "x": [
          "Nagaland"
         ],
         "xaxis": "x",
         "y": [
          0
         ],
         "yaxis": "y"
        },
        {
         "alignmentgroup": "True",
         "customdata": [
          [
           "centre",
           9,
           1530,
           1892,
           474,
           8683,
           1084,
           189,
           1701
          ]
         ],
         "hovertemplate": "State/UT=%{x}<br>Sleeping=%{y}<br>GEO_Region=%{customdata[0]}<br>R_ID=%{customdata[1]}<br>Overtake=%{customdata[2]}<br>AiIntake=%{customdata[3]}<br>LaneJump=%{customdata[4]}<br>Speeding=%{customdata[5]}<br>WrongSide=%{customdata[6]}<br>SignalAvoid=%{customdata[7]}<br>Others=%{customdata[8]}<extra></extra>",
         "legendgroup": "Orissa",
         "marker": {
          "color": "#FECB52",
          "pattern": {
           "shape": ""
          }
         },
         "name": "Orissa",
         "offsetgroup": "Orissa",
         "orientation": "v",
         "showlegend": true,
         "textposition": "auto",
         "type": "bar",
         "x": [
          "Orissa"
         ],
         "xaxis": "x",
         "y": [
          241
         ],
         "yaxis": "y"
        },
        {
         "alignmentgroup": "True",
         "customdata": [
          [
           "north",
           1,
           645,
           759,
           405,
           4770,
           639,
           197,
           651
          ]
         ],
         "hovertemplate": "State/UT=%{x}<br>Sleeping=%{y}<br>GEO_Region=%{customdata[0]}<br>R_ID=%{customdata[1]}<br>Overtake=%{customdata[2]}<br>AiIntake=%{customdata[3]}<br>LaneJump=%{customdata[4]}<br>Speeding=%{customdata[5]}<br>WrongSide=%{customdata[6]}<br>SignalAvoid=%{customdata[7]}<br>Others=%{customdata[8]}<extra></extra>",
         "legendgroup": "Punjab",
         "marker": {
          "color": "#636efa",
          "pattern": {
           "shape": ""
          }
         },
         "name": "Punjab",
         "offsetgroup": "Punjab",
         "orientation": "v",
         "showlegend": true,
         "textposition": "auto",
         "type": "bar",
         "x": [
          "Punjab"
         ],
         "xaxis": "x",
         "y": [
          51
         ],
         "yaxis": "y"
        },
        {
         "alignmentgroup": "True",
         "customdata": [
          [
           "northwest",
           6,
           1447,
           1588,
           1374,
           24753,
           1637,
           2,
           6815
          ]
         ],
         "hovertemplate": "State/UT=%{x}<br>Sleeping=%{y}<br>GEO_Region=%{customdata[0]}<br>R_ID=%{customdata[1]}<br>Overtake=%{customdata[2]}<br>AiIntake=%{customdata[3]}<br>LaneJump=%{customdata[4]}<br>Speeding=%{customdata[5]}<br>WrongSide=%{customdata[6]}<br>SignalAvoid=%{customdata[7]}<br>Others=%{customdata[8]}<extra></extra>",
         "legendgroup": "Rajasthan",
         "marker": {
          "color": "#EF553B",
          "pattern": {
           "shape": ""
          }
         },
         "name": "Rajasthan",
         "offsetgroup": "Rajasthan",
         "orientation": "v",
         "showlegend": true,
         "textposition": "auto",
         "type": "bar",
         "x": [
          "Rajasthan"
         ],
         "xaxis": "x",
         "y": [
          398
         ],
         "yaxis": "y"
        },
        {
         "alignmentgroup": "True",
         "customdata": [
          [
           "northeast",
           5,
           17,
           20,
           0,
           73,
           20,
           0,
           51
          ]
         ],
         "hovertemplate": "State/UT=%{x}<br>Sleeping=%{y}<br>GEO_Region=%{customdata[0]}<br>R_ID=%{customdata[1]}<br>Overtake=%{customdata[2]}<br>AiIntake=%{customdata[3]}<br>LaneJump=%{customdata[4]}<br>Speeding=%{customdata[5]}<br>WrongSide=%{customdata[6]}<br>SignalAvoid=%{customdata[7]}<br>Others=%{customdata[8]}<extra></extra>",
         "legendgroup": "Sikkim",
         "marker": {
          "color": "#00cc96",
          "pattern": {
           "shape": ""
          }
         },
         "name": "Sikkim",
         "offsetgroup": "Sikkim",
         "orientation": "v",
         "showlegend": true,
         "textposition": "auto",
         "type": "bar",
         "x": [
          "Sikkim"
         ],
         "xaxis": "x",
         "y": [
          0
         ],
         "yaxis": "y"
        },
        {
         "alignmentgroup": "True",
         "customdata": [
          [
           "south",
           2,
           9326,
           1947,
           4236,
           75859,
           4738,
           1455,
           11740
          ]
         ],
         "hovertemplate": "State/UT=%{x}<br>Sleeping=%{y}<br>GEO_Region=%{customdata[0]}<br>R_ID=%{customdata[1]}<br>Overtake=%{customdata[2]}<br>AiIntake=%{customdata[3]}<br>LaneJump=%{customdata[4]}<br>Speeding=%{customdata[5]}<br>WrongSide=%{customdata[6]}<br>SignalAvoid=%{customdata[7]}<br>Others=%{customdata[8]}<extra></extra>",
         "legendgroup": "Tamil Nadu",
         "marker": {
          "color": "#ab63fa",
          "pattern": {
           "shape": ""
          }
         },
         "name": "Tamil Nadu",
         "offsetgroup": "Tamil Nadu",
         "orientation": "v",
         "showlegend": true,
         "textposition": "auto",
         "type": "bar",
         "x": [
          "Tamil Nadu"
         ],
         "xaxis": "x",
         "y": [
          832
         ],
         "yaxis": "y"
        },
        {
         "alignmentgroup": "True",
         "customdata": [
          [
           "centre",
           9,
           1065,
           1170,
           269,
           19881,
           726,
           74,
           5366
          ]
         ],
         "hovertemplate": "State/UT=%{x}<br>Sleeping=%{y}<br>GEO_Region=%{customdata[0]}<br>R_ID=%{customdata[1]}<br>Overtake=%{customdata[2]}<br>AiIntake=%{customdata[3]}<br>LaneJump=%{customdata[4]}<br>Speeding=%{customdata[5]}<br>WrongSide=%{customdata[6]}<br>SignalAvoid=%{customdata[7]}<br>Others=%{customdata[8]}<extra></extra>",
         "legendgroup": "Telangana",
         "marker": {
          "color": "#FFA15A",
          "pattern": {
           "shape": ""
          }
         },
         "name": "Telangana",
         "offsetgroup": "Telangana",
         "orientation": "v",
         "showlegend": true,
         "textposition": "auto",
         "type": "bar",
         "x": [
          "Telangana"
         ],
         "xaxis": "x",
         "y": [
          171
         ],
         "yaxis": "y"
        },
        {
         "alignmentgroup": "True",
         "customdata": [
          [
           "east",
           3,
           56,
           17,
           7,
           912,
           44,
           1,
           28
          ]
         ],
         "hovertemplate": "State/UT=%{x}<br>Sleeping=%{y}<br>GEO_Region=%{customdata[0]}<br>R_ID=%{customdata[1]}<br>Overtake=%{customdata[2]}<br>AiIntake=%{customdata[3]}<br>LaneJump=%{customdata[4]}<br>Speeding=%{customdata[5]}<br>WrongSide=%{customdata[6]}<br>SignalAvoid=%{customdata[7]}<br>Others=%{customdata[8]}<extra></extra>",
         "legendgroup": "Tripura",
         "marker": {
          "color": "#19d3f3",
          "pattern": {
           "shape": ""
          }
         },
         "name": "Tripura",
         "offsetgroup": "Tripura",
         "orientation": "v",
         "showlegend": true,
         "textposition": "auto",
         "type": "bar",
         "x": [
          "Tripura"
         ],
         "xaxis": "x",
         "y": [
          0
         ],
         "yaxis": "y"
        },
        {
         "alignmentgroup": "True",
         "customdata": [
          [
           "north",
           1,
           147,
           548,
           69,
           830,
           204,
           7,
           142
          ]
         ],
         "hovertemplate": "State/UT=%{x}<br>Sleeping=%{y}<br>GEO_Region=%{customdata[0]}<br>R_ID=%{customdata[1]}<br>Overtake=%{customdata[2]}<br>AiIntake=%{customdata[3]}<br>LaneJump=%{customdata[4]}<br>Speeding=%{customdata[5]}<br>WrongSide=%{customdata[6]}<br>SignalAvoid=%{customdata[7]}<br>Others=%{customdata[8]}<extra></extra>",
         "legendgroup": "Uttarakhand",
         "marker": {
          "color": "#FF6692",
          "pattern": {
           "shape": ""
          }
         },
         "name": "Uttarakhand",
         "offsetgroup": "Uttarakhand",
         "orientation": "v",
         "showlegend": true,
         "textposition": "auto",
         "type": "bar",
         "x": [
          "Uttarakhand"
         ],
         "xaxis": "x",
         "y": [
          0
         ],
         "yaxis": "y"
        },
        {
         "alignmentgroup": "True",
         "customdata": [
          [
           "north",
           1,
           4329,
           5865,
           1485,
           12745,
           3323,
           747,
           6008
          ]
         ],
         "hovertemplate": "State/UT=%{x}<br>Sleeping=%{y}<br>GEO_Region=%{customdata[0]}<br>R_ID=%{customdata[1]}<br>Overtake=%{customdata[2]}<br>AiIntake=%{customdata[3]}<br>LaneJump=%{customdata[4]}<br>Speeding=%{customdata[5]}<br>WrongSide=%{customdata[6]}<br>SignalAvoid=%{customdata[7]}<br>Others=%{customdata[8]}<extra></extra>",
         "legendgroup": "Uttar Pradesh",
         "marker": {
          "color": "#B6E880",
          "pattern": {
           "shape": ""
          }
         },
         "name": "Uttar Pradesh",
         "offsetgroup": "Uttar Pradesh",
         "orientation": "v",
         "showlegend": true,
         "textposition": "auto",
         "type": "bar",
         "x": [
          "Uttar Pradesh"
         ],
         "xaxis": "x",
         "y": [
          1359
         ],
         "yaxis": "y"
        },
        {
         "alignmentgroup": "True",
         "customdata": [
          [
           "east",
           3,
           379,
           462,
           232,
           4812,
           298,
           196,
           8271
          ]
         ],
         "hovertemplate": "State/UT=%{x}<br>Sleeping=%{y}<br>GEO_Region=%{customdata[0]}<br>R_ID=%{customdata[1]}<br>Overtake=%{customdata[2]}<br>AiIntake=%{customdata[3]}<br>LaneJump=%{customdata[4]}<br>Speeding=%{customdata[5]}<br>WrongSide=%{customdata[6]}<br>SignalAvoid=%{customdata[7]}<br>Others=%{customdata[8]}<extra></extra>",
         "legendgroup": "West Bengal",
         "marker": {
          "color": "#FF97FF",
          "pattern": {
           "shape": ""
          }
         },
         "name": "West Bengal",
         "offsetgroup": "West Bengal",
         "orientation": "v",
         "showlegend": true,
         "textposition": "auto",
         "type": "bar",
         "x": [
          "West Bengal"
         ],
         "xaxis": "x",
         "y": [
          71
         ],
         "yaxis": "y"
        },
        {
         "alignmentgroup": "True",
         "customdata": [
          [
           "southeast",
           7,
           22,
           52,
           20,
           218,
           42,
           2,
           39
          ]
         ],
         "hovertemplate": "State/UT=%{x}<br>Sleeping=%{y}<br>GEO_Region=%{customdata[0]}<br>R_ID=%{customdata[1]}<br>Overtake=%{customdata[2]}<br>AiIntake=%{customdata[3]}<br>LaneJump=%{customdata[4]}<br>Speeding=%{customdata[5]}<br>WrongSide=%{customdata[6]}<br>SignalAvoid=%{customdata[7]}<br>Others=%{customdata[8]}<extra></extra>",
         "legendgroup": "A & N Islands",
         "marker": {
          "color": "#FECB52",
          "pattern": {
           "shape": ""
          }
         },
         "name": "A & N Islands",
         "offsetgroup": "A & N Islands",
         "orientation": "v",
         "showlegend": true,
         "textposition": "auto",
         "type": "bar",
         "x": [
          "A & N Islands"
         ],
         "xaxis": "x",
         "y": [
          0
         ],
         "yaxis": "y"
        },
        {
         "alignmentgroup": "True",
         "customdata": [
          [
           "north",
           1,
           83,
           20,
           30,
           540,
           34,
           10,
           14
          ]
         ],
         "hovertemplate": "State/UT=%{x}<br>Sleeping=%{y}<br>GEO_Region=%{customdata[0]}<br>R_ID=%{customdata[1]}<br>Overtake=%{customdata[2]}<br>AiIntake=%{customdata[3]}<br>LaneJump=%{customdata[4]}<br>Speeding=%{customdata[5]}<br>WrongSide=%{customdata[6]}<br>SignalAvoid=%{customdata[7]}<br>Others=%{customdata[8]}<extra></extra>",
         "legendgroup": "Chandigarh",
         "marker": {
          "color": "#636efa",
          "pattern": {
           "shape": ""
          }
         },
         "name": "Chandigarh",
         "offsetgroup": "Chandigarh",
         "orientation": "v",
         "showlegend": true,
         "textposition": "auto",
         "type": "bar",
         "x": [
          "Chandigarh"
         ],
         "xaxis": "x",
         "y": [
          0
         ],
         "yaxis": "y"
        },
        {
         "alignmentgroup": "True",
         "customdata": [
          [
           "west",
           4,
           5,
           1,
           0,
           29,
           5,
           0,
           69
          ]
         ],
         "hovertemplate": "State/UT=%{x}<br>Sleeping=%{y}<br>GEO_Region=%{customdata[0]}<br>R_ID=%{customdata[1]}<br>Overtake=%{customdata[2]}<br>AiIntake=%{customdata[3]}<br>LaneJump=%{customdata[4]}<br>Speeding=%{customdata[5]}<br>WrongSide=%{customdata[6]}<br>SignalAvoid=%{customdata[7]}<br>Others=%{customdata[8]}<extra></extra>",
         "legendgroup": "D & N Haveli",
         "marker": {
          "color": "#EF553B",
          "pattern": {
           "shape": ""
          }
         },
         "name": "D & N Haveli",
         "offsetgroup": "D & N Haveli",
         "orientation": "v",
         "showlegend": true,
         "textposition": "auto",
         "type": "bar",
         "x": [
          "D & N Haveli"
         ],
         "xaxis": "x",
         "y": [
          2
         ],
         "yaxis": "y"
        },
        {
         "alignmentgroup": "True",
         "customdata": [
          [
           "west",
           4,
           4,
           7,
           2,
           50,
           3,
           0,
           37
          ]
         ],
         "hovertemplate": "State/UT=%{x}<br>Sleeping=%{y}<br>GEO_Region=%{customdata[0]}<br>R_ID=%{customdata[1]}<br>Overtake=%{customdata[2]}<br>AiIntake=%{customdata[3]}<br>LaneJump=%{customdata[4]}<br>Speeding=%{customdata[5]}<br>WrongSide=%{customdata[6]}<br>SignalAvoid=%{customdata[7]}<br>Others=%{customdata[8]}<extra></extra>",
         "legendgroup": "Daman & Diu",
         "marker": {
          "color": "#00cc96",
          "pattern": {
           "shape": ""
          }
         },
         "name": "Daman & Diu",
         "offsetgroup": "Daman & Diu",
         "orientation": "v",
         "showlegend": true,
         "textposition": "auto",
         "type": "bar",
         "x": [
          "Daman & Diu"
         ],
         "xaxis": "x",
         "y": [
          1
         ],
         "yaxis": "y"
        },
        {
         "alignmentgroup": "True",
         "customdata": [
          [
           "north",
           1,
           211,
           215,
           129,
           7646.6,
           131,
           229,
           2838
          ]
         ],
         "hovertemplate": "State/UT=%{x}<br>Sleeping=%{y}<br>GEO_Region=%{customdata[0]}<br>R_ID=%{customdata[1]}<br>Overtake=%{customdata[2]}<br>AiIntake=%{customdata[3]}<br>LaneJump=%{customdata[4]}<br>Speeding=%{customdata[5]}<br>WrongSide=%{customdata[6]}<br>SignalAvoid=%{customdata[7]}<br>Others=%{customdata[8]}<extra></extra>",
         "legendgroup": "Delhi",
         "marker": {
          "color": "#ab63fa",
          "pattern": {
           "shape": ""
          }
         },
         "name": "Delhi",
         "offsetgroup": "Delhi",
         "orientation": "v",
         "showlegend": true,
         "textposition": "auto",
         "type": "bar",
         "x": [
          "Delhi"
         ],
         "xaxis": "x",
         "y": [
          0
         ],
         "yaxis": "y"
        },
        {
         "alignmentgroup": "True",
         "customdata": [
          [
           "southwest",
           8,
           0,
           0,
           0,
           1,
           0,
           0,
           0
          ]
         ],
         "hovertemplate": "State/UT=%{x}<br>Sleeping=%{y}<br>GEO_Region=%{customdata[0]}<br>R_ID=%{customdata[1]}<br>Overtake=%{customdata[2]}<br>AiIntake=%{customdata[3]}<br>LaneJump=%{customdata[4]}<br>Speeding=%{customdata[5]}<br>WrongSide=%{customdata[6]}<br>SignalAvoid=%{customdata[7]}<br>Others=%{customdata[8]}<extra></extra>",
         "legendgroup": "Lakshadweep",
         "marker": {
          "color": "#FFA15A",
          "pattern": {
           "shape": ""
          }
         },
         "name": "Lakshadweep",
         "offsetgroup": "Lakshadweep",
         "orientation": "v",
         "showlegend": true,
         "textposition": "auto",
         "type": "bar",
         "x": [
          "Lakshadweep"
         ],
         "xaxis": "x",
         "y": [
          0
         ],
         "yaxis": "y"
        },
        {
         "alignmentgroup": "True",
         "customdata": [
          [
           "south",
           2,
           207,
           155,
           0,
           1547,
           98,
           21,
           610
          ]
         ],
         "hovertemplate": "State/UT=%{x}<br>Sleeping=%{y}<br>GEO_Region=%{customdata[0]}<br>R_ID=%{customdata[1]}<br>Overtake=%{customdata[2]}<br>AiIntake=%{customdata[3]}<br>LaneJump=%{customdata[4]}<br>Speeding=%{customdata[5]}<br>WrongSide=%{customdata[6]}<br>SignalAvoid=%{customdata[7]}<br>Others=%{customdata[8]}<extra></extra>",
         "legendgroup": "Puducherry",
         "marker": {
          "color": "#19d3f3",
          "pattern": {
           "shape": ""
          }
         },
         "name": "Puducherry",
         "offsetgroup": "Puducherry",
         "orientation": "v",
         "showlegend": true,
         "textposition": "auto",
         "type": "bar",
         "x": [
          "Puducherry"
         ],
         "xaxis": "x",
         "y": [
          15
         ],
         "yaxis": "y"
        }
       ],
       "layout": {
        "annotations": [
         {
          "font": {
           "size": 12
          },
          "showarrow": false,
          "text": "The graph shows that Kerala has the highest accidents due to driver's sleep.",
          "x": 0,
          "xref": "paper",
          "y": 1,
          "yref": "paper"
         }
        ],
        "barmode": "relative",
        "legend": {
         "title": {
          "text": "State/UT"
         },
         "tracegroupgap": 0
        },
        "margin": {
         "t": 60
        },
        "template": {
         "data": {
          "bar": [
           {
            "error_x": {
             "color": "#2a3f5f"
            },
            "error_y": {
             "color": "#2a3f5f"
            },
            "marker": {
             "line": {
              "color": "#E5ECF6",
              "width": 0.5
             },
             "pattern": {
              "fillmode": "overlay",
              "size": 10,
              "solidity": 0.2
             }
            },
            "type": "bar"
           }
          ],
          "barpolar": [
           {
            "marker": {
             "line": {
              "color": "#E5ECF6",
              "width": 0.5
             },
             "pattern": {
              "fillmode": "overlay",
              "size": 10,
              "solidity": 0.2
             }
            },
            "type": "barpolar"
           }
          ],
          "carpet": [
           {
            "aaxis": {
             "endlinecolor": "#2a3f5f",
             "gridcolor": "white",
             "linecolor": "white",
             "minorgridcolor": "white",
             "startlinecolor": "#2a3f5f"
            },
            "baxis": {
             "endlinecolor": "#2a3f5f",
             "gridcolor": "white",
             "linecolor": "white",
             "minorgridcolor": "white",
             "startlinecolor": "#2a3f5f"
            },
            "type": "carpet"
           }
          ],
          "choropleth": [
           {
            "colorbar": {
             "outlinewidth": 0,
             "ticks": ""
            },
            "type": "choropleth"
           }
          ],
          "contour": [
           {
            "colorbar": {
             "outlinewidth": 0,
             "ticks": ""
            },
            "colorscale": [
             [
              0,
              "#0d0887"
             ],
             [
              0.1111111111111111,
              "#46039f"
             ],
             [
              0.2222222222222222,
              "#7201a8"
             ],
             [
              0.3333333333333333,
              "#9c179e"
             ],
             [
              0.4444444444444444,
              "#bd3786"
             ],
             [
              0.5555555555555556,
              "#d8576b"
             ],
             [
              0.6666666666666666,
              "#ed7953"
             ],
             [
              0.7777777777777778,
              "#fb9f3a"
             ],
             [
              0.8888888888888888,
              "#fdca26"
             ],
             [
              1,
              "#f0f921"
             ]
            ],
            "type": "contour"
           }
          ],
          "contourcarpet": [
           {
            "colorbar": {
             "outlinewidth": 0,
             "ticks": ""
            },
            "type": "contourcarpet"
           }
          ],
          "heatmap": [
           {
            "colorbar": {
             "outlinewidth": 0,
             "ticks": ""
            },
            "colorscale": [
             [
              0,
              "#0d0887"
             ],
             [
              0.1111111111111111,
              "#46039f"
             ],
             [
              0.2222222222222222,
              "#7201a8"
             ],
             [
              0.3333333333333333,
              "#9c179e"
             ],
             [
              0.4444444444444444,
              "#bd3786"
             ],
             [
              0.5555555555555556,
              "#d8576b"
             ],
             [
              0.6666666666666666,
              "#ed7953"
             ],
             [
              0.7777777777777778,
              "#fb9f3a"
             ],
             [
              0.8888888888888888,
              "#fdca26"
             ],
             [
              1,
              "#f0f921"
             ]
            ],
            "type": "heatmap"
           }
          ],
          "heatmapgl": [
           {
            "colorbar": {
             "outlinewidth": 0,
             "ticks": ""
            },
            "colorscale": [
             [
              0,
              "#0d0887"
             ],
             [
              0.1111111111111111,
              "#46039f"
             ],
             [
              0.2222222222222222,
              "#7201a8"
             ],
             [
              0.3333333333333333,
              "#9c179e"
             ],
             [
              0.4444444444444444,
              "#bd3786"
             ],
             [
              0.5555555555555556,
              "#d8576b"
             ],
             [
              0.6666666666666666,
              "#ed7953"
             ],
             [
              0.7777777777777778,
              "#fb9f3a"
             ],
             [
              0.8888888888888888,
              "#fdca26"
             ],
             [
              1,
              "#f0f921"
             ]
            ],
            "type": "heatmapgl"
           }
          ],
          "histogram": [
           {
            "marker": {
             "pattern": {
              "fillmode": "overlay",
              "size": 10,
              "solidity": 0.2
             }
            },
            "type": "histogram"
           }
          ],
          "histogram2d": [
           {
            "colorbar": {
             "outlinewidth": 0,
             "ticks": ""
            },
            "colorscale": [
             [
              0,
              "#0d0887"
             ],
             [
              0.1111111111111111,
              "#46039f"
             ],
             [
              0.2222222222222222,
              "#7201a8"
             ],
             [
              0.3333333333333333,
              "#9c179e"
             ],
             [
              0.4444444444444444,
              "#bd3786"
             ],
             [
              0.5555555555555556,
              "#d8576b"
             ],
             [
              0.6666666666666666,
              "#ed7953"
             ],
             [
              0.7777777777777778,
              "#fb9f3a"
             ],
             [
              0.8888888888888888,
              "#fdca26"
             ],
             [
              1,
              "#f0f921"
             ]
            ],
            "type": "histogram2d"
           }
          ],
          "histogram2dcontour": [
           {
            "colorbar": {
             "outlinewidth": 0,
             "ticks": ""
            },
            "colorscale": [
             [
              0,
              "#0d0887"
             ],
             [
              0.1111111111111111,
              "#46039f"
             ],
             [
              0.2222222222222222,
              "#7201a8"
             ],
             [
              0.3333333333333333,
              "#9c179e"
             ],
             [
              0.4444444444444444,
              "#bd3786"
             ],
             [
              0.5555555555555556,
              "#d8576b"
             ],
             [
              0.6666666666666666,
              "#ed7953"
             ],
             [
              0.7777777777777778,
              "#fb9f3a"
             ],
             [
              0.8888888888888888,
              "#fdca26"
             ],
             [
              1,
              "#f0f921"
             ]
            ],
            "type": "histogram2dcontour"
           }
          ],
          "mesh3d": [
           {
            "colorbar": {
             "outlinewidth": 0,
             "ticks": ""
            },
            "type": "mesh3d"
           }
          ],
          "parcoords": [
           {
            "line": {
             "colorbar": {
              "outlinewidth": 0,
              "ticks": ""
             }
            },
            "type": "parcoords"
           }
          ],
          "pie": [
           {
            "automargin": true,
            "type": "pie"
           }
          ],
          "scatter": [
           {
            "fillpattern": {
             "fillmode": "overlay",
             "size": 10,
             "solidity": 0.2
            },
            "type": "scatter"
           }
          ],
          "scatter3d": [
           {
            "line": {
             "colorbar": {
              "outlinewidth": 0,
              "ticks": ""
             }
            },
            "marker": {
             "colorbar": {
              "outlinewidth": 0,
              "ticks": ""
             }
            },
            "type": "scatter3d"
           }
          ],
          "scattercarpet": [
           {
            "marker": {
             "colorbar": {
              "outlinewidth": 0,
              "ticks": ""
             }
            },
            "type": "scattercarpet"
           }
          ],
          "scattergeo": [
           {
            "marker": {
             "colorbar": {
              "outlinewidth": 0,
              "ticks": ""
             }
            },
            "type": "scattergeo"
           }
          ],
          "scattergl": [
           {
            "marker": {
             "colorbar": {
              "outlinewidth": 0,
              "ticks": ""
             }
            },
            "type": "scattergl"
           }
          ],
          "scattermapbox": [
           {
            "marker": {
             "colorbar": {
              "outlinewidth": 0,
              "ticks": ""
             }
            },
            "type": "scattermapbox"
           }
          ],
          "scatterpolar": [
           {
            "marker": {
             "colorbar": {
              "outlinewidth": 0,
              "ticks": ""
             }
            },
            "type": "scatterpolar"
           }
          ],
          "scatterpolargl": [
           {
            "marker": {
             "colorbar": {
              "outlinewidth": 0,
              "ticks": ""
             }
            },
            "type": "scatterpolargl"
           }
          ],
          "scatterternary": [
           {
            "marker": {
             "colorbar": {
              "outlinewidth": 0,
              "ticks": ""
             }
            },
            "type": "scatterternary"
           }
          ],
          "surface": [
           {
            "colorbar": {
             "outlinewidth": 0,
             "ticks": ""
            },
            "colorscale": [
             [
              0,
              "#0d0887"
             ],
             [
              0.1111111111111111,
              "#46039f"
             ],
             [
              0.2222222222222222,
              "#7201a8"
             ],
             [
              0.3333333333333333,
              "#9c179e"
             ],
             [
              0.4444444444444444,
              "#bd3786"
             ],
             [
              0.5555555555555556,
              "#d8576b"
             ],
             [
              0.6666666666666666,
              "#ed7953"
             ],
             [
              0.7777777777777778,
              "#fb9f3a"
             ],
             [
              0.8888888888888888,
              "#fdca26"
             ],
             [
              1,
              "#f0f921"
             ]
            ],
            "type": "surface"
           }
          ],
          "table": [
           {
            "cells": {
             "fill": {
              "color": "#EBF0F8"
             },
             "line": {
              "color": "white"
             }
            },
            "header": {
             "fill": {
              "color": "#C8D4E3"
             },
             "line": {
              "color": "white"
             }
            },
            "type": "table"
           }
          ]
         },
         "layout": {
          "annotationdefaults": {
           "arrowcolor": "#2a3f5f",
           "arrowhead": 0,
           "arrowwidth": 1
          },
          "autotypenumbers": "strict",
          "coloraxis": {
           "colorbar": {
            "outlinewidth": 0,
            "ticks": ""
           }
          },
          "colorscale": {
           "diverging": [
            [
             0,
             "#8e0152"
            ],
            [
             0.1,
             "#c51b7d"
            ],
            [
             0.2,
             "#de77ae"
            ],
            [
             0.3,
             "#f1b6da"
            ],
            [
             0.4,
             "#fde0ef"
            ],
            [
             0.5,
             "#f7f7f7"
            ],
            [
             0.6,
             "#e6f5d0"
            ],
            [
             0.7,
             "#b8e186"
            ],
            [
             0.8,
             "#7fbc41"
            ],
            [
             0.9,
             "#4d9221"
            ],
            [
             1,
             "#276419"
            ]
           ],
           "sequential": [
            [
             0,
             "#0d0887"
            ],
            [
             0.1111111111111111,
             "#46039f"
            ],
            [
             0.2222222222222222,
             "#7201a8"
            ],
            [
             0.3333333333333333,
             "#9c179e"
            ],
            [
             0.4444444444444444,
             "#bd3786"
            ],
            [
             0.5555555555555556,
             "#d8576b"
            ],
            [
             0.6666666666666666,
             "#ed7953"
            ],
            [
             0.7777777777777778,
             "#fb9f3a"
            ],
            [
             0.8888888888888888,
             "#fdca26"
            ],
            [
             1,
             "#f0f921"
            ]
           ],
           "sequentialminus": [
            [
             0,
             "#0d0887"
            ],
            [
             0.1111111111111111,
             "#46039f"
            ],
            [
             0.2222222222222222,
             "#7201a8"
            ],
            [
             0.3333333333333333,
             "#9c179e"
            ],
            [
             0.4444444444444444,
             "#bd3786"
            ],
            [
             0.5555555555555556,
             "#d8576b"
            ],
            [
             0.6666666666666666,
             "#ed7953"
            ],
            [
             0.7777777777777778,
             "#fb9f3a"
            ],
            [
             0.8888888888888888,
             "#fdca26"
            ],
            [
             1,
             "#f0f921"
            ]
           ]
          },
          "colorway": [
           "#636efa",
           "#EF553B",
           "#00cc96",
           "#ab63fa",
           "#FFA15A",
           "#19d3f3",
           "#FF6692",
           "#B6E880",
           "#FF97FF",
           "#FECB52"
          ],
          "font": {
           "color": "#2a3f5f"
          },
          "geo": {
           "bgcolor": "white",
           "lakecolor": "white",
           "landcolor": "#E5ECF6",
           "showlakes": true,
           "showland": true,
           "subunitcolor": "white"
          },
          "hoverlabel": {
           "align": "left"
          },
          "hovermode": "closest",
          "mapbox": {
           "style": "light"
          },
          "paper_bgcolor": "white",
          "plot_bgcolor": "#E5ECF6",
          "polar": {
           "angularaxis": {
            "gridcolor": "white",
            "linecolor": "white",
            "ticks": ""
           },
           "bgcolor": "#E5ECF6",
           "radialaxis": {
            "gridcolor": "white",
            "linecolor": "white",
            "ticks": ""
           }
          },
          "scene": {
           "xaxis": {
            "backgroundcolor": "#E5ECF6",
            "gridcolor": "white",
            "gridwidth": 2,
            "linecolor": "white",
            "showbackground": true,
            "ticks": "",
            "zerolinecolor": "white"
           },
           "yaxis": {
            "backgroundcolor": "#E5ECF6",
            "gridcolor": "white",
            "gridwidth": 2,
            "linecolor": "white",
            "showbackground": true,
            "ticks": "",
            "zerolinecolor": "white"
           },
           "zaxis": {
            "backgroundcolor": "#E5ECF6",
            "gridcolor": "white",
            "gridwidth": 2,
            "linecolor": "white",
            "showbackground": true,
            "ticks": "",
            "zerolinecolor": "white"
           }
          },
          "shapedefaults": {
           "line": {
            "color": "#2a3f5f"
           }
          },
          "ternary": {
           "aaxis": {
            "gridcolor": "white",
            "linecolor": "white",
            "ticks": ""
           },
           "baxis": {
            "gridcolor": "white",
            "linecolor": "white",
            "ticks": ""
           },
           "bgcolor": "#E5ECF6",
           "caxis": {
            "gridcolor": "white",
            "linecolor": "white",
            "ticks": ""
           }
          },
          "title": {
           "x": 0.05
          },
          "xaxis": {
           "automargin": true,
           "gridcolor": "white",
           "linecolor": "white",
           "ticks": "",
           "title": {
            "standoff": 15
           },
           "zerolinecolor": "white",
           "zerolinewidth": 2
          },
          "yaxis": {
           "automargin": true,
           "gridcolor": "white",
           "linecolor": "white",
           "ticks": "",
           "title": {
            "standoff": 15
           },
           "zerolinecolor": "white",
           "zerolinewidth": 2
          }
         }
        },
        "xaxis": {
         "anchor": "y",
         "categoryarray": [
          "Andhra Pradesh",
          "Arunachal Pradesh",
          "Assam",
          "Bihar",
          "Chhattisgarh",
          "Goa",
          "Gujarat",
          "Haryana",
          "Himachal Pradesh",
          "Jammu & Kashmir",
          "Jharkhand",
          "Karnataka",
          "Kerala",
          "Madhya Pradesh",
          "Maharashtra",
          "Manipur",
          "Meghalaya",
          "Mizoram",
          "Nagaland",
          "Orissa",
          "Punjab",
          "Rajasthan",
          "Sikkim",
          "Tamil Nadu",
          "Telangana",
          "Tripura",
          "Uttarakhand",
          "Uttar Pradesh",
          "West Bengal",
          "A & N Islands",
          "Chandigarh",
          "D & N Haveli",
          "Daman & Diu",
          "Delhi",
          "Lakshadweep",
          "Puducherry"
         ],
         "categoryorder": "array",
         "domain": [
          0,
          1
         ],
         "title": {
          "text": "State/UT"
         }
        },
        "yaxis": {
         "anchor": "x",
         "domain": [
          0,
          1
         ],
         "title": {
          "text": "Sleeping"
         }
        }
       }
      }
     },
     "metadata": {},
     "output_type": "display_data"
    }
   ],
   "source": [
    "# state wise sleeping in violin plot\n",
    "fig = px.bar(driver_response, y=\"Sleeping\", x=\"State/UT\", color=\"State/UT\",hover_data=driver_response.columns)\n",
    "conclusion = \"The graph shows that Kerala has the highest accidents due to driver's sleep.\"\n",
    "fig.add_annotation(text=conclusion, xref='paper', yref='paper', x=0, y=1, showarrow=False, font=dict(size=12))\n",
    "fig.show()"
   ]
  },
  {
   "cell_type": "code",
   "execution_count": 16,
   "metadata": {},
   "outputs": [
    {
     "data": {
      "application/vnd.plotly.v1+json": {
       "config": {
        "plotlyServerURL": "https://plot.ly"
       },
       "data": [
        {
         "hovertemplate": "variable=Overtake<br>State/UT=%{x}<br>value=%{y}<extra></extra>",
         "legendgroup": "Overtake",
         "marker": {
          "color": "#636efa"
         },
         "name": "Overtake",
         "orientation": "v",
         "showlegend": true,
         "type": "funnel",
         "x": [
          "Lakshadweep",
          "D & N Haveli",
          "Daman & Diu",
          "Manipur",
          "Arunachal Pradesh",
          "Mizoram",
          "Nagaland",
          "Sikkim",
          "Meghalaya",
          "A & N Islands",
          "Chandigarh",
          "Uttarakhand",
          "Tripura",
          "Puducherry",
          "Jharkhand",
          "Himachal Pradesh",
          "Bihar",
          "Punjab",
          "West Bengal",
          "Jammu & Kashmir",
          "Haryana",
          "Goa",
          "Delhi",
          "Assam",
          "Orissa",
          "Uttar Pradesh",
          "Chhattisgarh",
          "Telangana",
          "Rajasthan",
          "Gujarat",
          "Andhra Pradesh",
          "Madhya Pradesh",
          "Maharashtra",
          "Kerala",
          "Karnataka",
          "Tamil Nadu"
         ],
         "xaxis": "x",
         "y": [
          0,
          5,
          4,
          46,
          8,
          30,
          0,
          17,
          0,
          22,
          83,
          147,
          56,
          207,
          223,
          216,
          851,
          645,
          379,
          85,
          1340,
          113,
          211,
          500,
          1530,
          4329,
          655,
          1065,
          1447,
          1657,
          1531,
          5256,
          3570,
          3392,
          1963,
          9326
         ],
         "yaxis": "y"
        },
        {
         "hovertemplate": "variable=Sleeping<br>State/UT=%{x}<br>value=%{y}<extra></extra>",
         "legendgroup": "Sleeping",
         "marker": {
          "color": "#EF553B"
         },
         "name": "Sleeping",
         "orientation": "v",
         "showlegend": true,
         "type": "funnel",
         "x": [
          "Lakshadweep",
          "D & N Haveli",
          "Daman & Diu",
          "Manipur",
          "Arunachal Pradesh",
          "Mizoram",
          "Nagaland",
          "Sikkim",
          "Meghalaya",
          "A & N Islands",
          "Chandigarh",
          "Uttarakhand",
          "Tripura",
          "Puducherry",
          "Jharkhand",
          "Himachal Pradesh",
          "Bihar",
          "Punjab",
          "West Bengal",
          "Jammu & Kashmir",
          "Haryana",
          "Goa",
          "Delhi",
          "Assam",
          "Orissa",
          "Uttar Pradesh",
          "Chhattisgarh",
          "Telangana",
          "Rajasthan",
          "Gujarat",
          "Andhra Pradesh",
          "Madhya Pradesh",
          "Maharashtra",
          "Kerala",
          "Karnataka",
          "Tamil Nadu"
         ],
         "xaxis": "x",
         "y": [
          0,
          2,
          1,
          30,
          8,
          7,
          0,
          0,
          0,
          0,
          0,
          0,
          0,
          15,
          6,
          0,
          194,
          51,
          71,
          0,
          616,
          8,
          0,
          6,
          241,
          1359,
          225,
          171,
          398,
          251,
          460,
          767,
          507,
          1454,
          185,
          832
         ],
         "yaxis": "y"
        }
       ],
       "layout": {
        "legend": {
         "title": {
          "text": "variable"
         },
         "tracegroupgap": 0
        },
        "margin": {
         "t": 60
        },
        "template": {
         "data": {
          "bar": [
           {
            "error_x": {
             "color": "#2a3f5f"
            },
            "error_y": {
             "color": "#2a3f5f"
            },
            "marker": {
             "line": {
              "color": "#E5ECF6",
              "width": 0.5
             },
             "pattern": {
              "fillmode": "overlay",
              "size": 10,
              "solidity": 0.2
             }
            },
            "type": "bar"
           }
          ],
          "barpolar": [
           {
            "marker": {
             "line": {
              "color": "#E5ECF6",
              "width": 0.5
             },
             "pattern": {
              "fillmode": "overlay",
              "size": 10,
              "solidity": 0.2
             }
            },
            "type": "barpolar"
           }
          ],
          "carpet": [
           {
            "aaxis": {
             "endlinecolor": "#2a3f5f",
             "gridcolor": "white",
             "linecolor": "white",
             "minorgridcolor": "white",
             "startlinecolor": "#2a3f5f"
            },
            "baxis": {
             "endlinecolor": "#2a3f5f",
             "gridcolor": "white",
             "linecolor": "white",
             "minorgridcolor": "white",
             "startlinecolor": "#2a3f5f"
            },
            "type": "carpet"
           }
          ],
          "choropleth": [
           {
            "colorbar": {
             "outlinewidth": 0,
             "ticks": ""
            },
            "type": "choropleth"
           }
          ],
          "contour": [
           {
            "colorbar": {
             "outlinewidth": 0,
             "ticks": ""
            },
            "colorscale": [
             [
              0,
              "#0d0887"
             ],
             [
              0.1111111111111111,
              "#46039f"
             ],
             [
              0.2222222222222222,
              "#7201a8"
             ],
             [
              0.3333333333333333,
              "#9c179e"
             ],
             [
              0.4444444444444444,
              "#bd3786"
             ],
             [
              0.5555555555555556,
              "#d8576b"
             ],
             [
              0.6666666666666666,
              "#ed7953"
             ],
             [
              0.7777777777777778,
              "#fb9f3a"
             ],
             [
              0.8888888888888888,
              "#fdca26"
             ],
             [
              1,
              "#f0f921"
             ]
            ],
            "type": "contour"
           }
          ],
          "contourcarpet": [
           {
            "colorbar": {
             "outlinewidth": 0,
             "ticks": ""
            },
            "type": "contourcarpet"
           }
          ],
          "heatmap": [
           {
            "colorbar": {
             "outlinewidth": 0,
             "ticks": ""
            },
            "colorscale": [
             [
              0,
              "#0d0887"
             ],
             [
              0.1111111111111111,
              "#46039f"
             ],
             [
              0.2222222222222222,
              "#7201a8"
             ],
             [
              0.3333333333333333,
              "#9c179e"
             ],
             [
              0.4444444444444444,
              "#bd3786"
             ],
             [
              0.5555555555555556,
              "#d8576b"
             ],
             [
              0.6666666666666666,
              "#ed7953"
             ],
             [
              0.7777777777777778,
              "#fb9f3a"
             ],
             [
              0.8888888888888888,
              "#fdca26"
             ],
             [
              1,
              "#f0f921"
             ]
            ],
            "type": "heatmap"
           }
          ],
          "heatmapgl": [
           {
            "colorbar": {
             "outlinewidth": 0,
             "ticks": ""
            },
            "colorscale": [
             [
              0,
              "#0d0887"
             ],
             [
              0.1111111111111111,
              "#46039f"
             ],
             [
              0.2222222222222222,
              "#7201a8"
             ],
             [
              0.3333333333333333,
              "#9c179e"
             ],
             [
              0.4444444444444444,
              "#bd3786"
             ],
             [
              0.5555555555555556,
              "#d8576b"
             ],
             [
              0.6666666666666666,
              "#ed7953"
             ],
             [
              0.7777777777777778,
              "#fb9f3a"
             ],
             [
              0.8888888888888888,
              "#fdca26"
             ],
             [
              1,
              "#f0f921"
             ]
            ],
            "type": "heatmapgl"
           }
          ],
          "histogram": [
           {
            "marker": {
             "pattern": {
              "fillmode": "overlay",
              "size": 10,
              "solidity": 0.2
             }
            },
            "type": "histogram"
           }
          ],
          "histogram2d": [
           {
            "colorbar": {
             "outlinewidth": 0,
             "ticks": ""
            },
            "colorscale": [
             [
              0,
              "#0d0887"
             ],
             [
              0.1111111111111111,
              "#46039f"
             ],
             [
              0.2222222222222222,
              "#7201a8"
             ],
             [
              0.3333333333333333,
              "#9c179e"
             ],
             [
              0.4444444444444444,
              "#bd3786"
             ],
             [
              0.5555555555555556,
              "#d8576b"
             ],
             [
              0.6666666666666666,
              "#ed7953"
             ],
             [
              0.7777777777777778,
              "#fb9f3a"
             ],
             [
              0.8888888888888888,
              "#fdca26"
             ],
             [
              1,
              "#f0f921"
             ]
            ],
            "type": "histogram2d"
           }
          ],
          "histogram2dcontour": [
           {
            "colorbar": {
             "outlinewidth": 0,
             "ticks": ""
            },
            "colorscale": [
             [
              0,
              "#0d0887"
             ],
             [
              0.1111111111111111,
              "#46039f"
             ],
             [
              0.2222222222222222,
              "#7201a8"
             ],
             [
              0.3333333333333333,
              "#9c179e"
             ],
             [
              0.4444444444444444,
              "#bd3786"
             ],
             [
              0.5555555555555556,
              "#d8576b"
             ],
             [
              0.6666666666666666,
              "#ed7953"
             ],
             [
              0.7777777777777778,
              "#fb9f3a"
             ],
             [
              0.8888888888888888,
              "#fdca26"
             ],
             [
              1,
              "#f0f921"
             ]
            ],
            "type": "histogram2dcontour"
           }
          ],
          "mesh3d": [
           {
            "colorbar": {
             "outlinewidth": 0,
             "ticks": ""
            },
            "type": "mesh3d"
           }
          ],
          "parcoords": [
           {
            "line": {
             "colorbar": {
              "outlinewidth": 0,
              "ticks": ""
             }
            },
            "type": "parcoords"
           }
          ],
          "pie": [
           {
            "automargin": true,
            "type": "pie"
           }
          ],
          "scatter": [
           {
            "fillpattern": {
             "fillmode": "overlay",
             "size": 10,
             "solidity": 0.2
            },
            "type": "scatter"
           }
          ],
          "scatter3d": [
           {
            "line": {
             "colorbar": {
              "outlinewidth": 0,
              "ticks": ""
             }
            },
            "marker": {
             "colorbar": {
              "outlinewidth": 0,
              "ticks": ""
             }
            },
            "type": "scatter3d"
           }
          ],
          "scattercarpet": [
           {
            "marker": {
             "colorbar": {
              "outlinewidth": 0,
              "ticks": ""
             }
            },
            "type": "scattercarpet"
           }
          ],
          "scattergeo": [
           {
            "marker": {
             "colorbar": {
              "outlinewidth": 0,
              "ticks": ""
             }
            },
            "type": "scattergeo"
           }
          ],
          "scattergl": [
           {
            "marker": {
             "colorbar": {
              "outlinewidth": 0,
              "ticks": ""
             }
            },
            "type": "scattergl"
           }
          ],
          "scattermapbox": [
           {
            "marker": {
             "colorbar": {
              "outlinewidth": 0,
              "ticks": ""
             }
            },
            "type": "scattermapbox"
           }
          ],
          "scatterpolar": [
           {
            "marker": {
             "colorbar": {
              "outlinewidth": 0,
              "ticks": ""
             }
            },
            "type": "scatterpolar"
           }
          ],
          "scatterpolargl": [
           {
            "marker": {
             "colorbar": {
              "outlinewidth": 0,
              "ticks": ""
             }
            },
            "type": "scatterpolargl"
           }
          ],
          "scatterternary": [
           {
            "marker": {
             "colorbar": {
              "outlinewidth": 0,
              "ticks": ""
             }
            },
            "type": "scatterternary"
           }
          ],
          "surface": [
           {
            "colorbar": {
             "outlinewidth": 0,
             "ticks": ""
            },
            "colorscale": [
             [
              0,
              "#0d0887"
             ],
             [
              0.1111111111111111,
              "#46039f"
             ],
             [
              0.2222222222222222,
              "#7201a8"
             ],
             [
              0.3333333333333333,
              "#9c179e"
             ],
             [
              0.4444444444444444,
              "#bd3786"
             ],
             [
              0.5555555555555556,
              "#d8576b"
             ],
             [
              0.6666666666666666,
              "#ed7953"
             ],
             [
              0.7777777777777778,
              "#fb9f3a"
             ],
             [
              0.8888888888888888,
              "#fdca26"
             ],
             [
              1,
              "#f0f921"
             ]
            ],
            "type": "surface"
           }
          ],
          "table": [
           {
            "cells": {
             "fill": {
              "color": "#EBF0F8"
             },
             "line": {
              "color": "white"
             }
            },
            "header": {
             "fill": {
              "color": "#C8D4E3"
             },
             "line": {
              "color": "white"
             }
            },
            "type": "table"
           }
          ]
         },
         "layout": {
          "annotationdefaults": {
           "arrowcolor": "#2a3f5f",
           "arrowhead": 0,
           "arrowwidth": 1
          },
          "autotypenumbers": "strict",
          "coloraxis": {
           "colorbar": {
            "outlinewidth": 0,
            "ticks": ""
           }
          },
          "colorscale": {
           "diverging": [
            [
             0,
             "#8e0152"
            ],
            [
             0.1,
             "#c51b7d"
            ],
            [
             0.2,
             "#de77ae"
            ],
            [
             0.3,
             "#f1b6da"
            ],
            [
             0.4,
             "#fde0ef"
            ],
            [
             0.5,
             "#f7f7f7"
            ],
            [
             0.6,
             "#e6f5d0"
            ],
            [
             0.7,
             "#b8e186"
            ],
            [
             0.8,
             "#7fbc41"
            ],
            [
             0.9,
             "#4d9221"
            ],
            [
             1,
             "#276419"
            ]
           ],
           "sequential": [
            [
             0,
             "#0d0887"
            ],
            [
             0.1111111111111111,
             "#46039f"
            ],
            [
             0.2222222222222222,
             "#7201a8"
            ],
            [
             0.3333333333333333,
             "#9c179e"
            ],
            [
             0.4444444444444444,
             "#bd3786"
            ],
            [
             0.5555555555555556,
             "#d8576b"
            ],
            [
             0.6666666666666666,
             "#ed7953"
            ],
            [
             0.7777777777777778,
             "#fb9f3a"
            ],
            [
             0.8888888888888888,
             "#fdca26"
            ],
            [
             1,
             "#f0f921"
            ]
           ],
           "sequentialminus": [
            [
             0,
             "#0d0887"
            ],
            [
             0.1111111111111111,
             "#46039f"
            ],
            [
             0.2222222222222222,
             "#7201a8"
            ],
            [
             0.3333333333333333,
             "#9c179e"
            ],
            [
             0.4444444444444444,
             "#bd3786"
            ],
            [
             0.5555555555555556,
             "#d8576b"
            ],
            [
             0.6666666666666666,
             "#ed7953"
            ],
            [
             0.7777777777777778,
             "#fb9f3a"
            ],
            [
             0.8888888888888888,
             "#fdca26"
            ],
            [
             1,
             "#f0f921"
            ]
           ]
          },
          "colorway": [
           "#636efa",
           "#EF553B",
           "#00cc96",
           "#ab63fa",
           "#FFA15A",
           "#19d3f3",
           "#FF6692",
           "#B6E880",
           "#FF97FF",
           "#FECB52"
          ],
          "font": {
           "color": "#2a3f5f"
          },
          "geo": {
           "bgcolor": "white",
           "lakecolor": "white",
           "landcolor": "#E5ECF6",
           "showlakes": true,
           "showland": true,
           "subunitcolor": "white"
          },
          "hoverlabel": {
           "align": "left"
          },
          "hovermode": "closest",
          "mapbox": {
           "style": "light"
          },
          "paper_bgcolor": "white",
          "plot_bgcolor": "#E5ECF6",
          "polar": {
           "angularaxis": {
            "gridcolor": "white",
            "linecolor": "white",
            "ticks": ""
           },
           "bgcolor": "#E5ECF6",
           "radialaxis": {
            "gridcolor": "white",
            "linecolor": "white",
            "ticks": ""
           }
          },
          "scene": {
           "xaxis": {
            "backgroundcolor": "#E5ECF6",
            "gridcolor": "white",
            "gridwidth": 2,
            "linecolor": "white",
            "showbackground": true,
            "ticks": "",
            "zerolinecolor": "white"
           },
           "yaxis": {
            "backgroundcolor": "#E5ECF6",
            "gridcolor": "white",
            "gridwidth": 2,
            "linecolor": "white",
            "showbackground": true,
            "ticks": "",
            "zerolinecolor": "white"
           },
           "zaxis": {
            "backgroundcolor": "#E5ECF6",
            "gridcolor": "white",
            "gridwidth": 2,
            "linecolor": "white",
            "showbackground": true,
            "ticks": "",
            "zerolinecolor": "white"
           }
          },
          "shapedefaults": {
           "line": {
            "color": "#2a3f5f"
           }
          },
          "ternary": {
           "aaxis": {
            "gridcolor": "white",
            "linecolor": "white",
            "ticks": ""
           },
           "baxis": {
            "gridcolor": "white",
            "linecolor": "white",
            "ticks": ""
           },
           "bgcolor": "#E5ECF6",
           "caxis": {
            "gridcolor": "white",
            "linecolor": "white",
            "ticks": ""
           }
          },
          "title": {
           "x": 0.05
          },
          "xaxis": {
           "automargin": true,
           "gridcolor": "white",
           "linecolor": "white",
           "ticks": "",
           "title": {
            "standoff": 15
           },
           "zerolinecolor": "white",
           "zerolinewidth": 2
          },
          "yaxis": {
           "automargin": true,
           "gridcolor": "white",
           "linecolor": "white",
           "ticks": "",
           "title": {
            "standoff": 15
           },
           "zerolinecolor": "white",
           "zerolinewidth": 2
          }
         }
        },
        "xaxis": {
         "anchor": "y",
         "domain": [
          0,
          1
         ],
         "title": {
          "text": "State/UT"
         }
        },
        "yaxis": {
         "anchor": "x",
         "domain": [
          0,
          1
         ],
         "title": {
          "text": "value"
         }
        }
       }
      }
     },
     "metadata": {},
     "output_type": "display_data"
    }
   ],
   "source": [
    "px.funnel(driver_response.sort_values('Speeding'), x='State/UT', y=['Overtake', 'Sleeping'])"
   ]
  },
  {
   "cell_type": "code",
   "execution_count": 17,
   "metadata": {},
   "outputs": [
    {
     "data": {
      "application/vnd.plotly.v1+json": {
       "config": {
        "plotlyServerURL": "https://plot.ly"
       },
       "data": [
        {
         "dimensions": [
          {
           "label": "R_ID",
           "values": [
            2,
            5,
            5,
            1,
            9,
            4,
            4,
            1,
            1,
            1,
            9,
            2,
            2,
            9,
            4,
            5,
            5,
            3,
            5,
            9,
            1,
            6,
            5,
            2,
            9,
            3,
            1,
            1,
            3,
            7,
            1,
            4,
            4,
            1,
            8,
            2
           ]
          },
          {
           "label": "Overtake",
           "values": [
            1531,
            8,
            500,
            851,
            655,
            113,
            1657,
            1340,
            216,
            85,
            223,
            1963,
            3392,
            5256,
            3570,
            46,
            0,
            30,
            0,
            1530,
            645,
            1447,
            17,
            9326,
            1065,
            56,
            147,
            4329,
            379,
            22,
            83,
            5,
            4,
            211,
            0,
            207
           ]
          },
          {
           "label": "AiIntake",
           "values": [
            722,
            26,
            965,
            2273,
            480,
            12,
            106,
            1624,
            146,
            435,
            1154,
            2603,
            168,
            6623,
            1477,
            71,
            60,
            43,
            104,
            1892,
            759,
            1588,
            20,
            1947,
            1170,
            17,
            548,
            5865,
            462,
            52,
            20,
            1,
            7,
            215,
            0,
            155
           ]
          },
          {
           "label": "LaneJump",
           "values": [
            653,
            11,
            260,
            392,
            488,
            8,
            1032,
            869,
            88,
            31,
            259,
            747,
            1299,
            2183,
            1662,
            0,
            0,
            0,
            0,
            474,
            405,
            1374,
            0,
            4236,
            269,
            7,
            69,
            1485,
            232,
            20,
            30,
            0,
            2,
            129,
            0,
            0
           ]
          },
          {
           "label": "Sleeping",
           "values": [
            460,
            8,
            6,
            194,
            225,
            8,
            251,
            616,
            0,
            0,
            6,
            185,
            1454,
            767,
            507,
            30,
            0,
            7,
            0,
            241,
            51,
            398,
            0,
            832,
            171,
            0,
            0,
            1359,
            71,
            0,
            0,
            2,
            1,
            0,
            0,
            15
           ]
          },
          {
           "label": "Speeding",
           "values": [
            30033,
            61,
            8116,
            3819,
            13380,
            7031,
            27066,
            6529,
            3279,
            5287,
            2279,
            54876,
            54673,
            48984,
            53433,
            57,
            186,
            62,
            62,
            8683,
            4770,
            24753,
            73,
            75859,
            19881,
            912,
            830,
            12745,
            4812,
            218,
            540,
            29,
            50,
            7646.6,
            1,
            1547
           ]
          },
          {
           "label": "WrongSide",
           "values": [
            1335,
            7,
            490,
            766,
            676,
            80,
            1127,
            1306,
            64,
            72,
            390,
            1777,
            2392,
            2232,
            2718,
            39,
            0,
            3,
            26,
            1084,
            639,
            1637,
            20,
            4738,
            726,
            44,
            204,
            3323,
            298,
            42,
            34,
            5,
            3,
            131,
            0,
            98
           ]
          },
          {
           "label": "SignalAvoid",
           "values": [
            69,
            0,
            71,
            15,
            72,
            0,
            312,
            685,
            0,
            0,
            38,
            327,
            498,
            500,
            106,
            0,
            0,
            0,
            0,
            189,
            197,
            2,
            0,
            1455,
            74,
            1,
            7,
            747,
            196,
            2,
            10,
            0,
            0,
            229,
            0,
            21
           ]
          },
          {
           "label": "Others",
           "values": [
            4806,
            40,
            1501,
            1051,
            1473,
            406,
            1187,
            1502,
            1392,
            948,
            25,
            9655,
            136,
            8719,
            9420,
            66,
            0,
            39,
            70,
            1701,
            651,
            6815,
            51,
            11740,
            5366,
            28,
            142,
            6008,
            8271,
            39,
            14,
            69,
            37,
            2838,
            0,
            610
           ]
          }
         ],
         "domain": {
          "x": [
           0,
           1
          ],
          "y": [
           0,
           1
          ]
         },
         "line": {
          "color": [
           460,
           8,
           6,
           194,
           225,
           8,
           251,
           616,
           0,
           0,
           6,
           185,
           1454,
           767,
           507,
           30,
           0,
           7,
           0,
           241,
           51,
           398,
           0,
           832,
           171,
           0,
           0,
           1359,
           71,
           0,
           0,
           2,
           1,
           0,
           0,
           15
          ],
          "coloraxis": "coloraxis"
         },
         "name": "",
         "type": "parcoords"
        }
       ],
       "layout": {
        "coloraxis": {
         "colorbar": {
          "title": {
           "text": "Sleeping"
          }
         },
         "colorscale": [
          [
           0,
           "#0d0887"
          ],
          [
           0.1111111111111111,
           "#46039f"
          ],
          [
           0.2222222222222222,
           "#7201a8"
          ],
          [
           0.3333333333333333,
           "#9c179e"
          ],
          [
           0.4444444444444444,
           "#bd3786"
          ],
          [
           0.5555555555555556,
           "#d8576b"
          ],
          [
           0.6666666666666666,
           "#ed7953"
          ],
          [
           0.7777777777777778,
           "#fb9f3a"
          ],
          [
           0.8888888888888888,
           "#fdca26"
          ],
          [
           1,
           "#f0f921"
          ]
         ]
        },
        "legend": {
         "tracegroupgap": 0
        },
        "margin": {
         "t": 60
        },
        "template": {
         "data": {
          "bar": [
           {
            "error_x": {
             "color": "#2a3f5f"
            },
            "error_y": {
             "color": "#2a3f5f"
            },
            "marker": {
             "line": {
              "color": "#E5ECF6",
              "width": 0.5
             },
             "pattern": {
              "fillmode": "overlay",
              "size": 10,
              "solidity": 0.2
             }
            },
            "type": "bar"
           }
          ],
          "barpolar": [
           {
            "marker": {
             "line": {
              "color": "#E5ECF6",
              "width": 0.5
             },
             "pattern": {
              "fillmode": "overlay",
              "size": 10,
              "solidity": 0.2
             }
            },
            "type": "barpolar"
           }
          ],
          "carpet": [
           {
            "aaxis": {
             "endlinecolor": "#2a3f5f",
             "gridcolor": "white",
             "linecolor": "white",
             "minorgridcolor": "white",
             "startlinecolor": "#2a3f5f"
            },
            "baxis": {
             "endlinecolor": "#2a3f5f",
             "gridcolor": "white",
             "linecolor": "white",
             "minorgridcolor": "white",
             "startlinecolor": "#2a3f5f"
            },
            "type": "carpet"
           }
          ],
          "choropleth": [
           {
            "colorbar": {
             "outlinewidth": 0,
             "ticks": ""
            },
            "type": "choropleth"
           }
          ],
          "contour": [
           {
            "colorbar": {
             "outlinewidth": 0,
             "ticks": ""
            },
            "colorscale": [
             [
              0,
              "#0d0887"
             ],
             [
              0.1111111111111111,
              "#46039f"
             ],
             [
              0.2222222222222222,
              "#7201a8"
             ],
             [
              0.3333333333333333,
              "#9c179e"
             ],
             [
              0.4444444444444444,
              "#bd3786"
             ],
             [
              0.5555555555555556,
              "#d8576b"
             ],
             [
              0.6666666666666666,
              "#ed7953"
             ],
             [
              0.7777777777777778,
              "#fb9f3a"
             ],
             [
              0.8888888888888888,
              "#fdca26"
             ],
             [
              1,
              "#f0f921"
             ]
            ],
            "type": "contour"
           }
          ],
          "contourcarpet": [
           {
            "colorbar": {
             "outlinewidth": 0,
             "ticks": ""
            },
            "type": "contourcarpet"
           }
          ],
          "heatmap": [
           {
            "colorbar": {
             "outlinewidth": 0,
             "ticks": ""
            },
            "colorscale": [
             [
              0,
              "#0d0887"
             ],
             [
              0.1111111111111111,
              "#46039f"
             ],
             [
              0.2222222222222222,
              "#7201a8"
             ],
             [
              0.3333333333333333,
              "#9c179e"
             ],
             [
              0.4444444444444444,
              "#bd3786"
             ],
             [
              0.5555555555555556,
              "#d8576b"
             ],
             [
              0.6666666666666666,
              "#ed7953"
             ],
             [
              0.7777777777777778,
              "#fb9f3a"
             ],
             [
              0.8888888888888888,
              "#fdca26"
             ],
             [
              1,
              "#f0f921"
             ]
            ],
            "type": "heatmap"
           }
          ],
          "heatmapgl": [
           {
            "colorbar": {
             "outlinewidth": 0,
             "ticks": ""
            },
            "colorscale": [
             [
              0,
              "#0d0887"
             ],
             [
              0.1111111111111111,
              "#46039f"
             ],
             [
              0.2222222222222222,
              "#7201a8"
             ],
             [
              0.3333333333333333,
              "#9c179e"
             ],
             [
              0.4444444444444444,
              "#bd3786"
             ],
             [
              0.5555555555555556,
              "#d8576b"
             ],
             [
              0.6666666666666666,
              "#ed7953"
             ],
             [
              0.7777777777777778,
              "#fb9f3a"
             ],
             [
              0.8888888888888888,
              "#fdca26"
             ],
             [
              1,
              "#f0f921"
             ]
            ],
            "type": "heatmapgl"
           }
          ],
          "histogram": [
           {
            "marker": {
             "pattern": {
              "fillmode": "overlay",
              "size": 10,
              "solidity": 0.2
             }
            },
            "type": "histogram"
           }
          ],
          "histogram2d": [
           {
            "colorbar": {
             "outlinewidth": 0,
             "ticks": ""
            },
            "colorscale": [
             [
              0,
              "#0d0887"
             ],
             [
              0.1111111111111111,
              "#46039f"
             ],
             [
              0.2222222222222222,
              "#7201a8"
             ],
             [
              0.3333333333333333,
              "#9c179e"
             ],
             [
              0.4444444444444444,
              "#bd3786"
             ],
             [
              0.5555555555555556,
              "#d8576b"
             ],
             [
              0.6666666666666666,
              "#ed7953"
             ],
             [
              0.7777777777777778,
              "#fb9f3a"
             ],
             [
              0.8888888888888888,
              "#fdca26"
             ],
             [
              1,
              "#f0f921"
             ]
            ],
            "type": "histogram2d"
           }
          ],
          "histogram2dcontour": [
           {
            "colorbar": {
             "outlinewidth": 0,
             "ticks": ""
            },
            "colorscale": [
             [
              0,
              "#0d0887"
             ],
             [
              0.1111111111111111,
              "#46039f"
             ],
             [
              0.2222222222222222,
              "#7201a8"
             ],
             [
              0.3333333333333333,
              "#9c179e"
             ],
             [
              0.4444444444444444,
              "#bd3786"
             ],
             [
              0.5555555555555556,
              "#d8576b"
             ],
             [
              0.6666666666666666,
              "#ed7953"
             ],
             [
              0.7777777777777778,
              "#fb9f3a"
             ],
             [
              0.8888888888888888,
              "#fdca26"
             ],
             [
              1,
              "#f0f921"
             ]
            ],
            "type": "histogram2dcontour"
           }
          ],
          "mesh3d": [
           {
            "colorbar": {
             "outlinewidth": 0,
             "ticks": ""
            },
            "type": "mesh3d"
           }
          ],
          "parcoords": [
           {
            "line": {
             "colorbar": {
              "outlinewidth": 0,
              "ticks": ""
             }
            },
            "type": "parcoords"
           }
          ],
          "pie": [
           {
            "automargin": true,
            "type": "pie"
           }
          ],
          "scatter": [
           {
            "fillpattern": {
             "fillmode": "overlay",
             "size": 10,
             "solidity": 0.2
            },
            "type": "scatter"
           }
          ],
          "scatter3d": [
           {
            "line": {
             "colorbar": {
              "outlinewidth": 0,
              "ticks": ""
             }
            },
            "marker": {
             "colorbar": {
              "outlinewidth": 0,
              "ticks": ""
             }
            },
            "type": "scatter3d"
           }
          ],
          "scattercarpet": [
           {
            "marker": {
             "colorbar": {
              "outlinewidth": 0,
              "ticks": ""
             }
            },
            "type": "scattercarpet"
           }
          ],
          "scattergeo": [
           {
            "marker": {
             "colorbar": {
              "outlinewidth": 0,
              "ticks": ""
             }
            },
            "type": "scattergeo"
           }
          ],
          "scattergl": [
           {
            "marker": {
             "colorbar": {
              "outlinewidth": 0,
              "ticks": ""
             }
            },
            "type": "scattergl"
           }
          ],
          "scattermapbox": [
           {
            "marker": {
             "colorbar": {
              "outlinewidth": 0,
              "ticks": ""
             }
            },
            "type": "scattermapbox"
           }
          ],
          "scatterpolar": [
           {
            "marker": {
             "colorbar": {
              "outlinewidth": 0,
              "ticks": ""
             }
            },
            "type": "scatterpolar"
           }
          ],
          "scatterpolargl": [
           {
            "marker": {
             "colorbar": {
              "outlinewidth": 0,
              "ticks": ""
             }
            },
            "type": "scatterpolargl"
           }
          ],
          "scatterternary": [
           {
            "marker": {
             "colorbar": {
              "outlinewidth": 0,
              "ticks": ""
             }
            },
            "type": "scatterternary"
           }
          ],
          "surface": [
           {
            "colorbar": {
             "outlinewidth": 0,
             "ticks": ""
            },
            "colorscale": [
             [
              0,
              "#0d0887"
             ],
             [
              0.1111111111111111,
              "#46039f"
             ],
             [
              0.2222222222222222,
              "#7201a8"
             ],
             [
              0.3333333333333333,
              "#9c179e"
             ],
             [
              0.4444444444444444,
              "#bd3786"
             ],
             [
              0.5555555555555556,
              "#d8576b"
             ],
             [
              0.6666666666666666,
              "#ed7953"
             ],
             [
              0.7777777777777778,
              "#fb9f3a"
             ],
             [
              0.8888888888888888,
              "#fdca26"
             ],
             [
              1,
              "#f0f921"
             ]
            ],
            "type": "surface"
           }
          ],
          "table": [
           {
            "cells": {
             "fill": {
              "color": "#EBF0F8"
             },
             "line": {
              "color": "white"
             }
            },
            "header": {
             "fill": {
              "color": "#C8D4E3"
             },
             "line": {
              "color": "white"
             }
            },
            "type": "table"
           }
          ]
         },
         "layout": {
          "annotationdefaults": {
           "arrowcolor": "#2a3f5f",
           "arrowhead": 0,
           "arrowwidth": 1
          },
          "autotypenumbers": "strict",
          "coloraxis": {
           "colorbar": {
            "outlinewidth": 0,
            "ticks": ""
           }
          },
          "colorscale": {
           "diverging": [
            [
             0,
             "#8e0152"
            ],
            [
             0.1,
             "#c51b7d"
            ],
            [
             0.2,
             "#de77ae"
            ],
            [
             0.3,
             "#f1b6da"
            ],
            [
             0.4,
             "#fde0ef"
            ],
            [
             0.5,
             "#f7f7f7"
            ],
            [
             0.6,
             "#e6f5d0"
            ],
            [
             0.7,
             "#b8e186"
            ],
            [
             0.8,
             "#7fbc41"
            ],
            [
             0.9,
             "#4d9221"
            ],
            [
             1,
             "#276419"
            ]
           ],
           "sequential": [
            [
             0,
             "#0d0887"
            ],
            [
             0.1111111111111111,
             "#46039f"
            ],
            [
             0.2222222222222222,
             "#7201a8"
            ],
            [
             0.3333333333333333,
             "#9c179e"
            ],
            [
             0.4444444444444444,
             "#bd3786"
            ],
            [
             0.5555555555555556,
             "#d8576b"
            ],
            [
             0.6666666666666666,
             "#ed7953"
            ],
            [
             0.7777777777777778,
             "#fb9f3a"
            ],
            [
             0.8888888888888888,
             "#fdca26"
            ],
            [
             1,
             "#f0f921"
            ]
           ],
           "sequentialminus": [
            [
             0,
             "#0d0887"
            ],
            [
             0.1111111111111111,
             "#46039f"
            ],
            [
             0.2222222222222222,
             "#7201a8"
            ],
            [
             0.3333333333333333,
             "#9c179e"
            ],
            [
             0.4444444444444444,
             "#bd3786"
            ],
            [
             0.5555555555555556,
             "#d8576b"
            ],
            [
             0.6666666666666666,
             "#ed7953"
            ],
            [
             0.7777777777777778,
             "#fb9f3a"
            ],
            [
             0.8888888888888888,
             "#fdca26"
            ],
            [
             1,
             "#f0f921"
            ]
           ]
          },
          "colorway": [
           "#636efa",
           "#EF553B",
           "#00cc96",
           "#ab63fa",
           "#FFA15A",
           "#19d3f3",
           "#FF6692",
           "#B6E880",
           "#FF97FF",
           "#FECB52"
          ],
          "font": {
           "color": "#2a3f5f"
          },
          "geo": {
           "bgcolor": "white",
           "lakecolor": "white",
           "landcolor": "#E5ECF6",
           "showlakes": true,
           "showland": true,
           "subunitcolor": "white"
          },
          "hoverlabel": {
           "align": "left"
          },
          "hovermode": "closest",
          "mapbox": {
           "style": "light"
          },
          "paper_bgcolor": "white",
          "plot_bgcolor": "#E5ECF6",
          "polar": {
           "angularaxis": {
            "gridcolor": "white",
            "linecolor": "white",
            "ticks": ""
           },
           "bgcolor": "#E5ECF6",
           "radialaxis": {
            "gridcolor": "white",
            "linecolor": "white",
            "ticks": ""
           }
          },
          "scene": {
           "xaxis": {
            "backgroundcolor": "#E5ECF6",
            "gridcolor": "white",
            "gridwidth": 2,
            "linecolor": "white",
            "showbackground": true,
            "ticks": "",
            "zerolinecolor": "white"
           },
           "yaxis": {
            "backgroundcolor": "#E5ECF6",
            "gridcolor": "white",
            "gridwidth": 2,
            "linecolor": "white",
            "showbackground": true,
            "ticks": "",
            "zerolinecolor": "white"
           },
           "zaxis": {
            "backgroundcolor": "#E5ECF6",
            "gridcolor": "white",
            "gridwidth": 2,
            "linecolor": "white",
            "showbackground": true,
            "ticks": "",
            "zerolinecolor": "white"
           }
          },
          "shapedefaults": {
           "line": {
            "color": "#2a3f5f"
           }
          },
          "ternary": {
           "aaxis": {
            "gridcolor": "white",
            "linecolor": "white",
            "ticks": ""
           },
           "baxis": {
            "gridcolor": "white",
            "linecolor": "white",
            "ticks": ""
           },
           "bgcolor": "#E5ECF6",
           "caxis": {
            "gridcolor": "white",
            "linecolor": "white",
            "ticks": ""
           }
          },
          "title": {
           "x": 0.05
          },
          "xaxis": {
           "automargin": true,
           "gridcolor": "white",
           "linecolor": "white",
           "ticks": "",
           "title": {
            "standoff": 15
           },
           "zerolinecolor": "white",
           "zerolinewidth": 2
          },
          "yaxis": {
           "automargin": true,
           "gridcolor": "white",
           "linecolor": "white",
           "ticks": "",
           "title": {
            "standoff": 15
           },
           "zerolinecolor": "white",
           "zerolinewidth": 2
          }
         }
        }
       }
      }
     },
     "metadata": {},
     "output_type": "display_data"
    }
   ],
   "source": [
    "px.parallel_coordinates(driver_response, color=\"Sleeping\", labels={\"State/UT\": \"State/UT\", \"Sleeping\": \"Sleeping\"})"
   ]
  }
 ],
 "metadata": {
  "kernelspec": {
   "display_name": "base",
   "language": "python",
   "name": "python3"
  },
  "language_info": {
   "codemirror_mode": {
    "name": "ipython",
    "version": 3
   },
   "file_extension": ".py",
   "mimetype": "text/x-python",
   "name": "python",
   "nbconvert_exporter": "python",
   "pygments_lexer": "ipython3",
   "version": "3.10.8"
  },
  "orig_nbformat": 4
 },
 "nbformat": 4,
 "nbformat_minor": 2
}
