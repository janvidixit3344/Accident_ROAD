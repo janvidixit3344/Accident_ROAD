{
 "cells": [
  {
   "cell_type": "code",
   "execution_count": null,
   "metadata": {},
   "outputs": [],
   "source": [
    "import pandas as pd\n",
    "import numpy as np\n",
    "import seaborn as sns\n",
    "import plotly.express as px\n",
    "import plotly.graph_objects as go\n",
    "import matplotlib.pyplot as plt"
   ]
  },
  {
   "cell_type": "code",
   "execution_count": null,
   "metadata": {},
   "outputs": [],
   "source": [
    "driver_response = pd.read_csv('Dataset/driverresponse.csv')\n",
    "driver_response"
   ]
  },
  {
   "cell_type": "code",
   "execution_count": null,
   "metadata": {},
   "outputs": [],
   "source": [
    "driver_response.isnull().sum()"
   ]
  },
  {
   "cell_type": "code",
   "execution_count": null,
   "metadata": {},
   "outputs": [],
   "source": [
    "driver_response['overspeed2014'].fillna(driver_response['overspeed2014'].mean(), inplace=True)\n",
    "driver_response"
   ]
  },
  {
   "cell_type": "code",
   "execution_count": null,
   "metadata": {},
   "outputs": [],
   "source": [
    "driver_response.isnull().sum()"
   ]
  },
  {
   "cell_type": "code",
   "execution_count": null,
   "metadata": {},
   "outputs": [],
   "source": [
    "driver_response.drop(columns=['index','sno'], inplace=True)"
   ]
  },
  {
   "cell_type": "code",
   "execution_count": null,
   "metadata": {},
   "outputs": [],
   "source": [
    "driver_response"
   ]
  },
  {
   "cell_type": "code",
   "execution_count": null,
   "metadata": {},
   "outputs": [],
   "source": [
    "driver_response.columns.tolist()"
   ]
  },
  {
   "cell_type": "code",
   "execution_count": null,
   "metadata": {},
   "outputs": [],
   "source": [
    "driver_response.rename(columns={\n",
    "    'stateut':'State/UT',\n",
    "    'region':'GEO_Region',\n",
    "    'regionid':'R_ID',\n",
    "    'alcintake2014':'AIntake_14',\n",
    "    'overspeed2014':'Speeding_14',\n",
    "    'overtaking2014':'Overtake_14',\n",
    "    'lanejumping2014':'LaneJump_14',\n",
    "    'wrongside2014':'WrongSide_14',\n",
    "    'signalavoid2014':'SignalAvoid_14',\n",
    "    'asleep2014':'Sleep_14',\n",
    "    'othercause2014':'Others_14',\n",
    "    'alcintake2016':'AIntake_16',\n",
    "    'overspeed2016':'Sppeding_16',\n",
    "    'signalavoid2016':'SignalAvoid_16',\n",
    "    'wrongside2016':'WrongSide_16',\n",
    "    'lanejumping2016':'LaneJump_16',\n",
    "    'overtaking2016':'Overtake_16',\n",
    "    'asleep2016':'Sleeping_16',\n",
    "    'othercause2016':'Others_16'}, inplace=True)\n",
    "driver_response"
   ]
  },
  {
   "cell_type": "code",
   "execution_count": null,
   "metadata": {},
   "outputs": [],
   "source": [
    "driver_response['Overtake'] = driver_response['Overtake_14'] + driver_response['Overtake_16']\n",
    "driver_response.drop(columns=['Overtake_16','Overtake_14'], inplace=True)\n",
    "driver_response['AiIntake'] = driver_response['AIntake_16'] + driver_response['AIntake_14']\n",
    "driver_response.drop(columns=['AIntake_16','AIntake_14'], inplace=True)\n",
    "driver_response['LaneJump'] = driver_response['LaneJump_16'] + driver_response['LaneJump_14']\n",
    "driver_response.drop(columns=['LaneJump_16','LaneJump_14'], inplace=True)\n",
    "driver_response['Sleeping'] = driver_response['Sleeping_16'] + driver_response['Sleep_14']\n",
    "driver_response.drop(columns=['Sleeping_16','Sleep_14'], inplace=True)\n",
    "driver_response['Speeding'] = driver_response['Sppeding_16'] + driver_response['Speeding_14']\n",
    "driver_response.drop(columns=['Sppeding_16','Speeding_14'], inplace=True)\n",
    "driver_response['WrongSide'] = driver_response['WrongSide_16'] + driver_response['WrongSide_14']\n",
    "driver_response.drop(columns=['WrongSide_16','WrongSide_14'], inplace=True)\n",
    "driver_response['SignalAvoid'] = driver_response['SignalAvoid_16'] + driver_response['SignalAvoid_14']\n",
    "driver_response.drop(columns=['SignalAvoid_16','SignalAvoid_14'], inplace=True)\n",
    "driver_response['Others'] = driver_response['Others_16'] + driver_response['Others_14']\n",
    "driver_response.drop(columns=['Others_16','Others_14'], inplace=True)"
   ]
  },
  {
   "cell_type": "code",
   "execution_count": null,
   "metadata": {},
   "outputs": [],
   "source": [
    "driver_response.head(2)"
   ]
  },
  {
   "cell_type": "code",
   "execution_count": null,
   "metadata": {},
   "outputs": [],
   "source": [
    "# state wise lane jumper in violin plot\n",
    "fig = px.bar(driver_response, y=\"LaneJump\", x=\"State/UT\", color=\"State/UT\",hover_data=driver_response.columns)\n",
    "fig.show()"
   ]
  },
  {
   "cell_type": "code",
   "execution_count": null,
   "metadata": {},
   "outputs": [],
   "source": [
    "px.funnel(driver_response.sort_values('LaneJump'), x='State/UT', y=['LaneJump','Overtake'])"
   ]
  }
 ],
 "metadata": {
  "kernelspec": {
   "display_name": "base",
   "language": "python",
   "name": "python3"
  },
  "language_info": {
   "codemirror_mode": {
    "name": "ipython",
    "version": 3
   },
   "file_extension": ".py",
   "mimetype": "text/x-python",
   "name": "python",
   "nbconvert_exporter": "python",
   "pygments_lexer": "ipython3",
   "version": "3.10.8"
  },
  "orig_nbformat": 4
 },
 "nbformat": 4,
 "nbformat_minor": 2
}
