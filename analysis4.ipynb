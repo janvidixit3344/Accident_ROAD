{
 "cells": [
  {
   "cell_type": "code",
   "execution_count": 8,
   "metadata": {},
   "outputs": [],
   "source": [
    "import pandas as pd\n",
    "import numpy as np\n",
    "import seaborn as sns\n",
    "import plotly.express as px\n",
    "import plotly.graph_objects as go\n",
    "import matplotlib.pyplot as plt"
   ]
  },
  {
   "cell_type": "code",
   "execution_count": 9,
   "metadata": {},
   "outputs": [
    {
     "data": {
      "text/html": [
       "<div>\n",
       "<style scoped>\n",
       "    .dataframe tbody tr th:only-of-type {\n",
       "        vertical-align: middle;\n",
       "    }\n",
       "\n",
       "    .dataframe tbody tr th {\n",
       "        vertical-align: top;\n",
       "    }\n",
       "\n",
       "    .dataframe thead th {\n",
       "        text-align: right;\n",
       "    }\n",
       "</style>\n",
       "<table border=\"1\" class=\"dataframe\">\n",
       "  <thead>\n",
       "    <tr style=\"text-align: right;\">\n",
       "      <th></th>\n",
       "      <th>STATE/UT</th>\n",
       "      <th>YEAR</th>\n",
       "      <th>JANUARY</th>\n",
       "      <th>FEBRUARY</th>\n",
       "      <th>MARCH</th>\n",
       "      <th>APRIL</th>\n",
       "      <th>MAY</th>\n",
       "      <th>JUNE</th>\n",
       "      <th>JULY</th>\n",
       "      <th>AUGUST</th>\n",
       "      <th>SEPTEMBER</th>\n",
       "      <th>OCTOBER</th>\n",
       "      <th>NOVEMBER</th>\n",
       "      <th>DECEMBER</th>\n",
       "      <th>TOTAL</th>\n",
       "    </tr>\n",
       "  </thead>\n",
       "  <tbody>\n",
       "    <tr>\n",
       "      <th>0</th>\n",
       "      <td>A &amp; N Islands</td>\n",
       "      <td>2001</td>\n",
       "      <td>8</td>\n",
       "      <td>23</td>\n",
       "      <td>15</td>\n",
       "      <td>15</td>\n",
       "      <td>14</td>\n",
       "      <td>19</td>\n",
       "      <td>14</td>\n",
       "      <td>19</td>\n",
       "      <td>7</td>\n",
       "      <td>12</td>\n",
       "      <td>13</td>\n",
       "      <td>22</td>\n",
       "      <td>181</td>\n",
       "    </tr>\n",
       "    <tr>\n",
       "      <th>1</th>\n",
       "      <td>A &amp; N Islands</td>\n",
       "      <td>2002</td>\n",
       "      <td>12</td>\n",
       "      <td>10</td>\n",
       "      <td>14</td>\n",
       "      <td>16</td>\n",
       "      <td>10</td>\n",
       "      <td>7</td>\n",
       "      <td>16</td>\n",
       "      <td>11</td>\n",
       "      <td>23</td>\n",
       "      <td>21</td>\n",
       "      <td>11</td>\n",
       "      <td>17</td>\n",
       "      <td>168</td>\n",
       "    </tr>\n",
       "    <tr>\n",
       "      <th>2</th>\n",
       "      <td>A &amp; N Islands</td>\n",
       "      <td>2003</td>\n",
       "      <td>19</td>\n",
       "      <td>13</td>\n",
       "      <td>15</td>\n",
       "      <td>13</td>\n",
       "      <td>13</td>\n",
       "      <td>12</td>\n",
       "      <td>8</td>\n",
       "      <td>16</td>\n",
       "      <td>17</td>\n",
       "      <td>25</td>\n",
       "      <td>14</td>\n",
       "      <td>15</td>\n",
       "      <td>180</td>\n",
       "    </tr>\n",
       "    <tr>\n",
       "      <th>3</th>\n",
       "      <td>A &amp; N Islands</td>\n",
       "      <td>2004</td>\n",
       "      <td>21</td>\n",
       "      <td>14</td>\n",
       "      <td>22</td>\n",
       "      <td>17</td>\n",
       "      <td>13</td>\n",
       "      <td>18</td>\n",
       "      <td>16</td>\n",
       "      <td>19</td>\n",
       "      <td>16</td>\n",
       "      <td>20</td>\n",
       "      <td>15</td>\n",
       "      <td>24</td>\n",
       "      <td>215</td>\n",
       "    </tr>\n",
       "    <tr>\n",
       "      <th>4</th>\n",
       "      <td>A &amp; N Islands</td>\n",
       "      <td>2005</td>\n",
       "      <td>19</td>\n",
       "      <td>21</td>\n",
       "      <td>22</td>\n",
       "      <td>17</td>\n",
       "      <td>13</td>\n",
       "      <td>19</td>\n",
       "      <td>21</td>\n",
       "      <td>14</td>\n",
       "      <td>15</td>\n",
       "      <td>19</td>\n",
       "      <td>10</td>\n",
       "      <td>16</td>\n",
       "      <td>206</td>\n",
       "    </tr>\n",
       "    <tr>\n",
       "      <th>...</th>\n",
       "      <td>...</td>\n",
       "      <td>...</td>\n",
       "      <td>...</td>\n",
       "      <td>...</td>\n",
       "      <td>...</td>\n",
       "      <td>...</td>\n",
       "      <td>...</td>\n",
       "      <td>...</td>\n",
       "      <td>...</td>\n",
       "      <td>...</td>\n",
       "      <td>...</td>\n",
       "      <td>...</td>\n",
       "      <td>...</td>\n",
       "      <td>...</td>\n",
       "      <td>...</td>\n",
       "    </tr>\n",
       "    <tr>\n",
       "      <th>485</th>\n",
       "      <td>West Bengal</td>\n",
       "      <td>2010</td>\n",
       "      <td>1245</td>\n",
       "      <td>1150</td>\n",
       "      <td>1349</td>\n",
       "      <td>1246</td>\n",
       "      <td>1172</td>\n",
       "      <td>1284</td>\n",
       "      <td>1231</td>\n",
       "      <td>1190</td>\n",
       "      <td>1128</td>\n",
       "      <td>1227</td>\n",
       "      <td>1251</td>\n",
       "      <td>1252</td>\n",
       "      <td>14725</td>\n",
       "    </tr>\n",
       "    <tr>\n",
       "      <th>486</th>\n",
       "      <td>West Bengal</td>\n",
       "      <td>2011</td>\n",
       "      <td>1350</td>\n",
       "      <td>1179</td>\n",
       "      <td>1314</td>\n",
       "      <td>1148</td>\n",
       "      <td>1220</td>\n",
       "      <td>1241</td>\n",
       "      <td>1185</td>\n",
       "      <td>1074</td>\n",
       "      <td>1112</td>\n",
       "      <td>1214</td>\n",
       "      <td>1161</td>\n",
       "      <td>1270</td>\n",
       "      <td>14468</td>\n",
       "    </tr>\n",
       "    <tr>\n",
       "      <th>487</th>\n",
       "      <td>West Bengal</td>\n",
       "      <td>2012</td>\n",
       "      <td>1346</td>\n",
       "      <td>1383</td>\n",
       "      <td>1357</td>\n",
       "      <td>1270</td>\n",
       "      <td>1352</td>\n",
       "      <td>1434</td>\n",
       "      <td>1349</td>\n",
       "      <td>1204</td>\n",
       "      <td>1112</td>\n",
       "      <td>1251</td>\n",
       "      <td>1179</td>\n",
       "      <td>1371</td>\n",
       "      <td>15608</td>\n",
       "    </tr>\n",
       "    <tr>\n",
       "      <th>488</th>\n",
       "      <td>West Bengal</td>\n",
       "      <td>2013</td>\n",
       "      <td>1564</td>\n",
       "      <td>1382</td>\n",
       "      <td>1474</td>\n",
       "      <td>1392</td>\n",
       "      <td>1629</td>\n",
       "      <td>1391</td>\n",
       "      <td>1315</td>\n",
       "      <td>1208</td>\n",
       "      <td>1228</td>\n",
       "      <td>1299</td>\n",
       "      <td>1335</td>\n",
       "      <td>1332</td>\n",
       "      <td>16549</td>\n",
       "    </tr>\n",
       "    <tr>\n",
       "      <th>489</th>\n",
       "      <td>West Bengal</td>\n",
       "      <td>2014</td>\n",
       "      <td>1516</td>\n",
       "      <td>1398</td>\n",
       "      <td>1473</td>\n",
       "      <td>1385</td>\n",
       "      <td>1527</td>\n",
       "      <td>1439</td>\n",
       "      <td>1416</td>\n",
       "      <td>1356</td>\n",
       "      <td>1391</td>\n",
       "      <td>1395</td>\n",
       "      <td>1415</td>\n",
       "      <td>1394</td>\n",
       "      <td>17105</td>\n",
       "    </tr>\n",
       "  </tbody>\n",
       "</table>\n",
       "<p>490 rows × 15 columns</p>\n",
       "</div>"
      ],
      "text/plain": [
       "          STATE/UT  YEAR  JANUARY  FEBRUARY  MARCH  APRIL   MAY  JUNE  JULY  \\\n",
       "0    A & N Islands  2001        8        23     15     15    14    19    14   \n",
       "1    A & N Islands  2002       12        10     14     16    10     7    16   \n",
       "2    A & N Islands  2003       19        13     15     13    13    12     8   \n",
       "3    A & N Islands  2004       21        14     22     17    13    18    16   \n",
       "4    A & N Islands  2005       19        21     22     17    13    19    21   \n",
       "..             ...   ...      ...       ...    ...    ...   ...   ...   ...   \n",
       "485    West Bengal  2010     1245      1150   1349   1246  1172  1284  1231   \n",
       "486    West Bengal  2011     1350      1179   1314   1148  1220  1241  1185   \n",
       "487    West Bengal  2012     1346      1383   1357   1270  1352  1434  1349   \n",
       "488    West Bengal  2013     1564      1382   1474   1392  1629  1391  1315   \n",
       "489    West Bengal  2014     1516      1398   1473   1385  1527  1439  1416   \n",
       "\n",
       "     AUGUST  SEPTEMBER  OCTOBER  NOVEMBER  DECEMBER  TOTAL  \n",
       "0        19          7       12        13        22    181  \n",
       "1        11         23       21        11        17    168  \n",
       "2        16         17       25        14        15    180  \n",
       "3        19         16       20        15        24    215  \n",
       "4        14         15       19        10        16    206  \n",
       "..      ...        ...      ...       ...       ...    ...  \n",
       "485    1190       1128     1227      1251      1252  14725  \n",
       "486    1074       1112     1214      1161      1270  14468  \n",
       "487    1204       1112     1251      1179      1371  15608  \n",
       "488    1208       1228     1299      1335      1332  16549  \n",
       "489    1356       1391     1395      1415      1394  17105  \n",
       "\n",
       "[490 rows x 15 columns]"
      ]
     },
     "execution_count": 9,
     "metadata": {},
     "output_type": "execute_result"
    }
   ],
   "source": [
    "month_wise = pd.read_csv('Dataset/only_road_accidents_data_month2.csv')\n",
    "month_wise"
   ]
  },
  {
   "cell_type": "code",
   "execution_count": 10,
   "metadata": {},
   "outputs": [
    {
     "data": {
      "text/plain": [
       "STATE/UT     0\n",
       "YEAR         0\n",
       "JANUARY      0\n",
       "FEBRUARY     0\n",
       "MARCH        0\n",
       "APRIL        0\n",
       "MAY          0\n",
       "JUNE         0\n",
       "JULY         0\n",
       "AUGUST       0\n",
       "SEPTEMBER    0\n",
       "OCTOBER      0\n",
       "NOVEMBER     0\n",
       "DECEMBER     0\n",
       "TOTAL        0\n",
       "dtype: int64"
      ]
     },
     "execution_count": 10,
     "metadata": {},
     "output_type": "execute_result"
    }
   ],
   "source": [
    "month_wise.isnull().sum()"
   ]
  },
  {
   "cell_type": "code",
   "execution_count": 11,
   "metadata": {},
   "outputs": [
    {
     "name": "stderr",
     "output_type": "stream",
     "text": [
      "C:\\Users\\Abhihek\\AppData\\Local\\Temp\\ipykernel_16300\\566067853.py:2: FutureWarning:\n",
      "\n",
      "In a future version of pandas, a length 1 tuple will be returned when iterating over a groupby with a grouper equal to a list of length 1. Don't supply a list with a single grouper to avoid this warning.\n",
      "\n"
     ]
    },
    {
     "name": "stdout",
     "output_type": "stream",
     "text": [
      "Key is: A & N Islands\n",
      "         STATE/UT  YEAR  JANUARY  FEBRUARY  MARCH  APRIL  MAY  JUNE  JULY  \\\n",
      "0   A & N Islands  2001        8        23     15     15   14    19    14   \n",
      "1   A & N Islands  2002       12        10     14     16   10     7    16   \n",
      "2   A & N Islands  2003       19        13     15     13   13    12     8   \n",
      "3   A & N Islands  2004       21        14     22     17   13    18    16   \n",
      "4   A & N Islands  2005       19        21     22     17   13    19    21   \n",
      "5   A & N Islands  2006       21        13      4     22    9    14    12   \n",
      "6   A & N Islands  2007       17        16     12     22   12    14     8   \n",
      "7   A & N Islands  2008       17        22     15     16   15    17    13   \n",
      "8   A & N Islands  2009       16        23     23     21   21    19    24   \n",
      "9   A & N Islands  2010       16        30     28     15   29    24    22   \n",
      "10  A & N Islands  2011       24        10     19     24   13    28    17   \n",
      "11  A & N Islands  2012       25        15     24     24   18    16    17   \n",
      "12  A & N Islands  2013       24        23     16     15   13    16    14   \n",
      "13  A & N Islands  2014       25        13     19     19   18    15    15   \n",
      "\n",
      "    AUGUST  SEPTEMBER  OCTOBER  NOVEMBER  DECEMBER  TOTAL  \n",
      "0       19          7       12        13        22    181  \n",
      "1       11         23       21        11        17    168  \n",
      "2       16         17       25        14        15    180  \n",
      "3       19         16       20        15        24    215  \n",
      "4       14         15       19        10        16    206  \n",
      "5       14          8       14         6        18    155  \n",
      "6       10         11        7        11        12    152  \n",
      "7       11         13       17        11        24    191  \n",
      "8       25         31       22        20        26    271  \n",
      "9       18         25       30        27        21    285  \n",
      "10      18         25       17        18        22    235  \n",
      "11      18         18       25        17        19    236  \n",
      "12      25         14       15        14        11    200  \n",
      "13      16         15       23        18        22    218   \n",
      "\n",
      "\n",
      "Key is: Andhra Pradesh\n",
      "          STATE/UT  YEAR  JANUARY  FEBRUARY  MARCH  APRIL   MAY  JUNE  JULY  \\\n",
      "14  Andhra Pradesh  2001     2204      2437   2405   2351  2550  2284  2025   \n",
      "15  Andhra Pradesh  2002     2492      2453   2835   2786  3195  2880  2645   \n",
      "16  Andhra Pradesh  2003     2783      2569   2870   2635  3265  2924  2657   \n",
      "17  Andhra Pradesh  2004     3019      3131   3211   3100  3257  2942  2827   \n",
      "18  Andhra Pradesh  2005     3189      3193   3182   3056  3612  3247  2907   \n",
      "19  Andhra Pradesh  2006     3568      3224   3496   3634  3962  3400  3334   \n",
      "20  Andhra Pradesh  2007     3978      3530   3728   3842  4099  3594  3519   \n",
      "21  Andhra Pradesh  2008     3594      3468   3848   3967  3811  3391  3260   \n",
      "22  Andhra Pradesh  2009     3682      3494   3775   3450  4048  3763  3412   \n",
      "23  Andhra Pradesh  2010     3515      3434   3749   3857  3960  3765  3206   \n",
      "24  Andhra Pradesh  2011     3540      3195   3584   3396  3916  3793  3237   \n",
      "25  Andhra Pradesh  2012     3347      3390   3693   3589  3250  3187  3160   \n",
      "26  Andhra Pradesh  2013     3732      3482   3715   3648  4531  3736  3018   \n",
      "27  Andhra Pradesh  2014     3809      3657   3641   3582  3986  3664  3167   \n",
      "\n",
      "    AUGUST  SEPTEMBER  OCTOBER  NOVEMBER  DECEMBER  TOTAL  \n",
      "14    2077       2070     2276      2122      2387  27188  \n",
      "15    2607       2555     2624      2646      2859  32577  \n",
      "16    2934       2767     2881      3037      3215  34537  \n",
      "17    3079       2972     3041      3129      3370  37078  \n",
      "18    3028       2742     2928      2975      3230  37289  \n",
      "19    3311       3232     3306      3268      3588  41323  \n",
      "20    3348       3246     3447      3617      3646  43594  \n",
      "21    3324       3169     3352      3319      3603  42106  \n",
      "22    3488       3017     3253      3298      3331  42011  \n",
      "23    3416       3115     3439      3397      3575  42428  \n",
      "24    3106       3067     3398      3442      3392  41066  \n",
      "25    3177       2893     3205      2985      3468  39344  \n",
      "26    3465       3450     3137      3432      3702  43048  \n",
      "27    3587       3225     3410      3346      4158  43232   \n",
      "\n",
      "\n",
      "Key is: Arunachal Pradesh\n",
      "             STATE/UT  YEAR  JANUARY  FEBRUARY  MARCH  APRIL  MAY  JUNE  JULY  \\\n",
      "28  Arunachal Pradesh  2001       19        17     21     16   19    14    21   \n",
      "29  Arunachal Pradesh  2002       25        16     21     23   16    19    11   \n",
      "30  Arunachal Pradesh  2003       16        24     22     13   18    17    19   \n",
      "31  Arunachal Pradesh  2004       23        24     23     11   15    11    14   \n",
      "32  Arunachal Pradesh  2005       26        14     29     12   17    20    20   \n",
      "33  Arunachal Pradesh  2006       14        20     17     19   20    31    11   \n",
      "34  Arunachal Pradesh  2007       22        20     26     19   25    19    14   \n",
      "35  Arunachal Pradesh  2008       20        21     18     16   33    24    13   \n",
      "36  Arunachal Pradesh  2009       20        21     18     16   33    24    13   \n",
      "37  Arunachal Pradesh  2010       31        33     20     26   28    23    14   \n",
      "38  Arunachal Pradesh  2011       22        24     30     22   29     9    28   \n",
      "39  Arunachal Pradesh  2012       17        21     24     16   11    13    20   \n",
      "40  Arunachal Pradesh  2013       23        33     16     23   25    27    27   \n",
      "41  Arunachal Pradesh  2014       28        10     10     21    9    12    13   \n",
      "\n",
      "    AUGUST  SEPTEMBER  OCTOBER  NOVEMBER  DECEMBER  TOTAL  \n",
      "28      14         23       17        30        25    236  \n",
      "29      17         18       21        25        23    235  \n",
      "30      21         23       18        16        22    229  \n",
      "31       8         21       29        17        21    217  \n",
      "32      14         19       21        24        21    237  \n",
      "33      25         18       25        21        22    243  \n",
      "34      15         22       18        11        19    230  \n",
      "35      18         27       20        24        27    261  \n",
      "36      18         27       20        24        27    261  \n",
      "37      15         18       20        23        29    280  \n",
      "38      22         16       25        15        21    263  \n",
      "39      18         14       16        20        14    204  \n",
      "40      28         24       25        29        28    308  \n",
      "41      14         14       15        22        17    185   \n",
      "\n",
      "\n",
      "Key is: Assam\n",
      "   STATE/UT  YEAR  JANUARY  FEBRUARY  MARCH  APRIL  MAY  JUNE  JULY  AUGUST  \\\n",
      "42    Assam  2001      141       127    202    173  176   137   140     160   \n",
      "43    Assam  2002      196       210    185    159  182   163   144     237   \n",
      "44    Assam  2003      194       143    193    180  169   180   162     167   \n",
      "45    Assam  2004      183       172    170    160  176   168   118     170   \n",
      "46    Assam  2005      307       334    317    287  306   308   297     354   \n",
      "47    Assam  2006      297       333    365    318  363   352   370     289   \n",
      "48    Assam  2007      383       358    392    395  375   331   299     305   \n",
      "49    Assam  2008      375       381    399    363  339   326   371     370   \n",
      "50    Assam  2009      388       385    400    377  394   376   393     331   \n",
      "51    Assam  2010      418       450    496    452  396   416   455     454   \n",
      "52    Assam  2011      554       545    607    515  518   557   502     515   \n",
      "53    Assam  2012      590       599    605    601  567   536   486     458   \n",
      "54    Assam  2013      634       555    603    632  595   580   535     552   \n",
      "55    Assam  2014      658       615    689    612  566   531   573     528   \n",
      "\n",
      "    SEPTEMBER  OCTOBER  NOVEMBER  DECEMBER  TOTAL  \n",
      "42        132      140       132       146   1806  \n",
      "43        180      180       222       185   2243  \n",
      "44        205      188       180       184   2145  \n",
      "45        157      167       182       179   2002  \n",
      "46        286      311       287       262   3656  \n",
      "47        335      325       378       355   4080  \n",
      "48        296      308       275       278   3995  \n",
      "49        344      308       346       340   4262  \n",
      "50        387      405       367       382   4585  \n",
      "51        504      525       451       468   5485  \n",
      "52        532      551       590       583   6569  \n",
      "53        418      544       543       588   6535  \n",
      "54        601      697       635       592   7211  \n",
      "55        460      670       638       604   7144   \n",
      "\n",
      "\n",
      "Key is: Bihar\n",
      "   STATE/UT  YEAR  JANUARY  FEBRUARY  MARCH  APRIL   MAY  JUNE  JULY  AUGUST  \\\n",
      "56    Bihar  2001      325       361    474    336   528   417   329     336   \n",
      "57    Bihar  2002      380       366    401    391   560   477   362     303   \n",
      "58    Bihar  2003      337       340    368    359   440   429   326     241   \n",
      "59    Bihar  2004      296       349    407    308   413   392   253     258   \n",
      "60    Bihar  2005      262       254    354    340   463   381   310     263   \n",
      "61    Bihar  2006      306       348    395    389   439   386   363     341   \n",
      "62    Bihar  2007      443       464    505    518   635   551   438     375   \n",
      "63    Bihar  2008      447       485    612    583   621   529   441     465   \n",
      "64    Bihar  2009      543       706    754    595   925   911   712     592   \n",
      "65    Bihar  2010      610       698    722    650   833  1034   723     689   \n",
      "66    Bihar  2011      750       808    964    737   964   880   769     644   \n",
      "67    Bihar  2012      799       905    915   1027   909  1003   822     787   \n",
      "68    Bihar  2013      800       792    815    813  1269   913   882     758   \n",
      "69    Bihar  2014      777       742    852    714   985  1002   757     662   \n",
      "\n",
      "    SEPTEMBER  OCTOBER  NOVEMBER  DECEMBER  TOTAL  \n",
      "56        317      289       317       305   4334  \n",
      "57        227      290       326       289   4372  \n",
      "58        255      263       258       286   3902  \n",
      "59        320      290       297       307   3890  \n",
      "60        241      255       301       322   3746  \n",
      "61        320      381       380       334   4382  \n",
      "62        347      427       484       444   5631  \n",
      "63        422      487       591       497   6180  \n",
      "64        574      634       699       721   8366  \n",
      "65        546      606       665       665   8441  \n",
      "66        618      759       773       689   9355  \n",
      "67        728      763       837       825  10320  \n",
      "68        735      765       845       811  10198  \n",
      "69        685      720       829       806   9531   \n",
      "\n",
      "\n",
      "Key is: Chandigarh\n",
      "      STATE/UT  YEAR  JANUARY  FEBRUARY  MARCH  APRIL  MAY  JUNE  JULY  \\\n",
      "70  Chandigarh  2001       48        25     34     47   48    46    34   \n",
      "71  Chandigarh  2002       33        42     47     42   39    34    45   \n",
      "72  Chandigarh  2003       43        35     38     40   36    32    29   \n",
      "73  Chandigarh  2004       27        36     40     23   36    26    29   \n",
      "74  Chandigarh  2005       46        38     32     27   43    44    41   \n",
      "75  Chandigarh  2006       52        42     43     42   51    42    31   \n",
      "76  Chandigarh  2007       36        39     50     39   48    35    45   \n",
      "77  Chandigarh  2008       38        34     46     45   42    39    38   \n",
      "78  Chandigarh  2009       35        32     41     25   26    29    37   \n",
      "79  Chandigarh  2010       31        39     40     35   31    33    31   \n",
      "80  Chandigarh  2011       27        46     40     37   49    35    35   \n",
      "81  Chandigarh  2012       34        41     29     40   26    30    36   \n",
      "82  Chandigarh  2013       36        27     38     43   40    34    38   \n",
      "83  Chandigarh  2014       35        22     31     40   32    25    22   \n",
      "\n",
      "    AUGUST  SEPTEMBER  OCTOBER  NOVEMBER  DECEMBER  TOTAL  \n",
      "70      31         53       37        38        52    493  \n",
      "71      46         39       38        41        48    494  \n",
      "72      36         39       43        41        31    443  \n",
      "73      34         40       37        45        38    411  \n",
      "74      50         56       52        55        44    528  \n",
      "75      43         45       46        34        50    521  \n",
      "76      48         55       60        48        33    536  \n",
      "77      46         36       42        34        37    477  \n",
      "78      35         50       38        40        36    424  \n",
      "79      30         36       54        44        52    456  \n",
      "80      27         26       45        24        50    441  \n",
      "81      43         30       35        35        33    412  \n",
      "82      31         30       31        37        24    409  \n",
      "83      32         38       31        28        30    366   \n",
      "\n",
      "\n",
      "Key is: Chhattisgarh\n",
      "        STATE/UT  YEAR  JANUARY  FEBRUARY  MARCH  APRIL   MAY  JUNE  JULY  \\\n",
      "84  Chhattisgarh  2001      428       385    403    448   504   425   367   \n",
      "85  Chhattisgarh  2002      477       439    522    511   584   468   434   \n",
      "86  Chhattisgarh  2003      649       565    589    647   629   613   586   \n",
      "87  Chhattisgarh  2004      553       532    534    586   592   501   409   \n",
      "88  Chhattisgarh  2005      472       513    537    513   566   530   558   \n",
      "89  Chhattisgarh  2006      624       611    607    631   710   598   534   \n",
      "90  Chhattisgarh  2007      787       632    638    729   701   630   619   \n",
      "91  Chhattisgarh  2008      773       712    746    859   848   704   659   \n",
      "92  Chhattisgarh  2009      721       689    643    689   710   670   639   \n",
      "93  Chhattisgarh  2010      670       627    671    652   705   612   655   \n",
      "94  Chhattisgarh  2011      868       795    804    725   903   793   747   \n",
      "95  Chhattisgarh  2012     1253      1161   1175   1188  1182  1121  1103   \n",
      "96  Chhattisgarh  2013     1384      1269   1288   1139  1209  1131  1025   \n",
      "97  Chhattisgarh  2014     1167      1110   1000   1020  1149  1051   934   \n",
      "\n",
      "    AUGUST  SEPTEMBER  OCTOBER  NOVEMBER  DECEMBER  TOTAL  \n",
      "84     371        400      425       393       438   4987  \n",
      "85     444        448      515       453       506   5801  \n",
      "86     524        501      595       543       582   7023  \n",
      "87     437        439      532       483       477   6075  \n",
      "88     421        435      496       483       472   5996  \n",
      "89     534        507      575       607       573   7111  \n",
      "90     544        642      660       599       656   7837  \n",
      "91     589        706      783       655       735   8769  \n",
      "92     595        617      642       659       639   7913  \n",
      "93     606        605      684       655       660   7802  \n",
      "94     660        636      770       723       771   9195  \n",
      "95     990       1016     1107      1084      1131  13511  \n",
      "96    1029       1005     1042      1046      1090  13657  \n",
      "97     877        910     1005       973       944  12140   \n",
      "\n",
      "\n",
      "Key is: D & N Haveli\n",
      "         STATE/UT  YEAR  JANUARY  FEBRUARY  MARCH  APRIL  MAY  JUNE  JULY  \\\n",
      "98   D & N Haveli  2001        6        11      6      8    9     7     4   \n",
      "99   D & N Haveli  2002       10         6      3      5   12     9     6   \n",
      "100  D & N Haveli  2003        6        10      6      4    8     5     1   \n",
      "101  D & N Haveli  2004        6        10     12     11   10     8     7   \n",
      "102  D & N Haveli  2005       13        13      9      3   10    16    12   \n",
      "103  D & N Haveli  2006        9         5     13      8    5     8     9   \n",
      "104  D & N Haveli  2007       12         7     14      6    7    10     8   \n",
      "105  D & N Haveli  2008       10        15     12      8   14     8     8   \n",
      "106  D & N Haveli  2009        6         5      2      3    4     4     3   \n",
      "107  D & N Haveli  2010        9        10      4      7    5     7    10   \n",
      "108  D & N Haveli  2011       12         7      6      8    9    10     6   \n",
      "109  D & N Haveli  2012        7        11     15      7    5     7     4   \n",
      "110  D & N Haveli  2013       11         5     11      8    5     7     6   \n",
      "\n",
      "     AUGUST  SEPTEMBER  OCTOBER  NOVEMBER  DECEMBER  TOTAL  \n",
      "98        7          9        8         5         7     87  \n",
      "99        5          6        3         9         6     80  \n",
      "100       6          4        8         8         7     73  \n",
      "101       5         11       14         5        12    111  \n",
      "102      11          5       10        10        15    127  \n",
      "103       6         10        7         9        14    103  \n",
      "104      14         14       13         0        11    116  \n",
      "105       9          5        7         9        11    116  \n",
      "106       3          0        4         6         5     45  \n",
      "107       4          2        6         7         8     79  \n",
      "108       7          8       10         7        13    103  \n",
      "109       5          9        7         2         6     85  \n",
      "110       8          8        9         5         8     91   \n",
      "\n",
      "\n",
      "Key is: D&N Haveli\n",
      "       STATE/UT  YEAR  JANUARY  FEBRUARY  MARCH  APRIL  MAY  JUNE  JULY  \\\n",
      "111  D&N Haveli  2014        6         7      7     10    9     4     8   \n",
      "\n",
      "     AUGUST  SEPTEMBER  OCTOBER  NOVEMBER  DECEMBER  TOTAL  \n",
      "111       7          7        8         8         6     87   \n",
      "\n",
      "\n",
      "Key is: Daman & Diu\n",
      "        STATE/UT  YEAR  JANUARY  FEBRUARY  MARCH  APRIL  MAY  JUNE  JULY  \\\n",
      "112  Daman & Diu  2001        2         1      4      2    3     5     3   \n",
      "113  Daman & Diu  2002        5         3      8      6    4     4    10   \n",
      "114  Daman & Diu  2003        6         8      5      4    3     5    16   \n",
      "115  Daman & Diu  2004        8         2      2      2    3     6     5   \n",
      "116  Daman & Diu  2005        5         6      4      6    5     4     0   \n",
      "117  Daman & Diu  2006        6         7      4      9    9     2     4   \n",
      "118  Daman & Diu  2007        8         4      4      7    5     4     5   \n",
      "119  Daman & Diu  2008        3         2      9      9    3     1     2   \n",
      "120  Daman & Diu  2009        2         2      2      2    1     2     2   \n",
      "121  Daman & Diu  2010        6         2      0      2    4     4     2   \n",
      "122  Daman & Diu  2011        2         2      2      1    1     1     1   \n",
      "123  Daman & Diu  2012        7         3      5      5    3     4     5   \n",
      "124  Daman & Diu  2013        6         2      2      4    1     4     1   \n",
      "125  Daman & Diu  2014        6         4      3      3    2     2     0   \n",
      "\n",
      "     AUGUST  SEPTEMBER  OCTOBER  NOVEMBER  DECEMBER  TOTAL  \n",
      "112       3          4        3         4         1     35  \n",
      "113       1          5        5         5        12     68  \n",
      "114       4          4        7         4         6     72  \n",
      "115       3          2        3         8         3     47  \n",
      "116       5          3        4         7         8     57  \n",
      "117       3          2        5         5         1     57  \n",
      "118       7          3        4         6         3     60  \n",
      "119       2          3        5         7         4     50  \n",
      "120       1          1        1         2         3     21  \n",
      "121       2          4        1         3         6     36  \n",
      "122       2          2        2         2         3     21  \n",
      "123       1          2        1         7         7     50  \n",
      "124       1          5        2         2         0     30  \n",
      "125       5          1        5         2         6     39   \n",
      "\n",
      "\n",
      "Key is: Delhi (Ut)\n",
      "       STATE/UT  YEAR  JANUARY  FEBRUARY  MARCH  APRIL  MAY  JUNE  JULY  \\\n",
      "126  Delhi (Ut)  2001      707       681    786    762  810   779   763   \n",
      "127  Delhi (Ut)  2002      695       710    847    698  702   665   768   \n",
      "128  Delhi (Ut)  2003      638       645    689    714  719   747   785   \n",
      "129  Delhi (Ut)  2004      730       746    755    719  747   766   727   \n",
      "130  Delhi (Ut)  2005      777       722    850    698  815   773   806   \n",
      "131  Delhi (Ut)  2006      718       726    868    779  796   754   846   \n",
      "132  Delhi (Ut)  2007      818       809    839    786  752   757   834   \n",
      "133  Delhi (Ut)  2008      698       696    780    747  713   691   731   \n",
      "134  Delhi (Ut)  2009      607       632    644    646  657   565   610   \n",
      "135  Delhi (Ut)  2010      559       574    616    569  639   545   640   \n",
      "136  Delhi (Ut)  2011      562       619    631    575  606   570   633   \n",
      "137  Delhi (Ut)  2012      540       544    570    556  554   556   571   \n",
      "138  Delhi (Ut)  2013      590       553    613    589  635   612   644   \n",
      "\n",
      "     AUGUST  SEPTEMBER  OCTOBER  NOVEMBER  DECEMBER  TOTAL  \n",
      "126     811        780      821       798       784   9282  \n",
      "127     801        706      724       669       725   8710  \n",
      "128     803        791      859       778       701   8869  \n",
      "129     793        761      778       843       745   9110  \n",
      "130     900        831      780       835       793   9580  \n",
      "131     863        804      832       865       848   9699  \n",
      "132     768        833     1196       921      1215  10528  \n",
      "133     721        707      704       671       707   8566  \n",
      "134     707        609      639       642       656   7614  \n",
      "135     600        574      614       652       638   7220  \n",
      "136     637        589      685       593       580   7280  \n",
      "137     554        658      603       625       606   6937  \n",
      "138     593        622      687       703       728   7569   \n",
      "\n",
      "\n",
      "Key is: Delhi Ut\n",
      "     STATE/UT  YEAR  JANUARY  FEBRUARY  MARCH  APRIL  MAY  JUNE  JULY  AUGUST  \\\n",
      "139  Delhi Ut  2014      643       698    801    632  661   658   624     744   \n",
      "\n",
      "     SEPTEMBER  OCTOBER  NOVEMBER  DECEMBER  TOTAL  \n",
      "139        742      687       720       700   8310   \n",
      "\n",
      "\n",
      "Key is: Goa\n",
      "    STATE/UT  YEAR  JANUARY  FEBRUARY  MARCH  APRIL  MAY  JUNE  JULY  AUGUST  \\\n",
      "140      Goa  2001      124       115    111    108  131    95    95     101   \n",
      "141      Goa  2002       99       100     95    113  105    74    65      95   \n",
      "142      Goa  2003      173       151    151    121  166   113    99     121   \n",
      "143      Goa  2004      148       127    122    130  143   104   104     120   \n",
      "144      Goa  2005       93        75     88    100  100    80    64      81   \n",
      "145      Goa  2006      341       323    314    300  408   268   263     272   \n",
      "146      Goa  2007      365       362    332    375  392   299   245     274   \n",
      "147      Goa  2008      396       350    384    354  400   309   276     326   \n",
      "148      Goa  2009      389       351    370    327  370   306   279     302   \n",
      "149      Goa  2010      472       411    392    393  422   307   294     346   \n",
      "150      Goa  2011      486       400    370    369  421   353   307     331   \n",
      "151      Goa  2012      428       317    343    332  393   328   309     357   \n",
      "152      Goa  2013      418       372    380    336  361   300   291     327   \n",
      "153      Goa  2014      433       359    349    349  367   354   322     324   \n",
      "\n",
      "     SEPTEMBER  OCTOBER  NOVEMBER  DECEMBER  TOTAL  \n",
      "140        108      117       122       148   1375  \n",
      "141        102      113       121       119   1201  \n",
      "142        116      146       166       155   1678  \n",
      "143        121      120       139       164   1542  \n",
      "144         79       84       110       115   1069  \n",
      "145        291      303       307       359   3749  \n",
      "146        335      320       353       370   4022  \n",
      "147        305      340       339       400   4179  \n",
      "148        324      323       371       458   4170  \n",
      "149        334      381       388       434   4574  \n",
      "150        312      373       395       444   4561  \n",
      "151        346      339       391       405   4288  \n",
      "152        376      346       376       410   4293  \n",
      "153        285      312       354       422   4230   \n",
      "\n",
      "\n",
      "Key is: Gujarat\n",
      "    STATE/UT  YEAR  JANUARY  FEBRUARY  MARCH  APRIL   MAY  JUNE  JULY  AUGUST  \\\n",
      "154  Gujarat  2001     1657      1600   1791   1744  1935  1566  1420    1533   \n",
      "155  Gujarat  2002     1652      1529   1186   1446  1840  1723  1498    1515   \n",
      "156  Gujarat  2003     1616      1457   1456   1395  1780  1499  1276    1439   \n",
      "157  Gujarat  2004     1669      1580   1601   1606  1771  1493  1357    1119   \n",
      "158  Gujarat  2005     1586      1575   1625   1583  1928  1559  1321    1342   \n",
      "159  Gujarat  2006     1706      1557   1721   1703  1950  1512  1323    1172   \n",
      "160  Gujarat  2007     1898      1743   1918   1959  2169  1806  1509    1505   \n",
      "161  Gujarat  2008     1843      1878   1943   1969  2091  1782  1562    1461   \n",
      "162  Gujarat  2009     1742      1603   1743   1628  1937  1640  1339    1594   \n",
      "163  Gujarat  2010     1892      1716   1803   1717  2042  1730  1469    1310   \n",
      "164  Gujarat  2011     2626      2601   2629   2447  3056  2558  2346    2212   \n",
      "165  Gujarat  2012     2549      2483   2370   2400  2486  2313  2098    2076   \n",
      "166  Gujarat  2013     2357      2189   2266   2189  2405  2142  1788    1821   \n",
      "167  Gujarat  2014     2023      1978   2039   1846  2127  1988  1673    1633   \n",
      "\n",
      "     SEPTEMBER  OCTOBER  NOVEMBER  DECEMBER  TOTAL  \n",
      "154       1448     1602      1769      1743  19808  \n",
      "155       1434     1616      1644      1657  18740  \n",
      "156       1404     1620      1501      1659  18102  \n",
      "157       1471     1476      1673      1662  18478  \n",
      "158       1292     1477      1661      1592  18541  \n",
      "159       1423     1575      1578      1724  18944  \n",
      "160       1613     1732      1867      1714  21433  \n",
      "161       1471     1722      1605      1700  21027  \n",
      "162       1613     1752      1674      1836  20101  \n",
      "163       1391     1639      1860      1929  20498  \n",
      "164       2169     2617      2524      2414  30199  \n",
      "165       1948     2153      2294      2097  27267  \n",
      "166       1848     1931      2051      2048  25035  \n",
      "167       1506     1817      1678      1844  22152   \n",
      "\n",
      "\n",
      "Key is: Haryana\n",
      "    STATE/UT  YEAR  JANUARY  FEBRUARY  MARCH  APRIL  MAY  JUNE  JULY  AUGUST  \\\n",
      "168  Haryana  2001      481       506    517    543  543   520   540     509   \n",
      "169  Haryana  2002      513       524    595    593  583   641   586     596   \n",
      "170  Haryana  2003      468       512    534    528  581   480   545     493   \n",
      "171  Haryana  2004      591       657    658    629  633   673   669     659   \n",
      "172  Haryana  2005      626       514    604    598  692   634   664     682   \n",
      "173  Haryana  2006      792       736    854    855  876   858   823     861   \n",
      "174  Haryana  2007      825       780    839    839  881   871   859     909   \n",
      "175  Haryana  2008      911       869   1001    998  951   847   899     909   \n",
      "176  Haryana  2009      808       963    982    928  973   977   931     929   \n",
      "177  Haryana  2010      883       897   1035    936  932   933   892     925   \n",
      "178  Haryana  2011      830       896    891    818  899   869   842     829   \n",
      "179  Haryana  2012      759       819    865    841  841   791   799     791   \n",
      "180  Haryana  2013      819       711    891    861  920   799   888     784   \n",
      "181  Haryana  2014      892       881    963    911  939   906   955     916   \n",
      "\n",
      "     SEPTEMBER  OCTOBER  NOVEMBER  DECEMBER  TOTAL  \n",
      "168        540      542       571       561   6373  \n",
      "169        559      657       615       625   7087  \n",
      "170        542      568       662       511   6424  \n",
      "171        655      685       692       707   7908  \n",
      "172        565      704       703       696   7682  \n",
      "173        847      939       878       943  10262  \n",
      "174        873      904       834       902  10316  \n",
      "175        910     1052       939       955  11241  \n",
      "176        875      966      1080      1015  11427  \n",
      "177        816      998       939       975  11161  \n",
      "178        874      978       911       916  10553  \n",
      "179        761      862       870       972   9971  \n",
      "180        847      959      1025       969  10473  \n",
      "181        871      891       962       956  11043   \n",
      "\n",
      "\n",
      "Key is: Himachal Pradesh\n",
      "             STATE/UT  YEAR  JANUARY  FEBRUARY  MARCH  APRIL  MAY  JUNE  JULY  \\\n",
      "182  Himachal Pradesh  2001      137       131    164    156  184   207   201   \n",
      "183  Himachal Pradesh  2002      135       138    183    176  230   241   216   \n",
      "184  Himachal Pradesh  2003      149       145    159    160  205   207   259   \n",
      "185  Himachal Pradesh  2004      173       183    191    207  225   231   226   \n",
      "186  Himachal Pradesh  2005      162       143    185    166  213   241   203   \n",
      "187  Himachal Pradesh  2006      161       161    215    229  240   209   203   \n",
      "188  Himachal Pradesh  2007      181       167    183    207  222   227   246   \n",
      "189  Himachal Pradesh  2008      166       132    135    179  151   174   178   \n",
      "190  Himachal Pradesh  2009      213       252    233    236  283   299   285   \n",
      "191  Himachal Pradesh  2010      216       205    239    253  278   310   275   \n",
      "192  Himachal Pradesh  2011      222       215    261    245  269   283   267   \n",
      "193  Himachal Pradesh  2012      214       191    256    243  254   274   236   \n",
      "194  Himachal Pradesh  2013      209       202    216    254  266   234   263   \n",
      "195  Himachal Pradesh  2014      246       191    260    234  289   295   292   \n",
      "\n",
      "     AUGUST  SEPTEMBER  OCTOBER  NOVEMBER  DECEMBER  TOTAL  \n",
      "182     167        195      227       176       165   2110  \n",
      "183     220        189      176       184       193   2281  \n",
      "184     239        234      189       217       196   2359  \n",
      "185     208        239      230       214       188   2515  \n",
      "186     261        214      218       215       180   2401  \n",
      "187     193        199      224       183       199   2416  \n",
      "188     220        256      256       222       195   2582  \n",
      "189     166        157      210       169       165   1982  \n",
      "190     257        250      272       263       235   3078  \n",
      "191     257        256      246       297       245   3077  \n",
      "192     249        253      272       281       282   3099  \n",
      "193     270        233      219       292       217   2899  \n",
      "194     235        276      273       276       277   2981  \n",
      "195     329        272      302       313       302   3325   \n",
      "\n",
      "\n",
      "Key is: Jammu & Kashmir\n",
      "            STATE/UT  YEAR  JANUARY  FEBRUARY  MARCH  APRIL  MAY  JUNE  JULY  \\\n",
      "196  Jammu & Kashmir  2001      362       485    392    372  483   448   429   \n",
      "197  Jammu & Kashmir  2002      336       363    427    462  452   500   544   \n",
      "198  Jammu & Kashmir  2003      401       380    423    468  535   550   635   \n",
      "199  Jammu & Kashmir  2004      439       463    509    503  489   588   657   \n",
      "200  Jammu & Kashmir  2005      444       291    384    412  484   573   559   \n",
      "201  Jammu & Kashmir  2006      332       387    467    474  516   520   541   \n",
      "202  Jammu & Kashmir  2007      447       409    466    485  505   573   537   \n",
      "203  Jammu & Kashmir  2008      404       376    459    486  475   537   502   \n",
      "204  Jammu & Kashmir  2009      367       364    514    460  558   503   557   \n",
      "205  Jammu & Kashmir  2010      452       408    553    535  539   539   552   \n",
      "206  Jammu & Kashmir  2011      394       430    500    448  645   657   648   \n",
      "207  Jammu & Kashmir  2012      413       460    531    533  601   631   706   \n",
      "208  Jammu & Kashmir  2013      418       355    464    530  646   617   596   \n",
      "209  Jammu & Kashmir  2014      414       415    424    433  506   594   563   \n",
      "\n",
      "     AUGUST  SEPTEMBER  OCTOBER  NOVEMBER  DECEMBER  TOTAL  \n",
      "196     410        405      423       394       408   5011  \n",
      "197     496        425      495       453       420   5373  \n",
      "198     551        509      498       517       421   5888  \n",
      "199     559        512      531       526       505   6281  \n",
      "200     499        525      518       508       472   5669  \n",
      "201     501        448      495       455       473   5609  \n",
      "202     527        505      508       461       451   5874  \n",
      "203     306        415      535       498       433   5426  \n",
      "204     560        563      600       515       451   6012  \n",
      "205     498        470      527       576       493   6142  \n",
      "206     612        610      622       565       534   6665  \n",
      "207     590        555      557       597       463   6637  \n",
      "208     574        542      652       582       479   6455  \n",
      "209     515        415      544       517       438   5778   \n",
      "\n",
      "\n",
      "Key is: Jharkhand\n",
      "      STATE/UT  YEAR  JANUARY  FEBRUARY  MARCH  APRIL  MAY  JUNE  JULY  \\\n",
      "210  Jharkhand  2001       83        76     88     95   94    70    79   \n",
      "211  Jharkhand  2002       85        41     70     91   80    69    67   \n",
      "212  Jharkhand  2003       80        42     72     90   85    70    68   \n",
      "213  Jharkhand  2004      116        99    105    122  128   102    73   \n",
      "214  Jharkhand  2005      228       179    295    253  325   236   220   \n",
      "215  Jharkhand  2006      322       379    400    392  335   395   400   \n",
      "216  Jharkhand  2007      429       368    398    393  513   412   310   \n",
      "217  Jharkhand  2008      230       203    225    278  355   333   265   \n",
      "218  Jharkhand  2009      327       342    457    360  478   427   372   \n",
      "219  Jharkhand  2010      252       360    357    351  383   436   365   \n",
      "220  Jharkhand  2011      323       326    338    364  408   356   316   \n",
      "221  Jharkhand  2012      369       374    387    457  364   396   346   \n",
      "222  Jharkhand  2013      449       423    440    427  550   429   440   \n",
      "223  Jharkhand  2014      399       434    418    425  454   414   391   \n",
      "\n",
      "     AUGUST  SEPTEMBER  OCTOBER  NOVEMBER  DECEMBER  TOTAL  \n",
      "210      88         78       81        86        77    995  \n",
      "211      80         79       75        68        75    880  \n",
      "212      89         69       70        69        76    880  \n",
      "213     125        104      106       106       109   1295  \n",
      "214     201        165      193       232       212   2739  \n",
      "215     324        312      324       359       359   4301  \n",
      "216     320        311      363       312       375   4504  \n",
      "217     201        276      299       297       297   3259  \n",
      "218     340        327      354       374       378   4536  \n",
      "219     322        333      353       336       380   4228  \n",
      "220     279        287      297       316       291   3901  \n",
      "221     355        373      381       391       432   4625  \n",
      "222     391        352      406       428       426   5161  \n",
      "223     384        341      419       373       453   4905   \n",
      "\n",
      "\n",
      "Key is: Karnataka\n",
      "      STATE/UT  YEAR  JANUARY  FEBRUARY  MARCH  APRIL   MAY  JUNE  JULY  \\\n",
      "224  Karnataka  2001     2706      2600   2704   2816  3215  2783  2656   \n",
      "225  Karnataka  2002     2885      2860   2906   2995  3415  2987  2812   \n",
      "226  Karnataka  2003     3063      2986   2947   2940  3456  3199  2999   \n",
      "227  Karnataka  2004     3389      3357   3358   3180  3329  3066  3040   \n",
      "228  Karnataka  2005     3457      3196   3566   3339  4075  3354  3151   \n",
      "229  Karnataka  2006     3618      3278   3766   3693  4132  3356  3361   \n",
      "230  Karnataka  2007     3801      3613   3932   4274  4440  3878  3629   \n",
      "231  Karnataka  2008     4092      3922   4203   4295  4236  3792  3634   \n",
      "232  Karnataka  2009     3743      3525   3898   3843  4212  3906  3501   \n",
      "233  Karnataka  2010     4013      3972   4212   4105  4538  3942  3648   \n",
      "234  Karnataka  2011     3936      3676   3775   3707  4309  3781  3577   \n",
      "235  Karnataka  2012     3906      3749   3715   3963  3871  3687  3375   \n",
      "236  Karnataka  2013     3507      3322   3437   3403  3732  3247  2964   \n",
      "237  Karnataka  2014     3915      3649   3805   3577  4053  3772  3421   \n",
      "\n",
      "     AUGUST  SEPTEMBER  OCTOBER  NOVEMBER  DECEMBER  TOTAL  \n",
      "224    2539       2437     2582      2744      3078  32860  \n",
      "225    2875       2815     2908      2954      3249  35661  \n",
      "226    2994       3001     3147      3304      3475  37511  \n",
      "227    2893       3093     3011      3309      3726  38751  \n",
      "228    3018       3184     3237      3177      3519  40273  \n",
      "229    3473       3519     3621      3508      3955  43280  \n",
      "230    3619       3499     3830      3709      4110  46334  \n",
      "231    3555       3424     3728      3540      3831  46252  \n",
      "232    3551       3527     3527      3787      4170  45190  \n",
      "233    3382       3431     3512      3733      3732  46220  \n",
      "234    3437       3451     3566      3603      3878  44696  \n",
      "235    3561       3460     3519      3613      4029  44448  \n",
      "236    2981       3013     3185      3267      3533  39591  \n",
      "237    3428       3254     3517      3442      3861  43694   \n",
      "\n",
      "\n",
      "Key is: Kerala\n",
      "    STATE/UT  YEAR  JANUARY  FEBRUARY  MARCH  APRIL   MAY  JUNE  JULY  AUGUST  \\\n",
      "238   Kerala  2001     3199      2935   2972   2912  2887  2829  2845    3012   \n",
      "239   Kerala  2002     3072      2739   2643   3096  3113  2754  2731    2688   \n",
      "240   Kerala  2003     2894      2485   2495   2570  2614  2526  2534    2569   \n",
      "241   Kerala  2004     3661      3393   3477   3411  3239  3306  3164    3334   \n",
      "242   Kerala  2005     3784      3435   3672   3594  3870  3410  3172    3452   \n",
      "243   Kerala  2006     3901      3394   3711   3360  3600  3229  3139    3398   \n",
      "244   Kerala  2007     3758      3459   3529   3481  3667  3145  2793    3107   \n",
      "245   Kerala  2008     3433      3172   3121   3205  3210  2911  2904    2874   \n",
      "246   Kerala  2009     3142      2933   3072   2877  3133  2967  2745    2851   \n",
      "247   Kerala  2010     3221      2967   3180   3073  3149  2743  2641    2745   \n",
      "248   Kerala  2011     3146      2929   3622   2805  3144  2767  2688    2787   \n",
      "249   Kerala  2012     3262      3039   2960   2942  3159  2866  2848    2929   \n",
      "250   Kerala  2013     3251      3023   3090   3113  3231  2712  2595    2772   \n",
      "251   Kerala  2014     3332      2909   3005   2785  3162  2805  2834    2913   \n",
      "\n",
      "     SEPTEMBER  OCTOBER  NOVEMBER  DECEMBER  TOTAL  \n",
      "238       3060     3048      3247      3493  36439  \n",
      "239       2835     2897      2908      3058  34534  \n",
      "240       2612     2852      2799      2997  31947  \n",
      "241       3399     3532      3425      3762  41103  \n",
      "242       3109     3467      3602      3728  42295  \n",
      "243       3384     3423      3516      3673  41728  \n",
      "244       2935     3207      3211      3569  39861  \n",
      "245       3077     3092      3034      3205  37238  \n",
      "246       2707     2910      2959      3161  35457  \n",
      "247       2861     2602      2897      3003  35082  \n",
      "248       2844     2476      2882      3126  35216  \n",
      "249       3025     2960      2991      3193  36174  \n",
      "250       2788     2728      2789      3123  35215  \n",
      "251       2911     2911      2963      3342  35872   \n",
      "\n",
      "\n",
      "Key is: Lakshadweep\n",
      "        STATE/UT  YEAR  JANUARY  FEBRUARY  MARCH  APRIL  MAY  JUNE  JULY  \\\n",
      "252  Lakshadweep  2001        2         0      0      0    0     0     0   \n",
      "253  Lakshadweep  2002        0         0      0      0    0     0     0   \n",
      "254  Lakshadweep  2003        0         0      0      0    0     0     0   \n",
      "255  Lakshadweep  2004        0         1      0      0    0     0     0   \n",
      "256  Lakshadweep  2005        0         0      0      0    0     0     0   \n",
      "257  Lakshadweep  2006        0         0      0      0    0     0     1   \n",
      "258  Lakshadweep  2007        1         0      0      1    0     0     0   \n",
      "259  Lakshadweep  2008        0         0      0      0    0     0     0   \n",
      "260  Lakshadweep  2009        1         0      0      0    0     0     0   \n",
      "261  Lakshadweep  2010        0         0      0      0    0     0     0   \n",
      "262  Lakshadweep  2011        0         0      0      0    0     0     0   \n",
      "263  Lakshadweep  2012        0         0      0      0    0     0     0   \n",
      "264  Lakshadweep  2013        0         0      0      0    0     0     0   \n",
      "265  Lakshadweep  2014        0         0      0      0    0     0     0   \n",
      "\n",
      "     AUGUST  SEPTEMBER  OCTOBER  NOVEMBER  DECEMBER  TOTAL  \n",
      "252       0          2        1         1         0      6  \n",
      "253       0          0        0         0         0      0  \n",
      "254       0          0        0         1         0      1  \n",
      "255       0          0        0         1         0      2  \n",
      "256       0          0        0         0         0      0  \n",
      "257       0          0        0         0         0      1  \n",
      "258       0          0        0         0         0      2  \n",
      "259       0          0        0         0         0      0  \n",
      "260       0          0        0         0         0      1  \n",
      "261       0          0        0         0         0      0  \n",
      "262       0          0        0         0         0      0  \n",
      "263       0          0        0         0         0      0  \n",
      "264       0          0        0         0         0      0  \n",
      "265       0          0        1         0         0      1   \n",
      "\n",
      "\n",
      "Key is: Madhya Pradesh\n",
      "           STATE/UT  YEAR  JANUARY  FEBRUARY  MARCH  APRIL   MAY  JUNE  JULY  \\\n",
      "266  Madhya Pradesh  2001     1726      1584   1764   1728  1980  1649  1428   \n",
      "267  Madhya Pradesh  2002     1873      1871   1921   1894  2278  1987  1776   \n",
      "268  Madhya Pradesh  2003     1927      1763   1891   1965  2191  2064  1779   \n",
      "269  Madhya Pradesh  2004     2104      2048   2002   2166  2100  1970  1868   \n",
      "270  Madhya Pradesh  2005     1768      1797   1830   1771  2271  1931  1601   \n",
      "271  Madhya Pradesh  2006     2180      1967   2144   2278  2516  2159  1929   \n",
      "272  Madhya Pradesh  2007     2490      2288   2409   2776  2690  2482  2114   \n",
      "273  Madhya Pradesh  2008     3037      2883   2917   3250  3126  2718  2699   \n",
      "274  Madhya Pradesh  2009     2851      2742   2723   2822  3119  2742  2449   \n",
      "275  Madhya Pradesh  2010     2503      2494   2435   2548  2890  2682  2428   \n",
      "276  Madhya Pradesh  2011     2892      2547   2722   2564  3111  2533  2370   \n",
      "277  Madhya Pradesh  2012     2618      2475   2413   2799  2841  2631  2146   \n",
      "278  Madhya Pradesh  2013     2959      2801   2953   2952  3778  3026  2535   \n",
      "279  Madhya Pradesh  2014     3375      3154   3470   3345  4107  3637  3104   \n",
      "\n",
      "     AUGUST  SEPTEMBER  OCTOBER  NOVEMBER  DECEMBER  TOTAL  \n",
      "266    1372       1544     1650      1711      1576  19712  \n",
      "267    1649       1656     1927      2088      1959  22879  \n",
      "268    1693       1644     1923      1886      1890  22616  \n",
      "269    1672       1856     2039      1882      1884  23591  \n",
      "270    1637       1553     1902      1749      1664  21474  \n",
      "271    1723       1859     2050      2211      2022  25038  \n",
      "272    2080       2161     2323      2384      2247  28444  \n",
      "273    3223       2564     2958      2449      2492  34316  \n",
      "274    2335       2510     2829      2549      2661  32332  \n",
      "275    2245       2226     2583      2635      2458  30127  \n",
      "276    2220       2128     2544      2526      2416  30573  \n",
      "277    1992       2103     2420      2522      2213  29173  \n",
      "278    2448       2587     2741      2621      2633  34034  \n",
      "279    2951       2946     3261      3288      3060  39698   \n",
      "\n",
      "\n",
      "Key is: Maharashtra\n",
      "        STATE/UT  YEAR  JANUARY  FEBRUARY  MARCH  APRIL   MAY  JUNE  JULY  \\\n",
      "280  Maharashtra  2001     3162      3015   3272   3332  3671  3179  2781   \n",
      "281  Maharashtra  2002     3424      3087   3506   3538  3970  3273  3036   \n",
      "282  Maharashtra  2003     3699      3373   3234   3430  3998  3584  3421   \n",
      "283  Maharashtra  2004     3928      3713   3677   3714  4289  3811  3430   \n",
      "284  Maharashtra  2005     4078      3694   3832   3877  4637  4126  3564   \n",
      "285  Maharashtra  2006     4062      3741   4129   4271  4881  4194  3705   \n",
      "286  Maharashtra  2007     4572      4318   4481   4795  5206  4400  3839   \n",
      "287  Maharashtra  2008     4376      4260   4479   4839  4726  4096  3738   \n",
      "288  Maharashtra  2009     4126      4024   4199   4373  4691  4097  3531   \n",
      "289  Maharashtra  2010     4383      4036   4314   4401  4861  4393  3925   \n",
      "290  Maharashtra  2011     4332      4052   4155   3928  4675  3976  3674   \n",
      "291  Maharashtra  2012     4110      3760   3896   4031  4071  3865  3539   \n",
      "292  Maharashtra  2013     4013      3689   3978   3798  4460  3653  3215   \n",
      "293  Maharashtra  2014     3978      3714   3920   3847  4258  3784  3546   \n",
      "\n",
      "     AUGUST  SEPTEMBER  OCTOBER  NOVEMBER  DECEMBER  TOTAL  \n",
      "280    2755       2772     3024      3057      3249  37269  \n",
      "281    2960       2881     3225      3197      3464  39561  \n",
      "282    3537       3494     3774      3651      3827  43022  \n",
      "283    3262       3474     3605      3693      3943  44539  \n",
      "284    3410       3456     3794      3933      4185  46586  \n",
      "285    3497       3705     4197      4084      4421  48887  \n",
      "286    3850       3784     4090      4349      4291  51975  \n",
      "287    3588       3560     3886      3854      4277  49679  \n",
      "288    3737       3921     3916      3895      4355  48865  \n",
      "289    3679       3938     4049      4226      4414  50619  \n",
      "290    3439       3520     3511      3732      4126  47120  \n",
      "291    3384       3374     3508      3523      4186  45247  \n",
      "292    3081       3206     3304      3434      4032  43863  \n",
      "293    3450       3298     3291      3478      3818  44382   \n",
      "\n",
      "\n",
      "Key is: Manipur\n",
      "    STATE/UT  YEAR  JANUARY  FEBRUARY  MARCH  APRIL  MAY  JUNE  JULY  AUGUST  \\\n",
      "294  Manipur  2001       39        31     40     48   40    14    21      26   \n",
      "295  Manipur  2002       51        49     44     37   41    36    50      42   \n",
      "296  Manipur  2003       43        40     48     43   42    44    49      48   \n",
      "297  Manipur  2004       34        43     41     42   40    42    20      37   \n",
      "298  Manipur  2005       55        57     58     48   50    45    45      38   \n",
      "299  Manipur  2006       50        45     51     44   44    26    36      37   \n",
      "300  Manipur  2007       47        46     57     51   44    42    35      31   \n",
      "301  Manipur  2008       56        41     39     39   34    46    32      31   \n",
      "302  Manipur  2009       40        54     51     41   39    39    58      37   \n",
      "303  Manipur  2010       74        46     49     46   41    30    44      37   \n",
      "304  Manipur  2011       64        66     62     63   52    58    55      54   \n",
      "305  Manipur  2012       67        70     64     69   57    72    62      60   \n",
      "306  Manipur  2013       59        46     57     58   45    46    39      40   \n",
      "307  Manipur  2014       61        59     66     59   62    49    49      53   \n",
      "\n",
      "     SEPTEMBER  OCTOBER  NOVEMBER  DECEMBER  TOTAL  \n",
      "294         38       41        31        41    410  \n",
      "295         42       49        39        40    520  \n",
      "296         36       44        45        41    523  \n",
      "297         36       30        45        58    468  \n",
      "298         51       47        51        55    600  \n",
      "299         35       43        61        49    521  \n",
      "300         44       44        38        59    538  \n",
      "301         45       48        42        49    502  \n",
      "302         45       58        57        59    578  \n",
      "303         54       57        62        62    602  \n",
      "304         52       50        59        56    691  \n",
      "305         58       64        58        70    771  \n",
      "306         63       67        67        84    671  \n",
      "307         73       72        59        73    735   \n",
      "\n",
      "\n",
      "Key is: Meghalaya\n",
      "      STATE/UT  YEAR  JANUARY  FEBRUARY  MARCH  APRIL  MAY  JUNE  JULY  \\\n",
      "308  Meghalaya  2001       11        15     13     20   12    11    15   \n",
      "309  Meghalaya  2002       31        26     43     40   39    31    28   \n",
      "310  Meghalaya  2003       33        31     31     31   34    37    33   \n",
      "311  Meghalaya  2004       22        21     29     24   31    21    27   \n",
      "312  Meghalaya  2005       38        30     38     18   27    26    23   \n",
      "313  Meghalaya  2006       16        10     17     10   14    16    10   \n",
      "314  Meghalaya  2007       19        19     13     13   12    10    13   \n",
      "315  Meghalaya  2008       13         9     21     25   24    16    11   \n",
      "316  Meghalaya  2009       28        24     36     24   37    23    19   \n",
      "317  Meghalaya  2010       23        22     31     24   20    23    20   \n",
      "318  Meghalaya  2011       24        25     33     18   20    20    30   \n",
      "319  Meghalaya  2012       33        31     28     38   30    31    29   \n",
      "320  Meghalaya  2013       20        24     20     14   20    21    16   \n",
      "321  Meghalaya  2014       30        27     20     25   27    28    29   \n",
      "\n",
      "     AUGUST  SEPTEMBER  OCTOBER  NOVEMBER  DECEMBER  TOTAL  \n",
      "308      12          9       21        12        10    161  \n",
      "309      33         43       56        51        44    465  \n",
      "310      32         26       27        29        29    373  \n",
      "311      30         32       43        28        20    328  \n",
      "312      25         25       33        17        30    330  \n",
      "313      21         15       18        13        16    176  \n",
      "314       9         18        5        15        11    157  \n",
      "315      18         12       12        15        15    191  \n",
      "316      23         18       25        19        38    314  \n",
      "317      20         20       14        19        21    257  \n",
      "318      22         12       25        13        19    261  \n",
      "319      61         22       25        14        13    355  \n",
      "320       9         11       14        13        12    194  \n",
      "321      24         26       22        19        24    301   \n",
      "\n",
      "\n",
      "Key is: Mizoram\n",
      "    STATE/UT  YEAR  JANUARY  FEBRUARY  MARCH  APRIL  MAY  JUNE  JULY  AUGUST  \\\n",
      "322  Mizoram  2001        7         5      9      4    9     5     8       7   \n",
      "323  Mizoram  2002        6         0      4      9    3     2     2       4   \n",
      "324  Mizoram  2003        5         8      3      5    8     5     6       5   \n",
      "325  Mizoram  2004        6         0      4      8    3     2     2       2   \n",
      "326  Mizoram  2005       12         8      4      3    2     3     2       5   \n",
      "327  Mizoram  2006       11         4      7      6    6     5     2       6   \n",
      "328  Mizoram  2007        4         4      4      4    3     5    10       7   \n",
      "329  Mizoram  2008        6         7      8      7    6     9     8       5   \n",
      "330  Mizoram  2009        8         4      6      1    3     8     7       7   \n",
      "331  Mizoram  2010       14        18     20      8   13     9     6       6   \n",
      "332  Mizoram  2011        8         5     14      3   13     3     9       4   \n",
      "333  Mizoram  2012        7        10      7      6    8     2    20       4   \n",
      "334  Mizoram  2013       11         7     18     14    9     8    10       8   \n",
      "335  Mizoram  2014       10         6     15     10   11     4    10       5   \n",
      "\n",
      "     SEPTEMBER  OCTOBER  NOVEMBER  DECEMBER  TOTAL  \n",
      "322          4        3         5         6     72  \n",
      "323          3        0         2         6     41  \n",
      "324          4        3         9        10     71  \n",
      "325          3        0         2         6     38  \n",
      "326          5        5         7        15     71  \n",
      "327          3        3         9        10     72  \n",
      "328          3        2         4         2     52  \n",
      "329          5        6        12         8     87  \n",
      "330          7        5         8         7     71  \n",
      "331          9        6         8         8    125  \n",
      "332          5        8        10        15     97  \n",
      "333         12       13         6        15    110  \n",
      "334          6        8         7         8    114  \n",
      "335          6        3         7         8     95   \n",
      "\n",
      "\n",
      "Key is: Nagaland\n",
      "     STATE/UT  YEAR  JANUARY  FEBRUARY  MARCH  APRIL  MAY  JUNE  JULY  AUGUST  \\\n",
      "336  Nagaland  2001        4         5      7      9    6     8     5       2   \n",
      "337  Nagaland  2002        5         1      1      3    3     4     2       1   \n",
      "338  Nagaland  2003        4         8      4      8    5     4     5       3   \n",
      "339  Nagaland  2004        7         8      5      7    0     3    12       6   \n",
      "340  Nagaland  2005        1         8      5      4    0     8     4       5   \n",
      "341  Nagaland  2006        7         6      8      7    6     9     6       6   \n",
      "342  Nagaland  2007        7         7     10      7    7     4     6       6   \n",
      "343  Nagaland  2008        8        10     12      8   10    13    16       3   \n",
      "344  Nagaland  2009        3         4      3      1    5     6     8       4   \n",
      "345  Nagaland  2010       10        10      2      1    2     6     1       5   \n",
      "346  Nagaland  2011        3         3      7      3    4     2     1       0   \n",
      "347  Nagaland  2012        5         4      4      4    4     4     1       1   \n",
      "348  Nagaland  2013        4         6      2      3    2     4     3       6   \n",
      "349  Nagaland  2014        3         2      2      4    2     0     1       3   \n",
      "\n",
      "     SEPTEMBER  OCTOBER  NOVEMBER  DECEMBER  TOTAL  \n",
      "336          4        3         1         6     60  \n",
      "337          3        2         2         7     34  \n",
      "338          2        4         5         4     56  \n",
      "339          3        7         6         4     68  \n",
      "340          3       10         2         3     53  \n",
      "341          5        5         4         8     77  \n",
      "342          1        8         3         9     75  \n",
      "343         10       10        12        14    126  \n",
      "344          1        7         1         4     47  \n",
      "345          2        3         1         1     44  \n",
      "346          2        4         2         1     32  \n",
      "347          3        3         5         4     42  \n",
      "348          4        3         2         0     39  \n",
      "349          0        4         0         7     28   \n",
      "\n",
      "\n",
      "Key is: Odisha\n",
      "    STATE/UT  YEAR  JANUARY  FEBRUARY  MARCH  APRIL  MAY  JUNE  JULY  AUGUST  \\\n",
      "350   Odisha  2001      573       546    575    593  631   528   449     460   \n",
      "351   Odisha  2002      563       520    643    595  656   592   559     495   \n",
      "352   Odisha  2003      558       583    594    573  619   567   566     493   \n",
      "353   Odisha  2004      649       611    684    578  636   624   548     476   \n",
      "354   Odisha  2005      670       684    684    679  820   594   609     544   \n",
      "355   Odisha  2006      831       614    702    651  700   651   599     522   \n",
      "356   Odisha  2007      835       573    722    719  720   638   671     573   \n",
      "357   Odisha  2008      752       716    771    794  784   651   644     570   \n",
      "358   Odisha  2009      767       756    745    740  776   846   582     675   \n",
      "359   Odisha  2010      860       804    827    729  886   816   728     719   \n",
      "360   Odisha  2011      841       807    890    779  932   825   763     711   \n",
      "361   Odisha  2012      811       745    839    781  818   786   756     671   \n",
      "362   Odisha  2013      911       806    912    765  999   809   757     677   \n",
      "363   Odisha  2014      896       826    851    726  852   828   756     693   \n",
      "\n",
      "     SEPTEMBER  OCTOBER  NOVEMBER  DECEMBER  TOTAL  \n",
      "350        502      486       555       508   6406  \n",
      "351        518      568       554       587   6850  \n",
      "352        500      510       530       582   6675  \n",
      "353        577      579       627       689   7278  \n",
      "354        546      538       633       592   7593  \n",
      "355        533      534       600       792   7729  \n",
      "356        569      696       719       779   8214  \n",
      "357        577      600       598       727   8184  \n",
      "358        685      702       763       855   8892  \n",
      "359        698      745       778       823   9413  \n",
      "360        547      710       736       857   9398  \n",
      "361        665      727       755       931   9285  \n",
      "362        707      619       799       919   9680  \n",
      "363        660      776       854       922   9640   \n",
      "\n",
      "\n",
      "Key is: Puducherry\n",
      "       STATE/UT  YEAR  JANUARY  FEBRUARY  MARCH  APRIL  MAY  JUNE  JULY  \\\n",
      "364  Puducherry  2001      109        89    122    107  122   106   107   \n",
      "365  Puducherry  2002      101       110    131    121  126   140   141   \n",
      "366  Puducherry  2003      103       122    142    123  138   131   133   \n",
      "367  Puducherry  2004      137       139    143    126  127   124   145   \n",
      "368  Puducherry  2005      152       164    150    153  138   145   162   \n",
      "369  Puducherry  2006      120       124    166    125  148   132   125   \n",
      "370  Puducherry  2007      149       126    157    165  138   153   152   \n",
      "371  Puducherry  2008      127       145    152    153  162   151   142   \n",
      "372  Puducherry  2009      148       130    153    148  155   147   126   \n",
      "373  Puducherry  2010      114       132    132    119  126   141   151   \n",
      "374  Puducherry  2011      122       105    119    112  116   109   137   \n",
      "375  Puducherry  2012      128       125    159    103  133   131   126   \n",
      "376  Puducherry  2013      102       108    120    139  127   128   126   \n",
      "377  Puducherry  2014       44        64     65     46   59    57    60   \n",
      "\n",
      "     AUGUST  SEPTEMBER  OCTOBER  NOVEMBER  DECEMBER  TOTAL  \n",
      "364     107         97      105       111       104   1286  \n",
      "365     128        120      131       111       124   1484  \n",
      "366     156        147      134       114       143   1586  \n",
      "367     146        144      161       114       127   1633  \n",
      "368     159        148      143       121       145   1780  \n",
      "369     161        151      130       122       135   1639  \n",
      "370     139        156      131       149       129   1744  \n",
      "371     154        136      155        91       130   1698  \n",
      "372     135        146      160       126       124   1698  \n",
      "373     127        130      139       104       114   1529  \n",
      "374     144        140      149       117       110   1480  \n",
      "375     119        115      124       119       128   1510  \n",
      "376     125        134      129       106       107   1451  \n",
      "377      58         62       75        44        37    671   \n",
      "\n",
      "\n",
      "Key is: Punjab\n",
      "    STATE/UT  YEAR  JANUARY  FEBRUARY  MARCH  APRIL  MAY  JUNE  JULY  AUGUST  \\\n",
      "378   Punjab  2001      130       160    162    159  154   135   146     144   \n",
      "379   Punjab  2002      130       128    122    115  110   130   138     123   \n",
      "380   Punjab  2003      101        85    107    124  135   142   149     152   \n",
      "381   Punjab  2004      167       181    163    162  160   163   166     160   \n",
      "382   Punjab  2005      115       196    175    159  167   157   243     151   \n",
      "383   Punjab  2006      185       182    165    163  182   200   173     187   \n",
      "384   Punjab  2007      211       179    192    180  187   190   183     203   \n",
      "385   Punjab  2008      230       191    176    224  197   191   190     177   \n",
      "386   Punjab  2009      225       237    214    221  191   238   209     206   \n",
      "387   Punjab  2010      219       195    209    219  200   200   201     187   \n",
      "388   Punjab  2011      517       602    531    536  510   521   522     536   \n",
      "389   Punjab  2012      525       550    529    527  502   535   505     480   \n",
      "390   Punjab  2013      503       464    555    552  533   487   467     458   \n",
      "391   Punjab  2014      495       493    555    524  563   535   491     519   \n",
      "\n",
      "     SEPTEMBER  OCTOBER  NOVEMBER  DECEMBER  TOTAL  \n",
      "378        135      165       156       162   1808  \n",
      "379        134      118       133       127   1508  \n",
      "380        147      167       151       143   1603  \n",
      "381        195      188       170       161   2036  \n",
      "382        181      178       210       220   2152  \n",
      "383        207      211       187       209   2251  \n",
      "384        232      213       214       207   2391  \n",
      "385        184      225       221       188   2394  \n",
      "386        217      236       256       234   2684  \n",
      "387        180      196       214       219   2439  \n",
      "388        491      585       572       573   6496  \n",
      "389        483      519       610       563   6328  \n",
      "390        482      573       665       584   6323  \n",
      "391        489      568       595       564   6391   \n",
      "\n",
      "\n",
      "Key is: Rajasthan\n",
      "      STATE/UT  YEAR  JANUARY  FEBRUARY  MARCH  APRIL   MAY  JUNE  JULY  \\\n",
      "392  Rajasthan  2001     1733      1678   1755   1750  1937  1778  1485   \n",
      "393  Rajasthan  2002     1506      1567   1707   1738  1978  1878  1747   \n",
      "394  Rajasthan  2003     1795      1664   1707   1762  2101  1967  1837   \n",
      "395  Rajasthan  2004     1933      1939   1999   2124  2161  2021  1815   \n",
      "396  Rajasthan  2005     1804      1715   1971   1964  2429  2123  1920   \n",
      "397  Rajasthan  2006     1948      1926   2052   2110  2438  1998  1901   \n",
      "398  Rajasthan  2007     2051      1918   2054   2252  2270  1931  1822   \n",
      "399  Rajasthan  2008     2020      1935   1872   2111  2243  1936  1856   \n",
      "400  Rajasthan  2009     1983      2014   2172   2235  2438  2285  2026   \n",
      "401  Rajasthan  2010     2074      2024   2138   2140  2298  2163  1974   \n",
      "402  Rajasthan  2011     2045      1881   2006   1986  2341  2026  1859   \n",
      "403  Rajasthan  2012     2048      1914   1972   1978  2116  2043  1972   \n",
      "404  Rajasthan  2013     2034      1821   1963   2046  2305  2109  1822   \n",
      "405  Rajasthan  2014     2143      1951   2130   2053  2484  2213  1976   \n",
      "\n",
      "     AUGUST  SEPTEMBER  OCTOBER  NOVEMBER  DECEMBER  TOTAL  \n",
      "392    1606       1562     1626      1583      1506  19999  \n",
      "393    1632       1836     1716      1696      1570  20571  \n",
      "394    1779       1840     1977      1907      1597  21933  \n",
      "395    1697       1944     1889      2057      1664  23243  \n",
      "396    1844       1843     1920      2055      1527  23115  \n",
      "397    1726       1776     1984      1855      1634  23348  \n",
      "398    1935       1945     2018      2084      1605  23885  \n",
      "399    1829       2132     2135      2055      1580  23704  \n",
      "400    2033       2084     2121      2011      1712  25114  \n",
      "401    1799       1782     1961      2090      1859  24302  \n",
      "402    1821       1815     1906      1957      1602  23245  \n",
      "403    1773       1670     1873      1913      1697  22969  \n",
      "404    1679       1944     2013      2095      1755  23586  \n",
      "405    1888       1839     2035      2104      1823  24639   \n",
      "\n",
      "\n",
      "Key is: Sikkim\n",
      "    STATE/UT  YEAR  JANUARY  FEBRUARY  MARCH  APRIL  MAY  JUNE  JULY  AUGUST  \\\n",
      "406   Sikkim  2001        9         1      6      5    3     5     0       6   \n",
      "407   Sikkim  2002       43        23     50     11   34    40    29      17   \n",
      "408   Sikkim  2003       10        10      8     11   16    16     8      13   \n",
      "409   Sikkim  2004        8        15     12      8   15    22    11       7   \n",
      "410   Sikkim  2005       10        19     13     15   17    16     8      23   \n",
      "411   Sikkim  2006        4         5      6      1    3     1     3       3   \n",
      "412   Sikkim  2007       10         7     21      7   12    12    10      12   \n",
      "413   Sikkim  2008       13        28     16     10    8    13     6      26   \n",
      "414   Sikkim  2009       57        39     28    100   43    47    29      41   \n",
      "415   Sikkim  2010       16        17     18     19   11    18    15      11   \n",
      "416   Sikkim  2011       17         9     22     19    3     7    11       8   \n",
      "417   Sikkim  2012       14         7      8     10    9    15    10      11   \n",
      "418   Sikkim  2013       16        17     33     24   24    17    18      21   \n",
      "419   Sikkim  2014        9         6     15     13   13    11    14      11   \n",
      "\n",
      "     SEPTEMBER  OCTOBER  NOVEMBER  DECEMBER  TOTAL  \n",
      "406          6        5         7         2     55  \n",
      "407         25       24        24        31    351  \n",
      "408          8        7        11        13    131  \n",
      "409         11       25        11        14    159  \n",
      "410         12       21        20        15    189  \n",
      "411          1        3         6         3     39  \n",
      "412          8       16        12        23    150  \n",
      "413         13       26        25        12    196  \n",
      "414         46       34        50        50    564  \n",
      "415         18       10        21        12    186  \n",
      "416          8       12         6         7    129  \n",
      "417         10       12        10         7    123  \n",
      "418         17       20        16        21    244  \n",
      "419         19        6         9         4    130   \n",
      "\n",
      "\n",
      "Key is: Tamil Nadu\n",
      "       STATE/UT  YEAR  JANUARY  FEBRUARY  MARCH  APRIL   MAY  JUNE  JULY  \\\n",
      "420  Tamil Nadu  2001     4174      4264   4724   4442  4465  4453  4370   \n",
      "421  Tamil Nadu  2002     4326      4300   4703   4788  4935  4609  4434   \n",
      "422  Tamil Nadu  2003     4278      4114   4341   3928  4244  4378  4177   \n",
      "423  Tamil Nadu  2004     4160      4252   4457   4421  4540  4495  4373   \n",
      "424  Tamil Nadu  2005     9062      8705   9205   9006  9330  5691  4235   \n",
      "425  Tamil Nadu  2006     4435      4322   4781   4808  5082  5029  4365   \n",
      "426  Tamil Nadu  2007     4855      4527   4911   5348  5414  4978  4841   \n",
      "427  Tamil Nadu  2008     4962      4626   5018   5465  5532  5087  4947   \n",
      "428  Tamil Nadu  2009     4950      4802   4927   4956  5406  5241  4975   \n",
      "429  Tamil Nadu  2010     5498      5199   5727   5663  6027  5393  5221   \n",
      "430  Tamil Nadu  2011     5522      5228   5821   5461  6018  5879  5706   \n",
      "431  Tamil Nadu  2012     5868      5646   5813   5819  5896  5646  5688   \n",
      "432  Tamil Nadu  2013     5881      5337   5741   5599  5914  5593  5311   \n",
      "433  Tamil Nadu  2014     5658      5293   5824   5303  5711  5915  5719   \n",
      "\n",
      "     AUGUST  SEPTEMBER  OCTOBER  NOVEMBER  DECEMBER  TOTAL  \n",
      "420    4437       4378     3985      4261      4025  51978  \n",
      "421    4523       4500     4273      3883      4229  53503  \n",
      "422    4337       4555     4397      3973      4303  51025  \n",
      "423    4696       4506     4282      4136      4190  52508  \n",
      "424    4158       4450     4082      3601      3955  75480  \n",
      "425    4891       4575     4320      4007      4530  55145  \n",
      "426    5320       4850     4758      4730      4585  59117  \n",
      "427    5436       4956     4862      4833      4685  60409  \n",
      "428    5227       5332     5288      4723      4967  60794  \n",
      "429    5367       5349     5426      5179      4947  64996  \n",
      "430    5162       5688     5107      4937      5344  65873  \n",
      "431    5815       5283     5444      5367      5472  67757  \n",
      "432    5470       5597     5313      5268      5214  66238  \n",
      "433    5936       5777     5516      5036      5562  67250   \n",
      "\n",
      "\n",
      "Key is: Tripura\n",
      "    STATE/UT  YEAR  JANUARY  FEBRUARY  MARCH  APRIL  MAY  JUNE  JULY  AUGUST  \\\n",
      "434  Tripura  2001       53        52     63     44   36    55    50      37   \n",
      "435  Tripura  2002       47        38     56     44   60    54    65      51   \n",
      "436  Tripura  2003       73        51     51     45   57    52    61      51   \n",
      "437  Tripura  2004       49        42     57     44   56    58    54      53   \n",
      "438  Tripura  2005       57        55     53     42   54    65    52      54   \n",
      "439  Tripura  2006       70        50     62     67   74    52    69      55   \n",
      "440  Tripura  2007       59        85     70     66   69    67    51      58   \n",
      "441  Tripura  2008       51        56     66     70   72    55    64      74   \n",
      "442  Tripura  2009       68        93     78     61   77    63    55      76   \n",
      "443  Tripura  2010       76        66     81     77   65    68    72      77   \n",
      "444  Tripura  2011       85        57     81     64   55    67    54      72   \n",
      "445  Tripura  2012       83        85     69     72   82    66    65      70   \n",
      "446  Tripura  2013       66        50     63     72   64    70    69      61   \n",
      "447  Tripura  2014       65        74     81     63   72    46    64      53   \n",
      "\n",
      "     SEPTEMBER  OCTOBER  NOVEMBER  DECEMBER  TOTAL  \n",
      "434         36       41        35        42    544  \n",
      "435         54       42        59        54    624  \n",
      "436         60       64        61        50    676  \n",
      "437         39       63        66        64    645  \n",
      "438         59       61        48        62    662  \n",
      "439         68       73        80        73    793  \n",
      "440         71       60        58        87    801  \n",
      "441         78       65        57        59    767  \n",
      "442         65       63        72        94    865  \n",
      "443         86       72        83        78    901  \n",
      "444         50       78        79        92    834  \n",
      "445         75       76        64        81    888  \n",
      "446         68       76        81        78    818  \n",
      "447         54       60        38        46    716   \n",
      "\n",
      "\n",
      "Key is: Uttar Pradesh\n",
      "          STATE/UT  YEAR  JANUARY  FEBRUARY  MARCH  APRIL   MAY  JUNE  JULY  \\\n",
      "448  Uttar Pradesh  2001     1695      1737   1652   1663  1733  1027  1310   \n",
      "449  Uttar Pradesh  2002     1237      1164   1270   1194  1349  1363  1169   \n",
      "450  Uttar Pradesh  2003     1049       955    911    868   996   908   873   \n",
      "451  Uttar Pradesh  2004     1309      1309   1285   1004  1174  1062  1093   \n",
      "452  Uttar Pradesh  2005     1266      1220   1334   1114  1422  1302  1182   \n",
      "453  Uttar Pradesh  2006     1608      1605   1389   1160  1280  1343  1201   \n",
      "454  Uttar Pradesh  2007     1647      1570   1568   1495  1511  1461  1443   \n",
      "455  Uttar Pradesh  2008     1799      1624   1664   1555  1478  1483  1528   \n",
      "456  Uttar Pradesh  2009     2010      1758   1834   1802  1912  1747  1683   \n",
      "457  Uttar Pradesh  2010     2213      2123   2284   2060  2171  2320  2022   \n",
      "458  Uttar Pradesh  2011     2045      2088   2145   1905  2178  2189  1842   \n",
      "459  Uttar Pradesh  2012     2101      2030   2100   2066  2380  2167  2037   \n",
      "460  Uttar Pradesh  2013     2290      2150   2235   2225  2554  2227  2035   \n",
      "461  Uttar Pradesh  2014     2550      2311   2217   2067  2265  2209  2086   \n",
      "\n",
      "     AUGUST  SEPTEMBER  OCTOBER  NOVEMBER  DECEMBER  TOTAL  \n",
      "448    1478       1626     1439      1231      1330  17921  \n",
      "449    1113       1099     1100      1233      1166  14457  \n",
      "450     815        794      938      1065      1182  11354  \n",
      "451    1227       1164     1201      1198      1348  14374  \n",
      "452    1251       1080     1107      1153      1258  14689  \n",
      "453    1252       1226     1204      1227      1712  16207  \n",
      "454    1392       1394     1393      1514      1643  18031  \n",
      "455    1411       1489     1569      1631      1833  19064  \n",
      "456    1754       1694     1791      2071      1929  21985  \n",
      "457    1914       1862     1929      2131      2387  25416  \n",
      "458    1948       1879     1909      2150      2235  24513  \n",
      "459    1759       1670     1803      2055      2310  24478  \n",
      "460    1951       1871     1922      2149      2366  25975  \n",
      "461    2017       1824     2023      2170      2325  26064   \n",
      "\n",
      "\n",
      "Key is: Uttarakhand\n",
      "        STATE/UT  YEAR  JANUARY  FEBRUARY  MARCH  APRIL  MAY  JUNE  JULY  \\\n",
      "462  Uttarakhand  2001       78        88     83     74   94    84    86   \n",
      "463  Uttarakhand  2002       87        76     79    106  111   121    85   \n",
      "464  Uttarakhand  2003       80        87     78     91  120   106   113   \n",
      "465  Uttarakhand  2004      113        99    103     97  115   122   110   \n",
      "466  Uttarakhand  2005      120        94     96     89  129   141   106   \n",
      "467  Uttarakhand  2006      108       118    149    124  100   116   124   \n",
      "468  Uttarakhand  2007      133       116    124    134  148   136   119   \n",
      "469  Uttarakhand  2008      138       126    138    119  133   125   143   \n",
      "470  Uttarakhand  2009       99       112    101    134  115   137   124   \n",
      "471  Uttarakhand  2010       86       108    128    127  125   145   148   \n",
      "472  Uttarakhand  2011      114       118    119    124  135   133   112   \n",
      "473  Uttarakhand  2012      112       152    122    137  127   138   108   \n",
      "474  Uttarakhand  2013       84        91    118    102  167   120    94   \n",
      "475  Uttarakhand  2014       58        43     65     64   77    62    61   \n",
      "\n",
      "     AUGUST  SEPTEMBER  OCTOBER  NOVEMBER  DECEMBER  TOTAL  \n",
      "462      81         82       74        84        95   1003  \n",
      "463      97         68       94        96        97   1117  \n",
      "464     106         84      105       106       110   1186  \n",
      "465      81         81      105       114       112   1252  \n",
      "466      93        112       99       124       129   1332  \n",
      "467     115        110      135       116       146   1461  \n",
      "468     118        131      104       116       143   1522  \n",
      "469      73         81      108       116       109   1409  \n",
      "470     101         91       99       133       137   1383  \n",
      "471     128         95      129       136       124   1479  \n",
      "472     100        115      125       149       151   1495  \n",
      "473     123         82      118       125       111   1455  \n",
      "474      81        104      112        97       127   1297  \n",
      "475      72         69       83        76        71    801   \n",
      "\n",
      "\n",
      "Key is: West Bengal\n",
      "        STATE/UT  YEAR  JANUARY  FEBRUARY  MARCH  APRIL   MAY  JUNE  JULY  \\\n",
      "476  West Bengal  2001      897       908    948   1039   952   972   915   \n",
      "477  West Bengal  2002      894       932    942   1041   911   854   915   \n",
      "478  West Bengal  2003      916       930   1084    975   909   980  1054   \n",
      "479  West Bengal  2004     1044      1001   1197   1085  1086  1043   964   \n",
      "480  West Bengal  2005     1036      1061   1084   1035  1096  1049   998   \n",
      "481  West Bengal  2006     1112      1093   1187   1053  1124  1153  1011   \n",
      "482  West Bengal  2007     1134      1051   1275   1240  1157  1269  1176   \n",
      "483  West Bengal  2008      974       919   1097   1013  1069  1000   875   \n",
      "484  West Bengal  2009     1231      1150   1183   1101  1158  1180  1162   \n",
      "485  West Bengal  2010     1245      1150   1349   1246  1172  1284  1231   \n",
      "486  West Bengal  2011     1350      1179   1314   1148  1220  1241  1185   \n",
      "487  West Bengal  2012     1346      1383   1357   1270  1352  1434  1349   \n",
      "488  West Bengal  2013     1564      1382   1474   1392  1629  1391  1315   \n",
      "489  West Bengal  2014     1516      1398   1473   1385  1527  1439  1416   \n",
      "\n",
      "     AUGUST  SEPTEMBER  OCTOBER  NOVEMBER  DECEMBER  TOTAL  \n",
      "476     990        953      823       935      1098  11430  \n",
      "477     919        922      961       940      1006  11237  \n",
      "478     934        945      823       842       983  11375  \n",
      "479     900        869      977       898      1088  12152  \n",
      "480     926        887      975       979      1055  12181  \n",
      "481    1105       1009     1026      1081      1131  13085  \n",
      "482    1050       1165     1133      1068      1236  13954  \n",
      "483     924        908      941       880       947  11547  \n",
      "484    1104       1171     1161      1176      1182  13959  \n",
      "485    1190       1128     1227      1251      1252  14725  \n",
      "486    1074       1112     1214      1161      1270  14468  \n",
      "487    1204       1112     1251      1179      1371  15608  \n",
      "488    1208       1228     1299      1335      1332  16549  \n",
      "489    1356       1391     1395      1415      1394  17105   \n",
      "\n",
      "\n"
     ]
    }
   ],
   "source": [
    "grouped_obj = month_wise.groupby([\"STATE/UT\"])\n",
    "for key, item in grouped_obj:\n",
    "    print(\"Key is: \" + str(key))\n",
    "    print(str(item), \"\\n\\n\")"
   ]
  },
  {
   "cell_type": "code",
   "execution_count": 12,
   "metadata": {},
   "outputs": [
    {
     "data": {
      "application/vnd.plotly.v1+json": {
       "config": {
        "plotlyServerURL": "https://plot.ly"
       },
       "data": [
        {
         "hovertemplate": "STATE/UT=%{x}<br>YEAR=%{y}<br>FEBRUARY=%{z}<extra></extra>",
         "legendgroup": "",
         "marker": {
          "color": "#636efa",
          "symbol": "circle"
         },
         "mode": "markers",
         "name": "",
         "scene": "scene",
         "showlegend": false,
         "type": "scatter3d",
         "x": [
          "A & N Islands",
          "A & N Islands",
          "A & N Islands",
          "A & N Islands",
          "A & N Islands",
          "A & N Islands",
          "A & N Islands",
          "A & N Islands",
          "A & N Islands",
          "A & N Islands",
          "A & N Islands",
          "A & N Islands",
          "A & N Islands",
          "A & N Islands",
          "Andhra Pradesh",
          "Andhra Pradesh",
          "Andhra Pradesh",
          "Andhra Pradesh",
          "Andhra Pradesh",
          "Andhra Pradesh",
          "Andhra Pradesh",
          "Andhra Pradesh",
          "Andhra Pradesh",
          "Andhra Pradesh",
          "Andhra Pradesh",
          "Andhra Pradesh",
          "Andhra Pradesh",
          "Andhra Pradesh",
          "Arunachal Pradesh",
          "Arunachal Pradesh",
          "Arunachal Pradesh",
          "Arunachal Pradesh",
          "Arunachal Pradesh",
          "Arunachal Pradesh",
          "Arunachal Pradesh",
          "Arunachal Pradesh",
          "Arunachal Pradesh",
          "Arunachal Pradesh",
          "Arunachal Pradesh",
          "Arunachal Pradesh",
          "Arunachal Pradesh",
          "Arunachal Pradesh",
          "Assam",
          "Assam",
          "Assam",
          "Assam",
          "Assam",
          "Assam",
          "Assam",
          "Assam",
          "Assam",
          "Assam",
          "Assam",
          "Assam",
          "Assam",
          "Assam",
          "Bihar",
          "Bihar",
          "Bihar",
          "Bihar",
          "Bihar",
          "Bihar",
          "Bihar",
          "Bihar",
          "Bihar",
          "Bihar",
          "Bihar",
          "Bihar",
          "Bihar",
          "Bihar",
          "Chandigarh",
          "Chandigarh",
          "Chandigarh",
          "Chandigarh",
          "Chandigarh",
          "Chandigarh",
          "Chandigarh",
          "Chandigarh",
          "Chandigarh",
          "Chandigarh",
          "Chandigarh",
          "Chandigarh",
          "Chandigarh",
          "Chandigarh",
          "Chhattisgarh",
          "Chhattisgarh",
          "Chhattisgarh",
          "Chhattisgarh",
          "Chhattisgarh",
          "Chhattisgarh",
          "Chhattisgarh",
          "Chhattisgarh",
          "Chhattisgarh",
          "Chhattisgarh",
          "Chhattisgarh",
          "Chhattisgarh",
          "Chhattisgarh",
          "Chhattisgarh",
          "D & N Haveli",
          "D & N Haveli",
          "D & N Haveli",
          "D & N Haveli",
          "D & N Haveli",
          "D & N Haveli",
          "D & N Haveli",
          "D & N Haveli",
          "D & N Haveli",
          "D & N Haveli",
          "D & N Haveli",
          "D & N Haveli",
          "D & N Haveli",
          "D&N Haveli",
          "Daman & Diu",
          "Daman & Diu",
          "Daman & Diu",
          "Daman & Diu",
          "Daman & Diu",
          "Daman & Diu",
          "Daman & Diu",
          "Daman & Diu",
          "Daman & Diu",
          "Daman & Diu",
          "Daman & Diu",
          "Daman & Diu",
          "Daman & Diu",
          "Daman & Diu",
          "Delhi (Ut)",
          "Delhi (Ut)",
          "Delhi (Ut)",
          "Delhi (Ut)",
          "Delhi (Ut)",
          "Delhi (Ut)",
          "Delhi (Ut)",
          "Delhi (Ut)",
          "Delhi (Ut)",
          "Delhi (Ut)",
          "Delhi (Ut)",
          "Delhi (Ut)",
          "Delhi (Ut)",
          "Delhi Ut",
          "Goa",
          "Goa",
          "Goa",
          "Goa",
          "Goa",
          "Goa",
          "Goa",
          "Goa",
          "Goa",
          "Goa",
          "Goa",
          "Goa",
          "Goa",
          "Goa",
          "Gujarat",
          "Gujarat",
          "Gujarat",
          "Gujarat",
          "Gujarat",
          "Gujarat",
          "Gujarat",
          "Gujarat",
          "Gujarat",
          "Gujarat",
          "Gujarat",
          "Gujarat",
          "Gujarat",
          "Gujarat",
          "Haryana",
          "Haryana",
          "Haryana",
          "Haryana",
          "Haryana",
          "Haryana",
          "Haryana",
          "Haryana",
          "Haryana",
          "Haryana",
          "Haryana",
          "Haryana",
          "Haryana",
          "Haryana",
          "Himachal Pradesh",
          "Himachal Pradesh",
          "Himachal Pradesh",
          "Himachal Pradesh",
          "Himachal Pradesh",
          "Himachal Pradesh",
          "Himachal Pradesh",
          "Himachal Pradesh",
          "Himachal Pradesh",
          "Himachal Pradesh",
          "Himachal Pradesh",
          "Himachal Pradesh",
          "Himachal Pradesh",
          "Himachal Pradesh",
          "Jammu & Kashmir",
          "Jammu & Kashmir",
          "Jammu & Kashmir",
          "Jammu & Kashmir",
          "Jammu & Kashmir",
          "Jammu & Kashmir",
          "Jammu & Kashmir",
          "Jammu & Kashmir",
          "Jammu & Kashmir",
          "Jammu & Kashmir",
          "Jammu & Kashmir",
          "Jammu & Kashmir",
          "Jammu & Kashmir",
          "Jammu & Kashmir",
          "Jharkhand",
          "Jharkhand",
          "Jharkhand",
          "Jharkhand",
          "Jharkhand",
          "Jharkhand",
          "Jharkhand",
          "Jharkhand",
          "Jharkhand",
          "Jharkhand",
          "Jharkhand",
          "Jharkhand",
          "Jharkhand",
          "Jharkhand",
          "Karnataka",
          "Karnataka",
          "Karnataka",
          "Karnataka",
          "Karnataka",
          "Karnataka",
          "Karnataka",
          "Karnataka",
          "Karnataka",
          "Karnataka",
          "Karnataka",
          "Karnataka",
          "Karnataka",
          "Karnataka",
          "Kerala",
          "Kerala",
          "Kerala",
          "Kerala",
          "Kerala",
          "Kerala",
          "Kerala",
          "Kerala",
          "Kerala",
          "Kerala",
          "Kerala",
          "Kerala",
          "Kerala",
          "Kerala",
          "Lakshadweep",
          "Lakshadweep",
          "Lakshadweep",
          "Lakshadweep",
          "Lakshadweep",
          "Lakshadweep",
          "Lakshadweep",
          "Lakshadweep",
          "Lakshadweep",
          "Lakshadweep",
          "Lakshadweep",
          "Lakshadweep",
          "Lakshadweep",
          "Lakshadweep",
          "Madhya Pradesh",
          "Madhya Pradesh",
          "Madhya Pradesh",
          "Madhya Pradesh",
          "Madhya Pradesh",
          "Madhya Pradesh",
          "Madhya Pradesh",
          "Madhya Pradesh",
          "Madhya Pradesh",
          "Madhya Pradesh",
          "Madhya Pradesh",
          "Madhya Pradesh",
          "Madhya Pradesh",
          "Madhya Pradesh",
          "Maharashtra",
          "Maharashtra",
          "Maharashtra",
          "Maharashtra",
          "Maharashtra",
          "Maharashtra",
          "Maharashtra",
          "Maharashtra",
          "Maharashtra",
          "Maharashtra",
          "Maharashtra",
          "Maharashtra",
          "Maharashtra",
          "Maharashtra",
          "Manipur",
          "Manipur",
          "Manipur",
          "Manipur",
          "Manipur",
          "Manipur",
          "Manipur",
          "Manipur",
          "Manipur",
          "Manipur",
          "Manipur",
          "Manipur",
          "Manipur",
          "Manipur",
          "Meghalaya",
          "Meghalaya",
          "Meghalaya",
          "Meghalaya",
          "Meghalaya",
          "Meghalaya",
          "Meghalaya",
          "Meghalaya",
          "Meghalaya",
          "Meghalaya",
          "Meghalaya",
          "Meghalaya",
          "Meghalaya",
          "Meghalaya",
          "Mizoram",
          "Mizoram",
          "Mizoram",
          "Mizoram",
          "Mizoram",
          "Mizoram",
          "Mizoram",
          "Mizoram",
          "Mizoram",
          "Mizoram",
          "Mizoram",
          "Mizoram",
          "Mizoram",
          "Mizoram",
          "Nagaland",
          "Nagaland",
          "Nagaland",
          "Nagaland",
          "Nagaland",
          "Nagaland",
          "Nagaland",
          "Nagaland",
          "Nagaland",
          "Nagaland",
          "Nagaland",
          "Nagaland",
          "Nagaland",
          "Nagaland",
          "Odisha",
          "Odisha",
          "Odisha",
          "Odisha",
          "Odisha",
          "Odisha",
          "Odisha",
          "Odisha",
          "Odisha",
          "Odisha",
          "Odisha",
          "Odisha",
          "Odisha",
          "Odisha",
          "Puducherry",
          "Puducherry",
          "Puducherry",
          "Puducherry",
          "Puducherry",
          "Puducherry",
          "Puducherry",
          "Puducherry",
          "Puducherry",
          "Puducherry",
          "Puducherry",
          "Puducherry",
          "Puducherry",
          "Puducherry",
          "Punjab",
          "Punjab",
          "Punjab",
          "Punjab",
          "Punjab",
          "Punjab",
          "Punjab",
          "Punjab",
          "Punjab",
          "Punjab",
          "Punjab",
          "Punjab",
          "Punjab",
          "Punjab",
          "Rajasthan",
          "Rajasthan",
          "Rajasthan",
          "Rajasthan",
          "Rajasthan",
          "Rajasthan",
          "Rajasthan",
          "Rajasthan",
          "Rajasthan",
          "Rajasthan",
          "Rajasthan",
          "Rajasthan",
          "Rajasthan",
          "Rajasthan",
          "Sikkim",
          "Sikkim",
          "Sikkim",
          "Sikkim",
          "Sikkim",
          "Sikkim",
          "Sikkim",
          "Sikkim",
          "Sikkim",
          "Sikkim",
          "Sikkim",
          "Sikkim",
          "Sikkim",
          "Sikkim",
          "Tamil Nadu",
          "Tamil Nadu",
          "Tamil Nadu",
          "Tamil Nadu",
          "Tamil Nadu",
          "Tamil Nadu",
          "Tamil Nadu",
          "Tamil Nadu",
          "Tamil Nadu",
          "Tamil Nadu",
          "Tamil Nadu",
          "Tamil Nadu",
          "Tamil Nadu",
          "Tamil Nadu",
          "Tripura",
          "Tripura",
          "Tripura",
          "Tripura",
          "Tripura",
          "Tripura",
          "Tripura",
          "Tripura",
          "Tripura",
          "Tripura",
          "Tripura",
          "Tripura",
          "Tripura",
          "Tripura",
          "Uttar Pradesh",
          "Uttar Pradesh",
          "Uttar Pradesh",
          "Uttar Pradesh",
          "Uttar Pradesh",
          "Uttar Pradesh",
          "Uttar Pradesh",
          "Uttar Pradesh",
          "Uttar Pradesh",
          "Uttar Pradesh",
          "Uttar Pradesh",
          "Uttar Pradesh",
          "Uttar Pradesh",
          "Uttar Pradesh",
          "Uttarakhand",
          "Uttarakhand",
          "Uttarakhand",
          "Uttarakhand",
          "Uttarakhand",
          "Uttarakhand",
          "Uttarakhand",
          "Uttarakhand",
          "Uttarakhand",
          "Uttarakhand",
          "Uttarakhand",
          "Uttarakhand",
          "Uttarakhand",
          "Uttarakhand",
          "West Bengal",
          "West Bengal",
          "West Bengal",
          "West Bengal",
          "West Bengal",
          "West Bengal",
          "West Bengal",
          "West Bengal",
          "West Bengal",
          "West Bengal",
          "West Bengal",
          "West Bengal",
          "West Bengal",
          "West Bengal"
         ],
         "y": [
          2001,
          2002,
          2003,
          2004,
          2005,
          2006,
          2007,
          2008,
          2009,
          2010,
          2011,
          2012,
          2013,
          2014,
          2001,
          2002,
          2003,
          2004,
          2005,
          2006,
          2007,
          2008,
          2009,
          2010,
          2011,
          2012,
          2013,
          2014,
          2001,
          2002,
          2003,
          2004,
          2005,
          2006,
          2007,
          2008,
          2009,
          2010,
          2011,
          2012,
          2013,
          2014,
          2001,
          2002,
          2003,
          2004,
          2005,
          2006,
          2007,
          2008,
          2009,
          2010,
          2011,
          2012,
          2013,
          2014,
          2001,
          2002,
          2003,
          2004,
          2005,
          2006,
          2007,
          2008,
          2009,
          2010,
          2011,
          2012,
          2013,
          2014,
          2001,
          2002,
          2003,
          2004,
          2005,
          2006,
          2007,
          2008,
          2009,
          2010,
          2011,
          2012,
          2013,
          2014,
          2001,
          2002,
          2003,
          2004,
          2005,
          2006,
          2007,
          2008,
          2009,
          2010,
          2011,
          2012,
          2013,
          2014,
          2001,
          2002,
          2003,
          2004,
          2005,
          2006,
          2007,
          2008,
          2009,
          2010,
          2011,
          2012,
          2013,
          2014,
          2001,
          2002,
          2003,
          2004,
          2005,
          2006,
          2007,
          2008,
          2009,
          2010,
          2011,
          2012,
          2013,
          2014,
          2001,
          2002,
          2003,
          2004,
          2005,
          2006,
          2007,
          2008,
          2009,
          2010,
          2011,
          2012,
          2013,
          2014,
          2001,
          2002,
          2003,
          2004,
          2005,
          2006,
          2007,
          2008,
          2009,
          2010,
          2011,
          2012,
          2013,
          2014,
          2001,
          2002,
          2003,
          2004,
          2005,
          2006,
          2007,
          2008,
          2009,
          2010,
          2011,
          2012,
          2013,
          2014,
          2001,
          2002,
          2003,
          2004,
          2005,
          2006,
          2007,
          2008,
          2009,
          2010,
          2011,
          2012,
          2013,
          2014,
          2001,
          2002,
          2003,
          2004,
          2005,
          2006,
          2007,
          2008,
          2009,
          2010,
          2011,
          2012,
          2013,
          2014,
          2001,
          2002,
          2003,
          2004,
          2005,
          2006,
          2007,
          2008,
          2009,
          2010,
          2011,
          2012,
          2013,
          2014,
          2001,
          2002,
          2003,
          2004,
          2005,
          2006,
          2007,
          2008,
          2009,
          2010,
          2011,
          2012,
          2013,
          2014,
          2001,
          2002,
          2003,
          2004,
          2005,
          2006,
          2007,
          2008,
          2009,
          2010,
          2011,
          2012,
          2013,
          2014,
          2001,
          2002,
          2003,
          2004,
          2005,
          2006,
          2007,
          2008,
          2009,
          2010,
          2011,
          2012,
          2013,
          2014,
          2001,
          2002,
          2003,
          2004,
          2005,
          2006,
          2007,
          2008,
          2009,
          2010,
          2011,
          2012,
          2013,
          2014,
          2001,
          2002,
          2003,
          2004,
          2005,
          2006,
          2007,
          2008,
          2009,
          2010,
          2011,
          2012,
          2013,
          2014,
          2001,
          2002,
          2003,
          2004,
          2005,
          2006,
          2007,
          2008,
          2009,
          2010,
          2011,
          2012,
          2013,
          2014,
          2001,
          2002,
          2003,
          2004,
          2005,
          2006,
          2007,
          2008,
          2009,
          2010,
          2011,
          2012,
          2013,
          2014,
          2001,
          2002,
          2003,
          2004,
          2005,
          2006,
          2007,
          2008,
          2009,
          2010,
          2011,
          2012,
          2013,
          2014,
          2001,
          2002,
          2003,
          2004,
          2005,
          2006,
          2007,
          2008,
          2009,
          2010,
          2011,
          2012,
          2013,
          2014,
          2001,
          2002,
          2003,
          2004,
          2005,
          2006,
          2007,
          2008,
          2009,
          2010,
          2011,
          2012,
          2013,
          2014,
          2001,
          2002,
          2003,
          2004,
          2005,
          2006,
          2007,
          2008,
          2009,
          2010,
          2011,
          2012,
          2013,
          2014,
          2001,
          2002,
          2003,
          2004,
          2005,
          2006,
          2007,
          2008,
          2009,
          2010,
          2011,
          2012,
          2013,
          2014,
          2001,
          2002,
          2003,
          2004,
          2005,
          2006,
          2007,
          2008,
          2009,
          2010,
          2011,
          2012,
          2013,
          2014,
          2001,
          2002,
          2003,
          2004,
          2005,
          2006,
          2007,
          2008,
          2009,
          2010,
          2011,
          2012,
          2013,
          2014,
          2001,
          2002,
          2003,
          2004,
          2005,
          2006,
          2007,
          2008,
          2009,
          2010,
          2011,
          2012,
          2013,
          2014,
          2001,
          2002,
          2003,
          2004,
          2005,
          2006,
          2007,
          2008,
          2009,
          2010,
          2011,
          2012,
          2013,
          2014,
          2001,
          2002,
          2003,
          2004,
          2005,
          2006,
          2007,
          2008,
          2009,
          2010,
          2011,
          2012,
          2013,
          2014,
          2001,
          2002,
          2003,
          2004,
          2005,
          2006,
          2007,
          2008,
          2009,
          2010,
          2011,
          2012,
          2013,
          2014,
          2001,
          2002,
          2003,
          2004,
          2005,
          2006,
          2007,
          2008,
          2009,
          2010,
          2011,
          2012,
          2013,
          2014,
          2001,
          2002,
          2003,
          2004,
          2005,
          2006,
          2007,
          2008,
          2009,
          2010,
          2011,
          2012,
          2013,
          2014
         ],
         "z": [
          23,
          10,
          13,
          14,
          21,
          13,
          16,
          22,
          23,
          30,
          10,
          15,
          23,
          13,
          2437,
          2453,
          2569,
          3131,
          3193,
          3224,
          3530,
          3468,
          3494,
          3434,
          3195,
          3390,
          3482,
          3657,
          17,
          16,
          24,
          24,
          14,
          20,
          20,
          21,
          21,
          33,
          24,
          21,
          33,
          10,
          127,
          210,
          143,
          172,
          334,
          333,
          358,
          381,
          385,
          450,
          545,
          599,
          555,
          615,
          361,
          366,
          340,
          349,
          254,
          348,
          464,
          485,
          706,
          698,
          808,
          905,
          792,
          742,
          25,
          42,
          35,
          36,
          38,
          42,
          39,
          34,
          32,
          39,
          46,
          41,
          27,
          22,
          385,
          439,
          565,
          532,
          513,
          611,
          632,
          712,
          689,
          627,
          795,
          1161,
          1269,
          1110,
          11,
          6,
          10,
          10,
          13,
          5,
          7,
          15,
          5,
          10,
          7,
          11,
          5,
          7,
          1,
          3,
          8,
          2,
          6,
          7,
          4,
          2,
          2,
          2,
          2,
          3,
          2,
          4,
          681,
          710,
          645,
          746,
          722,
          726,
          809,
          696,
          632,
          574,
          619,
          544,
          553,
          698,
          115,
          100,
          151,
          127,
          75,
          323,
          362,
          350,
          351,
          411,
          400,
          317,
          372,
          359,
          1600,
          1529,
          1457,
          1580,
          1575,
          1557,
          1743,
          1878,
          1603,
          1716,
          2601,
          2483,
          2189,
          1978,
          506,
          524,
          512,
          657,
          514,
          736,
          780,
          869,
          963,
          897,
          896,
          819,
          711,
          881,
          131,
          138,
          145,
          183,
          143,
          161,
          167,
          132,
          252,
          205,
          215,
          191,
          202,
          191,
          485,
          363,
          380,
          463,
          291,
          387,
          409,
          376,
          364,
          408,
          430,
          460,
          355,
          415,
          76,
          41,
          42,
          99,
          179,
          379,
          368,
          203,
          342,
          360,
          326,
          374,
          423,
          434,
          2600,
          2860,
          2986,
          3357,
          3196,
          3278,
          3613,
          3922,
          3525,
          3972,
          3676,
          3749,
          3322,
          3649,
          2935,
          2739,
          2485,
          3393,
          3435,
          3394,
          3459,
          3172,
          2933,
          2967,
          2929,
          3039,
          3023,
          2909,
          0,
          0,
          0,
          1,
          0,
          0,
          0,
          0,
          0,
          0,
          0,
          0,
          0,
          0,
          1584,
          1871,
          1763,
          2048,
          1797,
          1967,
          2288,
          2883,
          2742,
          2494,
          2547,
          2475,
          2801,
          3154,
          3015,
          3087,
          3373,
          3713,
          3694,
          3741,
          4318,
          4260,
          4024,
          4036,
          4052,
          3760,
          3689,
          3714,
          31,
          49,
          40,
          43,
          57,
          45,
          46,
          41,
          54,
          46,
          66,
          70,
          46,
          59,
          15,
          26,
          31,
          21,
          30,
          10,
          19,
          9,
          24,
          22,
          25,
          31,
          24,
          27,
          5,
          0,
          8,
          0,
          8,
          4,
          4,
          7,
          4,
          18,
          5,
          10,
          7,
          6,
          5,
          1,
          8,
          8,
          8,
          6,
          7,
          10,
          4,
          10,
          3,
          4,
          6,
          2,
          546,
          520,
          583,
          611,
          684,
          614,
          573,
          716,
          756,
          804,
          807,
          745,
          806,
          826,
          89,
          110,
          122,
          139,
          164,
          124,
          126,
          145,
          130,
          132,
          105,
          125,
          108,
          64,
          160,
          128,
          85,
          181,
          196,
          182,
          179,
          191,
          237,
          195,
          602,
          550,
          464,
          493,
          1678,
          1567,
          1664,
          1939,
          1715,
          1926,
          1918,
          1935,
          2014,
          2024,
          1881,
          1914,
          1821,
          1951,
          1,
          23,
          10,
          15,
          19,
          5,
          7,
          28,
          39,
          17,
          9,
          7,
          17,
          6,
          4264,
          4300,
          4114,
          4252,
          8705,
          4322,
          4527,
          4626,
          4802,
          5199,
          5228,
          5646,
          5337,
          5293,
          52,
          38,
          51,
          42,
          55,
          50,
          85,
          56,
          93,
          66,
          57,
          85,
          50,
          74,
          1737,
          1164,
          955,
          1309,
          1220,
          1605,
          1570,
          1624,
          1758,
          2123,
          2088,
          2030,
          2150,
          2311,
          88,
          76,
          87,
          99,
          94,
          118,
          116,
          126,
          112,
          108,
          118,
          152,
          91,
          43,
          908,
          932,
          930,
          1001,
          1061,
          1093,
          1051,
          919,
          1150,
          1150,
          1179,
          1383,
          1382,
          1398
         ]
        }
       ],
       "layout": {
        "height": 700,
        "legend": {
         "tracegroupgap": 0
        },
        "margin": {
         "t": 60
        },
        "scene": {
         "domain": {
          "x": [
           0,
           1
          ],
          "y": [
           0,
           1
          ]
         },
         "xaxis": {
          "title": {
           "text": "STATE/UT"
          }
         },
         "yaxis": {
          "title": {
           "text": "YEAR"
          }
         },
         "zaxis": {
          "title": {
           "text": "FEBRUARY"
          }
         }
        },
        "template": {
         "data": {
          "bar": [
           {
            "error_x": {
             "color": "#2a3f5f"
            },
            "error_y": {
             "color": "#2a3f5f"
            },
            "marker": {
             "line": {
              "color": "#E5ECF6",
              "width": 0.5
             },
             "pattern": {
              "fillmode": "overlay",
              "size": 10,
              "solidity": 0.2
             }
            },
            "type": "bar"
           }
          ],
          "barpolar": [
           {
            "marker": {
             "line": {
              "color": "#E5ECF6",
              "width": 0.5
             },
             "pattern": {
              "fillmode": "overlay",
              "size": 10,
              "solidity": 0.2
             }
            },
            "type": "barpolar"
           }
          ],
          "carpet": [
           {
            "aaxis": {
             "endlinecolor": "#2a3f5f",
             "gridcolor": "white",
             "linecolor": "white",
             "minorgridcolor": "white",
             "startlinecolor": "#2a3f5f"
            },
            "baxis": {
             "endlinecolor": "#2a3f5f",
             "gridcolor": "white",
             "linecolor": "white",
             "minorgridcolor": "white",
             "startlinecolor": "#2a3f5f"
            },
            "type": "carpet"
           }
          ],
          "choropleth": [
           {
            "colorbar": {
             "outlinewidth": 0,
             "ticks": ""
            },
            "type": "choropleth"
           }
          ],
          "contour": [
           {
            "colorbar": {
             "outlinewidth": 0,
             "ticks": ""
            },
            "colorscale": [
             [
              0,
              "#0d0887"
             ],
             [
              0.1111111111111111,
              "#46039f"
             ],
             [
              0.2222222222222222,
              "#7201a8"
             ],
             [
              0.3333333333333333,
              "#9c179e"
             ],
             [
              0.4444444444444444,
              "#bd3786"
             ],
             [
              0.5555555555555556,
              "#d8576b"
             ],
             [
              0.6666666666666666,
              "#ed7953"
             ],
             [
              0.7777777777777778,
              "#fb9f3a"
             ],
             [
              0.8888888888888888,
              "#fdca26"
             ],
             [
              1,
              "#f0f921"
             ]
            ],
            "type": "contour"
           }
          ],
          "contourcarpet": [
           {
            "colorbar": {
             "outlinewidth": 0,
             "ticks": ""
            },
            "type": "contourcarpet"
           }
          ],
          "heatmap": [
           {
            "colorbar": {
             "outlinewidth": 0,
             "ticks": ""
            },
            "colorscale": [
             [
              0,
              "#0d0887"
             ],
             [
              0.1111111111111111,
              "#46039f"
             ],
             [
              0.2222222222222222,
              "#7201a8"
             ],
             [
              0.3333333333333333,
              "#9c179e"
             ],
             [
              0.4444444444444444,
              "#bd3786"
             ],
             [
              0.5555555555555556,
              "#d8576b"
             ],
             [
              0.6666666666666666,
              "#ed7953"
             ],
             [
              0.7777777777777778,
              "#fb9f3a"
             ],
             [
              0.8888888888888888,
              "#fdca26"
             ],
             [
              1,
              "#f0f921"
             ]
            ],
            "type": "heatmap"
           }
          ],
          "heatmapgl": [
           {
            "colorbar": {
             "outlinewidth": 0,
             "ticks": ""
            },
            "colorscale": [
             [
              0,
              "#0d0887"
             ],
             [
              0.1111111111111111,
              "#46039f"
             ],
             [
              0.2222222222222222,
              "#7201a8"
             ],
             [
              0.3333333333333333,
              "#9c179e"
             ],
             [
              0.4444444444444444,
              "#bd3786"
             ],
             [
              0.5555555555555556,
              "#d8576b"
             ],
             [
              0.6666666666666666,
              "#ed7953"
             ],
             [
              0.7777777777777778,
              "#fb9f3a"
             ],
             [
              0.8888888888888888,
              "#fdca26"
             ],
             [
              1,
              "#f0f921"
             ]
            ],
            "type": "heatmapgl"
           }
          ],
          "histogram": [
           {
            "marker": {
             "pattern": {
              "fillmode": "overlay",
              "size": 10,
              "solidity": 0.2
             }
            },
            "type": "histogram"
           }
          ],
          "histogram2d": [
           {
            "colorbar": {
             "outlinewidth": 0,
             "ticks": ""
            },
            "colorscale": [
             [
              0,
              "#0d0887"
             ],
             [
              0.1111111111111111,
              "#46039f"
             ],
             [
              0.2222222222222222,
              "#7201a8"
             ],
             [
              0.3333333333333333,
              "#9c179e"
             ],
             [
              0.4444444444444444,
              "#bd3786"
             ],
             [
              0.5555555555555556,
              "#d8576b"
             ],
             [
              0.6666666666666666,
              "#ed7953"
             ],
             [
              0.7777777777777778,
              "#fb9f3a"
             ],
             [
              0.8888888888888888,
              "#fdca26"
             ],
             [
              1,
              "#f0f921"
             ]
            ],
            "type": "histogram2d"
           }
          ],
          "histogram2dcontour": [
           {
            "colorbar": {
             "outlinewidth": 0,
             "ticks": ""
            },
            "colorscale": [
             [
              0,
              "#0d0887"
             ],
             [
              0.1111111111111111,
              "#46039f"
             ],
             [
              0.2222222222222222,
              "#7201a8"
             ],
             [
              0.3333333333333333,
              "#9c179e"
             ],
             [
              0.4444444444444444,
              "#bd3786"
             ],
             [
              0.5555555555555556,
              "#d8576b"
             ],
             [
              0.6666666666666666,
              "#ed7953"
             ],
             [
              0.7777777777777778,
              "#fb9f3a"
             ],
             [
              0.8888888888888888,
              "#fdca26"
             ],
             [
              1,
              "#f0f921"
             ]
            ],
            "type": "histogram2dcontour"
           }
          ],
          "mesh3d": [
           {
            "colorbar": {
             "outlinewidth": 0,
             "ticks": ""
            },
            "type": "mesh3d"
           }
          ],
          "parcoords": [
           {
            "line": {
             "colorbar": {
              "outlinewidth": 0,
              "ticks": ""
             }
            },
            "type": "parcoords"
           }
          ],
          "pie": [
           {
            "automargin": true,
            "type": "pie"
           }
          ],
          "scatter": [
           {
            "fillpattern": {
             "fillmode": "overlay",
             "size": 10,
             "solidity": 0.2
            },
            "type": "scatter"
           }
          ],
          "scatter3d": [
           {
            "line": {
             "colorbar": {
              "outlinewidth": 0,
              "ticks": ""
             }
            },
            "marker": {
             "colorbar": {
              "outlinewidth": 0,
              "ticks": ""
             }
            },
            "type": "scatter3d"
           }
          ],
          "scattercarpet": [
           {
            "marker": {
             "colorbar": {
              "outlinewidth": 0,
              "ticks": ""
             }
            },
            "type": "scattercarpet"
           }
          ],
          "scattergeo": [
           {
            "marker": {
             "colorbar": {
              "outlinewidth": 0,
              "ticks": ""
             }
            },
            "type": "scattergeo"
           }
          ],
          "scattergl": [
           {
            "marker": {
             "colorbar": {
              "outlinewidth": 0,
              "ticks": ""
             }
            },
            "type": "scattergl"
           }
          ],
          "scattermapbox": [
           {
            "marker": {
             "colorbar": {
              "outlinewidth": 0,
              "ticks": ""
             }
            },
            "type": "scattermapbox"
           }
          ],
          "scatterpolar": [
           {
            "marker": {
             "colorbar": {
              "outlinewidth": 0,
              "ticks": ""
             }
            },
            "type": "scatterpolar"
           }
          ],
          "scatterpolargl": [
           {
            "marker": {
             "colorbar": {
              "outlinewidth": 0,
              "ticks": ""
             }
            },
            "type": "scatterpolargl"
           }
          ],
          "scatterternary": [
           {
            "marker": {
             "colorbar": {
              "outlinewidth": 0,
              "ticks": ""
             }
            },
            "type": "scatterternary"
           }
          ],
          "surface": [
           {
            "colorbar": {
             "outlinewidth": 0,
             "ticks": ""
            },
            "colorscale": [
             [
              0,
              "#0d0887"
             ],
             [
              0.1111111111111111,
              "#46039f"
             ],
             [
              0.2222222222222222,
              "#7201a8"
             ],
             [
              0.3333333333333333,
              "#9c179e"
             ],
             [
              0.4444444444444444,
              "#bd3786"
             ],
             [
              0.5555555555555556,
              "#d8576b"
             ],
             [
              0.6666666666666666,
              "#ed7953"
             ],
             [
              0.7777777777777778,
              "#fb9f3a"
             ],
             [
              0.8888888888888888,
              "#fdca26"
             ],
             [
              1,
              "#f0f921"
             ]
            ],
            "type": "surface"
           }
          ],
          "table": [
           {
            "cells": {
             "fill": {
              "color": "#EBF0F8"
             },
             "line": {
              "color": "white"
             }
            },
            "header": {
             "fill": {
              "color": "#C8D4E3"
             },
             "line": {
              "color": "white"
             }
            },
            "type": "table"
           }
          ]
         },
         "layout": {
          "annotationdefaults": {
           "arrowcolor": "#2a3f5f",
           "arrowhead": 0,
           "arrowwidth": 1
          },
          "autotypenumbers": "strict",
          "coloraxis": {
           "colorbar": {
            "outlinewidth": 0,
            "ticks": ""
           }
          },
          "colorscale": {
           "diverging": [
            [
             0,
             "#8e0152"
            ],
            [
             0.1,
             "#c51b7d"
            ],
            [
             0.2,
             "#de77ae"
            ],
            [
             0.3,
             "#f1b6da"
            ],
            [
             0.4,
             "#fde0ef"
            ],
            [
             0.5,
             "#f7f7f7"
            ],
            [
             0.6,
             "#e6f5d0"
            ],
            [
             0.7,
             "#b8e186"
            ],
            [
             0.8,
             "#7fbc41"
            ],
            [
             0.9,
             "#4d9221"
            ],
            [
             1,
             "#276419"
            ]
           ],
           "sequential": [
            [
             0,
             "#0d0887"
            ],
            [
             0.1111111111111111,
             "#46039f"
            ],
            [
             0.2222222222222222,
             "#7201a8"
            ],
            [
             0.3333333333333333,
             "#9c179e"
            ],
            [
             0.4444444444444444,
             "#bd3786"
            ],
            [
             0.5555555555555556,
             "#d8576b"
            ],
            [
             0.6666666666666666,
             "#ed7953"
            ],
            [
             0.7777777777777778,
             "#fb9f3a"
            ],
            [
             0.8888888888888888,
             "#fdca26"
            ],
            [
             1,
             "#f0f921"
            ]
           ],
           "sequentialminus": [
            [
             0,
             "#0d0887"
            ],
            [
             0.1111111111111111,
             "#46039f"
            ],
            [
             0.2222222222222222,
             "#7201a8"
            ],
            [
             0.3333333333333333,
             "#9c179e"
            ],
            [
             0.4444444444444444,
             "#bd3786"
            ],
            [
             0.5555555555555556,
             "#d8576b"
            ],
            [
             0.6666666666666666,
             "#ed7953"
            ],
            [
             0.7777777777777778,
             "#fb9f3a"
            ],
            [
             0.8888888888888888,
             "#fdca26"
            ],
            [
             1,
             "#f0f921"
            ]
           ]
          },
          "colorway": [
           "#636efa",
           "#EF553B",
           "#00cc96",
           "#ab63fa",
           "#FFA15A",
           "#19d3f3",
           "#FF6692",
           "#B6E880",
           "#FF97FF",
           "#FECB52"
          ],
          "font": {
           "color": "#2a3f5f"
          },
          "geo": {
           "bgcolor": "white",
           "lakecolor": "white",
           "landcolor": "#E5ECF6",
           "showlakes": true,
           "showland": true,
           "subunitcolor": "white"
          },
          "hoverlabel": {
           "align": "left"
          },
          "hovermode": "closest",
          "mapbox": {
           "style": "light"
          },
          "paper_bgcolor": "white",
          "plot_bgcolor": "#E5ECF6",
          "polar": {
           "angularaxis": {
            "gridcolor": "white",
            "linecolor": "white",
            "ticks": ""
           },
           "bgcolor": "#E5ECF6",
           "radialaxis": {
            "gridcolor": "white",
            "linecolor": "white",
            "ticks": ""
           }
          },
          "scene": {
           "xaxis": {
            "backgroundcolor": "#E5ECF6",
            "gridcolor": "white",
            "gridwidth": 2,
            "linecolor": "white",
            "showbackground": true,
            "ticks": "",
            "zerolinecolor": "white"
           },
           "yaxis": {
            "backgroundcolor": "#E5ECF6",
            "gridcolor": "white",
            "gridwidth": 2,
            "linecolor": "white",
            "showbackground": true,
            "ticks": "",
            "zerolinecolor": "white"
           },
           "zaxis": {
            "backgroundcolor": "#E5ECF6",
            "gridcolor": "white",
            "gridwidth": 2,
            "linecolor": "white",
            "showbackground": true,
            "ticks": "",
            "zerolinecolor": "white"
           }
          },
          "shapedefaults": {
           "line": {
            "color": "#2a3f5f"
           }
          },
          "ternary": {
           "aaxis": {
            "gridcolor": "white",
            "linecolor": "white",
            "ticks": ""
           },
           "baxis": {
            "gridcolor": "white",
            "linecolor": "white",
            "ticks": ""
           },
           "bgcolor": "#E5ECF6",
           "caxis": {
            "gridcolor": "white",
            "linecolor": "white",
            "ticks": ""
           }
          },
          "title": {
           "x": 0.05
          },
          "xaxis": {
           "automargin": true,
           "gridcolor": "white",
           "linecolor": "white",
           "ticks": "",
           "title": {
            "standoff": 15
           },
           "zerolinecolor": "white",
           "zerolinewidth": 2
          },
          "yaxis": {
           "automargin": true,
           "gridcolor": "white",
           "linecolor": "white",
           "ticks": "",
           "title": {
            "standoff": 15
           },
           "zerolinecolor": "white",
           "zerolinewidth": 2
          }
         }
        }
       }
      }
     },
     "metadata": {},
     "output_type": "display_data"
    }
   ],
   "source": [
    "px.scatter_3d(month_wise, x=\"STATE/UT\", y=\"YEAR\",\n",
    "               z=\"FEBRUARY\", height=700)"
   ]
  },
  {
   "cell_type": "code",
   "execution_count": 13,
   "metadata": {},
   "outputs": [
    {
     "data": {
      "application/vnd.plotly.v1+json": {
       "config": {
        "plotlyServerURL": "https://plot.ly"
       },
       "data": [
        {
         "mode": "markers",
         "r": [
          "JA",
          "FE",
          "MA",
          "AP",
          "MY",
          "JN",
          "JL",
          "AG",
          "SE",
          "OC",
          "NO",
          "DE"
         ],
         "theta": [
          "Total_JA",
          "Total_FE",
          "Total_MA",
          "Total_AP",
          "Total_MY",
          "Total_JN",
          "Total_JL",
          "Total_AG",
          "Total_SE",
          "Total_OC",
          "Total_NO",
          "Total_DE"
         ],
         "type": "scatterpolar"
        }
       ],
       "layout": {
        "template": {
         "data": {
          "bar": [
           {
            "error_x": {
             "color": "#2a3f5f"
            },
            "error_y": {
             "color": "#2a3f5f"
            },
            "marker": {
             "line": {
              "color": "#E5ECF6",
              "width": 0.5
             },
             "pattern": {
              "fillmode": "overlay",
              "size": 10,
              "solidity": 0.2
             }
            },
            "type": "bar"
           }
          ],
          "barpolar": [
           {
            "marker": {
             "line": {
              "color": "#E5ECF6",
              "width": 0.5
             },
             "pattern": {
              "fillmode": "overlay",
              "size": 10,
              "solidity": 0.2
             }
            },
            "type": "barpolar"
           }
          ],
          "carpet": [
           {
            "aaxis": {
             "endlinecolor": "#2a3f5f",
             "gridcolor": "white",
             "linecolor": "white",
             "minorgridcolor": "white",
             "startlinecolor": "#2a3f5f"
            },
            "baxis": {
             "endlinecolor": "#2a3f5f",
             "gridcolor": "white",
             "linecolor": "white",
             "minorgridcolor": "white",
             "startlinecolor": "#2a3f5f"
            },
            "type": "carpet"
           }
          ],
          "choropleth": [
           {
            "colorbar": {
             "outlinewidth": 0,
             "ticks": ""
            },
            "type": "choropleth"
           }
          ],
          "contour": [
           {
            "colorbar": {
             "outlinewidth": 0,
             "ticks": ""
            },
            "colorscale": [
             [
              0,
              "#0d0887"
             ],
             [
              0.1111111111111111,
              "#46039f"
             ],
             [
              0.2222222222222222,
              "#7201a8"
             ],
             [
              0.3333333333333333,
              "#9c179e"
             ],
             [
              0.4444444444444444,
              "#bd3786"
             ],
             [
              0.5555555555555556,
              "#d8576b"
             ],
             [
              0.6666666666666666,
              "#ed7953"
             ],
             [
              0.7777777777777778,
              "#fb9f3a"
             ],
             [
              0.8888888888888888,
              "#fdca26"
             ],
             [
              1,
              "#f0f921"
             ]
            ],
            "type": "contour"
           }
          ],
          "contourcarpet": [
           {
            "colorbar": {
             "outlinewidth": 0,
             "ticks": ""
            },
            "type": "contourcarpet"
           }
          ],
          "heatmap": [
           {
            "colorbar": {
             "outlinewidth": 0,
             "ticks": ""
            },
            "colorscale": [
             [
              0,
              "#0d0887"
             ],
             [
              0.1111111111111111,
              "#46039f"
             ],
             [
              0.2222222222222222,
              "#7201a8"
             ],
             [
              0.3333333333333333,
              "#9c179e"
             ],
             [
              0.4444444444444444,
              "#bd3786"
             ],
             [
              0.5555555555555556,
              "#d8576b"
             ],
             [
              0.6666666666666666,
              "#ed7953"
             ],
             [
              0.7777777777777778,
              "#fb9f3a"
             ],
             [
              0.8888888888888888,
              "#fdca26"
             ],
             [
              1,
              "#f0f921"
             ]
            ],
            "type": "heatmap"
           }
          ],
          "heatmapgl": [
           {
            "colorbar": {
             "outlinewidth": 0,
             "ticks": ""
            },
            "colorscale": [
             [
              0,
              "#0d0887"
             ],
             [
              0.1111111111111111,
              "#46039f"
             ],
             [
              0.2222222222222222,
              "#7201a8"
             ],
             [
              0.3333333333333333,
              "#9c179e"
             ],
             [
              0.4444444444444444,
              "#bd3786"
             ],
             [
              0.5555555555555556,
              "#d8576b"
             ],
             [
              0.6666666666666666,
              "#ed7953"
             ],
             [
              0.7777777777777778,
              "#fb9f3a"
             ],
             [
              0.8888888888888888,
              "#fdca26"
             ],
             [
              1,
              "#f0f921"
             ]
            ],
            "type": "heatmapgl"
           }
          ],
          "histogram": [
           {
            "marker": {
             "pattern": {
              "fillmode": "overlay",
              "size": 10,
              "solidity": 0.2
             }
            },
            "type": "histogram"
           }
          ],
          "histogram2d": [
           {
            "colorbar": {
             "outlinewidth": 0,
             "ticks": ""
            },
            "colorscale": [
             [
              0,
              "#0d0887"
             ],
             [
              0.1111111111111111,
              "#46039f"
             ],
             [
              0.2222222222222222,
              "#7201a8"
             ],
             [
              0.3333333333333333,
              "#9c179e"
             ],
             [
              0.4444444444444444,
              "#bd3786"
             ],
             [
              0.5555555555555556,
              "#d8576b"
             ],
             [
              0.6666666666666666,
              "#ed7953"
             ],
             [
              0.7777777777777778,
              "#fb9f3a"
             ],
             [
              0.8888888888888888,
              "#fdca26"
             ],
             [
              1,
              "#f0f921"
             ]
            ],
            "type": "histogram2d"
           }
          ],
          "histogram2dcontour": [
           {
            "colorbar": {
             "outlinewidth": 0,
             "ticks": ""
            },
            "colorscale": [
             [
              0,
              "#0d0887"
             ],
             [
              0.1111111111111111,
              "#46039f"
             ],
             [
              0.2222222222222222,
              "#7201a8"
             ],
             [
              0.3333333333333333,
              "#9c179e"
             ],
             [
              0.4444444444444444,
              "#bd3786"
             ],
             [
              0.5555555555555556,
              "#d8576b"
             ],
             [
              0.6666666666666666,
              "#ed7953"
             ],
             [
              0.7777777777777778,
              "#fb9f3a"
             ],
             [
              0.8888888888888888,
              "#fdca26"
             ],
             [
              1,
              "#f0f921"
             ]
            ],
            "type": "histogram2dcontour"
           }
          ],
          "mesh3d": [
           {
            "colorbar": {
             "outlinewidth": 0,
             "ticks": ""
            },
            "type": "mesh3d"
           }
          ],
          "parcoords": [
           {
            "line": {
             "colorbar": {
              "outlinewidth": 0,
              "ticks": ""
             }
            },
            "type": "parcoords"
           }
          ],
          "pie": [
           {
            "automargin": true,
            "type": "pie"
           }
          ],
          "scatter": [
           {
            "fillpattern": {
             "fillmode": "overlay",
             "size": 10,
             "solidity": 0.2
            },
            "type": "scatter"
           }
          ],
          "scatter3d": [
           {
            "line": {
             "colorbar": {
              "outlinewidth": 0,
              "ticks": ""
             }
            },
            "marker": {
             "colorbar": {
              "outlinewidth": 0,
              "ticks": ""
             }
            },
            "type": "scatter3d"
           }
          ],
          "scattercarpet": [
           {
            "marker": {
             "colorbar": {
              "outlinewidth": 0,
              "ticks": ""
             }
            },
            "type": "scattercarpet"
           }
          ],
          "scattergeo": [
           {
            "marker": {
             "colorbar": {
              "outlinewidth": 0,
              "ticks": ""
             }
            },
            "type": "scattergeo"
           }
          ],
          "scattergl": [
           {
            "marker": {
             "colorbar": {
              "outlinewidth": 0,
              "ticks": ""
             }
            },
            "type": "scattergl"
           }
          ],
          "scattermapbox": [
           {
            "marker": {
             "colorbar": {
              "outlinewidth": 0,
              "ticks": ""
             }
            },
            "type": "scattermapbox"
           }
          ],
          "scatterpolar": [
           {
            "marker": {
             "colorbar": {
              "outlinewidth": 0,
              "ticks": ""
             }
            },
            "type": "scatterpolar"
           }
          ],
          "scatterpolargl": [
           {
            "marker": {
             "colorbar": {
              "outlinewidth": 0,
              "ticks": ""
             }
            },
            "type": "scatterpolargl"
           }
          ],
          "scatterternary": [
           {
            "marker": {
             "colorbar": {
              "outlinewidth": 0,
              "ticks": ""
             }
            },
            "type": "scatterternary"
           }
          ],
          "surface": [
           {
            "colorbar": {
             "outlinewidth": 0,
             "ticks": ""
            },
            "colorscale": [
             [
              0,
              "#0d0887"
             ],
             [
              0.1111111111111111,
              "#46039f"
             ],
             [
              0.2222222222222222,
              "#7201a8"
             ],
             [
              0.3333333333333333,
              "#9c179e"
             ],
             [
              0.4444444444444444,
              "#bd3786"
             ],
             [
              0.5555555555555556,
              "#d8576b"
             ],
             [
              0.6666666666666666,
              "#ed7953"
             ],
             [
              0.7777777777777778,
              "#fb9f3a"
             ],
             [
              0.8888888888888888,
              "#fdca26"
             ],
             [
              1,
              "#f0f921"
             ]
            ],
            "type": "surface"
           }
          ],
          "table": [
           {
            "cells": {
             "fill": {
              "color": "#EBF0F8"
             },
             "line": {
              "color": "white"
             }
            },
            "header": {
             "fill": {
              "color": "#C8D4E3"
             },
             "line": {
              "color": "white"
             }
            },
            "type": "table"
           }
          ]
         },
         "layout": {
          "annotationdefaults": {
           "arrowcolor": "#2a3f5f",
           "arrowhead": 0,
           "arrowwidth": 1
          },
          "autotypenumbers": "strict",
          "coloraxis": {
           "colorbar": {
            "outlinewidth": 0,
            "ticks": ""
           }
          },
          "colorscale": {
           "diverging": [
            [
             0,
             "#8e0152"
            ],
            [
             0.1,
             "#c51b7d"
            ],
            [
             0.2,
             "#de77ae"
            ],
            [
             0.3,
             "#f1b6da"
            ],
            [
             0.4,
             "#fde0ef"
            ],
            [
             0.5,
             "#f7f7f7"
            ],
            [
             0.6,
             "#e6f5d0"
            ],
            [
             0.7,
             "#b8e186"
            ],
            [
             0.8,
             "#7fbc41"
            ],
            [
             0.9,
             "#4d9221"
            ],
            [
             1,
             "#276419"
            ]
           ],
           "sequential": [
            [
             0,
             "#0d0887"
            ],
            [
             0.1111111111111111,
             "#46039f"
            ],
            [
             0.2222222222222222,
             "#7201a8"
            ],
            [
             0.3333333333333333,
             "#9c179e"
            ],
            [
             0.4444444444444444,
             "#bd3786"
            ],
            [
             0.5555555555555556,
             "#d8576b"
            ],
            [
             0.6666666666666666,
             "#ed7953"
            ],
            [
             0.7777777777777778,
             "#fb9f3a"
            ],
            [
             0.8888888888888888,
             "#fdca26"
            ],
            [
             1,
             "#f0f921"
            ]
           ],
           "sequentialminus": [
            [
             0,
             "#0d0887"
            ],
            [
             0.1111111111111111,
             "#46039f"
            ],
            [
             0.2222222222222222,
             "#7201a8"
            ],
            [
             0.3333333333333333,
             "#9c179e"
            ],
            [
             0.4444444444444444,
             "#bd3786"
            ],
            [
             0.5555555555555556,
             "#d8576b"
            ],
            [
             0.6666666666666666,
             "#ed7953"
            ],
            [
             0.7777777777777778,
             "#fb9f3a"
            ],
            [
             0.8888888888888888,
             "#fdca26"
            ],
            [
             1,
             "#f0f921"
            ]
           ]
          },
          "colorway": [
           "#636efa",
           "#EF553B",
           "#00cc96",
           "#ab63fa",
           "#FFA15A",
           "#19d3f3",
           "#FF6692",
           "#B6E880",
           "#FF97FF",
           "#FECB52"
          ],
          "font": {
           "color": "#2a3f5f"
          },
          "geo": {
           "bgcolor": "white",
           "lakecolor": "white",
           "landcolor": "#E5ECF6",
           "showlakes": true,
           "showland": true,
           "subunitcolor": "white"
          },
          "hoverlabel": {
           "align": "left"
          },
          "hovermode": "closest",
          "mapbox": {
           "style": "light"
          },
          "paper_bgcolor": "white",
          "plot_bgcolor": "#E5ECF6",
          "polar": {
           "angularaxis": {
            "gridcolor": "white",
            "linecolor": "white",
            "ticks": ""
           },
           "bgcolor": "#E5ECF6",
           "radialaxis": {
            "gridcolor": "white",
            "linecolor": "white",
            "ticks": ""
           }
          },
          "scene": {
           "xaxis": {
            "backgroundcolor": "#E5ECF6",
            "gridcolor": "white",
            "gridwidth": 2,
            "linecolor": "white",
            "showbackground": true,
            "ticks": "",
            "zerolinecolor": "white"
           },
           "yaxis": {
            "backgroundcolor": "#E5ECF6",
            "gridcolor": "white",
            "gridwidth": 2,
            "linecolor": "white",
            "showbackground": true,
            "ticks": "",
            "zerolinecolor": "white"
           },
           "zaxis": {
            "backgroundcolor": "#E5ECF6",
            "gridcolor": "white",
            "gridwidth": 2,
            "linecolor": "white",
            "showbackground": true,
            "ticks": "",
            "zerolinecolor": "white"
           }
          },
          "shapedefaults": {
           "line": {
            "color": "#2a3f5f"
           }
          },
          "ternary": {
           "aaxis": {
            "gridcolor": "white",
            "linecolor": "white",
            "ticks": ""
           },
           "baxis": {
            "gridcolor": "white",
            "linecolor": "white",
            "ticks": ""
           },
           "bgcolor": "#E5ECF6",
           "caxis": {
            "gridcolor": "white",
            "linecolor": "white",
            "ticks": ""
           }
          },
          "title": {
           "x": 0.05
          },
          "xaxis": {
           "automargin": true,
           "gridcolor": "white",
           "linecolor": "white",
           "ticks": "",
           "title": {
            "standoff": 15
           },
           "zerolinecolor": "white",
           "zerolinewidth": 2
          },
          "yaxis": {
           "automargin": true,
           "gridcolor": "white",
           "linecolor": "white",
           "ticks": "",
           "title": {
            "standoff": 15
           },
           "zerolinecolor": "white",
           "zerolinewidth": 2
          }
         }
        }
       }
      }
     },
     "metadata": {},
     "output_type": "display_data"
    }
   ],
   "source": [
    "fig = go.Figure(data=\n",
    "    go.Scatterpolar(\n",
    "        r = ['JA','FE','MA','AP','MY','JN','JL','AG','SE','OC','NO','DE'],\n",
    "        theta = ['Total_JA','Total_FE','Total_MA','Total_AP','Total_MY','Total_JN','Total_JL','Total_AG','Total_SE','Total_OC','Total_NO','Total_DE'],\n",
    "        mode = 'markers',\n",
    "    ))\n",
    "fig.show()"
   ]
  },
  {
   "cell_type": "code",
   "execution_count": 14,
   "metadata": {},
   "outputs": [
    {
     "data": {
      "application/vnd.plotly.v1+json": {
       "config": {
        "plotlyServerURL": "https://plot.ly"
       },
       "data": [
        {
         "hovertemplate": "TOTAL=1375<br>STATE/UT=%{x}<br>JANUARY=%{y}<br>MARCH=%{text}<extra></extra>",
         "legendgroup": "1375",
         "line": {
          "color": "#636efa",
          "dash": "solid"
         },
         "marker": {
          "symbol": "circle"
         },
         "mode": "text+lines+markers",
         "name": "1375",
         "orientation": "v",
         "showlegend": true,
         "text": [
          111
         ],
         "type": "scatter",
         "x": [
          "Goa"
         ],
         "xaxis": "x",
         "y": [
          124
         ],
         "yaxis": "y"
        },
        {
         "hovertemplate": "TOTAL=1201<br>STATE/UT=%{x}<br>JANUARY=%{y}<br>MARCH=%{text}<extra></extra>",
         "legendgroup": "1201",
         "line": {
          "color": "#EF553B",
          "dash": "solid"
         },
         "marker": {
          "symbol": "circle"
         },
         "mode": "text+lines+markers",
         "name": "1201",
         "orientation": "v",
         "showlegend": true,
         "text": [
          95
         ],
         "type": "scatter",
         "x": [
          "Goa"
         ],
         "xaxis": "x",
         "y": [
          99
         ],
         "yaxis": "y"
        },
        {
         "hovertemplate": "TOTAL=1678<br>STATE/UT=%{x}<br>JANUARY=%{y}<br>MARCH=%{text}<extra></extra>",
         "legendgroup": "1678",
         "line": {
          "color": "#00cc96",
          "dash": "solid"
         },
         "marker": {
          "symbol": "circle"
         },
         "mode": "text+lines+markers",
         "name": "1678",
         "orientation": "v",
         "showlegend": true,
         "text": [
          151
         ],
         "type": "scatter",
         "x": [
          "Goa"
         ],
         "xaxis": "x",
         "y": [
          173
         ],
         "yaxis": "y"
        },
        {
         "hovertemplate": "TOTAL=1542<br>STATE/UT=%{x}<br>JANUARY=%{y}<br>MARCH=%{text}<extra></extra>",
         "legendgroup": "1542",
         "line": {
          "color": "#ab63fa",
          "dash": "solid"
         },
         "marker": {
          "symbol": "circle"
         },
         "mode": "text+lines+markers",
         "name": "1542",
         "orientation": "v",
         "showlegend": true,
         "text": [
          122
         ],
         "type": "scatter",
         "x": [
          "Goa"
         ],
         "xaxis": "x",
         "y": [
          148
         ],
         "yaxis": "y"
        },
        {
         "hovertemplate": "TOTAL=1069<br>STATE/UT=%{x}<br>JANUARY=%{y}<br>MARCH=%{text}<extra></extra>",
         "legendgroup": "1069",
         "line": {
          "color": "#FFA15A",
          "dash": "solid"
         },
         "marker": {
          "symbol": "circle"
         },
         "mode": "text+lines+markers",
         "name": "1069",
         "orientation": "v",
         "showlegend": true,
         "text": [
          88
         ],
         "type": "scatter",
         "x": [
          "Goa"
         ],
         "xaxis": "x",
         "y": [
          93
         ],
         "yaxis": "y"
        },
        {
         "hovertemplate": "TOTAL=3749<br>STATE/UT=%{x}<br>JANUARY=%{y}<br>MARCH=%{text}<extra></extra>",
         "legendgroup": "3749",
         "line": {
          "color": "#19d3f3",
          "dash": "solid"
         },
         "marker": {
          "symbol": "circle"
         },
         "mode": "text+lines+markers",
         "name": "3749",
         "orientation": "v",
         "showlegend": true,
         "text": [
          314
         ],
         "type": "scatter",
         "x": [
          "Goa"
         ],
         "xaxis": "x",
         "y": [
          341
         ],
         "yaxis": "y"
        },
        {
         "hovertemplate": "TOTAL=4022<br>STATE/UT=%{x}<br>JANUARY=%{y}<br>MARCH=%{text}<extra></extra>",
         "legendgroup": "4022",
         "line": {
          "color": "#FF6692",
          "dash": "solid"
         },
         "marker": {
          "symbol": "circle"
         },
         "mode": "text+lines+markers",
         "name": "4022",
         "orientation": "v",
         "showlegend": true,
         "text": [
          332
         ],
         "type": "scatter",
         "x": [
          "Goa"
         ],
         "xaxis": "x",
         "y": [
          365
         ],
         "yaxis": "y"
        },
        {
         "hovertemplate": "TOTAL=4179<br>STATE/UT=%{x}<br>JANUARY=%{y}<br>MARCH=%{text}<extra></extra>",
         "legendgroup": "4179",
         "line": {
          "color": "#B6E880",
          "dash": "solid"
         },
         "marker": {
          "symbol": "circle"
         },
         "mode": "text+lines+markers",
         "name": "4179",
         "orientation": "v",
         "showlegend": true,
         "text": [
          384
         ],
         "type": "scatter",
         "x": [
          "Goa"
         ],
         "xaxis": "x",
         "y": [
          396
         ],
         "yaxis": "y"
        },
        {
         "hovertemplate": "TOTAL=4170<br>STATE/UT=%{x}<br>JANUARY=%{y}<br>MARCH=%{text}<extra></extra>",
         "legendgroup": "4170",
         "line": {
          "color": "#FF97FF",
          "dash": "solid"
         },
         "marker": {
          "symbol": "circle"
         },
         "mode": "text+lines+markers",
         "name": "4170",
         "orientation": "v",
         "showlegend": true,
         "text": [
          370
         ],
         "type": "scatter",
         "x": [
          "Goa"
         ],
         "xaxis": "x",
         "y": [
          389
         ],
         "yaxis": "y"
        },
        {
         "hovertemplate": "TOTAL=4574<br>STATE/UT=%{x}<br>JANUARY=%{y}<br>MARCH=%{text}<extra></extra>",
         "legendgroup": "4574",
         "line": {
          "color": "#FECB52",
          "dash": "solid"
         },
         "marker": {
          "symbol": "circle"
         },
         "mode": "text+lines+markers",
         "name": "4574",
         "orientation": "v",
         "showlegend": true,
         "text": [
          392
         ],
         "type": "scatter",
         "x": [
          "Goa"
         ],
         "xaxis": "x",
         "y": [
          472
         ],
         "yaxis": "y"
        },
        {
         "hovertemplate": "TOTAL=4561<br>STATE/UT=%{x}<br>JANUARY=%{y}<br>MARCH=%{text}<extra></extra>",
         "legendgroup": "4561",
         "line": {
          "color": "#636efa",
          "dash": "solid"
         },
         "marker": {
          "symbol": "circle"
         },
         "mode": "text+lines+markers",
         "name": "4561",
         "orientation": "v",
         "showlegend": true,
         "text": [
          370
         ],
         "type": "scatter",
         "x": [
          "Goa"
         ],
         "xaxis": "x",
         "y": [
          486
         ],
         "yaxis": "y"
        },
        {
         "hovertemplate": "TOTAL=4288<br>STATE/UT=%{x}<br>JANUARY=%{y}<br>MARCH=%{text}<extra></extra>",
         "legendgroup": "4288",
         "line": {
          "color": "#EF553B",
          "dash": "solid"
         },
         "marker": {
          "symbol": "circle"
         },
         "mode": "text+lines+markers",
         "name": "4288",
         "orientation": "v",
         "showlegend": true,
         "text": [
          343
         ],
         "type": "scatter",
         "x": [
          "Goa"
         ],
         "xaxis": "x",
         "y": [
          428
         ],
         "yaxis": "y"
        },
        {
         "hovertemplate": "TOTAL=4293<br>STATE/UT=%{x}<br>JANUARY=%{y}<br>MARCH=%{text}<extra></extra>",
         "legendgroup": "4293",
         "line": {
          "color": "#00cc96",
          "dash": "solid"
         },
         "marker": {
          "symbol": "circle"
         },
         "mode": "text+lines+markers",
         "name": "4293",
         "orientation": "v",
         "showlegend": true,
         "text": [
          380
         ],
         "type": "scatter",
         "x": [
          "Goa"
         ],
         "xaxis": "x",
         "y": [
          418
         ],
         "yaxis": "y"
        },
        {
         "hovertemplate": "TOTAL=4230<br>STATE/UT=%{x}<br>JANUARY=%{y}<br>MARCH=%{text}<extra></extra>",
         "legendgroup": "4230",
         "line": {
          "color": "#ab63fa",
          "dash": "solid"
         },
         "marker": {
          "symbol": "circle"
         },
         "mode": "text+lines+markers",
         "name": "4230",
         "orientation": "v",
         "showlegend": true,
         "text": [
          349
         ],
         "type": "scatter",
         "x": [
          "Goa"
         ],
         "xaxis": "x",
         "y": [
          433
         ],
         "yaxis": "y"
        }
       ],
       "layout": {
        "legend": {
         "title": {
          "text": "TOTAL"
         },
         "tracegroupgap": 0
        },
        "template": {
         "data": {
          "bar": [
           {
            "error_x": {
             "color": "#2a3f5f"
            },
            "error_y": {
             "color": "#2a3f5f"
            },
            "marker": {
             "line": {
              "color": "#E5ECF6",
              "width": 0.5
             },
             "pattern": {
              "fillmode": "overlay",
              "size": 10,
              "solidity": 0.2
             }
            },
            "type": "bar"
           }
          ],
          "barpolar": [
           {
            "marker": {
             "line": {
              "color": "#E5ECF6",
              "width": 0.5
             },
             "pattern": {
              "fillmode": "overlay",
              "size": 10,
              "solidity": 0.2
             }
            },
            "type": "barpolar"
           }
          ],
          "carpet": [
           {
            "aaxis": {
             "endlinecolor": "#2a3f5f",
             "gridcolor": "white",
             "linecolor": "white",
             "minorgridcolor": "white",
             "startlinecolor": "#2a3f5f"
            },
            "baxis": {
             "endlinecolor": "#2a3f5f",
             "gridcolor": "white",
             "linecolor": "white",
             "minorgridcolor": "white",
             "startlinecolor": "#2a3f5f"
            },
            "type": "carpet"
           }
          ],
          "choropleth": [
           {
            "colorbar": {
             "outlinewidth": 0,
             "ticks": ""
            },
            "type": "choropleth"
           }
          ],
          "contour": [
           {
            "colorbar": {
             "outlinewidth": 0,
             "ticks": ""
            },
            "colorscale": [
             [
              0,
              "#0d0887"
             ],
             [
              0.1111111111111111,
              "#46039f"
             ],
             [
              0.2222222222222222,
              "#7201a8"
             ],
             [
              0.3333333333333333,
              "#9c179e"
             ],
             [
              0.4444444444444444,
              "#bd3786"
             ],
             [
              0.5555555555555556,
              "#d8576b"
             ],
             [
              0.6666666666666666,
              "#ed7953"
             ],
             [
              0.7777777777777778,
              "#fb9f3a"
             ],
             [
              0.8888888888888888,
              "#fdca26"
             ],
             [
              1,
              "#f0f921"
             ]
            ],
            "type": "contour"
           }
          ],
          "contourcarpet": [
           {
            "colorbar": {
             "outlinewidth": 0,
             "ticks": ""
            },
            "type": "contourcarpet"
           }
          ],
          "heatmap": [
           {
            "colorbar": {
             "outlinewidth": 0,
             "ticks": ""
            },
            "colorscale": [
             [
              0,
              "#0d0887"
             ],
             [
              0.1111111111111111,
              "#46039f"
             ],
             [
              0.2222222222222222,
              "#7201a8"
             ],
             [
              0.3333333333333333,
              "#9c179e"
             ],
             [
              0.4444444444444444,
              "#bd3786"
             ],
             [
              0.5555555555555556,
              "#d8576b"
             ],
             [
              0.6666666666666666,
              "#ed7953"
             ],
             [
              0.7777777777777778,
              "#fb9f3a"
             ],
             [
              0.8888888888888888,
              "#fdca26"
             ],
             [
              1,
              "#f0f921"
             ]
            ],
            "type": "heatmap"
           }
          ],
          "heatmapgl": [
           {
            "colorbar": {
             "outlinewidth": 0,
             "ticks": ""
            },
            "colorscale": [
             [
              0,
              "#0d0887"
             ],
             [
              0.1111111111111111,
              "#46039f"
             ],
             [
              0.2222222222222222,
              "#7201a8"
             ],
             [
              0.3333333333333333,
              "#9c179e"
             ],
             [
              0.4444444444444444,
              "#bd3786"
             ],
             [
              0.5555555555555556,
              "#d8576b"
             ],
             [
              0.6666666666666666,
              "#ed7953"
             ],
             [
              0.7777777777777778,
              "#fb9f3a"
             ],
             [
              0.8888888888888888,
              "#fdca26"
             ],
             [
              1,
              "#f0f921"
             ]
            ],
            "type": "heatmapgl"
           }
          ],
          "histogram": [
           {
            "marker": {
             "pattern": {
              "fillmode": "overlay",
              "size": 10,
              "solidity": 0.2
             }
            },
            "type": "histogram"
           }
          ],
          "histogram2d": [
           {
            "colorbar": {
             "outlinewidth": 0,
             "ticks": ""
            },
            "colorscale": [
             [
              0,
              "#0d0887"
             ],
             [
              0.1111111111111111,
              "#46039f"
             ],
             [
              0.2222222222222222,
              "#7201a8"
             ],
             [
              0.3333333333333333,
              "#9c179e"
             ],
             [
              0.4444444444444444,
              "#bd3786"
             ],
             [
              0.5555555555555556,
              "#d8576b"
             ],
             [
              0.6666666666666666,
              "#ed7953"
             ],
             [
              0.7777777777777778,
              "#fb9f3a"
             ],
             [
              0.8888888888888888,
              "#fdca26"
             ],
             [
              1,
              "#f0f921"
             ]
            ],
            "type": "histogram2d"
           }
          ],
          "histogram2dcontour": [
           {
            "colorbar": {
             "outlinewidth": 0,
             "ticks": ""
            },
            "colorscale": [
             [
              0,
              "#0d0887"
             ],
             [
              0.1111111111111111,
              "#46039f"
             ],
             [
              0.2222222222222222,
              "#7201a8"
             ],
             [
              0.3333333333333333,
              "#9c179e"
             ],
             [
              0.4444444444444444,
              "#bd3786"
             ],
             [
              0.5555555555555556,
              "#d8576b"
             ],
             [
              0.6666666666666666,
              "#ed7953"
             ],
             [
              0.7777777777777778,
              "#fb9f3a"
             ],
             [
              0.8888888888888888,
              "#fdca26"
             ],
             [
              1,
              "#f0f921"
             ]
            ],
            "type": "histogram2dcontour"
           }
          ],
          "mesh3d": [
           {
            "colorbar": {
             "outlinewidth": 0,
             "ticks": ""
            },
            "type": "mesh3d"
           }
          ],
          "parcoords": [
           {
            "line": {
             "colorbar": {
              "outlinewidth": 0,
              "ticks": ""
             }
            },
            "type": "parcoords"
           }
          ],
          "pie": [
           {
            "automargin": true,
            "type": "pie"
           }
          ],
          "scatter": [
           {
            "fillpattern": {
             "fillmode": "overlay",
             "size": 10,
             "solidity": 0.2
            },
            "type": "scatter"
           }
          ],
          "scatter3d": [
           {
            "line": {
             "colorbar": {
              "outlinewidth": 0,
              "ticks": ""
             }
            },
            "marker": {
             "colorbar": {
              "outlinewidth": 0,
              "ticks": ""
             }
            },
            "type": "scatter3d"
           }
          ],
          "scattercarpet": [
           {
            "marker": {
             "colorbar": {
              "outlinewidth": 0,
              "ticks": ""
             }
            },
            "type": "scattercarpet"
           }
          ],
          "scattergeo": [
           {
            "marker": {
             "colorbar": {
              "outlinewidth": 0,
              "ticks": ""
             }
            },
            "type": "scattergeo"
           }
          ],
          "scattergl": [
           {
            "marker": {
             "colorbar": {
              "outlinewidth": 0,
              "ticks": ""
             }
            },
            "type": "scattergl"
           }
          ],
          "scattermapbox": [
           {
            "marker": {
             "colorbar": {
              "outlinewidth": 0,
              "ticks": ""
             }
            },
            "type": "scattermapbox"
           }
          ],
          "scatterpolar": [
           {
            "marker": {
             "colorbar": {
              "outlinewidth": 0,
              "ticks": ""
             }
            },
            "type": "scatterpolar"
           }
          ],
          "scatterpolargl": [
           {
            "marker": {
             "colorbar": {
              "outlinewidth": 0,
              "ticks": ""
             }
            },
            "type": "scatterpolargl"
           }
          ],
          "scatterternary": [
           {
            "marker": {
             "colorbar": {
              "outlinewidth": 0,
              "ticks": ""
             }
            },
            "type": "scatterternary"
           }
          ],
          "surface": [
           {
            "colorbar": {
             "outlinewidth": 0,
             "ticks": ""
            },
            "colorscale": [
             [
              0,
              "#0d0887"
             ],
             [
              0.1111111111111111,
              "#46039f"
             ],
             [
              0.2222222222222222,
              "#7201a8"
             ],
             [
              0.3333333333333333,
              "#9c179e"
             ],
             [
              0.4444444444444444,
              "#bd3786"
             ],
             [
              0.5555555555555556,
              "#d8576b"
             ],
             [
              0.6666666666666666,
              "#ed7953"
             ],
             [
              0.7777777777777778,
              "#fb9f3a"
             ],
             [
              0.8888888888888888,
              "#fdca26"
             ],
             [
              1,
              "#f0f921"
             ]
            ],
            "type": "surface"
           }
          ],
          "table": [
           {
            "cells": {
             "fill": {
              "color": "#EBF0F8"
             },
             "line": {
              "color": "white"
             }
            },
            "header": {
             "fill": {
              "color": "#C8D4E3"
             },
             "line": {
              "color": "white"
             }
            },
            "type": "table"
           }
          ]
         },
         "layout": {
          "annotationdefaults": {
           "arrowcolor": "#2a3f5f",
           "arrowhead": 0,
           "arrowwidth": 1
          },
          "autotypenumbers": "strict",
          "coloraxis": {
           "colorbar": {
            "outlinewidth": 0,
            "ticks": ""
           }
          },
          "colorscale": {
           "diverging": [
            [
             0,
             "#8e0152"
            ],
            [
             0.1,
             "#c51b7d"
            ],
            [
             0.2,
             "#de77ae"
            ],
            [
             0.3,
             "#f1b6da"
            ],
            [
             0.4,
             "#fde0ef"
            ],
            [
             0.5,
             "#f7f7f7"
            ],
            [
             0.6,
             "#e6f5d0"
            ],
            [
             0.7,
             "#b8e186"
            ],
            [
             0.8,
             "#7fbc41"
            ],
            [
             0.9,
             "#4d9221"
            ],
            [
             1,
             "#276419"
            ]
           ],
           "sequential": [
            [
             0,
             "#0d0887"
            ],
            [
             0.1111111111111111,
             "#46039f"
            ],
            [
             0.2222222222222222,
             "#7201a8"
            ],
            [
             0.3333333333333333,
             "#9c179e"
            ],
            [
             0.4444444444444444,
             "#bd3786"
            ],
            [
             0.5555555555555556,
             "#d8576b"
            ],
            [
             0.6666666666666666,
             "#ed7953"
            ],
            [
             0.7777777777777778,
             "#fb9f3a"
            ],
            [
             0.8888888888888888,
             "#fdca26"
            ],
            [
             1,
             "#f0f921"
            ]
           ],
           "sequentialminus": [
            [
             0,
             "#0d0887"
            ],
            [
             0.1111111111111111,
             "#46039f"
            ],
            [
             0.2222222222222222,
             "#7201a8"
            ],
            [
             0.3333333333333333,
             "#9c179e"
            ],
            [
             0.4444444444444444,
             "#bd3786"
            ],
            [
             0.5555555555555556,
             "#d8576b"
            ],
            [
             0.6666666666666666,
             "#ed7953"
            ],
            [
             0.7777777777777778,
             "#fb9f3a"
            ],
            [
             0.8888888888888888,
             "#fdca26"
            ],
            [
             1,
             "#f0f921"
            ]
           ]
          },
          "colorway": [
           "#636efa",
           "#EF553B",
           "#00cc96",
           "#ab63fa",
           "#FFA15A",
           "#19d3f3",
           "#FF6692",
           "#B6E880",
           "#FF97FF",
           "#FECB52"
          ],
          "font": {
           "color": "#2a3f5f"
          },
          "geo": {
           "bgcolor": "white",
           "lakecolor": "white",
           "landcolor": "#E5ECF6",
           "showlakes": true,
           "showland": true,
           "subunitcolor": "white"
          },
          "hoverlabel": {
           "align": "left"
          },
          "hovermode": "closest",
          "mapbox": {
           "style": "light"
          },
          "paper_bgcolor": "white",
          "plot_bgcolor": "#E5ECF6",
          "polar": {
           "angularaxis": {
            "gridcolor": "white",
            "linecolor": "white",
            "ticks": ""
           },
           "bgcolor": "#E5ECF6",
           "radialaxis": {
            "gridcolor": "white",
            "linecolor": "white",
            "ticks": ""
           }
          },
          "scene": {
           "xaxis": {
            "backgroundcolor": "#E5ECF6",
            "gridcolor": "white",
            "gridwidth": 2,
            "linecolor": "white",
            "showbackground": true,
            "ticks": "",
            "zerolinecolor": "white"
           },
           "yaxis": {
            "backgroundcolor": "#E5ECF6",
            "gridcolor": "white",
            "gridwidth": 2,
            "linecolor": "white",
            "showbackground": true,
            "ticks": "",
            "zerolinecolor": "white"
           },
           "zaxis": {
            "backgroundcolor": "#E5ECF6",
            "gridcolor": "white",
            "gridwidth": 2,
            "linecolor": "white",
            "showbackground": true,
            "ticks": "",
            "zerolinecolor": "white"
           }
          },
          "shapedefaults": {
           "line": {
            "color": "#2a3f5f"
           }
          },
          "ternary": {
           "aaxis": {
            "gridcolor": "white",
            "linecolor": "white",
            "ticks": ""
           },
           "baxis": {
            "gridcolor": "white",
            "linecolor": "white",
            "ticks": ""
           },
           "bgcolor": "#E5ECF6",
           "caxis": {
            "gridcolor": "white",
            "linecolor": "white",
            "ticks": ""
           }
          },
          "title": {
           "x": 0.05
          },
          "xaxis": {
           "automargin": true,
           "gridcolor": "white",
           "linecolor": "white",
           "ticks": "",
           "title": {
            "standoff": 15
           },
           "zerolinecolor": "white",
           "zerolinewidth": 2
          },
          "yaxis": {
           "automargin": true,
           "gridcolor": "white",
           "linecolor": "white",
           "ticks": "",
           "title": {
            "standoff": 15
           },
           "zerolinecolor": "white",
           "zerolinewidth": 2
          }
         }
        },
        "title": {
         "text": "Monthly"
        },
        "xaxis": {
         "anchor": "y",
         "domain": [
          0,
          1
         ],
         "title": {
          "text": "STATE/UT"
         }
        },
        "yaxis": {
         "anchor": "x",
         "domain": [
          0,
          1
         ],
         "title": {
          "text": "JANUARY"
         }
        }
       }
      }
     },
     "metadata": {},
     "output_type": "display_data"
    }
   ],
   "source": [
    "spfrit = month_wise[month_wise[\"STATE/UT\"].isin([\"Delhi\",\"Maharastra\",\"Goa\", \"KARNATAKA\"])]\n",
    "px.line(spfrit, \n",
    "        x=\"STATE/UT\",\n",
    "        y=\"JANUARY\", \n",
    "        color=\"TOTAL\",\n",
    "        text=\"MARCH\",\n",
    "       title=\"Monthly\")"
   ]
  }
 ],
 "metadata": {
  "kernelspec": {
   "display_name": "base",
   "language": "python",
   "name": "python3"
  },
  "language_info": {
   "codemirror_mode": {
    "name": "ipython",
    "version": 3
   },
   "file_extension": ".py",
   "mimetype": "text/x-python",
   "name": "python",
   "nbconvert_exporter": "python",
   "pygments_lexer": "ipython3",
   "version": "3.10.8"
  },
  "orig_nbformat": 4
 },
 "nbformat": 4,
 "nbformat_minor": 2
}
