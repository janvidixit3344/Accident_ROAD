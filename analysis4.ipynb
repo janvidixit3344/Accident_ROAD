{
 "cells": [
  {
   "cell_type": "code",
   "execution_count": 2,
   "metadata": {},
   "outputs": [],
   "source": [
    "import pandas as pd\n",
    "import numpy as np\n",
    "import seaborn as sns\n",
    "import plotly.express as px\n",
    "import plotly.graph_objects as go\n",
    "import matplotlib.pyplot as plt"
   ]
  },
  {
   "cell_type": "code",
   "execution_count": 3,
   "metadata": {},
   "outputs": [
    {
     "data": {
      "text/html": [
       "<div>\n",
       "<style scoped>\n",
       "    .dataframe tbody tr th:only-of-type {\n",
       "        vertical-align: middle;\n",
       "    }\n",
       "\n",
       "    .dataframe tbody tr th {\n",
       "        vertical-align: top;\n",
       "    }\n",
       "\n",
       "    .dataframe thead th {\n",
       "        text-align: right;\n",
       "    }\n",
       "</style>\n",
       "<table border=\"1\" class=\"dataframe\">\n",
       "  <thead>\n",
       "    <tr style=\"text-align: right;\">\n",
       "      <th></th>\n",
       "      <th>STATE/UT</th>\n",
       "      <th>YEAR</th>\n",
       "      <th>JANUARY</th>\n",
       "      <th>FEBRUARY</th>\n",
       "      <th>MARCH</th>\n",
       "      <th>APRIL</th>\n",
       "      <th>MAY</th>\n",
       "      <th>JUNE</th>\n",
       "      <th>JULY</th>\n",
       "      <th>AUGUST</th>\n",
       "      <th>SEPTEMBER</th>\n",
       "      <th>OCTOBER</th>\n",
       "      <th>NOVEMBER</th>\n",
       "      <th>DECEMBER</th>\n",
       "      <th>TOTAL</th>\n",
       "    </tr>\n",
       "  </thead>\n",
       "  <tbody>\n",
       "    <tr>\n",
       "      <th>0</th>\n",
       "      <td>A &amp; N Islands</td>\n",
       "      <td>2001</td>\n",
       "      <td>8</td>\n",
       "      <td>23</td>\n",
       "      <td>15</td>\n",
       "      <td>15</td>\n",
       "      <td>14</td>\n",
       "      <td>19</td>\n",
       "      <td>14</td>\n",
       "      <td>19</td>\n",
       "      <td>7</td>\n",
       "      <td>12</td>\n",
       "      <td>13</td>\n",
       "      <td>22</td>\n",
       "      <td>181</td>\n",
       "    </tr>\n",
       "    <tr>\n",
       "      <th>1</th>\n",
       "      <td>A &amp; N Islands</td>\n",
       "      <td>2002</td>\n",
       "      <td>12</td>\n",
       "      <td>10</td>\n",
       "      <td>14</td>\n",
       "      <td>16</td>\n",
       "      <td>10</td>\n",
       "      <td>7</td>\n",
       "      <td>16</td>\n",
       "      <td>11</td>\n",
       "      <td>23</td>\n",
       "      <td>21</td>\n",
       "      <td>11</td>\n",
       "      <td>17</td>\n",
       "      <td>168</td>\n",
       "    </tr>\n",
       "    <tr>\n",
       "      <th>2</th>\n",
       "      <td>A &amp; N Islands</td>\n",
       "      <td>2003</td>\n",
       "      <td>19</td>\n",
       "      <td>13</td>\n",
       "      <td>15</td>\n",
       "      <td>13</td>\n",
       "      <td>13</td>\n",
       "      <td>12</td>\n",
       "      <td>8</td>\n",
       "      <td>16</td>\n",
       "      <td>17</td>\n",
       "      <td>25</td>\n",
       "      <td>14</td>\n",
       "      <td>15</td>\n",
       "      <td>180</td>\n",
       "    </tr>\n",
       "    <tr>\n",
       "      <th>3</th>\n",
       "      <td>A &amp; N Islands</td>\n",
       "      <td>2004</td>\n",
       "      <td>21</td>\n",
       "      <td>14</td>\n",
       "      <td>22</td>\n",
       "      <td>17</td>\n",
       "      <td>13</td>\n",
       "      <td>18</td>\n",
       "      <td>16</td>\n",
       "      <td>19</td>\n",
       "      <td>16</td>\n",
       "      <td>20</td>\n",
       "      <td>15</td>\n",
       "      <td>24</td>\n",
       "      <td>215</td>\n",
       "    </tr>\n",
       "    <tr>\n",
       "      <th>4</th>\n",
       "      <td>A &amp; N Islands</td>\n",
       "      <td>2005</td>\n",
       "      <td>19</td>\n",
       "      <td>21</td>\n",
       "      <td>22</td>\n",
       "      <td>17</td>\n",
       "      <td>13</td>\n",
       "      <td>19</td>\n",
       "      <td>21</td>\n",
       "      <td>14</td>\n",
       "      <td>15</td>\n",
       "      <td>19</td>\n",
       "      <td>10</td>\n",
       "      <td>16</td>\n",
       "      <td>206</td>\n",
       "    </tr>\n",
       "    <tr>\n",
       "      <th>...</th>\n",
       "      <td>...</td>\n",
       "      <td>...</td>\n",
       "      <td>...</td>\n",
       "      <td>...</td>\n",
       "      <td>...</td>\n",
       "      <td>...</td>\n",
       "      <td>...</td>\n",
       "      <td>...</td>\n",
       "      <td>...</td>\n",
       "      <td>...</td>\n",
       "      <td>...</td>\n",
       "      <td>...</td>\n",
       "      <td>...</td>\n",
       "      <td>...</td>\n",
       "      <td>...</td>\n",
       "    </tr>\n",
       "    <tr>\n",
       "      <th>485</th>\n",
       "      <td>West Bengal</td>\n",
       "      <td>2010</td>\n",
       "      <td>1245</td>\n",
       "      <td>1150</td>\n",
       "      <td>1349</td>\n",
       "      <td>1246</td>\n",
       "      <td>1172</td>\n",
       "      <td>1284</td>\n",
       "      <td>1231</td>\n",
       "      <td>1190</td>\n",
       "      <td>1128</td>\n",
       "      <td>1227</td>\n",
       "      <td>1251</td>\n",
       "      <td>1252</td>\n",
       "      <td>14725</td>\n",
       "    </tr>\n",
       "    <tr>\n",
       "      <th>486</th>\n",
       "      <td>West Bengal</td>\n",
       "      <td>2011</td>\n",
       "      <td>1350</td>\n",
       "      <td>1179</td>\n",
       "      <td>1314</td>\n",
       "      <td>1148</td>\n",
       "      <td>1220</td>\n",
       "      <td>1241</td>\n",
       "      <td>1185</td>\n",
       "      <td>1074</td>\n",
       "      <td>1112</td>\n",
       "      <td>1214</td>\n",
       "      <td>1161</td>\n",
       "      <td>1270</td>\n",
       "      <td>14468</td>\n",
       "    </tr>\n",
       "    <tr>\n",
       "      <th>487</th>\n",
       "      <td>West Bengal</td>\n",
       "      <td>2012</td>\n",
       "      <td>1346</td>\n",
       "      <td>1383</td>\n",
       "      <td>1357</td>\n",
       "      <td>1270</td>\n",
       "      <td>1352</td>\n",
       "      <td>1434</td>\n",
       "      <td>1349</td>\n",
       "      <td>1204</td>\n",
       "      <td>1112</td>\n",
       "      <td>1251</td>\n",
       "      <td>1179</td>\n",
       "      <td>1371</td>\n",
       "      <td>15608</td>\n",
       "    </tr>\n",
       "    <tr>\n",
       "      <th>488</th>\n",
       "      <td>West Bengal</td>\n",
       "      <td>2013</td>\n",
       "      <td>1564</td>\n",
       "      <td>1382</td>\n",
       "      <td>1474</td>\n",
       "      <td>1392</td>\n",
       "      <td>1629</td>\n",
       "      <td>1391</td>\n",
       "      <td>1315</td>\n",
       "      <td>1208</td>\n",
       "      <td>1228</td>\n",
       "      <td>1299</td>\n",
       "      <td>1335</td>\n",
       "      <td>1332</td>\n",
       "      <td>16549</td>\n",
       "    </tr>\n",
       "    <tr>\n",
       "      <th>489</th>\n",
       "      <td>West Bengal</td>\n",
       "      <td>2014</td>\n",
       "      <td>1516</td>\n",
       "      <td>1398</td>\n",
       "      <td>1473</td>\n",
       "      <td>1385</td>\n",
       "      <td>1527</td>\n",
       "      <td>1439</td>\n",
       "      <td>1416</td>\n",
       "      <td>1356</td>\n",
       "      <td>1391</td>\n",
       "      <td>1395</td>\n",
       "      <td>1415</td>\n",
       "      <td>1394</td>\n",
       "      <td>17105</td>\n",
       "    </tr>\n",
       "  </tbody>\n",
       "</table>\n",
       "<p>490 rows × 15 columns</p>\n",
       "</div>"
      ],
      "text/plain": [
       "          STATE/UT  YEAR  JANUARY  FEBRUARY  MARCH  APRIL   MAY  JUNE  JULY  \\\n",
       "0    A & N Islands  2001        8        23     15     15    14    19    14   \n",
       "1    A & N Islands  2002       12        10     14     16    10     7    16   \n",
       "2    A & N Islands  2003       19        13     15     13    13    12     8   \n",
       "3    A & N Islands  2004       21        14     22     17    13    18    16   \n",
       "4    A & N Islands  2005       19        21     22     17    13    19    21   \n",
       "..             ...   ...      ...       ...    ...    ...   ...   ...   ...   \n",
       "485    West Bengal  2010     1245      1150   1349   1246  1172  1284  1231   \n",
       "486    West Bengal  2011     1350      1179   1314   1148  1220  1241  1185   \n",
       "487    West Bengal  2012     1346      1383   1357   1270  1352  1434  1349   \n",
       "488    West Bengal  2013     1564      1382   1474   1392  1629  1391  1315   \n",
       "489    West Bengal  2014     1516      1398   1473   1385  1527  1439  1416   \n",
       "\n",
       "     AUGUST  SEPTEMBER  OCTOBER  NOVEMBER  DECEMBER  TOTAL  \n",
       "0        19          7       12        13        22    181  \n",
       "1        11         23       21        11        17    168  \n",
       "2        16         17       25        14        15    180  \n",
       "3        19         16       20        15        24    215  \n",
       "4        14         15       19        10        16    206  \n",
       "..      ...        ...      ...       ...       ...    ...  \n",
       "485    1190       1128     1227      1251      1252  14725  \n",
       "486    1074       1112     1214      1161      1270  14468  \n",
       "487    1204       1112     1251      1179      1371  15608  \n",
       "488    1208       1228     1299      1335      1332  16549  \n",
       "489    1356       1391     1395      1415      1394  17105  \n",
       "\n",
       "[490 rows x 15 columns]"
      ]
     },
     "execution_count": 3,
     "metadata": {},
     "output_type": "execute_result"
    }
   ],
   "source": [
    "month_wise = pd.read_csv('Dataset/only_road_accidents_data_month2.csv')\n",
    "month_wise"
   ]
  },
  {
   "cell_type": "code",
   "execution_count": 4,
   "metadata": {},
   "outputs": [
    {
     "data": {
      "text/plain": [
       "STATE/UT     0\n",
       "YEAR         0\n",
       "JANUARY      0\n",
       "FEBRUARY     0\n",
       "MARCH        0\n",
       "APRIL        0\n",
       "MAY          0\n",
       "JUNE         0\n",
       "JULY         0\n",
       "AUGUST       0\n",
       "SEPTEMBER    0\n",
       "OCTOBER      0\n",
       "NOVEMBER     0\n",
       "DECEMBER     0\n",
       "TOTAL        0\n",
       "dtype: int64"
      ]
     },
     "execution_count": 4,
     "metadata": {},
     "output_type": "execute_result"
    }
   ],
   "source": [
    "month_wise.isnull().sum()"
   ]
  },
  {
   "cell_type": "code",
   "execution_count": 6,
   "metadata": {},
   "outputs": [
    {
     "name": "stderr",
     "output_type": "stream",
     "text": [
      "C:\\Users\\Abhihek\\AppData\\Local\\Temp\\ipykernel_17560\\4267649208.py:1: FutureWarning: The default value of numeric_only in DataFrameGroupBy.sum is deprecated. In a future version, numeric_only will default to False. Either specify numeric_only or select only columns which should be valid for the function.\n",
      "  grouped_obj = month_wise.groupby([\"YEAR\"]).sum()\n"
     ]
    },
    {
     "data": {
      "text/html": [
       "<div>\n",
       "<style scoped>\n",
       "    .dataframe tbody tr th:only-of-type {\n",
       "        vertical-align: middle;\n",
       "    }\n",
       "\n",
       "    .dataframe tbody tr th {\n",
       "        vertical-align: top;\n",
       "    }\n",
       "\n",
       "    .dataframe thead th {\n",
       "        text-align: right;\n",
       "    }\n",
       "</style>\n",
       "<table border=\"1\" class=\"dataframe\">\n",
       "  <thead>\n",
       "    <tr style=\"text-align: right;\">\n",
       "      <th></th>\n",
       "      <th>JANUARY</th>\n",
       "      <th>FEBRUARY</th>\n",
       "      <th>MARCH</th>\n",
       "      <th>APRIL</th>\n",
       "      <th>MAY</th>\n",
       "      <th>JUNE</th>\n",
       "      <th>JULY</th>\n",
       "      <th>AUGUST</th>\n",
       "      <th>SEPTEMBER</th>\n",
       "      <th>OCTOBER</th>\n",
       "      <th>NOVEMBER</th>\n",
       "      <th>DECEMBER</th>\n",
       "    </tr>\n",
       "    <tr>\n",
       "      <th>YEAR</th>\n",
       "      <th></th>\n",
       "      <th></th>\n",
       "      <th></th>\n",
       "      <th></th>\n",
       "      <th></th>\n",
       "      <th></th>\n",
       "      <th></th>\n",
       "      <th></th>\n",
       "      <th></th>\n",
       "      <th></th>\n",
       "      <th></th>\n",
       "      <th></th>\n",
       "    </tr>\n",
       "  </thead>\n",
       "  <tbody>\n",
       "    <tr>\n",
       "      <th>2001</th>\n",
       "      <td>27039</td>\n",
       "      <td>26694</td>\n",
       "      <td>28284</td>\n",
       "      <td>27921</td>\n",
       "      <td>29978</td>\n",
       "      <td>26660</td>\n",
       "      <td>25141</td>\n",
       "      <td>25708</td>\n",
       "      <td>25816</td>\n",
       "      <td>26142</td>\n",
       "      <td>26737</td>\n",
       "      <td>27600</td>\n",
       "    </tr>\n",
       "    <tr>\n",
       "      <th>2002</th>\n",
       "      <td>27426</td>\n",
       "      <td>26441</td>\n",
       "      <td>28210</td>\n",
       "      <td>28883</td>\n",
       "      <td>31726</td>\n",
       "      <td>28829</td>\n",
       "      <td>27136</td>\n",
       "      <td>26824</td>\n",
       "      <td>26549</td>\n",
       "      <td>27644</td>\n",
       "      <td>27462</td>\n",
       "      <td>28577</td>\n",
       "    </tr>\n",
       "    <tr>\n",
       "      <th>2003</th>\n",
       "      <td>28209</td>\n",
       "      <td>26334</td>\n",
       "      <td>27266</td>\n",
       "      <td>26863</td>\n",
       "      <td>30335</td>\n",
       "      <td>28593</td>\n",
       "      <td>27268</td>\n",
       "      <td>27401</td>\n",
       "      <td>27379</td>\n",
       "      <td>28874</td>\n",
       "      <td>28500</td>\n",
       "      <td>29446</td>\n",
       "    </tr>\n",
       "    <tr>\n",
       "      <th>2004</th>\n",
       "      <td>30722</td>\n",
       "      <td>30297</td>\n",
       "      <td>31055</td>\n",
       "      <td>30335</td>\n",
       "      <td>31752</td>\n",
       "      <td>29984</td>\n",
       "      <td>28333</td>\n",
       "      <td>28275</td>\n",
       "      <td>29267</td>\n",
       "      <td>29796</td>\n",
       "      <td>30156</td>\n",
       "      <td>31371</td>\n",
       "    </tr>\n",
       "    <tr>\n",
       "      <th>2005</th>\n",
       "      <td>35740</td>\n",
       "      <td>34023</td>\n",
       "      <td>36287</td>\n",
       "      <td>34981</td>\n",
       "      <td>40126</td>\n",
       "      <td>32851</td>\n",
       "      <td>29080</td>\n",
       "      <td>28919</td>\n",
       "      <td>28177</td>\n",
       "      <td>29689</td>\n",
       "      <td>29898</td>\n",
       "      <td>30607</td>\n",
       "    </tr>\n",
       "    <tr>\n",
       "      <th>2006</th>\n",
       "      <td>33535</td>\n",
       "      <td>31356</td>\n",
       "      <td>34275</td>\n",
       "      <td>33735</td>\n",
       "      <td>37019</td>\n",
       "      <td>33018</td>\n",
       "      <td>30827</td>\n",
       "      <td>30930</td>\n",
       "      <td>30982</td>\n",
       "      <td>32356</td>\n",
       "      <td>32020</td>\n",
       "      <td>34379</td>\n",
       "    </tr>\n",
       "    <tr>\n",
       "      <th>2007</th>\n",
       "      <td>36432</td>\n",
       "      <td>33614</td>\n",
       "      <td>35873</td>\n",
       "      <td>37629</td>\n",
       "      <td>39036</td>\n",
       "      <td>34934</td>\n",
       "      <td>32402</td>\n",
       "      <td>32698</td>\n",
       "      <td>32328</td>\n",
       "      <td>34254</td>\n",
       "      <td>34398</td>\n",
       "      <td>35059</td>\n",
       "    </tr>\n",
       "    <tr>\n",
       "      <th>2008</th>\n",
       "      <td>36012</td>\n",
       "      <td>34314</td>\n",
       "      <td>36402</td>\n",
       "      <td>38059</td>\n",
       "      <td>37912</td>\n",
       "      <td>34005</td>\n",
       "      <td>32655</td>\n",
       "      <td>32895</td>\n",
       "      <td>32217</td>\n",
       "      <td>34309</td>\n",
       "      <td>32979</td>\n",
       "      <td>34096</td>\n",
       "    </tr>\n",
       "    <tr>\n",
       "      <th>2009</th>\n",
       "      <td>35346</td>\n",
       "      <td>34265</td>\n",
       "      <td>36024</td>\n",
       "      <td>35243</td>\n",
       "      <td>38928</td>\n",
       "      <td>36234</td>\n",
       "      <td>32897</td>\n",
       "      <td>33674</td>\n",
       "      <td>33532</td>\n",
       "      <td>34857</td>\n",
       "      <td>34690</td>\n",
       "      <td>35938</td>\n",
       "    </tr>\n",
       "    <tr>\n",
       "      <th>2010</th>\n",
       "      <td>36674</td>\n",
       "      <td>35277</td>\n",
       "      <td>37861</td>\n",
       "      <td>37055</td>\n",
       "      <td>39821</td>\n",
       "      <td>37094</td>\n",
       "      <td>34081</td>\n",
       "      <td>33130</td>\n",
       "      <td>32898</td>\n",
       "      <td>34783</td>\n",
       "      <td>35888</td>\n",
       "      <td>36092</td>\n",
       "    </tr>\n",
       "    <tr>\n",
       "      <th>2011</th>\n",
       "      <td>38305</td>\n",
       "      <td>36296</td>\n",
       "      <td>39114</td>\n",
       "      <td>35956</td>\n",
       "      <td>41542</td>\n",
       "      <td>37889</td>\n",
       "      <td>35296</td>\n",
       "      <td>33689</td>\n",
       "      <td>33883</td>\n",
       "      <td>35400</td>\n",
       "      <td>35870</td>\n",
       "      <td>36883</td>\n",
       "    </tr>\n",
       "    <tr>\n",
       "      <th>2012</th>\n",
       "      <td>38395</td>\n",
       "      <td>37109</td>\n",
       "      <td>37862</td>\n",
       "      <td>38474</td>\n",
       "      <td>38920</td>\n",
       "      <td>37325</td>\n",
       "      <td>35354</td>\n",
       "      <td>34507</td>\n",
       "      <td>33224</td>\n",
       "      <td>35276</td>\n",
       "      <td>35919</td>\n",
       "      <td>37677</td>\n",
       "    </tr>\n",
       "    <tr>\n",
       "      <th>2013</th>\n",
       "      <td>39185</td>\n",
       "      <td>36137</td>\n",
       "      <td>38543</td>\n",
       "      <td>37782</td>\n",
       "      <td>43064</td>\n",
       "      <td>37249</td>\n",
       "      <td>33847</td>\n",
       "      <td>33698</td>\n",
       "      <td>34565</td>\n",
       "      <td>35103</td>\n",
       "      <td>36297</td>\n",
       "      <td>37531</td>\n",
       "    </tr>\n",
       "    <tr>\n",
       "      <th>2014</th>\n",
       "      <td>39699</td>\n",
       "      <td>37115</td>\n",
       "      <td>39085</td>\n",
       "      <td>36747</td>\n",
       "      <td>41404</td>\n",
       "      <td>38909</td>\n",
       "      <td>35946</td>\n",
       "      <td>36003</td>\n",
       "      <td>34485</td>\n",
       "      <td>36478</td>\n",
       "      <td>36378</td>\n",
       "      <td>38649</td>\n",
       "    </tr>\n",
       "  </tbody>\n",
       "</table>\n",
       "</div>"
      ],
      "text/plain": [
       "      JANUARY  FEBRUARY  MARCH  APRIL    MAY   JUNE   JULY  AUGUST  SEPTEMBER  \\\n",
       "YEAR                                                                            \n",
       "2001    27039     26694  28284  27921  29978  26660  25141   25708      25816   \n",
       "2002    27426     26441  28210  28883  31726  28829  27136   26824      26549   \n",
       "2003    28209     26334  27266  26863  30335  28593  27268   27401      27379   \n",
       "2004    30722     30297  31055  30335  31752  29984  28333   28275      29267   \n",
       "2005    35740     34023  36287  34981  40126  32851  29080   28919      28177   \n",
       "2006    33535     31356  34275  33735  37019  33018  30827   30930      30982   \n",
       "2007    36432     33614  35873  37629  39036  34934  32402   32698      32328   \n",
       "2008    36012     34314  36402  38059  37912  34005  32655   32895      32217   \n",
       "2009    35346     34265  36024  35243  38928  36234  32897   33674      33532   \n",
       "2010    36674     35277  37861  37055  39821  37094  34081   33130      32898   \n",
       "2011    38305     36296  39114  35956  41542  37889  35296   33689      33883   \n",
       "2012    38395     37109  37862  38474  38920  37325  35354   34507      33224   \n",
       "2013    39185     36137  38543  37782  43064  37249  33847   33698      34565   \n",
       "2014    39699     37115  39085  36747  41404  38909  35946   36003      34485   \n",
       "\n",
       "      OCTOBER  NOVEMBER  DECEMBER  \n",
       "YEAR                               \n",
       "2001    26142     26737     27600  \n",
       "2002    27644     27462     28577  \n",
       "2003    28874     28500     29446  \n",
       "2004    29796     30156     31371  \n",
       "2005    29689     29898     30607  \n",
       "2006    32356     32020     34379  \n",
       "2007    34254     34398     35059  \n",
       "2008    34309     32979     34096  \n",
       "2009    34857     34690     35938  \n",
       "2010    34783     35888     36092  \n",
       "2011    35400     35870     36883  \n",
       "2012    35276     35919     37677  \n",
       "2013    35103     36297     37531  \n",
       "2014    36478     36378     38649  "
      ]
     },
     "execution_count": 6,
     "metadata": {},
     "output_type": "execute_result"
    }
   ],
   "source": [
    "grouped_obj = month_wise.groupby([\"YEAR\"]).sum()\n",
    "grouped_obj.drop(['TOTAL'], axis=1, inplace=True)\n",
    "grouped_obj"
   ]
  },
  {
   "cell_type": "code",
   "execution_count": 13,
   "metadata": {},
   "outputs": [
    {
     "data": {
      "application/vnd.plotly.v1+json": {
       "config": {
        "plotlyServerURL": "https://plot.ly"
       },
       "data": [
        {
         "fillpattern": {
          "shape": ""
         },
         "hovertemplate": "variable=JANUARY<br>YEAR=%{x}<br>value=%{y}<extra></extra>",
         "legendgroup": "JANUARY",
         "line": {
          "color": "#636efa"
         },
         "marker": {
          "symbol": "circle"
         },
         "mode": "lines",
         "name": "JANUARY",
         "orientation": "v",
         "showlegend": true,
         "stackgroup": "1",
         "type": "scatter",
         "x": [
          2001,
          2002,
          2003,
          2004,
          2005,
          2006,
          2007,
          2008,
          2009,
          2010,
          2011,
          2012,
          2013,
          2014
         ],
         "xaxis": "x",
         "y": [
          27039,
          27426,
          28209,
          30722,
          35740,
          33535,
          36432,
          36012,
          35346,
          36674,
          38305,
          38395,
          39185,
          39699
         ],
         "yaxis": "y"
        },
        {
         "fillpattern": {
          "shape": ""
         },
         "hovertemplate": "variable=FEBRUARY<br>YEAR=%{x}<br>value=%{y}<extra></extra>",
         "legendgroup": "FEBRUARY",
         "line": {
          "color": "#EF553B"
         },
         "marker": {
          "symbol": "circle"
         },
         "mode": "lines",
         "name": "FEBRUARY",
         "orientation": "v",
         "showlegend": true,
         "stackgroup": "1",
         "type": "scatter",
         "x": [
          2001,
          2002,
          2003,
          2004,
          2005,
          2006,
          2007,
          2008,
          2009,
          2010,
          2011,
          2012,
          2013,
          2014
         ],
         "xaxis": "x",
         "y": [
          26694,
          26441,
          26334,
          30297,
          34023,
          31356,
          33614,
          34314,
          34265,
          35277,
          36296,
          37109,
          36137,
          37115
         ],
         "yaxis": "y"
        },
        {
         "fillpattern": {
          "shape": ""
         },
         "hovertemplate": "variable=MARCH<br>YEAR=%{x}<br>value=%{y}<extra></extra>",
         "legendgroup": "MARCH",
         "line": {
          "color": "#00cc96"
         },
         "marker": {
          "symbol": "circle"
         },
         "mode": "lines",
         "name": "MARCH",
         "orientation": "v",
         "showlegend": true,
         "stackgroup": "1",
         "type": "scatter",
         "x": [
          2001,
          2002,
          2003,
          2004,
          2005,
          2006,
          2007,
          2008,
          2009,
          2010,
          2011,
          2012,
          2013,
          2014
         ],
         "xaxis": "x",
         "y": [
          28284,
          28210,
          27266,
          31055,
          36287,
          34275,
          35873,
          36402,
          36024,
          37861,
          39114,
          37862,
          38543,
          39085
         ],
         "yaxis": "y"
        },
        {
         "fillpattern": {
          "shape": ""
         },
         "hovertemplate": "variable=APRIL<br>YEAR=%{x}<br>value=%{y}<extra></extra>",
         "legendgroup": "APRIL",
         "line": {
          "color": "#ab63fa"
         },
         "marker": {
          "symbol": "circle"
         },
         "mode": "lines",
         "name": "APRIL",
         "orientation": "v",
         "showlegend": true,
         "stackgroup": "1",
         "type": "scatter",
         "x": [
          2001,
          2002,
          2003,
          2004,
          2005,
          2006,
          2007,
          2008,
          2009,
          2010,
          2011,
          2012,
          2013,
          2014
         ],
         "xaxis": "x",
         "y": [
          27921,
          28883,
          26863,
          30335,
          34981,
          33735,
          37629,
          38059,
          35243,
          37055,
          35956,
          38474,
          37782,
          36747
         ],
         "yaxis": "y"
        },
        {
         "fillpattern": {
          "shape": ""
         },
         "hovertemplate": "variable=MAY<br>YEAR=%{x}<br>value=%{y}<extra></extra>",
         "legendgroup": "MAY",
         "line": {
          "color": "#FFA15A"
         },
         "marker": {
          "symbol": "circle"
         },
         "mode": "lines",
         "name": "MAY",
         "orientation": "v",
         "showlegend": true,
         "stackgroup": "1",
         "type": "scatter",
         "x": [
          2001,
          2002,
          2003,
          2004,
          2005,
          2006,
          2007,
          2008,
          2009,
          2010,
          2011,
          2012,
          2013,
          2014
         ],
         "xaxis": "x",
         "y": [
          29978,
          31726,
          30335,
          31752,
          40126,
          37019,
          39036,
          37912,
          38928,
          39821,
          41542,
          38920,
          43064,
          41404
         ],
         "yaxis": "y"
        },
        {
         "fillpattern": {
          "shape": ""
         },
         "hovertemplate": "variable=JUNE<br>YEAR=%{x}<br>value=%{y}<extra></extra>",
         "legendgroup": "JUNE",
         "line": {
          "color": "#19d3f3"
         },
         "marker": {
          "symbol": "circle"
         },
         "mode": "lines",
         "name": "JUNE",
         "orientation": "v",
         "showlegend": true,
         "stackgroup": "1",
         "type": "scatter",
         "x": [
          2001,
          2002,
          2003,
          2004,
          2005,
          2006,
          2007,
          2008,
          2009,
          2010,
          2011,
          2012,
          2013,
          2014
         ],
         "xaxis": "x",
         "y": [
          26660,
          28829,
          28593,
          29984,
          32851,
          33018,
          34934,
          34005,
          36234,
          37094,
          37889,
          37325,
          37249,
          38909
         ],
         "yaxis": "y"
        },
        {
         "fillpattern": {
          "shape": ""
         },
         "hovertemplate": "variable=JULY<br>YEAR=%{x}<br>value=%{y}<extra></extra>",
         "legendgroup": "JULY",
         "line": {
          "color": "#FF6692"
         },
         "marker": {
          "symbol": "circle"
         },
         "mode": "lines",
         "name": "JULY",
         "orientation": "v",
         "showlegend": true,
         "stackgroup": "1",
         "type": "scatter",
         "x": [
          2001,
          2002,
          2003,
          2004,
          2005,
          2006,
          2007,
          2008,
          2009,
          2010,
          2011,
          2012,
          2013,
          2014
         ],
         "xaxis": "x",
         "y": [
          25141,
          27136,
          27268,
          28333,
          29080,
          30827,
          32402,
          32655,
          32897,
          34081,
          35296,
          35354,
          33847,
          35946
         ],
         "yaxis": "y"
        },
        {
         "fillpattern": {
          "shape": ""
         },
         "hovertemplate": "variable=AUGUST<br>YEAR=%{x}<br>value=%{y}<extra></extra>",
         "legendgroup": "AUGUST",
         "line": {
          "color": "#B6E880"
         },
         "marker": {
          "symbol": "circle"
         },
         "mode": "lines",
         "name": "AUGUST",
         "orientation": "v",
         "showlegend": true,
         "stackgroup": "1",
         "type": "scatter",
         "x": [
          2001,
          2002,
          2003,
          2004,
          2005,
          2006,
          2007,
          2008,
          2009,
          2010,
          2011,
          2012,
          2013,
          2014
         ],
         "xaxis": "x",
         "y": [
          25708,
          26824,
          27401,
          28275,
          28919,
          30930,
          32698,
          32895,
          33674,
          33130,
          33689,
          34507,
          33698,
          36003
         ],
         "yaxis": "y"
        },
        {
         "fillpattern": {
          "shape": ""
         },
         "hovertemplate": "variable=SEPTEMBER<br>YEAR=%{x}<br>value=%{y}<extra></extra>",
         "legendgroup": "SEPTEMBER",
         "line": {
          "color": "#FF97FF"
         },
         "marker": {
          "symbol": "circle"
         },
         "mode": "lines",
         "name": "SEPTEMBER",
         "orientation": "v",
         "showlegend": true,
         "stackgroup": "1",
         "type": "scatter",
         "x": [
          2001,
          2002,
          2003,
          2004,
          2005,
          2006,
          2007,
          2008,
          2009,
          2010,
          2011,
          2012,
          2013,
          2014
         ],
         "xaxis": "x",
         "y": [
          25816,
          26549,
          27379,
          29267,
          28177,
          30982,
          32328,
          32217,
          33532,
          32898,
          33883,
          33224,
          34565,
          34485
         ],
         "yaxis": "y"
        },
        {
         "fillpattern": {
          "shape": ""
         },
         "hovertemplate": "variable=OCTOBER<br>YEAR=%{x}<br>value=%{y}<extra></extra>",
         "legendgroup": "OCTOBER",
         "line": {
          "color": "#FECB52"
         },
         "marker": {
          "symbol": "circle"
         },
         "mode": "lines",
         "name": "OCTOBER",
         "orientation": "v",
         "showlegend": true,
         "stackgroup": "1",
         "type": "scatter",
         "x": [
          2001,
          2002,
          2003,
          2004,
          2005,
          2006,
          2007,
          2008,
          2009,
          2010,
          2011,
          2012,
          2013,
          2014
         ],
         "xaxis": "x",
         "y": [
          26142,
          27644,
          28874,
          29796,
          29689,
          32356,
          34254,
          34309,
          34857,
          34783,
          35400,
          35276,
          35103,
          36478
         ],
         "yaxis": "y"
        },
        {
         "fillpattern": {
          "shape": ""
         },
         "hovertemplate": "variable=NOVEMBER<br>YEAR=%{x}<br>value=%{y}<extra></extra>",
         "legendgroup": "NOVEMBER",
         "line": {
          "color": "#636efa"
         },
         "marker": {
          "symbol": "circle"
         },
         "mode": "lines",
         "name": "NOVEMBER",
         "orientation": "v",
         "showlegend": true,
         "stackgroup": "1",
         "type": "scatter",
         "x": [
          2001,
          2002,
          2003,
          2004,
          2005,
          2006,
          2007,
          2008,
          2009,
          2010,
          2011,
          2012,
          2013,
          2014
         ],
         "xaxis": "x",
         "y": [
          26737,
          27462,
          28500,
          30156,
          29898,
          32020,
          34398,
          32979,
          34690,
          35888,
          35870,
          35919,
          36297,
          36378
         ],
         "yaxis": "y"
        },
        {
         "fillpattern": {
          "shape": ""
         },
         "hovertemplate": "variable=DECEMBER<br>YEAR=%{x}<br>value=%{y}<extra></extra>",
         "legendgroup": "DECEMBER",
         "line": {
          "color": "#EF553B"
         },
         "marker": {
          "symbol": "circle"
         },
         "mode": "lines",
         "name": "DECEMBER",
         "orientation": "v",
         "showlegend": true,
         "stackgroup": "1",
         "type": "scatter",
         "x": [
          2001,
          2002,
          2003,
          2004,
          2005,
          2006,
          2007,
          2008,
          2009,
          2010,
          2011,
          2012,
          2013,
          2014
         ],
         "xaxis": "x",
         "y": [
          27600,
          28577,
          29446,
          31371,
          30607,
          34379,
          35059,
          34096,
          35938,
          36092,
          36883,
          37677,
          37531,
          38649
         ],
         "yaxis": "y"
        }
       ],
       "layout": {
        "annotations": [
         {
          "bgcolor": "grey",
          "font": {
           "size": 12
          },
          "showarrow": false,
          "text": "The graph shows accidents monthly.",
          "x": 0.5,
          "xref": "paper",
          "y": 1,
          "yref": "paper"
         }
        ],
        "legend": {
         "title": {
          "text": "variable"
         },
         "tracegroupgap": 0
        },
        "template": {
         "data": {
          "bar": [
           {
            "error_x": {
             "color": "#2a3f5f"
            },
            "error_y": {
             "color": "#2a3f5f"
            },
            "marker": {
             "line": {
              "color": "#E5ECF6",
              "width": 0.5
             },
             "pattern": {
              "fillmode": "overlay",
              "size": 10,
              "solidity": 0.2
             }
            },
            "type": "bar"
           }
          ],
          "barpolar": [
           {
            "marker": {
             "line": {
              "color": "#E5ECF6",
              "width": 0.5
             },
             "pattern": {
              "fillmode": "overlay",
              "size": 10,
              "solidity": 0.2
             }
            },
            "type": "barpolar"
           }
          ],
          "carpet": [
           {
            "aaxis": {
             "endlinecolor": "#2a3f5f",
             "gridcolor": "white",
             "linecolor": "white",
             "minorgridcolor": "white",
             "startlinecolor": "#2a3f5f"
            },
            "baxis": {
             "endlinecolor": "#2a3f5f",
             "gridcolor": "white",
             "linecolor": "white",
             "minorgridcolor": "white",
             "startlinecolor": "#2a3f5f"
            },
            "type": "carpet"
           }
          ],
          "choropleth": [
           {
            "colorbar": {
             "outlinewidth": 0,
             "ticks": ""
            },
            "type": "choropleth"
           }
          ],
          "contour": [
           {
            "colorbar": {
             "outlinewidth": 0,
             "ticks": ""
            },
            "colorscale": [
             [
              0,
              "#0d0887"
             ],
             [
              0.1111111111111111,
              "#46039f"
             ],
             [
              0.2222222222222222,
              "#7201a8"
             ],
             [
              0.3333333333333333,
              "#9c179e"
             ],
             [
              0.4444444444444444,
              "#bd3786"
             ],
             [
              0.5555555555555556,
              "#d8576b"
             ],
             [
              0.6666666666666666,
              "#ed7953"
             ],
             [
              0.7777777777777778,
              "#fb9f3a"
             ],
             [
              0.8888888888888888,
              "#fdca26"
             ],
             [
              1,
              "#f0f921"
             ]
            ],
            "type": "contour"
           }
          ],
          "contourcarpet": [
           {
            "colorbar": {
             "outlinewidth": 0,
             "ticks": ""
            },
            "type": "contourcarpet"
           }
          ],
          "heatmap": [
           {
            "colorbar": {
             "outlinewidth": 0,
             "ticks": ""
            },
            "colorscale": [
             [
              0,
              "#0d0887"
             ],
             [
              0.1111111111111111,
              "#46039f"
             ],
             [
              0.2222222222222222,
              "#7201a8"
             ],
             [
              0.3333333333333333,
              "#9c179e"
             ],
             [
              0.4444444444444444,
              "#bd3786"
             ],
             [
              0.5555555555555556,
              "#d8576b"
             ],
             [
              0.6666666666666666,
              "#ed7953"
             ],
             [
              0.7777777777777778,
              "#fb9f3a"
             ],
             [
              0.8888888888888888,
              "#fdca26"
             ],
             [
              1,
              "#f0f921"
             ]
            ],
            "type": "heatmap"
           }
          ],
          "heatmapgl": [
           {
            "colorbar": {
             "outlinewidth": 0,
             "ticks": ""
            },
            "colorscale": [
             [
              0,
              "#0d0887"
             ],
             [
              0.1111111111111111,
              "#46039f"
             ],
             [
              0.2222222222222222,
              "#7201a8"
             ],
             [
              0.3333333333333333,
              "#9c179e"
             ],
             [
              0.4444444444444444,
              "#bd3786"
             ],
             [
              0.5555555555555556,
              "#d8576b"
             ],
             [
              0.6666666666666666,
              "#ed7953"
             ],
             [
              0.7777777777777778,
              "#fb9f3a"
             ],
             [
              0.8888888888888888,
              "#fdca26"
             ],
             [
              1,
              "#f0f921"
             ]
            ],
            "type": "heatmapgl"
           }
          ],
          "histogram": [
           {
            "marker": {
             "pattern": {
              "fillmode": "overlay",
              "size": 10,
              "solidity": 0.2
             }
            },
            "type": "histogram"
           }
          ],
          "histogram2d": [
           {
            "colorbar": {
             "outlinewidth": 0,
             "ticks": ""
            },
            "colorscale": [
             [
              0,
              "#0d0887"
             ],
             [
              0.1111111111111111,
              "#46039f"
             ],
             [
              0.2222222222222222,
              "#7201a8"
             ],
             [
              0.3333333333333333,
              "#9c179e"
             ],
             [
              0.4444444444444444,
              "#bd3786"
             ],
             [
              0.5555555555555556,
              "#d8576b"
             ],
             [
              0.6666666666666666,
              "#ed7953"
             ],
             [
              0.7777777777777778,
              "#fb9f3a"
             ],
             [
              0.8888888888888888,
              "#fdca26"
             ],
             [
              1,
              "#f0f921"
             ]
            ],
            "type": "histogram2d"
           }
          ],
          "histogram2dcontour": [
           {
            "colorbar": {
             "outlinewidth": 0,
             "ticks": ""
            },
            "colorscale": [
             [
              0,
              "#0d0887"
             ],
             [
              0.1111111111111111,
              "#46039f"
             ],
             [
              0.2222222222222222,
              "#7201a8"
             ],
             [
              0.3333333333333333,
              "#9c179e"
             ],
             [
              0.4444444444444444,
              "#bd3786"
             ],
             [
              0.5555555555555556,
              "#d8576b"
             ],
             [
              0.6666666666666666,
              "#ed7953"
             ],
             [
              0.7777777777777778,
              "#fb9f3a"
             ],
             [
              0.8888888888888888,
              "#fdca26"
             ],
             [
              1,
              "#f0f921"
             ]
            ],
            "type": "histogram2dcontour"
           }
          ],
          "mesh3d": [
           {
            "colorbar": {
             "outlinewidth": 0,
             "ticks": ""
            },
            "type": "mesh3d"
           }
          ],
          "parcoords": [
           {
            "line": {
             "colorbar": {
              "outlinewidth": 0,
              "ticks": ""
             }
            },
            "type": "parcoords"
           }
          ],
          "pie": [
           {
            "automargin": true,
            "type": "pie"
           }
          ],
          "scatter": [
           {
            "fillpattern": {
             "fillmode": "overlay",
             "size": 10,
             "solidity": 0.2
            },
            "type": "scatter"
           }
          ],
          "scatter3d": [
           {
            "line": {
             "colorbar": {
              "outlinewidth": 0,
              "ticks": ""
             }
            },
            "marker": {
             "colorbar": {
              "outlinewidth": 0,
              "ticks": ""
             }
            },
            "type": "scatter3d"
           }
          ],
          "scattercarpet": [
           {
            "marker": {
             "colorbar": {
              "outlinewidth": 0,
              "ticks": ""
             }
            },
            "type": "scattercarpet"
           }
          ],
          "scattergeo": [
           {
            "marker": {
             "colorbar": {
              "outlinewidth": 0,
              "ticks": ""
             }
            },
            "type": "scattergeo"
           }
          ],
          "scattergl": [
           {
            "marker": {
             "colorbar": {
              "outlinewidth": 0,
              "ticks": ""
             }
            },
            "type": "scattergl"
           }
          ],
          "scattermapbox": [
           {
            "marker": {
             "colorbar": {
              "outlinewidth": 0,
              "ticks": ""
             }
            },
            "type": "scattermapbox"
           }
          ],
          "scatterpolar": [
           {
            "marker": {
             "colorbar": {
              "outlinewidth": 0,
              "ticks": ""
             }
            },
            "type": "scatterpolar"
           }
          ],
          "scatterpolargl": [
           {
            "marker": {
             "colorbar": {
              "outlinewidth": 0,
              "ticks": ""
             }
            },
            "type": "scatterpolargl"
           }
          ],
          "scatterternary": [
           {
            "marker": {
             "colorbar": {
              "outlinewidth": 0,
              "ticks": ""
             }
            },
            "type": "scatterternary"
           }
          ],
          "surface": [
           {
            "colorbar": {
             "outlinewidth": 0,
             "ticks": ""
            },
            "colorscale": [
             [
              0,
              "#0d0887"
             ],
             [
              0.1111111111111111,
              "#46039f"
             ],
             [
              0.2222222222222222,
              "#7201a8"
             ],
             [
              0.3333333333333333,
              "#9c179e"
             ],
             [
              0.4444444444444444,
              "#bd3786"
             ],
             [
              0.5555555555555556,
              "#d8576b"
             ],
             [
              0.6666666666666666,
              "#ed7953"
             ],
             [
              0.7777777777777778,
              "#fb9f3a"
             ],
             [
              0.8888888888888888,
              "#fdca26"
             ],
             [
              1,
              "#f0f921"
             ]
            ],
            "type": "surface"
           }
          ],
          "table": [
           {
            "cells": {
             "fill": {
              "color": "#EBF0F8"
             },
             "line": {
              "color": "white"
             }
            },
            "header": {
             "fill": {
              "color": "#C8D4E3"
             },
             "line": {
              "color": "white"
             }
            },
            "type": "table"
           }
          ]
         },
         "layout": {
          "annotationdefaults": {
           "arrowcolor": "#2a3f5f",
           "arrowhead": 0,
           "arrowwidth": 1
          },
          "autotypenumbers": "strict",
          "coloraxis": {
           "colorbar": {
            "outlinewidth": 0,
            "ticks": ""
           }
          },
          "colorscale": {
           "diverging": [
            [
             0,
             "#8e0152"
            ],
            [
             0.1,
             "#c51b7d"
            ],
            [
             0.2,
             "#de77ae"
            ],
            [
             0.3,
             "#f1b6da"
            ],
            [
             0.4,
             "#fde0ef"
            ],
            [
             0.5,
             "#f7f7f7"
            ],
            [
             0.6,
             "#e6f5d0"
            ],
            [
             0.7,
             "#b8e186"
            ],
            [
             0.8,
             "#7fbc41"
            ],
            [
             0.9,
             "#4d9221"
            ],
            [
             1,
             "#276419"
            ]
           ],
           "sequential": [
            [
             0,
             "#0d0887"
            ],
            [
             0.1111111111111111,
             "#46039f"
            ],
            [
             0.2222222222222222,
             "#7201a8"
            ],
            [
             0.3333333333333333,
             "#9c179e"
            ],
            [
             0.4444444444444444,
             "#bd3786"
            ],
            [
             0.5555555555555556,
             "#d8576b"
            ],
            [
             0.6666666666666666,
             "#ed7953"
            ],
            [
             0.7777777777777778,
             "#fb9f3a"
            ],
            [
             0.8888888888888888,
             "#fdca26"
            ],
            [
             1,
             "#f0f921"
            ]
           ],
           "sequentialminus": [
            [
             0,
             "#0d0887"
            ],
            [
             0.1111111111111111,
             "#46039f"
            ],
            [
             0.2222222222222222,
             "#7201a8"
            ],
            [
             0.3333333333333333,
             "#9c179e"
            ],
            [
             0.4444444444444444,
             "#bd3786"
            ],
            [
             0.5555555555555556,
             "#d8576b"
            ],
            [
             0.6666666666666666,
             "#ed7953"
            ],
            [
             0.7777777777777778,
             "#fb9f3a"
            ],
            [
             0.8888888888888888,
             "#fdca26"
            ],
            [
             1,
             "#f0f921"
            ]
           ]
          },
          "colorway": [
           "#636efa",
           "#EF553B",
           "#00cc96",
           "#ab63fa",
           "#FFA15A",
           "#19d3f3",
           "#FF6692",
           "#B6E880",
           "#FF97FF",
           "#FECB52"
          ],
          "font": {
           "color": "#2a3f5f"
          },
          "geo": {
           "bgcolor": "white",
           "lakecolor": "white",
           "landcolor": "#E5ECF6",
           "showlakes": true,
           "showland": true,
           "subunitcolor": "white"
          },
          "hoverlabel": {
           "align": "left"
          },
          "hovermode": "closest",
          "mapbox": {
           "style": "light"
          },
          "paper_bgcolor": "white",
          "plot_bgcolor": "#E5ECF6",
          "polar": {
           "angularaxis": {
            "gridcolor": "white",
            "linecolor": "white",
            "ticks": ""
           },
           "bgcolor": "#E5ECF6",
           "radialaxis": {
            "gridcolor": "white",
            "linecolor": "white",
            "ticks": ""
           }
          },
          "scene": {
           "xaxis": {
            "backgroundcolor": "#E5ECF6",
            "gridcolor": "white",
            "gridwidth": 2,
            "linecolor": "white",
            "showbackground": true,
            "ticks": "",
            "zerolinecolor": "white"
           },
           "yaxis": {
            "backgroundcolor": "#E5ECF6",
            "gridcolor": "white",
            "gridwidth": 2,
            "linecolor": "white",
            "showbackground": true,
            "ticks": "",
            "zerolinecolor": "white"
           },
           "zaxis": {
            "backgroundcolor": "#E5ECF6",
            "gridcolor": "white",
            "gridwidth": 2,
            "linecolor": "white",
            "showbackground": true,
            "ticks": "",
            "zerolinecolor": "white"
           }
          },
          "shapedefaults": {
           "line": {
            "color": "#2a3f5f"
           }
          },
          "ternary": {
           "aaxis": {
            "gridcolor": "white",
            "linecolor": "white",
            "ticks": ""
           },
           "baxis": {
            "gridcolor": "white",
            "linecolor": "white",
            "ticks": ""
           },
           "bgcolor": "#E5ECF6",
           "caxis": {
            "gridcolor": "white",
            "linecolor": "white",
            "ticks": ""
           }
          },
          "title": {
           "x": 0.05
          },
          "xaxis": {
           "automargin": true,
           "gridcolor": "white",
           "linecolor": "white",
           "ticks": "",
           "title": {
            "standoff": 15
           },
           "zerolinecolor": "white",
           "zerolinewidth": 2
          },
          "yaxis": {
           "automargin": true,
           "gridcolor": "white",
           "linecolor": "white",
           "ticks": "",
           "title": {
            "standoff": 15
           },
           "zerolinecolor": "white",
           "zerolinewidth": 2
          }
         }
        },
        "title": {
         "text": "Accident year-wise"
        },
        "xaxis": {
         "anchor": "y",
         "domain": [
          0,
          1
         ],
         "title": {
          "text": "YEAR"
         }
        },
        "yaxis": {
         "anchor": "x",
         "domain": [
          0,
          1
         ],
         "title": {
          "text": "value"
         }
        }
       }
      }
     },
     "metadata": {},
     "output_type": "display_data"
    }
   ],
   "source": [
    "month = ['JANUARY', 'FEBRUARY', 'MARCH', 'APRIL', 'MAY', 'JUNE', 'JULY', 'AUGUST', 'SEPTEMBER', 'OCTOBER','NOVEMBER', 'DECEMBER']\n",
    "fig = px.area(grouped_obj, x=grouped_obj.index, y=month, title='Accident year-wise')\n",
    "conclusion = 'The graph shows accidents monthly.'\n",
    "fig.add_annotation(text=conclusion, xref='paper', yref='paper', x=.5, y=1, bgcolor='grey', showarrow=False, font=dict(size=12))\n",
    "fig.show()"
   ]
  }
 ],
 "metadata": {
  "kernelspec": {
   "display_name": "base",
   "language": "python",
   "name": "python3"
  },
  "language_info": {
   "codemirror_mode": {
    "name": "ipython",
    "version": 3
   },
   "file_extension": ".py",
   "mimetype": "text/x-python",
   "name": "python",
   "nbconvert_exporter": "python",
   "pygments_lexer": "ipython3",
   "version": "3.10.8"
  },
  "orig_nbformat": 4
 },
 "nbformat": 4,
 "nbformat_minor": 2
}
