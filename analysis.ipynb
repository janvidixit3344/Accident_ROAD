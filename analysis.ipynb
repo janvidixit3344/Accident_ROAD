{
 "cells": [
  {
   "cell_type": "code",
   "execution_count": null,
   "metadata": {},
   "outputs": [],
   "source": [
    "import pandas as pd\n",
    "import numpy as np\n",
    "import seaborn as sns\n",
    "import plotly.express as px\n",
    "import plotly.graph_objects as go\n",
    "import matplotlib.pyplot as plt"
   ]
  },
  {
   "cell_type": "code",
   "execution_count": null,
   "metadata": {},
   "outputs": [],
   "source": [
    "acc_mode = pd.read_csv('Dataset/acc_mode.csv')\n",
    "acc_mode"
   ]
  },
  {
   "cell_type": "code",
   "execution_count": null,
   "metadata": {},
   "outputs": [],
   "source": [
    "acc_mode.isnull().sum()"
   ]
  },
  {
   "cell_type": "code",
   "execution_count": null,
   "metadata": {},
   "outputs": [],
   "source": [
    "acc_mode.rename(columns={\n",
    "    'State/UT':'STATE/UT',\n",
    "    'Year':'YEAR',\n",
    "    'Mode':'VEHICLE USED'}, inplace=True)"
   ]
  },
  {
   "cell_type": "code",
   "execution_count": null,
   "metadata": {},
   "outputs": [],
   "source": [
    "acc_mode"
   ]
  },
  {
   "cell_type": "code",
   "execution_count": null,
   "metadata": {},
   "outputs": [],
   "source": [
    "# YEARLY DATA \n",
    "grouped_obj = acc_mode.groupby([\"YEAR\"]).sum()\n",
    "grouped_obj"
   ]
  },
  {
   "cell_type": "code",
   "execution_count": null,
   "metadata": {},
   "outputs": [],
   "source": [
    "# accidents yearly\n",
    "year = [2001, 2002, 2003, 2004, 2005, 2006, 2007, 2008, 2009, 2010, 2011, 2012, 2013, 2014]\n",
    "fig = px.area(grouped_obj, x=grouped_obj.index, y='Total', title='Accident year-wise')\n",
    "conclusion = 'The graph shows the accidents yearly.'\n",
    "fig.add_annotation(text=conclusion, xref='paper', yref='paper', x=.5, y=1, bgcolor='grey', showarrow=False, font=dict(size=12))\n",
    "# fig.show()"
   ]
  },
  {
   "cell_type": "code",
   "execution_count": null,
   "metadata": {},
   "outputs": [],
   "source": [
    "# STATE-WISE DATA \n",
    "grouped_obj = acc_mode.groupby([\"STATE/UT\"]).sum()\n",
    "grouped_obj.drop(['YEAR'], axis=1, inplace=True)\n",
    "grouped_obj"
   ]
  },
  {
   "cell_type": "code",
   "execution_count": null,
   "metadata": {},
   "outputs": [],
   "source": [
    "grouped_obj.mean()"
   ]
  },
  {
   "cell_type": "code",
   "execution_count": null,
   "metadata": {},
   "outputs": [],
   "source": [
    "# accidents state-wise\n",
    "fig = px.area(grouped_obj, x=grouped_obj.index, y='Total', title='Accident year-wise')\n",
    "conclusion = 'The graph shows accidents from every State and UT.'\n",
    "fig.add_annotation(text=conclusion, xref='paper', yref='paper', x=.5, y=1, bgcolor='grey', showarrow=False, font=dict(size=12))\n",
    "# fig.show()"
   ]
  },
  {
   "cell_type": "code",
   "execution_count": null,
   "metadata": {},
   "outputs": [],
   "source": [
    "# VEHCILE INVOLVEMENT DATA \n",
    "grouped_obj = acc_mode.groupby([\"VEHICLE USED\"]).sum()\n",
    "grouped_obj.drop(['YEAR'], axis=1, inplace=True)\n",
    "grouped_obj"
   ]
  },
  {
   "cell_type": "code",
   "execution_count": null,
   "metadata": {},
   "outputs": [],
   "source": [
    "# vehicles involved\n",
    "Total = ['Bicycle', 'Bus','Car','Jeep','Other Motor Vehicles','Others','Pedestrian','Three Wheeler','Truck/Lorry','Two Wheeler']\n",
    "fig = px.bar(grouped_obj, x=grouped_obj.index, y='Total', title='Accident year-wise')\n",
    "conclusion = 'The graph shows that accidents due to vehicles involved.'\n",
    "fig.add_annotation(text=conclusion, xref='paper', yref='paper', x=.5, y=1, bgcolor='grey', showarrow=False, font=dict(size=12))\n",
    "# fig.show()"
   ]
  },
  {
   "cell_type": "code",
   "execution_count": null,
   "metadata": {},
   "outputs": [],
   "source": [
    "fig = px.area(acc_mode, x='VEHICLE USED', y=['Total'], title='Average accident due to particular vehicle')\n",
    "mean_accidents = acc_mode['Total'].mean()\n",
    "fig.add_annotation(xref='paper', yref='paper', x=0.1, y=1, text=f\"Average accident due to vehicle = {mean_accidents:.0f}\",showarrow=False)\n",
    "fig.show()"
   ]
  },
  {
   "cell_type": "code",
   "execution_count": null,
   "metadata": {},
   "outputs": [],
   "source": [
    "fig = px.area(acc_mode, x='STATE/UT', y=['Total'], title='Average accident state-wise')\n",
    "mean_accidents = acc_mode['Total'].mean()\n",
    "fig.add_annotation(xref='paper', yref='paper', x=0.1, y=1, text=f\"Average accidents state-wise = {mean_accidents:.0f}\",showarrow=False)\n",
    "fig.show()"
   ]
  },
  {
   "cell_type": "code",
   "execution_count": null,
   "metadata": {},
   "outputs": [],
   "source": [
    "fig = px.area(acc_mode, x='YEAR', y=['Total'], title='Average accident yearly')\n",
    "mean_accidents = acc_mode['Total'].mean()\n",
    "fig.add_annotation(xref='paper', yref='paper', x=0.1, y=1, text=f\"Average accidents year-wise = {mean_accidents:.0f}\",showarrow=False)\n",
    "fig.show()"
   ]
  }
 ],
 "metadata": {
  "kernelspec": {
   "display_name": "base",
   "language": "python",
   "name": "python3"
  },
  "language_info": {
   "codemirror_mode": {
    "name": "ipython",
    "version": 3
   },
   "file_extension": ".py",
   "mimetype": "text/x-python",
   "name": "python",
   "nbconvert_exporter": "python",
   "pygments_lexer": "ipython3",
   "version": "3.10.8"
  },
  "orig_nbformat": 4
 },
 "nbformat": 4,
 "nbformat_minor": 2
}
