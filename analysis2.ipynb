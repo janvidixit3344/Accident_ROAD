{
 "cells": [
  {
   "cell_type": "code",
   "execution_count": null,
   "metadata": {},
   "outputs": [],
   "source": [
    "import pandas as pd\n",
    "import numpy as np\n",
    "import seaborn as sns\n",
    "import plotly.express as px\n",
    "import plotly.graph_objects as go\n",
    "import matplotlib.pyplot as plt"
   ]
  },
  {
   "cell_type": "code",
   "execution_count": null,
   "metadata": {},
   "outputs": [],
   "source": [
    "accident_data = pd.read_csv('Dataset/accidient_data_of_india.csv')\n",
    "accident_data"
   ]
  },
  {
   "cell_type": "code",
   "execution_count": null,
   "metadata": {},
   "outputs": [],
   "source": [
    "accident_data.isnull().sum()"
   ]
  },
  {
   "cell_type": "code",
   "execution_count": null,
   "metadata": {},
   "outputs": [],
   "source": [
    "accident_data.columns.tolist()"
   ]
  },
  {
   "cell_type": "code",
   "execution_count": null,
   "metadata": {},
   "outputs": [],
   "source": [
    "accident_data.rename(columns={\n",
    "    'Years':'Year',\n",
    "    'Total Number of Road Accidents (in numbers)':'Total accidents',\n",
    "    'Total Number of Persons Killed (in numbers)':'Total Killed',\n",
    "    'Total Number of Persons Injured (in numbers)':'Total Injured',\n",
    "    'Population of India (in thousands)':'Total Population',\n",
    "    'Total Number of Registered Motor Vehicles (in thousands)':'Total Registered Vehicle',\n",
    "    'Road Length (in kms)':'Road Length',\n",
    "    'Number of Accidents per Lakh Population':'Accidents Per Lakh',\n",
    "    'Number of Accidents per Ten Thousand Vehicles':'Accidents Per 10K Vehicles',\n",
    "    'Number of Accidents per Ten Thousand Kms of Roads':'Accidents Per 10K KM Road',\n",
    "    'Number of Persons Killed Per Lakh Population':'Killed Per Lakh',\n",
    "    'Number of Persons Killed Per Ten Thousand Vehicles':'Killed Per 10K Vehicles',\n",
    "    'Number of Persons Killed per Ten Thousand Kms of Roads':'Killed Per 10K KM Road',\n",
    "    'Number of Persons Injured per Lakh Population':'Injured Per Lakh',\n",
    "    'Number of Persons Injured Per Ten Thousand Vehicles':'Injured Per 10K Vehicles',\n",
    "    'Number of Persons Injured Per Ten Thousand Kms of Roads':'Injured Per 10K KM Road'}, inplace=True)\n",
    "accident_data"
   ]
  },
  {
   "cell_type": "code",
   "execution_count": null,
   "metadata": {},
   "outputs": [],
   "source": [
    "accident_data.drop(columns=['Unnamed: 0'], inplace=True)"
   ]
  },
  {
   "cell_type": "code",
   "execution_count": null,
   "metadata": {},
   "outputs": [],
   "source": [
    "accident_data"
   ]
  },
  {
   "cell_type": "code",
   "execution_count": null,
   "metadata": {},
   "outputs": [],
   "source": [
    "import re\n",
    "def clean_numerical_columns(value):\n",
    "    if isinstance(value, str):\n",
    "        if value.count('.') == 0:\n",
    "            value = re.sub(r'[^0-9]+', '', value)\n",
    "            value = int(value) if value else np.nan\n",
    "        else:\n",
    "            value = re.sub(r'[^0-9.]+', '', value)\n",
    "            value = float(value) if value else np.nan\n",
    "        return value\n",
    "    print(value)\n",
    "    return np.nan\n",
    "\n",
    "for col in accident_data.select_dtypes(include=['object']).columns:\n",
    "    accident_data[col] = accident_data[col].apply(clean_numerical_columns)"
   ]
  },
  {
   "cell_type": "code",
   "execution_count": null,
   "metadata": {},
   "outputs": [],
   "source": [
    "accident_data.drop(index = accident_data[accident_data['Year'] == 1].index, inplace=True)"
   ]
  },
  {
   "cell_type": "code",
   "execution_count": null,
   "metadata": {},
   "outputs": [],
   "source": [
    "accident_data"
   ]
  },
  {
   "cell_type": "code",
   "execution_count": null,
   "metadata": {},
   "outputs": [],
   "source": [
    "fig = px.area(accident_data, x='Year', y='Total accidents', title='Total accidents per year')\n",
    "fig.add_scatter(x=accident_data['Year'], y=accident_data['Total accidents'], mode='markers', name='Accidents', marker=dict(color='blue', size=10))\n",
    "mean_accidents = accident_data['Total accidents'].mean()\n",
    "fig.add_annotation(xref='paper', yref='paper', x=0.1, y=1, text=f\"Average accidents per year = {mean_accidents:.0f}\",showarrow=False)\n",
    "fig.show()"
   ]
  },
  {
   "cell_type": "code",
   "execution_count": null,
   "metadata": {},
   "outputs": [],
   "source": [
    "fig = px.area(accident_data, x='Year', y='Total Killed', title='Total Killed per year')\n",
    "fig.add_scatter(x=accident_data['Year'], y=accident_data['Total Killed'], mode='markers', name='Killed', marker=dict(color='green', size=10))\n",
    "mean_accidents = accident_data['Total Killed'].mean()\n",
    "fig.add_annotation(xref='paper', yref='paper', x=0.1, y=1, text=f\"Average Killed per year = {mean_accidents:.0f}\",showarrow=False)\n",
    "fig.show()"
   ]
  },
  {
   "cell_type": "code",
   "execution_count": null,
   "metadata": {},
   "outputs": [],
   "source": [
    "fig = px.area(accident_data, x='Year', y='Total Injured', title='Total Injured per year')\n",
    "fig.add_scatter(x=accident_data['Year'], y=accident_data['Total Injured'], mode='markers', name='Injured', marker=dict(color='red', size=10))\n",
    "mean_accidents = accident_data['Total Injured'].mean()\n",
    "fig.add_annotation(xref='paper', yref='paper', x=0.1, y=1, text=f\"Average Injuries per year = {mean_accidents:.0f}\",showarrow=False)\n",
    "fig.show()"
   ]
  }
 ],
 "metadata": {
  "kernelspec": {
   "display_name": "base",
   "language": "python",
   "name": "python3"
  },
  "language_info": {
   "codemirror_mode": {
    "name": "ipython",
    "version": 3
   },
   "file_extension": ".py",
   "mimetype": "text/x-python",
   "name": "python",
   "nbconvert_exporter": "python",
   "pygments_lexer": "ipython3",
   "version": "3.10.8"
  },
  "orig_nbformat": 4
 },
 "nbformat": 4,
 "nbformat_minor": 2
}
